{
 "cells": [
  {
   "cell_type": "markdown",
   "metadata": {},
   "source": [
    "# V. Weather Predictions: 'Classic' Machine Learning Models Vs Keras\n",
    "\n",
    "There's no shortage of online tutorials on specific data science tasks. What's harder to find are tutorials that connect the dots for newcomers, and help them explore the next phase once they've build up some level of familiarity in an area, say, machine learning basics.\n",
    "\n",
    "After spending a good part of 2019 learning the basics of machine learning, I was keen to start experimenting with some rudimentary deep learning. But there wasn't an obvious way to start. So I decided to pull together the materials I had found on the subject, and rustled up a series of notebooks that would hopefully help others who are looking to do the same.\n",
    "\n",
    "In these notebooks, I use a mix of machine learning and deep learning techniques to try to predict the rain pattern in Singapore in December 2019 (validation set). The models will be trained on 37 years of weather data in Singapore, from Jan 01 1983 to the end of November in 2019. \n",
    "\n",
    "CAVEAT: While this dataset spans 37 years, it contains just under 13,500 rows of data. It is fair to ask whether you need deep learning for a dataset like this, and whether it necessarily produces better results.\n",
    "\n",
    "Frankly, these questions don't matter much to me as a newcomer to data science. Massive real-world datasets are hard to come by, especially in Singapore. I much prefer to continue experimenting and learning new techniques, instead of waiting for the perfect dataset to drop on my lap."
   ]
  },
  {
   "cell_type": "code",
   "execution_count": 1,
   "metadata": {},
   "outputs": [],
   "source": [
    "import glob\n",
    "import numpy as np\n",
    "import pandas as pd"
   ]
  },
  {
   "cell_type": "markdown",
   "metadata": {},
   "source": [
    "# 1. CREATE NEW WEATHER DATAFRAME\n",
    "\n",
    "I've been using the Singapore Met Service's [historic daily records](http://www.weather.gov.sg/climate-historical-daily) for a series of [data science projects](https://medium.com/@chinhonchua).\n",
    "\n",
    "For this new project, let's create a new CSV file containing weather data from Jan 1983 - Nov 2019. The weather data for Dec 2019 will be used to test the models' predictions."
   ]
  },
  {
   "cell_type": "code",
   "execution_count": 2,
   "metadata": {},
   "outputs": [],
   "source": [
    "# Combining the separate CSV files into one\n",
    "raw = pd.concat(\n",
    "    [pd.read_csv(f) for f in glob.glob(\"../raw/*.csv\")], ignore_index=True\n",
    ")"
   ]
  },
  {
   "cell_type": "code",
   "execution_count": 3,
   "metadata": {},
   "outputs": [],
   "source": [
    "# Adding a datetime col in the year-month-day format\n",
    "raw[\"Date\"] = pd.to_datetime(\n",
    "    raw[\"Year\"].astype(str)\n",
    "    + \"-\"\n",
    "    + raw[\"Month\"].astype(str)\n",
    "    + \"-\"\n",
    "    + raw[\"Day\"].astype(str)\n",
    ")\n",
    "\n",
    "# Converting values in the Max/Mean Wind into numeric data type\n",
    "raw[\"Max Wind Speed (km/h)\"] = pd.to_numeric(\n",
    "    raw[\"Max Wind Speed (km/h)\"], errors=\"coerce\"\n",
    ")\n",
    "raw[\"Mean Wind Speed (km/h)\"] = pd.to_numeric(\n",
    "    raw[\"Mean Wind Speed (km/h)\"], errors=\"coerce\"\n",
    ")"
   ]
  },
  {
   "cell_type": "markdown",
   "metadata": {},
   "source": [
    "#### Fill the missing entries in Mean Wind Speed and Max Wind Speed columns with mean values of both cols"
   ]
  },
  {
   "cell_type": "code",
   "execution_count": 4,
   "metadata": {},
   "outputs": [],
   "source": [
    "raw[\"Max Wind Speed (km/h)\"] = raw[\"Max Wind Speed (km/h)\"].fillna(\n",
    "    raw[\"Max Wind Speed (km/h)\"].mean()\n",
    ")\n",
    "raw[\"Mean Wind Speed (km/h)\"] = raw[\"Mean Wind Speed (km/h)\"].fillna(\n",
    "    raw[\"Mean Wind Speed (km/h)\"].mean()\n",
    ")"
   ]
  },
  {
   "cell_type": "code",
   "execution_count": 5,
   "metadata": {},
   "outputs": [],
   "source": [
    "# Dropping cols that I won't need \n",
    "raw = raw.drop(\n",
    "    columns=[\n",
    "        \"Station\",\n",
    "        \"Highest 30 Min Rainfall (mm)\",\n",
    "        \"Highest 60 Min Rainfall (mm)\",\n",
    "        \"Highest 120 Min Rainfall (mm)\",\n",
    "    ]\n",
    ")"
   ]
  },
  {
   "cell_type": "code",
   "execution_count": 6,
   "metadata": {},
   "outputs": [],
   "source": [
    "# Slight rearrangement of cols for clarity\n",
    "cols = [\n",
    "    \"Date\",\n",
    "    \"Year\",\n",
    "    \"Month\",\n",
    "    \"Day\",\n",
    "    \"Daily Rainfall Total (mm)\",\n",
    "    \"Mean Temperature (°C)\",\n",
    "    \"Maximum Temperature (°C)\",\n",
    "    \"Minimum Temperature (°C)\",\n",
    "    \"Mean Wind Speed (km/h)\",\n",
    "    \"Max Wind Speed (km/h)\",\n",
    "]"
   ]
  },
  {
   "cell_type": "code",
   "execution_count": 7,
   "metadata": {},
   "outputs": [],
   "source": [
    "weather = raw[cols].copy()"
   ]
  },
  {
   "cell_type": "code",
   "execution_count": 8,
   "metadata": {},
   "outputs": [],
   "source": [
    "weather = weather.sort_values('Date', ascending=False)"
   ]
  },
  {
   "cell_type": "code",
   "execution_count": 9,
   "metadata": {},
   "outputs": [],
   "source": [
    "#weather.to_csv('../data/weather_model.csv', index=False)"
   ]
  }
 ],
 "metadata": {
  "kernelspec": {
   "display_name": "Python 3",
   "language": "python",
   "name": "python3"
  },
  "language_info": {
   "codemirror_mode": {
    "name": "ipython",
    "version": 3
   },
   "file_extension": ".py",
   "mimetype": "text/x-python",
   "name": "python",
   "nbconvert_exporter": "python",
   "pygments_lexer": "ipython3",
   "version": "3.6.8"
  }
 },
 "nbformat": 4,
 "nbformat_minor": 2
}
