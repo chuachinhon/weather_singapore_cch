{
 "cells": [
  {
   "cell_type": "markdown",
   "metadata": {},
   "source": [
    "# V. Weather Predictions: 'Classic' Machine Learning Models Vs Keras\n",
    "\n",
    "There's no shortage of online tutorials on specific data science tasks. What's harder to find are tutorials that connect the dots for newcomers, and help them explore the next phase once they've build up some level of familiarity in an area, say, machine learning basics.\n",
    "\n",
    "After spending a good part of 2019 learning the basics of machine learning, I was keen to start experimenting with some rudimentary deep learning. But there wasn't an obvious way to start. So I decided to pull together the materials I had found on the subject, and rustled up a series of notebooks that would hopefully help others who are looking to do the same.\n",
    "\n",
    "In these notebooks, I use a mix of machine learning and deep learning techniques to try to predict the rain pattern in Singapore in December 2019 (validation set). The models will be trained on 37 years of weather data in Singapore, from Jan 01 1983 to the end of November in 2019. \n",
    "\n",
    "CAVEAT: While this dataset spans 37 years, it contains just under 13,500 rows of data. It is fair to ask whether you need deep learning for a dataset like this, and whether it necessarily produces better results.\n",
    "\n",
    "Frankly, these questions don't matter much to me as a newcomer to data science. Massive real-world datasets are hard to come by, especially in Singapore. I much prefer to continue experimenting and learning new techniques, instead of waiting for the perfect dataset to drop on my lap."
   ]
  },
  {
   "cell_type": "markdown",
   "metadata": {},
   "source": [
    "# PART 3: KERAS TUNER\n",
    "\n",
    "Aside from using scikit-learn's features to tune a Keras model, you can also use the relatively new Keras Tuner. Here's the [official documentation](https://keras-team.github.io/keras-tuner/), and two super helpful tutorials ([here](https://medium.com/python-data/hyperparameter-tuning-tensorflow-2-models-with-keras-tuner-81f36f801040) and [here](https://www.curiousily.com/posts/hackers-guide-to-hyperparameter-tuning/)) from which this notebook is based.\n",
    "\n",
    "The results I achieved with this approach were the poorest of the lot, but I chalk it up to my lack of experience with Keras and deep learning in general. But it's an approach I'll certainly try again in other projects."
   ]
  },
  {
   "cell_type": "code",
   "execution_count": 2,
   "metadata": {},
   "outputs": [],
   "source": [
    "from __future__ import absolute_import\n",
    "from __future__ import division\n",
    "from __future__ import print_function, unicode_literals"
   ]
  },
  {
   "cell_type": "code",
   "execution_count": 3,
   "metadata": {},
   "outputs": [],
   "source": [
    "import matplotlib as mpl\n",
    "import matplotlib.pyplot as plt\n",
    "import numpy as np\n",
    "import pandas as pd\n",
    "import tensorflow as tf\n",
    "\n",
    "from kerastuner.tuners import RandomSearch, Hyperband\n",
    "from kerastuner import HyperModel, HyperParameters\n",
    "from sklearn.model_selection import train_test_split\n",
    "from tensorflow import keras\n",
    "from tensorflow.keras import layers\n",
    "from tensorflow.keras.layers import Dense\n",
    "from tensorflow.keras.layers import Dropout\n",
    "from tensorflow.keras.models import Sequential\n",
    "\n",
    "%matplotlib inline\n",
    "mpl.rcParams[\"figure.dpi\"] = 300\n",
    "%config InlineBackend.figure_format ='retina'"
   ]
  },
  {
   "cell_type": "markdown",
   "metadata": {},
   "source": [
    "# 1. DATA PRE-PROCESSING"
   ]
  },
  {
   "cell_type": "markdown",
   "metadata": {},
   "source": [
    "## 1.1 CREATE TARGET COLUMN "
   ]
  },
  {
   "cell_type": "code",
   "execution_count": 4,
   "metadata": {},
   "outputs": [],
   "source": [
    "# loading the dataset prepared in notebook 5.0\n",
    "\n",
    "weather = pd.read_csv('../data/weather_model.csv')"
   ]
  },
  {
   "cell_type": "code",
   "execution_count": 5,
   "metadata": {},
   "outputs": [],
   "source": [
    "# Creating a new target column\n",
    "# To keep the project simple, I'll focus on predicting rainfall at a binary level - rain (1), or no rain (0)\n",
    "\n",
    "weather['Rain_Or_Not'] = np.where(weather['Daily Rainfall Total (mm)'] > 0, 1, 0)"
   ]
  },
  {
   "cell_type": "code",
   "execution_count": 6,
   "metadata": {},
   "outputs": [
    {
     "data": {
      "text/plain": [
       "0    7036\n",
       "1    6447\n",
       "Name: Rain_Or_Not, dtype: int64"
      ]
     },
     "execution_count": 6,
     "metadata": {},
     "output_type": "execute_result"
    }
   ],
   "source": [
    "# 52.2% days with no rain, 47.8 rainy days\n",
    "# The target values are slightly imbalanced in distribution, but not egregiously so\n",
    "# I won't take additional steps to balance out the distribution, but feel free to consider options like SMOTE\n",
    "\n",
    "weather['Rain_Or_Not'].value_counts()"
   ]
  },
  {
   "cell_type": "code",
   "execution_count": 7,
   "metadata": {},
   "outputs": [
    {
     "data": {
      "text/html": [
       "<div>\n",
       "<style scoped>\n",
       "    .dataframe tbody tr th:only-of-type {\n",
       "        vertical-align: middle;\n",
       "    }\n",
       "\n",
       "    .dataframe tbody tr th {\n",
       "        vertical-align: top;\n",
       "    }\n",
       "\n",
       "    .dataframe thead th {\n",
       "        text-align: right;\n",
       "    }\n",
       "</style>\n",
       "<table border=\"1\" class=\"dataframe\">\n",
       "  <thead>\n",
       "    <tr style=\"text-align: right;\">\n",
       "      <th></th>\n",
       "      <th>Date</th>\n",
       "      <th>Year</th>\n",
       "      <th>Month</th>\n",
       "      <th>Day</th>\n",
       "      <th>Daily Rainfall Total (mm)</th>\n",
       "      <th>Mean Temperature (°C)</th>\n",
       "      <th>Maximum Temperature (°C)</th>\n",
       "      <th>Minimum Temperature (°C)</th>\n",
       "      <th>Mean Wind Speed (km/h)</th>\n",
       "      <th>Max Wind Speed (km/h)</th>\n",
       "      <th>Rain_Or_Not</th>\n",
       "    </tr>\n",
       "  </thead>\n",
       "  <tbody>\n",
       "    <tr>\n",
       "      <th>0</th>\n",
       "      <td>2019-11-30</td>\n",
       "      <td>2019</td>\n",
       "      <td>11</td>\n",
       "      <td>30</td>\n",
       "      <td>9.4</td>\n",
       "      <td>27.6</td>\n",
       "      <td>32.1</td>\n",
       "      <td>25.0</td>\n",
       "      <td>6.8</td>\n",
       "      <td>28.1</td>\n",
       "      <td>1</td>\n",
       "    </tr>\n",
       "    <tr>\n",
       "      <th>1</th>\n",
       "      <td>2019-11-29</td>\n",
       "      <td>2019</td>\n",
       "      <td>11</td>\n",
       "      <td>29</td>\n",
       "      <td>73.4</td>\n",
       "      <td>26.5</td>\n",
       "      <td>32.0</td>\n",
       "      <td>24.0</td>\n",
       "      <td>6.1</td>\n",
       "      <td>31.3</td>\n",
       "      <td>1</td>\n",
       "    </tr>\n",
       "    <tr>\n",
       "      <th>2</th>\n",
       "      <td>2019-11-28</td>\n",
       "      <td>2019</td>\n",
       "      <td>11</td>\n",
       "      <td>28</td>\n",
       "      <td>9.0</td>\n",
       "      <td>27.8</td>\n",
       "      <td>31.4</td>\n",
       "      <td>25.3</td>\n",
       "      <td>7.6</td>\n",
       "      <td>27.4</td>\n",
       "      <td>1</td>\n",
       "    </tr>\n",
       "    <tr>\n",
       "      <th>3</th>\n",
       "      <td>2019-11-27</td>\n",
       "      <td>2019</td>\n",
       "      <td>11</td>\n",
       "      <td>27</td>\n",
       "      <td>1.8</td>\n",
       "      <td>27.5</td>\n",
       "      <td>31.5</td>\n",
       "      <td>25.4</td>\n",
       "      <td>7.2</td>\n",
       "      <td>31.3</td>\n",
       "      <td>1</td>\n",
       "    </tr>\n",
       "    <tr>\n",
       "      <th>4</th>\n",
       "      <td>2019-11-26</td>\n",
       "      <td>2019</td>\n",
       "      <td>11</td>\n",
       "      <td>26</td>\n",
       "      <td>0.0</td>\n",
       "      <td>28.5</td>\n",
       "      <td>33.0</td>\n",
       "      <td>25.7</td>\n",
       "      <td>10.4</td>\n",
       "      <td>34.9</td>\n",
       "      <td>0</td>\n",
       "    </tr>\n",
       "  </tbody>\n",
       "</table>\n",
       "</div>"
      ],
      "text/plain": [
       "         Date  Year  Month  Day  Daily Rainfall Total (mm)  \\\n",
       "0  2019-11-30  2019     11   30                        9.4   \n",
       "1  2019-11-29  2019     11   29                       73.4   \n",
       "2  2019-11-28  2019     11   28                        9.0   \n",
       "3  2019-11-27  2019     11   27                        1.8   \n",
       "4  2019-11-26  2019     11   26                        0.0   \n",
       "\n",
       "   Mean Temperature (°C)  Maximum Temperature (°C)  Minimum Temperature (°C)  \\\n",
       "0                   27.6                      32.1                      25.0   \n",
       "1                   26.5                      32.0                      24.0   \n",
       "2                   27.8                      31.4                      25.3   \n",
       "3                   27.5                      31.5                      25.4   \n",
       "4                   28.5                      33.0                      25.7   \n",
       "\n",
       "   Mean Wind Speed (km/h)  Max Wind Speed (km/h)  Rain_Or_Not  \n",
       "0                     6.8                   28.1            1  \n",
       "1                     6.1                   31.3            1  \n",
       "2                     7.6                   27.4            1  \n",
       "3                     7.2                   31.3            1  \n",
       "4                    10.4                   34.9            0  "
      ]
     },
     "execution_count": 7,
     "metadata": {},
     "output_type": "execute_result"
    }
   ],
   "source": [
    "weather.head()"
   ]
  },
  {
   "cell_type": "markdown",
   "metadata": {},
   "source": [
    "### NOTE: \n",
    "I've left the outliers *in* in this dataset, so as to give the models the maximum amount of information possible. In dealing with actual work-place projects, there should be a serious discussion about how many outliers to remove, and the trade-offs involved."
   ]
  },
  {
   "cell_type": "markdown",
   "metadata": {},
   "source": [
    "## 1.2 TRAIN-TEST-SPLIT TRAINING DATA"
   ]
  },
  {
   "cell_type": "code",
   "execution_count": 8,
   "metadata": {},
   "outputs": [],
   "source": [
    "X = weather[\n",
    "    [\n",
    "        \"Mean Temperature (°C)\",\n",
    "        \"Maximum Temperature (°C)\",\n",
    "        \"Minimum Temperature (°C)\",\n",
    "        \"Mean Wind Speed (km/h)\",\n",
    "        \"Max Wind Speed (km/h)\",\n",
    "    ]\n",
    "]\n",
    "\n",
    "y = weather[\"Rain_Or_Not\"]\n"
   ]
  },
  {
   "cell_type": "code",
   "execution_count": 9,
   "metadata": {},
   "outputs": [],
   "source": [
    "X_train, X_test, y_train, y_test = train_test_split(X, y, random_state=42, test_size=0.2, stratify=y)"
   ]
  },
  {
   "cell_type": "markdown",
   "metadata": {},
   "source": [
    "# 2. KERAS TUNER - CREATE A HYPERMODEL SUBCLASS\n",
    "\n",
    "There are at least 4 tuners to choose from, but I'll just run 2 in this notebook: Hyperband and RandomSearch.\n",
    "\n",
    "Using a HyperModel subclass makes it easier to test out the two tuners in succession. The code below is adapted from online posts by [Bernard Brenyah](https://github.com/PyDataBlog/Python-for-Data-Science/blob/master/Tutorials/divorce_tuner.py) and [Venelin Valkov](https://www.curiousily.com/posts/hackers-guide-to-hyperparameter-tuning/), with minor modifications. "
   ]
  },
  {
   "cell_type": "code",
   "execution_count": 10,
   "metadata": {},
   "outputs": [],
   "source": [
    "class Keras_HyperModel(HyperModel):\n",
    "    def __init__(self, num_classes):\n",
    "        self.num_classes = num_classes\n",
    "\n",
    "    def build(self, hp):\n",
    "\n",
    "        # specify model\n",
    "        model = Sequential()\n",
    "\n",
    "        model.add(keras.layers.Dense(units=512, input_dim=5, activation=\"relu\"))\n",
    "\n",
    "        # range of models to build\n",
    "        for i in range(hp.Int(\"num_layers\", 1, 10)):\n",
    "            model.add(\n",
    "                layers.Dense(\n",
    "                    units=hp.Int(\n",
    "                        \"units_\" + str(i), min_value=16, max_value=256, step=8\n",
    "                    ),\n",
    "                    activation=\"relu\",\n",
    "                )\n",
    "            )\n",
    "\n",
    "        model.add(\n",
    "            layers.Dropout(\n",
    "                rate=hp.Choice(\n",
    "                    \"drop_rate_\" + str(i),\n",
    "                    [0.01, 0.1, 0.2, 0.3],\n",
    "                )\n",
    "            )\n",
    "        )\n",
    "\n",
    "        model.add(layers.Dense(self.num_classes, activation=\"sigmoid\"))\n",
    "\n",
    "        model.compile(\n",
    "            optimizer=keras.optimizers.Adam(\n",
    "                hp.Choice(\"learning_rate\", values=[1e-2, 1e-3, 1e-4]),\n",
    "                hp.Choice(\"momentum\", [0.0, 0.2, 0.4, 0.6, 0.8, 0.9]),\n",
    "            ),\n",
    "            loss=\"binary_crossentropy\",\n",
    "            metrics=[\"accuracy\"],\n",
    "        )\n",
    "\n",
    "        return model\n",
    "\n",
    "\n",
    "hypermodel = Keras_HyperModel(num_classes=1)\n"
   ]
  },
  {
   "cell_type": "markdown",
   "metadata": {},
   "source": [
    "## 2.1 KERAS TUNER - HYPERBAND\n",
    "\n",
    "The Hyperband tuner starts with random sampling at first, but then moves ahead only with the best performing candidates from the initial results."
   ]
  },
  {
   "cell_type": "code",
   "execution_count": 11,
   "metadata": {},
   "outputs": [],
   "source": [
    "tuner = Hyperband(\n",
    "    hypermodel,\n",
    "    objective='accuracy',\n",
    "    max_epochs=20,\n",
    "    seed=42,\n",
    "    project_name='weather_keras') # detailed logs, checkpoints in this folder"
   ]
  },
  {
   "cell_type": "code",
   "execution_count": 12,
   "metadata": {},
   "outputs": [
    {
     "name": "stdout",
     "output_type": "stream",
     "text": [
      "Train on 10786 samples, validate on 2697 samples\n",
      "Epoch 1/3\n",
      "10786/10786 [==============================] - ETA: 5:33 - loss: 0.6862 - accuracy: 0.50 - ETA: 12s - loss: 0.6935 - accuracy: 0.5060 - ETA: 6s - loss: 0.6921 - accuracy: 0.518 - ETA: 3s - loss: 0.6891 - accuracy: 0.53 - ETA: 2s - loss: 0.6879 - accuracy: 0.54 - ETA: 1s - loss: 0.6821 - accuracy: 0.55 - ETA: 1s - loss: 0.6760 - accuracy: 0.56 - ETA: 1s - loss: 0.6689 - accuracy: 0.57 - ETA: 0s - loss: 0.6653 - accuracy: 0.58 - ETA: 0s - loss: 0.6619 - accuracy: 0.59 - ETA: 0s - loss: 0.6568 - accuracy: 0.60 - ETA: 0s - loss: 0.6550 - accuracy: 0.60 - ETA: 0s - loss: 0.6496 - accuracy: 0.61 - ETA: 0s - loss: 0.6459 - accuracy: 0.61 - 2s 175us/sample - loss: 0.6439 - accuracy: 0.6193 - val_loss: 0.6111 - val_accuracy: 0.6674\n",
      "Epoch 2/3\n",
      "10786/10786 [==============================] - ETA: 1s - loss: 0.8429 - accuracy: 0.56 - ETA: 0s - loss: 0.6308 - accuracy: 0.64 - ETA: 0s - loss: 0.6122 - accuracy: 0.66 - ETA: 0s - loss: 0.6035 - accuracy: 0.67 - ETA: 0s - loss: 0.6034 - accuracy: 0.67 - ETA: 0s - loss: 0.6044 - accuracy: 0.67 - ETA: 0s - loss: 0.6028 - accuracy: 0.67 - ETA: 0s - loss: 0.6032 - accuracy: 0.67 - ETA: 0s - loss: 0.6041 - accuracy: 0.67 - ETA: 0s - loss: 0.6025 - accuracy: 0.67 - ETA: 0s - loss: 0.6011 - accuracy: 0.67 - ETA: 0s - loss: 0.6016 - accuracy: 0.67 - ETA: 0s - loss: 0.6017 - accuracy: 0.67 - ETA: 0s - loss: 0.6017 - accuracy: 0.67 - 1s 73us/sample - loss: 0.6014 - accuracy: 0.6800 - val_loss: 1.0098 - val_accuracy: 0.5261\n",
      "Epoch 3/3\n",
      "10786/10786 [==============================] - ETA: 1s - loss: 1.2340 - accuracy: 0.37 - ETA: 0s - loss: 0.6528 - accuracy: 0.64 - ETA: 0s - loss: 0.6301 - accuracy: 0.66 - ETA: 0s - loss: 0.6169 - accuracy: 0.67 - ETA: 0s - loss: 0.6090 - accuracy: 0.67 - ETA: 0s - loss: 0.6071 - accuracy: 0.67 - ETA: 0s - loss: 0.6062 - accuracy: 0.67 - ETA: 0s - loss: 0.6031 - accuracy: 0.67 - ETA: 0s - loss: 0.6057 - accuracy: 0.67 - ETA: 0s - loss: 0.6011 - accuracy: 0.67 - ETA: 0s - loss: 0.6036 - accuracy: 0.67 - ETA: 0s - loss: 0.6032 - accuracy: 0.67 - ETA: 0s - loss: 0.6022 - accuracy: 0.67 - 1s 70us/sample - loss: 0.6019 - accuracy: 0.6782 - val_loss: 0.8371 - val_accuracy: 0.5039\n"
     ]
    },
    {
     "data": {
      "text/html": [
       "<span style=\"color:#4527A0\"><h1 style=\"font-size:18px\">Trial complete</h1></span>"
      ],
      "text/plain": [
       "<IPython.core.display.HTML object>"
      ]
     },
     "metadata": {},
     "output_type": "display_data"
    },
    {
     "data": {
      "text/html": [
       "<span style=\"color:#4527A0\"><h1 style=\"font-size:18px\">Trial summary</h1></span>"
      ],
      "text/plain": [
       "<IPython.core.display.HTML object>"
      ]
     },
     "metadata": {},
     "output_type": "display_data"
    },
    {
     "data": {
      "text/html": [
       "<span style=\"color:#7E57C2\"><h2 style=\"font-size:16px\">Hp values:</h2></span>"
      ],
      "text/plain": [
       "<IPython.core.display.HTML object>"
      ]
     },
     "metadata": {},
     "output_type": "display_data"
    },
    {
     "data": {
      "text/html": [
       "<span style=\"color:cyan\"> |-drop_rate_0: 0.3</span>"
      ],
      "text/plain": [
       "<IPython.core.display.HTML object>"
      ]
     },
     "metadata": {},
     "output_type": "display_data"
    },
    {
     "data": {
      "text/html": [
       "<span style=\"color:blue\"> |-drop_rate_6: 0.01</span>"
      ],
      "text/plain": [
       "<IPython.core.display.HTML object>"
      ]
     },
     "metadata": {},
     "output_type": "display_data"
    },
    {
     "data": {
      "text/html": [
       "<span style=\"color:cyan\"> |-learning_rate: 0.001</span>"
      ],
      "text/plain": [
       "<IPython.core.display.HTML object>"
      ]
     },
     "metadata": {},
     "output_type": "display_data"
    },
    {
     "data": {
      "text/html": [
       "<span style=\"color:blue\"> |-momentum: 0.0</span>"
      ],
      "text/plain": [
       "<IPython.core.display.HTML object>"
      ]
     },
     "metadata": {},
     "output_type": "display_data"
    },
    {
     "data": {
      "text/html": [
       "<span style=\"color:cyan\"> |-num_layers: 7</span>"
      ],
      "text/plain": [
       "<IPython.core.display.HTML object>"
      ]
     },
     "metadata": {},
     "output_type": "display_data"
    },
    {
     "data": {
      "text/html": [
       "<span style=\"color:blue\"> |-tuner/bracket: 2</span>"
      ],
      "text/plain": [
       "<IPython.core.display.HTML object>"
      ]
     },
     "metadata": {},
     "output_type": "display_data"
    },
    {
     "data": {
      "text/html": [
       "<span style=\"color:cyan\"> |-tuner/epochs: 3</span>"
      ],
      "text/plain": [
       "<IPython.core.display.HTML object>"
      ]
     },
     "metadata": {},
     "output_type": "display_data"
    },
    {
     "data": {
      "text/html": [
       "<span style=\"color:blue\"> |-tuner/initial_epoch: 0</span>"
      ],
      "text/plain": [
       "<IPython.core.display.HTML object>"
      ]
     },
     "metadata": {},
     "output_type": "display_data"
    },
    {
     "data": {
      "text/html": [
       "<span style=\"color:cyan\"> |-tuner/round: 0</span>"
      ],
      "text/plain": [
       "<IPython.core.display.HTML object>"
      ]
     },
     "metadata": {},
     "output_type": "display_data"
    },
    {
     "data": {
      "text/html": [
       "<span style=\"color:blue\"> |-units_0: 24</span>"
      ],
      "text/plain": [
       "<IPython.core.display.HTML object>"
      ]
     },
     "metadata": {},
     "output_type": "display_data"
    },
    {
     "data": {
      "text/html": [
       "<span style=\"color:cyan\"> |-units_1: 16</span>"
      ],
      "text/plain": [
       "<IPython.core.display.HTML object>"
      ]
     },
     "metadata": {},
     "output_type": "display_data"
    },
    {
     "data": {
      "text/html": [
       "<span style=\"color:blue\"> |-units_2: 16</span>"
      ],
      "text/plain": [
       "<IPython.core.display.HTML object>"
      ]
     },
     "metadata": {},
     "output_type": "display_data"
    },
    {
     "data": {
      "text/html": [
       "<span style=\"color:cyan\"> |-units_3: 16</span>"
      ],
      "text/plain": [
       "<IPython.core.display.HTML object>"
      ]
     },
     "metadata": {},
     "output_type": "display_data"
    },
    {
     "data": {
      "text/html": [
       "<span style=\"color:blue\"> |-units_4: 16</span>"
      ],
      "text/plain": [
       "<IPython.core.display.HTML object>"
      ]
     },
     "metadata": {},
     "output_type": "display_data"
    },
    {
     "data": {
      "text/html": [
       "<span style=\"color:cyan\"> |-units_5: 16</span>"
      ],
      "text/plain": [
       "<IPython.core.display.HTML object>"
      ]
     },
     "metadata": {},
     "output_type": "display_data"
    },
    {
     "data": {
      "text/html": [
       "<span style=\"color:blue\"> |-units_6: 16</span>"
      ],
      "text/plain": [
       "<IPython.core.display.HTML object>"
      ]
     },
     "metadata": {},
     "output_type": "display_data"
    },
    {
     "data": {
      "text/html": [
       "<span style=\"color:cyan\"> |-Score: 0.6800482273101807</span>"
      ],
      "text/plain": [
       "<IPython.core.display.HTML object>"
      ]
     },
     "metadata": {},
     "output_type": "display_data"
    },
    {
     "data": {
      "text/html": [
       "<span style=\"color:cyan\"> |-Best step: 0</span>"
      ],
      "text/plain": [
       "<IPython.core.display.HTML object>"
      ]
     },
     "metadata": {},
     "output_type": "display_data"
    },
    {
     "name": "stdout",
     "output_type": "stream",
     "text": [
      "Train on 10786 samples, validate on 2697 samples\n",
      "Epoch 1/3\n",
      "10786/10786 [==============================] - ETA: 2:31 - loss: 0.6797 - accuracy: 0.65 - ETA: 8s - loss: 0.7330 - accuracy: 0.5226 - ETA: 4s - loss: 0.7103 - accuracy: 0.56 - ETA: 3s - loss: 0.7054 - accuracy: 0.56 - ETA: 2s - loss: 0.6926 - accuracy: 0.58 - ETA: 1s - loss: 0.6892 - accuracy: 0.58 - ETA: 1s - loss: 0.6846 - accuracy: 0.59 - ETA: 1s - loss: 0.6763 - accuracy: 0.60 - ETA: 1s - loss: 0.6755 - accuracy: 0.60 - ETA: 1s - loss: 0.6714 - accuracy: 0.60 - ETA: 0s - loss: 0.6645 - accuracy: 0.61 - ETA: 0s - loss: 0.6597 - accuracy: 0.61 - ETA: 0s - loss: 0.6556 - accuracy: 0.62 - ETA: 0s - loss: 0.6509 - accuracy: 0.62 - ETA: 0s - loss: 0.6470 - accuracy: 0.63 - ETA: 0s - loss: 0.6437 - accuracy: 0.63 - ETA: 0s - loss: 0.6423 - accuracy: 0.63 - ETA: 0s - loss: 0.6418 - accuracy: 0.63 - ETA: 0s - loss: 0.6418 - accuracy: 0.63 - 2s 150us/sample - loss: 0.6407 - accuracy: 0.6393 - val_loss: 0.6139 - val_accuracy: 0.6800\n",
      "Epoch 2/3\n",
      "10786/10786 [==============================] - ETA: 1s - loss: 0.7572 - accuracy: 0.59 - ETA: 0s - loss: 0.6191 - accuracy: 0.66 - ETA: 0s - loss: 0.6109 - accuracy: 0.66 - ETA: 0s - loss: 0.6068 - accuracy: 0.67 - ETA: 0s - loss: 0.6003 - accuracy: 0.67 - ETA: 0s - loss: 0.6026 - accuracy: 0.67 - ETA: 0s - loss: 0.6024 - accuracy: 0.67 - ETA: 0s - loss: 0.6051 - accuracy: 0.66 - ETA: 0s - loss: 0.6048 - accuracy: 0.67 - ETA: 0s - loss: 0.6063 - accuracy: 0.67 - ETA: 0s - loss: 0.6077 - accuracy: 0.67 - ETA: 0s - loss: 0.6091 - accuracy: 0.67 - ETA: 0s - loss: 0.6089 - accuracy: 0.66 - ETA: 0s - loss: 0.6067 - accuracy: 0.66 - ETA: 0s - loss: 0.6061 - accuracy: 0.67 - ETA: 0s - loss: 0.6059 - accuracy: 0.67 - ETA: 0s - loss: 0.6060 - accuracy: 0.67 - ETA: 0s - loss: 0.6045 - accuracy: 0.67 - ETA: 0s - loss: 0.6045 - accuracy: 0.67 - 1s 103us/sample - loss: 0.6043 - accuracy: 0.6741 - val_loss: 0.7662 - val_accuracy: 0.5680\n",
      "Epoch 3/3\n",
      "10786/10786 [==============================] - ETA: 1s - loss: 0.6481 - accuracy: 0.62 - ETA: 0s - loss: 0.6283 - accuracy: 0.64 - ETA: 0s - loss: 0.6116 - accuracy: 0.65 - ETA: 0s - loss: 0.6010 - accuracy: 0.67 - ETA: 0s - loss: 0.5989 - accuracy: 0.67 - ETA: 0s - loss: 0.5967 - accuracy: 0.68 - ETA: 0s - loss: 0.5974 - accuracy: 0.68 - ETA: 0s - loss: 0.6006 - accuracy: 0.67 - ETA: 0s - loss: 0.5986 - accuracy: 0.68 - ETA: 0s - loss: 0.5994 - accuracy: 0.68 - ETA: 0s - loss: 0.6003 - accuracy: 0.68 - ETA: 0s - loss: 0.6010 - accuracy: 0.67 - ETA: 0s - loss: 0.6010 - accuracy: 0.67 - ETA: 0s - loss: 0.6024 - accuracy: 0.67 - ETA: 0s - loss: 0.6008 - accuracy: 0.68 - ETA: 0s - loss: 0.6014 - accuracy: 0.67 - ETA: 0s - loss: 0.6025 - accuracy: 0.67 - ETA: 0s - loss: 0.6035 - accuracy: 0.67 - ETA: 0s - loss: 0.6037 - accuracy: 0.67 - ETA: 0s - loss: 0.6026 - accuracy: 0.67 - ETA: 0s - loss: 0.6020 - accuracy: 0.68 - 1s 114us/sample - loss: 0.6018 - accuracy: 0.6807 - val_loss: 0.5848 - val_accuracy: 0.6945\n"
     ]
    },
    {
     "data": {
      "text/html": [
       "<span style=\"color:#4527A0\"><h1 style=\"font-size:18px\">Trial complete</h1></span>"
      ],
      "text/plain": [
       "<IPython.core.display.HTML object>"
      ]
     },
     "metadata": {},
     "output_type": "display_data"
    },
    {
     "data": {
      "text/html": [
       "<span style=\"color:#4527A0\"><h1 style=\"font-size:18px\">Trial summary</h1></span>"
      ],
      "text/plain": [
       "<IPython.core.display.HTML object>"
      ]
     },
     "metadata": {},
     "output_type": "display_data"
    },
    {
     "data": {
      "text/html": [
       "<span style=\"color:#7E57C2\"><h2 style=\"font-size:16px\">Hp values:</h2></span>"
      ],
      "text/plain": [
       "<IPython.core.display.HTML object>"
      ]
     },
     "metadata": {},
     "output_type": "display_data"
    },
    {
     "data": {
      "text/html": [
       "<span style=\"color:cyan\"> |-drop_rate_0: 0.01</span>"
      ],
      "text/plain": [
       "<IPython.core.display.HTML object>"
      ]
     },
     "metadata": {},
     "output_type": "display_data"
    },
    {
     "data": {
      "text/html": [
       "<span style=\"color:blue\"> |-drop_rate_3: 0.01</span>"
      ],
      "text/plain": [
       "<IPython.core.display.HTML object>"
      ]
     },
     "metadata": {},
     "output_type": "display_data"
    },
    {
     "data": {
      "text/html": [
       "<span style=\"color:cyan\"> |-drop_rate_6: 0.1</span>"
      ],
      "text/plain": [
       "<IPython.core.display.HTML object>"
      ]
     },
     "metadata": {},
     "output_type": "display_data"
    },
    {
     "data": {
      "text/html": [
       "<span style=\"color:blue\"> |-learning_rate: 0.001</span>"
      ],
      "text/plain": [
       "<IPython.core.display.HTML object>"
      ]
     },
     "metadata": {},
     "output_type": "display_data"
    },
    {
     "data": {
      "text/html": [
       "<span style=\"color:cyan\"> |-momentum: 0.2</span>"
      ],
      "text/plain": [
       "<IPython.core.display.HTML object>"
      ]
     },
     "metadata": {},
     "output_type": "display_data"
    },
    {
     "data": {
      "text/html": [
       "<span style=\"color:blue\"> |-num_layers: 4</span>"
      ],
      "text/plain": [
       "<IPython.core.display.HTML object>"
      ]
     },
     "metadata": {},
     "output_type": "display_data"
    },
    {
     "data": {
      "text/html": [
       "<span style=\"color:cyan\"> |-tuner/bracket: 2</span>"
      ],
      "text/plain": [
       "<IPython.core.display.HTML object>"
      ]
     },
     "metadata": {},
     "output_type": "display_data"
    },
    {
     "data": {
      "text/html": [
       "<span style=\"color:blue\"> |-tuner/epochs: 3</span>"
      ],
      "text/plain": [
       "<IPython.core.display.HTML object>"
      ]
     },
     "metadata": {},
     "output_type": "display_data"
    },
    {
     "data": {
      "text/html": [
       "<span style=\"color:cyan\"> |-tuner/initial_epoch: 0</span>"
      ],
      "text/plain": [
       "<IPython.core.display.HTML object>"
      ]
     },
     "metadata": {},
     "output_type": "display_data"
    },
    {
     "data": {
      "text/html": [
       "<span style=\"color:blue\"> |-tuner/round: 0</span>"
      ],
      "text/plain": [
       "<IPython.core.display.HTML object>"
      ]
     },
     "metadata": {},
     "output_type": "display_data"
    },
    {
     "data": {
      "text/html": [
       "<span style=\"color:cyan\"> |-units_0: 144</span>"
      ],
      "text/plain": [
       "<IPython.core.display.HTML object>"
      ]
     },
     "metadata": {},
     "output_type": "display_data"
    },
    {
     "data": {
      "text/html": [
       "<span style=\"color:blue\"> |-units_1: 248</span>"
      ],
      "text/plain": [
       "<IPython.core.display.HTML object>"
      ]
     },
     "metadata": {},
     "output_type": "display_data"
    },
    {
     "data": {
      "text/html": [
       "<span style=\"color:cyan\"> |-units_2: 168</span>"
      ],
      "text/plain": [
       "<IPython.core.display.HTML object>"
      ]
     },
     "metadata": {},
     "output_type": "display_data"
    },
    {
     "data": {
      "text/html": [
       "<span style=\"color:blue\"> |-units_3: 232</span>"
      ],
      "text/plain": [
       "<IPython.core.display.HTML object>"
      ]
     },
     "metadata": {},
     "output_type": "display_data"
    },
    {
     "data": {
      "text/html": [
       "<span style=\"color:cyan\"> |-units_4: 40</span>"
      ],
      "text/plain": [
       "<IPython.core.display.HTML object>"
      ]
     },
     "metadata": {},
     "output_type": "display_data"
    },
    {
     "data": {
      "text/html": [
       "<span style=\"color:blue\"> |-units_5: 248</span>"
      ],
      "text/plain": [
       "<IPython.core.display.HTML object>"
      ]
     },
     "metadata": {},
     "output_type": "display_data"
    },
    {
     "data": {
      "text/html": [
       "<span style=\"color:cyan\"> |-units_6: 24</span>"
      ],
      "text/plain": [
       "<IPython.core.display.HTML object>"
      ]
     },
     "metadata": {},
     "output_type": "display_data"
    },
    {
     "data": {
      "text/html": [
       "<span style=\"color:cyan\"> |-Score: 0.6806972026824951</span>"
      ],
      "text/plain": [
       "<IPython.core.display.HTML object>"
      ]
     },
     "metadata": {},
     "output_type": "display_data"
    },
    {
     "data": {
      "text/html": [
       "<span style=\"color:cyan\"> |-Best step: 0</span>"
      ],
      "text/plain": [
       "<IPython.core.display.HTML object>"
      ]
     },
     "metadata": {},
     "output_type": "display_data"
    },
    {
     "name": "stdout",
     "output_type": "stream",
     "text": [
      "Train on 10786 samples, validate on 2697 samples\n",
      "Epoch 1/3\n",
      "10786/10786 [==============================] - ETA: 2:25 - loss: 1.1971 - accuracy: 0.40 - ETA: 5s - loss: 0.7120 - accuracy: 0.5694 - ETA: 5s - loss: 0.7052 - accuracy: 0.57 - ETA: 3s - loss: 0.6860 - accuracy: 0.59 - ETA: 2s - loss: 0.6724 - accuracy: 0.60 - ETA: 1s - loss: 0.6646 - accuracy: 0.61 - ETA: 1s - loss: 0.6588 - accuracy: 0.62 - ETA: 1s - loss: 0.6544 - accuracy: 0.62 - ETA: 0s - loss: 0.6456 - accuracy: 0.63 - ETA: 0s - loss: 0.6428 - accuracy: 0.63 - ETA: 0s - loss: 0.6367 - accuracy: 0.64 - ETA: 0s - loss: 0.6333 - accuracy: 0.64 - ETA: 0s - loss: 0.6297 - accuracy: 0.65 - ETA: 0s - loss: 0.6275 - accuracy: 0.65 - ETA: 0s - loss: 0.6255 - accuracy: 0.65 - ETA: 0s - loss: 0.6223 - accuracy: 0.65 - 2s 141us/sample - loss: 0.6211 - accuracy: 0.6577 - val_loss: 0.6520 - val_accuracy: 0.6392\n",
      "Epoch 2/3\n",
      "10786/10786 [==============================] - ETA: 1s - loss: 0.7138 - accuracy: 0.56 - ETA: 0s - loss: 0.6067 - accuracy: 0.65 - ETA: 0s - loss: 0.6114 - accuracy: 0.66 - ETA: 0s - loss: 0.6006 - accuracy: 0.67 - ETA: 0s - loss: 0.5904 - accuracy: 0.68 - ETA: 0s - loss: 0.5931 - accuracy: 0.68 - ETA: 0s - loss: 0.5884 - accuracy: 0.68 - ETA: 0s - loss: 0.5882 - accuracy: 0.68 - ETA: 0s - loss: 0.5868 - accuracy: 0.68 - ETA: 0s - loss: 0.5901 - accuracy: 0.68 - ETA: 0s - loss: 0.5895 - accuracy: 0.68 - ETA: 0s - loss: 0.5901 - accuracy: 0.68 - ETA: 0s - loss: 0.5899 - accuracy: 0.68 - ETA: 0s - loss: 0.5919 - accuracy: 0.68 - ETA: 0s - loss: 0.5922 - accuracy: 0.68 - ETA: 0s - loss: 0.5940 - accuracy: 0.68 - ETA: 0s - loss: 0.5956 - accuracy: 0.68 - 1s 93us/sample - loss: 0.5972 - accuracy: 0.6818 - val_loss: 0.5793 - val_accuracy: 0.6956\n",
      "Epoch 3/3\n",
      "10786/10786 [==============================] - ETA: 1s - loss: 0.6023 - accuracy: 0.65 - ETA: 0s - loss: 0.5670 - accuracy: 0.69 - ETA: 0s - loss: 0.5859 - accuracy: 0.69 - ETA: 0s - loss: 0.5897 - accuracy: 0.68 - ETA: 0s - loss: 0.5955 - accuracy: 0.68 - ETA: 0s - loss: 0.5939 - accuracy: 0.67 - ETA: 0s - loss: 0.5922 - accuracy: 0.68 - ETA: 0s - loss: 0.5902 - accuracy: 0.68 - ETA: 0s - loss: 0.5960 - accuracy: 0.68 - ETA: 0s - loss: 0.5954 - accuracy: 0.68 - ETA: 0s - loss: 0.5947 - accuracy: 0.68 - ETA: 0s - loss: 0.5942 - accuracy: 0.68 - ETA: 0s - loss: 0.5941 - accuracy: 0.68 - ETA: 0s - loss: 0.5939 - accuracy: 0.68 - ETA: 0s - loss: 0.5948 - accuracy: 0.68 - ETA: 0s - loss: 0.5950 - accuracy: 0.68 - 1s 84us/sample - loss: 0.5953 - accuracy: 0.6814 - val_loss: 0.5775 - val_accuracy: 0.6937\n"
     ]
    },
    {
     "data": {
      "text/html": [
       "<span style=\"color:#4527A0\"><h1 style=\"font-size:18px\">Trial complete</h1></span>"
      ],
      "text/plain": [
       "<IPython.core.display.HTML object>"
      ]
     },
     "metadata": {},
     "output_type": "display_data"
    },
    {
     "data": {
      "text/html": [
       "<span style=\"color:#4527A0\"><h1 style=\"font-size:18px\">Trial summary</h1></span>"
      ],
      "text/plain": [
       "<IPython.core.display.HTML object>"
      ]
     },
     "metadata": {},
     "output_type": "display_data"
    },
    {
     "data": {
      "text/html": [
       "<span style=\"color:#7E57C2\"><h2 style=\"font-size:16px\">Hp values:</h2></span>"
      ],
      "text/plain": [
       "<IPython.core.display.HTML object>"
      ]
     },
     "metadata": {},
     "output_type": "display_data"
    },
    {
     "data": {
      "text/html": [
       "<span style=\"color:cyan\"> |-drop_rate_0: 0.3</span>"
      ],
      "text/plain": [
       "<IPython.core.display.HTML object>"
      ]
     },
     "metadata": {},
     "output_type": "display_data"
    },
    {
     "data": {
      "text/html": [
       "<span style=\"color:blue\"> |-drop_rate_2: 0.01</span>"
      ],
      "text/plain": [
       "<IPython.core.display.HTML object>"
      ]
     },
     "metadata": {},
     "output_type": "display_data"
    },
    {
     "data": {
      "text/html": [
       "<span style=\"color:cyan\"> |-drop_rate_3: 0.2</span>"
      ],
      "text/plain": [
       "<IPython.core.display.HTML object>"
      ]
     },
     "metadata": {},
     "output_type": "display_data"
    },
    {
     "data": {
      "text/html": [
       "<span style=\"color:blue\"> |-drop_rate_6: 0.01</span>"
      ],
      "text/plain": [
       "<IPython.core.display.HTML object>"
      ]
     },
     "metadata": {},
     "output_type": "display_data"
    },
    {
     "data": {
      "text/html": [
       "<span style=\"color:cyan\"> |-learning_rate: 0.0001</span>"
      ],
      "text/plain": [
       "<IPython.core.display.HTML object>"
      ]
     },
     "metadata": {},
     "output_type": "display_data"
    },
    {
     "data": {
      "text/html": [
       "<span style=\"color:blue\"> |-momentum: 0.6</span>"
      ],
      "text/plain": [
       "<IPython.core.display.HTML object>"
      ]
     },
     "metadata": {},
     "output_type": "display_data"
    },
    {
     "data": {
      "text/html": [
       "<span style=\"color:cyan\"> |-num_layers: 3</span>"
      ],
      "text/plain": [
       "<IPython.core.display.HTML object>"
      ]
     },
     "metadata": {},
     "output_type": "display_data"
    },
    {
     "data": {
      "text/html": [
       "<span style=\"color:blue\"> |-tuner/bracket: 2</span>"
      ],
      "text/plain": [
       "<IPython.core.display.HTML object>"
      ]
     },
     "metadata": {},
     "output_type": "display_data"
    },
    {
     "data": {
      "text/html": [
       "<span style=\"color:cyan\"> |-tuner/epochs: 3</span>"
      ],
      "text/plain": [
       "<IPython.core.display.HTML object>"
      ]
     },
     "metadata": {},
     "output_type": "display_data"
    },
    {
     "data": {
      "text/html": [
       "<span style=\"color:blue\"> |-tuner/initial_epoch: 0</span>"
      ],
      "text/plain": [
       "<IPython.core.display.HTML object>"
      ]
     },
     "metadata": {},
     "output_type": "display_data"
    },
    {
     "data": {
      "text/html": [
       "<span style=\"color:cyan\"> |-tuner/round: 0</span>"
      ],
      "text/plain": [
       "<IPython.core.display.HTML object>"
      ]
     },
     "metadata": {},
     "output_type": "display_data"
    },
    {
     "data": {
      "text/html": [
       "<span style=\"color:blue\"> |-units_0: 88</span>"
      ],
      "text/plain": [
       "<IPython.core.display.HTML object>"
      ]
     },
     "metadata": {},
     "output_type": "display_data"
    },
    {
     "data": {
      "text/html": [
       "<span style=\"color:cyan\"> |-units_1: 128</span>"
      ],
      "text/plain": [
       "<IPython.core.display.HTML object>"
      ]
     },
     "metadata": {},
     "output_type": "display_data"
    },
    {
     "data": {
      "text/html": [
       "<span style=\"color:blue\"> |-units_2: 112</span>"
      ],
      "text/plain": [
       "<IPython.core.display.HTML object>"
      ]
     },
     "metadata": {},
     "output_type": "display_data"
    },
    {
     "data": {
      "text/html": [
       "<span style=\"color:cyan\"> |-units_3: 32</span>"
      ],
      "text/plain": [
       "<IPython.core.display.HTML object>"
      ]
     },
     "metadata": {},
     "output_type": "display_data"
    },
    {
     "data": {
      "text/html": [
       "<span style=\"color:blue\"> |-units_4: 32</span>"
      ],
      "text/plain": [
       "<IPython.core.display.HTML object>"
      ]
     },
     "metadata": {},
     "output_type": "display_data"
    },
    {
     "data": {
      "text/html": [
       "<span style=\"color:cyan\"> |-units_5: 192</span>"
      ],
      "text/plain": [
       "<IPython.core.display.HTML object>"
      ]
     },
     "metadata": {},
     "output_type": "display_data"
    },
    {
     "data": {
      "text/html": [
       "<span style=\"color:blue\"> |-units_6: 184</span>"
      ],
      "text/plain": [
       "<IPython.core.display.HTML object>"
      ]
     },
     "metadata": {},
     "output_type": "display_data"
    },
    {
     "data": {
      "text/html": [
       "<span style=\"color:cyan\"> |-Score: 0.6818097829818726</span>"
      ],
      "text/plain": [
       "<IPython.core.display.HTML object>"
      ]
     },
     "metadata": {},
     "output_type": "display_data"
    },
    {
     "data": {
      "text/html": [
       "<span style=\"color:cyan\"> |-Best step: 0</span>"
      ],
      "text/plain": [
       "<IPython.core.display.HTML object>"
      ]
     },
     "metadata": {},
     "output_type": "display_data"
    },
    {
     "name": "stdout",
     "output_type": "stream",
     "text": [
      "Train on 10786 samples, validate on 2697 samples\n",
      "Epoch 1/3\n",
      "10786/10786 [==============================] - ETA: 2:27 - loss: 0.9477 - accuracy: 0.56 - ETA: 5s - loss: 0.6964 - accuracy: 0.6105 - ETA: 2s - loss: 0.6864 - accuracy: 0.59 - ETA: 1s - loss: 0.6715 - accuracy: 0.61 - ETA: 1s - loss: 0.6606 - accuracy: 0.62 - ETA: 0s - loss: 0.6495 - accuracy: 0.63 - ETA: 0s - loss: 0.6463 - accuracy: 0.63 - ETA: 0s - loss: 0.6420 - accuracy: 0.63 - ETA: 0s - loss: 0.6393 - accuracy: 0.63 - ETA: 0s - loss: 0.6364 - accuracy: 0.64 - ETA: 0s - loss: 0.6353 - accuracy: 0.64 - ETA: 0s - loss: 0.6312 - accuracy: 0.64 - ETA: 0s - loss: 0.6310 - accuracy: 0.64 - 1s 121us/sample - loss: 0.6303 - accuracy: 0.6475 - val_loss: 0.5849 - val_accuracy: 0.6856\n",
      "Epoch 2/3\n",
      "10786/10786 [==============================] - ETA: 1s - loss: 0.5692 - accuracy: 0.68 - ETA: 0s - loss: 0.6063 - accuracy: 0.64 - ETA: 0s - loss: 0.6169 - accuracy: 0.65 - ETA: 0s - loss: 0.6158 - accuracy: 0.66 - ETA: 0s - loss: 0.6101 - accuracy: 0.66 - ETA: 0s - loss: 0.6105 - accuracy: 0.67 - ETA: 0s - loss: 0.6106 - accuracy: 0.66 - ETA: 0s - loss: 0.6114 - accuracy: 0.66 - ETA: 0s - loss: 0.6068 - accuracy: 0.66 - ETA: 0s - loss: 0.6075 - accuracy: 0.67 - ETA: 0s - loss: 0.6104 - accuracy: 0.66 - ETA: 0s - loss: 0.6097 - accuracy: 0.66 - ETA: 0s - loss: 0.6074 - accuracy: 0.67 - ETA: 0s - loss: 0.6091 - accuracy: 0.66 - ETA: 0s - loss: 0.6086 - accuracy: 0.66 - ETA: 0s - loss: 0.6077 - accuracy: 0.66 - 1s 87us/sample - loss: 0.6085 - accuracy: 0.6678 - val_loss: 0.6283 - val_accuracy: 0.5862\n",
      "Epoch 3/3\n",
      "10786/10786 [==============================] - ETA: 1s - loss: 0.6284 - accuracy: 0.62 - ETA: 0s - loss: 0.6062 - accuracy: 0.67 - ETA: 0s - loss: 0.5995 - accuracy: 0.68 - ETA: 0s - loss: 0.6073 - accuracy: 0.67 - ETA: 0s - loss: 0.6116 - accuracy: 0.66 - ETA: 0s - loss: 0.6127 - accuracy: 0.66 - ETA: 0s - loss: 0.6092 - accuracy: 0.66 - ETA: 0s - loss: 0.6066 - accuracy: 0.67 - ETA: 0s - loss: 0.6083 - accuracy: 0.67 - ETA: 0s - loss: 0.6092 - accuracy: 0.67 - ETA: 0s - loss: 0.6095 - accuracy: 0.66 - ETA: 0s - loss: 0.6079 - accuracy: 0.66 - ETA: 0s - loss: 0.6067 - accuracy: 0.67 - ETA: 0s - loss: 0.6048 - accuracy: 0.67 - ETA: 0s - loss: 0.6026 - accuracy: 0.67 - 1s 79us/sample - loss: 0.6025 - accuracy: 0.6753 - val_loss: 0.6045 - val_accuracy: 0.6826\n"
     ]
    },
    {
     "data": {
      "text/html": [
       "<span style=\"color:#4527A0\"><h1 style=\"font-size:18px\">Trial complete</h1></span>"
      ],
      "text/plain": [
       "<IPython.core.display.HTML object>"
      ]
     },
     "metadata": {},
     "output_type": "display_data"
    },
    {
     "data": {
      "text/html": [
       "<span style=\"color:#4527A0\"><h1 style=\"font-size:18px\">Trial summary</h1></span>"
      ],
      "text/plain": [
       "<IPython.core.display.HTML object>"
      ]
     },
     "metadata": {},
     "output_type": "display_data"
    },
    {
     "data": {
      "text/html": [
       "<span style=\"color:#7E57C2\"><h2 style=\"font-size:16px\">Hp values:</h2></span>"
      ],
      "text/plain": [
       "<IPython.core.display.HTML object>"
      ]
     },
     "metadata": {},
     "output_type": "display_data"
    },
    {
     "data": {
      "text/html": [
       "<span style=\"color:cyan\"> |-drop_rate_0: 0.01</span>"
      ],
      "text/plain": [
       "<IPython.core.display.HTML object>"
      ]
     },
     "metadata": {},
     "output_type": "display_data"
    },
    {
     "data": {
      "text/html": [
       "<span style=\"color:blue\"> |-drop_rate_1: 0.01</span>"
      ],
      "text/plain": [
       "<IPython.core.display.HTML object>"
      ]
     },
     "metadata": {},
     "output_type": "display_data"
    },
    {
     "data": {
      "text/html": [
       "<span style=\"color:cyan\"> |-drop_rate_2: 0.1</span>"
      ],
      "text/plain": [
       "<IPython.core.display.HTML object>"
      ]
     },
     "metadata": {},
     "output_type": "display_data"
    },
    {
     "data": {
      "text/html": [
       "<span style=\"color:blue\"> |-drop_rate_3: 0.2</span>"
      ],
      "text/plain": [
       "<IPython.core.display.HTML object>"
      ]
     },
     "metadata": {},
     "output_type": "display_data"
    },
    {
     "data": {
      "text/html": [
       "<span style=\"color:cyan\"> |-drop_rate_6: 0.3</span>"
      ],
      "text/plain": [
       "<IPython.core.display.HTML object>"
      ]
     },
     "metadata": {},
     "output_type": "display_data"
    },
    {
     "data": {
      "text/html": [
       "<span style=\"color:blue\"> |-learning_rate: 0.001</span>"
      ],
      "text/plain": [
       "<IPython.core.display.HTML object>"
      ]
     },
     "metadata": {},
     "output_type": "display_data"
    },
    {
     "data": {
      "text/html": [
       "<span style=\"color:cyan\"> |-momentum: 0.4</span>"
      ],
      "text/plain": [
       "<IPython.core.display.HTML object>"
      ]
     },
     "metadata": {},
     "output_type": "display_data"
    },
    {
     "data": {
      "text/html": [
       "<span style=\"color:blue\"> |-num_layers: 2</span>"
      ],
      "text/plain": [
       "<IPython.core.display.HTML object>"
      ]
     },
     "metadata": {},
     "output_type": "display_data"
    },
    {
     "data": {
      "text/html": [
       "<span style=\"color:cyan\"> |-tuner/bracket: 2</span>"
      ],
      "text/plain": [
       "<IPython.core.display.HTML object>"
      ]
     },
     "metadata": {},
     "output_type": "display_data"
    },
    {
     "data": {
      "text/html": [
       "<span style=\"color:blue\"> |-tuner/epochs: 3</span>"
      ],
      "text/plain": [
       "<IPython.core.display.HTML object>"
      ]
     },
     "metadata": {},
     "output_type": "display_data"
    },
    {
     "data": {
      "text/html": [
       "<span style=\"color:cyan\"> |-tuner/initial_epoch: 0</span>"
      ],
      "text/plain": [
       "<IPython.core.display.HTML object>"
      ]
     },
     "metadata": {},
     "output_type": "display_data"
    },
    {
     "data": {
      "text/html": [
       "<span style=\"color:blue\"> |-tuner/round: 0</span>"
      ],
      "text/plain": [
       "<IPython.core.display.HTML object>"
      ]
     },
     "metadata": {},
     "output_type": "display_data"
    },
    {
     "data": {
      "text/html": [
       "<span style=\"color:cyan\"> |-units_0: 80</span>"
      ],
      "text/plain": [
       "<IPython.core.display.HTML object>"
      ]
     },
     "metadata": {},
     "output_type": "display_data"
    },
    {
     "data": {
      "text/html": [
       "<span style=\"color:blue\"> |-units_1: 208</span>"
      ],
      "text/plain": [
       "<IPython.core.display.HTML object>"
      ]
     },
     "metadata": {},
     "output_type": "display_data"
    },
    {
     "data": {
      "text/html": [
       "<span style=\"color:cyan\"> |-units_2: 208</span>"
      ],
      "text/plain": [
       "<IPython.core.display.HTML object>"
      ]
     },
     "metadata": {},
     "output_type": "display_data"
    },
    {
     "data": {
      "text/html": [
       "<span style=\"color:blue\"> |-units_3: 48</span>"
      ],
      "text/plain": [
       "<IPython.core.display.HTML object>"
      ]
     },
     "metadata": {},
     "output_type": "display_data"
    },
    {
     "data": {
      "text/html": [
       "<span style=\"color:cyan\"> |-units_4: 80</span>"
      ],
      "text/plain": [
       "<IPython.core.display.HTML object>"
      ]
     },
     "metadata": {},
     "output_type": "display_data"
    },
    {
     "data": {
      "text/html": [
       "<span style=\"color:blue\"> |-units_5: 136</span>"
      ],
      "text/plain": [
       "<IPython.core.display.HTML object>"
      ]
     },
     "metadata": {},
     "output_type": "display_data"
    },
    {
     "data": {
      "text/html": [
       "<span style=\"color:cyan\"> |-units_6: 48</span>"
      ],
      "text/plain": [
       "<IPython.core.display.HTML object>"
      ]
     },
     "metadata": {},
     "output_type": "display_data"
    },
    {
     "data": {
      "text/html": [
       "<span style=\"color:cyan\"> |-Score: 0.6753198504447937</span>"
      ],
      "text/plain": [
       "<IPython.core.display.HTML object>"
      ]
     },
     "metadata": {},
     "output_type": "display_data"
    },
    {
     "data": {
      "text/html": [
       "<span style=\"color:cyan\"> |-Best step: 0</span>"
      ],
      "text/plain": [
       "<IPython.core.display.HTML object>"
      ]
     },
     "metadata": {},
     "output_type": "display_data"
    },
    {
     "name": "stdout",
     "output_type": "stream",
     "text": [
      "Train on 10786 samples, validate on 2697 samples\n",
      "Epoch 1/3\n",
      "10786/10786 [==============================] - ETA: 4:44 - loss: 0.7257 - accuracy: 0.43 - ETA: 15s - loss: 0.8487 - accuracy: 0.4826 - ETA: 8s - loss: 0.7733 - accuracy: 0.486 - ETA: 5s - loss: 0.7469 - accuracy: 0.50 - ETA: 3s - loss: 0.7323 - accuracy: 0.51 - ETA: 3s - loss: 0.7237 - accuracy: 0.51 - ETA: 2s - loss: 0.7176 - accuracy: 0.51 - ETA: 1s - loss: 0.7139 - accuracy: 0.51 - ETA: 1s - loss: 0.7104 - accuracy: 0.52 - ETA: 1s - loss: 0.7084 - accuracy: 0.52 - ETA: 0s - loss: 0.7067 - accuracy: 0.51 - ETA: 0s - loss: 0.7055 - accuracy: 0.51 - ETA: 0s - loss: 0.7045 - accuracy: 0.51 - ETA: 0s - loss: 0.7036 - accuracy: 0.51 - ETA: 0s - loss: 0.7028 - accuracy: 0.51 - ETA: 0s - loss: 0.7023 - accuracy: 0.51 - ETA: 0s - loss: 0.7018 - accuracy: 0.51 - ETA: 0s - loss: 0.7011 - accuracy: 0.52 - ETA: 0s - loss: 0.7008 - accuracy: 0.51 - 2s 189us/sample - loss: 0.7008 - accuracy: 0.5198 - val_loss: 0.6922 - val_accuracy: 0.5217\n",
      "Epoch 2/3\n",
      "10786/10786 [==============================] - ETA: 1s - loss: 0.6889 - accuracy: 0.56 - ETA: 0s - loss: 0.6895 - accuracy: 0.55 - ETA: 0s - loss: 0.6905 - accuracy: 0.54 - ETA: 0s - loss: 0.6905 - accuracy: 0.54 - ETA: 0s - loss: 0.6919 - accuracy: 0.52 - ETA: 0s - loss: 0.6917 - accuracy: 0.53 - ETA: 0s - loss: 0.6922 - accuracy: 0.52 - ETA: 0s - loss: 0.6923 - accuracy: 0.52 - ETA: 0s - loss: 0.6925 - accuracy: 0.51 - ETA: 0s - loss: 0.6925 - accuracy: 0.52 - ETA: 0s - loss: 0.6925 - accuracy: 0.52 - ETA: 0s - loss: 0.6926 - accuracy: 0.51 - ETA: 0s - loss: 0.6924 - accuracy: 0.52 - ETA: 0s - loss: 0.6925 - accuracy: 0.52 - ETA: 0s - loss: 0.6924 - accuracy: 0.52 - ETA: 0s - loss: 0.6921 - accuracy: 0.52 - ETA: 0s - loss: 0.6923 - accuracy: 0.52 - ETA: 0s - loss: 0.6923 - accuracy: 0.52 - 1s 98us/sample - loss: 0.6924 - accuracy: 0.5219 - val_loss: 0.6929 - val_accuracy: 0.5217\n",
      "Epoch 3/3\n",
      "10786/10786 [==============================] - ETA: 1s - loss: 0.6928 - accuracy: 0.53 - ETA: 0s - loss: 0.6928 - accuracy: 0.53 - ETA: 1s - loss: 0.6924 - accuracy: 0.53 - ETA: 0s - loss: 0.6925 - accuracy: 0.52 - ETA: 0s - loss: 0.6927 - accuracy: 0.52 - ETA: 0s - loss: 0.6928 - accuracy: 0.52 - ETA: 0s - loss: 0.6920 - accuracy: 0.52 - ETA: 0s - loss: 0.6925 - accuracy: 0.52 - ETA: 0s - loss: 0.6923 - accuracy: 0.52 - ETA: 0s - loss: 0.6924 - accuracy: 0.52 - ETA: 0s - loss: 0.6925 - accuracy: 0.52 - ETA: 0s - loss: 0.6926 - accuracy: 0.52 - ETA: 0s - loss: 0.6924 - accuracy: 0.52 - ETA: 0s - loss: 0.6925 - accuracy: 0.52 - ETA: 0s - loss: 0.6925 - accuracy: 0.52 - ETA: 0s - loss: 0.6925 - accuracy: 0.52 - ETA: 0s - loss: 0.6924 - accuracy: 0.52 - ETA: 0s - loss: 0.6924 - accuracy: 0.52 - ETA: 0s - loss: 0.6925 - accuracy: 0.52 - ETA: 0s - loss: 0.6926 - accuracy: 0.52 - 1s 103us/sample - loss: 0.6926 - accuracy: 0.5219 - val_loss: 0.6923 - val_accuracy: 0.5217\n"
     ]
    },
    {
     "data": {
      "text/html": [
       "<span style=\"color:#4527A0\"><h1 style=\"font-size:18px\">Trial complete</h1></span>"
      ],
      "text/plain": [
       "<IPython.core.display.HTML object>"
      ]
     },
     "metadata": {},
     "output_type": "display_data"
    },
    {
     "data": {
      "text/html": [
       "<span style=\"color:#4527A0\"><h1 style=\"font-size:18px\">Trial summary</h1></span>"
      ],
      "text/plain": [
       "<IPython.core.display.HTML object>"
      ]
     },
     "metadata": {},
     "output_type": "display_data"
    },
    {
     "data": {
      "text/html": [
       "<span style=\"color:#7E57C2\"><h2 style=\"font-size:16px\">Hp values:</h2></span>"
      ],
      "text/plain": [
       "<IPython.core.display.HTML object>"
      ]
     },
     "metadata": {},
     "output_type": "display_data"
    },
    {
     "data": {
      "text/html": [
       "<span style=\"color:cyan\"> |-drop_rate_0: 0.3</span>"
      ],
      "text/plain": [
       "<IPython.core.display.HTML object>"
      ]
     },
     "metadata": {},
     "output_type": "display_data"
    },
    {
     "data": {
      "text/html": [
       "<span style=\"color:blue\"> |-drop_rate_1: 0.1</span>"
      ],
      "text/plain": [
       "<IPython.core.display.HTML object>"
      ]
     },
     "metadata": {},
     "output_type": "display_data"
    },
    {
     "data": {
      "text/html": [
       "<span style=\"color:cyan\"> |-drop_rate_2: 0.3</span>"
      ],
      "text/plain": [
       "<IPython.core.display.HTML object>"
      ]
     },
     "metadata": {},
     "output_type": "display_data"
    },
    {
     "data": {
      "text/html": [
       "<span style=\"color:blue\"> |-drop_rate_3: 0.2</span>"
      ],
      "text/plain": [
       "<IPython.core.display.HTML object>"
      ]
     },
     "metadata": {},
     "output_type": "display_data"
    },
    {
     "data": {
      "text/html": [
       "<span style=\"color:cyan\"> |-drop_rate_6: 0.1</span>"
      ],
      "text/plain": [
       "<IPython.core.display.HTML object>"
      ]
     },
     "metadata": {},
     "output_type": "display_data"
    },
    {
     "data": {
      "text/html": [
       "<span style=\"color:blue\"> |-drop_rate_7: 0.01</span>"
      ],
      "text/plain": [
       "<IPython.core.display.HTML object>"
      ]
     },
     "metadata": {},
     "output_type": "display_data"
    },
    {
     "data": {
      "text/html": [
       "<span style=\"color:cyan\"> |-learning_rate: 0.01</span>"
      ],
      "text/plain": [
       "<IPython.core.display.HTML object>"
      ]
     },
     "metadata": {},
     "output_type": "display_data"
    },
    {
     "data": {
      "text/html": [
       "<span style=\"color:blue\"> |-momentum: 0.2</span>"
      ],
      "text/plain": [
       "<IPython.core.display.HTML object>"
      ]
     },
     "metadata": {},
     "output_type": "display_data"
    },
    {
     "data": {
      "text/html": [
       "<span style=\"color:cyan\"> |-num_layers: 8</span>"
      ],
      "text/plain": [
       "<IPython.core.display.HTML object>"
      ]
     },
     "metadata": {},
     "output_type": "display_data"
    },
    {
     "data": {
      "text/html": [
       "<span style=\"color:blue\"> |-tuner/bracket: 2</span>"
      ],
      "text/plain": [
       "<IPython.core.display.HTML object>"
      ]
     },
     "metadata": {},
     "output_type": "display_data"
    },
    {
     "data": {
      "text/html": [
       "<span style=\"color:cyan\"> |-tuner/epochs: 3</span>"
      ],
      "text/plain": [
       "<IPython.core.display.HTML object>"
      ]
     },
     "metadata": {},
     "output_type": "display_data"
    },
    {
     "data": {
      "text/html": [
       "<span style=\"color:blue\"> |-tuner/initial_epoch: 0</span>"
      ],
      "text/plain": [
       "<IPython.core.display.HTML object>"
      ]
     },
     "metadata": {},
     "output_type": "display_data"
    },
    {
     "data": {
      "text/html": [
       "<span style=\"color:cyan\"> |-tuner/round: 0</span>"
      ],
      "text/plain": [
       "<IPython.core.display.HTML object>"
      ]
     },
     "metadata": {},
     "output_type": "display_data"
    },
    {
     "data": {
      "text/html": [
       "<span style=\"color:blue\"> |-units_0: 48</span>"
      ],
      "text/plain": [
       "<IPython.core.display.HTML object>"
      ]
     },
     "metadata": {},
     "output_type": "display_data"
    },
    {
     "data": {
      "text/html": [
       "<span style=\"color:cyan\"> |-units_1: 40</span>"
      ],
      "text/plain": [
       "<IPython.core.display.HTML object>"
      ]
     },
     "metadata": {},
     "output_type": "display_data"
    },
    {
     "data": {
      "text/html": [
       "<span style=\"color:blue\"> |-units_2: 120</span>"
      ],
      "text/plain": [
       "<IPython.core.display.HTML object>"
      ]
     },
     "metadata": {},
     "output_type": "display_data"
    },
    {
     "data": {
      "text/html": [
       "<span style=\"color:cyan\"> |-units_3: 232</span>"
      ],
      "text/plain": [
       "<IPython.core.display.HTML object>"
      ]
     },
     "metadata": {},
     "output_type": "display_data"
    },
    {
     "data": {
      "text/html": [
       "<span style=\"color:blue\"> |-units_4: 144</span>"
      ],
      "text/plain": [
       "<IPython.core.display.HTML object>"
      ]
     },
     "metadata": {},
     "output_type": "display_data"
    },
    {
     "data": {
      "text/html": [
       "<span style=\"color:cyan\"> |-units_5: 200</span>"
      ],
      "text/plain": [
       "<IPython.core.display.HTML object>"
      ]
     },
     "metadata": {},
     "output_type": "display_data"
    },
    {
     "data": {
      "text/html": [
       "<span style=\"color:blue\"> |-units_6: 104</span>"
      ],
      "text/plain": [
       "<IPython.core.display.HTML object>"
      ]
     },
     "metadata": {},
     "output_type": "display_data"
    },
    {
     "data": {
      "text/html": [
       "<span style=\"color:cyan\"> |-units_7: 16</span>"
      ],
      "text/plain": [
       "<IPython.core.display.HTML object>"
      ]
     },
     "metadata": {},
     "output_type": "display_data"
    },
    {
     "data": {
      "text/html": [
       "<span style=\"color:cyan\"> |-Score: 0.5218802094459534</span>"
      ],
      "text/plain": [
       "<IPython.core.display.HTML object>"
      ]
     },
     "metadata": {},
     "output_type": "display_data"
    },
    {
     "data": {
      "text/html": [
       "<span style=\"color:cyan\"> |-Best step: 0</span>"
      ],
      "text/plain": [
       "<IPython.core.display.HTML object>"
      ]
     },
     "metadata": {},
     "output_type": "display_data"
    },
    {
     "name": "stdout",
     "output_type": "stream",
     "text": [
      "Train on 10786 samples, validate on 2697 samples\n",
      "Epoch 1/3\n",
      "10786/10786 [==============================] - ETA: 2:59 - loss: 0.6909 - accuracy: 0.53 - ETA: 7s - loss: 0.7849 - accuracy: 0.5247 - ETA: 3s - loss: 0.7399 - accuracy: 0.50 - ETA: 2s - loss: 0.7239 - accuracy: 0.51 - ETA: 1s - loss: 0.7162 - accuracy: 0.51 - ETA: 1s - loss: 0.7124 - accuracy: 0.50 - ETA: 1s - loss: 0.7097 - accuracy: 0.50 - ETA: 0s - loss: 0.7076 - accuracy: 0.50 - ETA: 0s - loss: 0.7058 - accuracy: 0.50 - ETA: 0s - loss: 0.7046 - accuracy: 0.50 - ETA: 0s - loss: 0.7037 - accuracy: 0.50 - ETA: 0s - loss: 0.7029 - accuracy: 0.50 - ETA: 0s - loss: 0.7023 - accuracy: 0.50 - ETA: 0s - loss: 0.7015 - accuracy: 0.50 - ETA: 0s - loss: 0.7010 - accuracy: 0.50 - ETA: 0s - loss: 0.7002 - accuracy: 0.50 - ETA: 0s - loss: 0.6998 - accuracy: 0.51 - 2s 153us/sample - loss: 0.6997 - accuracy: 0.5109 - val_loss: 0.6929 - val_accuracy: 0.5217\n",
      "Epoch 2/3\n",
      "10786/10786 [==============================] - ETA: 1s - loss: 0.7116 - accuracy: 0.40 - ETA: 0s - loss: 0.6913 - accuracy: 0.54 - ETA: 0s - loss: 0.6901 - accuracy: 0.54 - ETA: 0s - loss: 0.6914 - accuracy: 0.53 - ETA: 0s - loss: 0.6918 - accuracy: 0.52 - ETA: 0s - loss: 0.6920 - accuracy: 0.52 - ETA: 0s - loss: 0.6921 - accuracy: 0.52 - ETA: 0s - loss: 0.6923 - accuracy: 0.52 - ETA: 0s - loss: 0.6924 - accuracy: 0.51 - ETA: 0s - loss: 0.6925 - accuracy: 0.51 - ETA: 0s - loss: 0.6926 - accuracy: 0.51 - ETA: 0s - loss: 0.6927 - accuracy: 0.51 - ETA: 0s - loss: 0.6925 - accuracy: 0.51 - ETA: 0s - loss: 0.6926 - accuracy: 0.51 - ETA: 0s - loss: 0.6925 - accuracy: 0.52 - ETA: 0s - loss: 0.6923 - accuracy: 0.52 - 1s 86us/sample - loss: 0.6924 - accuracy: 0.5219 - val_loss: 0.6922 - val_accuracy: 0.5217\n",
      "Epoch 3/3\n",
      "10786/10786 [==============================] - ETA: 1s - loss: 0.6881 - accuracy: 0.56 - ETA: 0s - loss: 0.6920 - accuracy: 0.52 - ETA: 0s - loss: 0.6924 - accuracy: 0.52 - ETA: 0s - loss: 0.6928 - accuracy: 0.51 - ETA: 0s - loss: 0.6927 - accuracy: 0.51 - ETA: 0s - loss: 0.6924 - accuracy: 0.52 - ETA: 0s - loss: 0.6921 - accuracy: 0.52 - ETA: 0s - loss: 0.6920 - accuracy: 0.52 - ETA: 0s - loss: 0.6922 - accuracy: 0.52 - ETA: 0s - loss: 0.6925 - accuracy: 0.51 - ETA: 0s - loss: 0.6925 - accuracy: 0.52 - ETA: 0s - loss: 0.6925 - accuracy: 0.52 - ETA: 0s - loss: 0.6925 - accuracy: 0.52 - ETA: 0s - loss: 0.6926 - accuracy: 0.51 - ETA: 0s - loss: 0.6924 - accuracy: 0.52 - ETA: 0s - loss: 0.6924 - accuracy: 0.52 - 1s 94us/sample - loss: 0.6924 - accuracy: 0.5219 - val_loss: 0.6922 - val_accuracy: 0.5217\n"
     ]
    },
    {
     "data": {
      "text/html": [
       "<span style=\"color:#4527A0\"><h1 style=\"font-size:18px\">Trial complete</h1></span>"
      ],
      "text/plain": [
       "<IPython.core.display.HTML object>"
      ]
     },
     "metadata": {},
     "output_type": "display_data"
    },
    {
     "data": {
      "text/html": [
       "<span style=\"color:#4527A0\"><h1 style=\"font-size:18px\">Trial summary</h1></span>"
      ],
      "text/plain": [
       "<IPython.core.display.HTML object>"
      ]
     },
     "metadata": {},
     "output_type": "display_data"
    },
    {
     "data": {
      "text/html": [
       "<span style=\"color:#7E57C2\"><h2 style=\"font-size:16px\">Hp values:</h2></span>"
      ],
      "text/plain": [
       "<IPython.core.display.HTML object>"
      ]
     },
     "metadata": {},
     "output_type": "display_data"
    },
    {
     "data": {
      "text/html": [
       "<span style=\"color:cyan\"> |-drop_rate_0: 0.3</span>"
      ],
      "text/plain": [
       "<IPython.core.display.HTML object>"
      ]
     },
     "metadata": {},
     "output_type": "display_data"
    },
    {
     "data": {
      "text/html": [
       "<span style=\"color:blue\"> |-drop_rate_1: 0.2</span>"
      ],
      "text/plain": [
       "<IPython.core.display.HTML object>"
      ]
     },
     "metadata": {},
     "output_type": "display_data"
    },
    {
     "data": {
      "text/html": [
       "<span style=\"color:cyan\"> |-drop_rate_2: 0.1</span>"
      ],
      "text/plain": [
       "<IPython.core.display.HTML object>"
      ]
     },
     "metadata": {},
     "output_type": "display_data"
    },
    {
     "data": {
      "text/html": [
       "<span style=\"color:blue\"> |-drop_rate_3: 0.01</span>"
      ],
      "text/plain": [
       "<IPython.core.display.HTML object>"
      ]
     },
     "metadata": {},
     "output_type": "display_data"
    },
    {
     "data": {
      "text/html": [
       "<span style=\"color:cyan\"> |-drop_rate_5: 0.01</span>"
      ],
      "text/plain": [
       "<IPython.core.display.HTML object>"
      ]
     },
     "metadata": {},
     "output_type": "display_data"
    },
    {
     "data": {
      "text/html": [
       "<span style=\"color:blue\"> |-drop_rate_6: 0.3</span>"
      ],
      "text/plain": [
       "<IPython.core.display.HTML object>"
      ]
     },
     "metadata": {},
     "output_type": "display_data"
    },
    {
     "data": {
      "text/html": [
       "<span style=\"color:cyan\"> |-drop_rate_7: 0.1</span>"
      ],
      "text/plain": [
       "<IPython.core.display.HTML object>"
      ]
     },
     "metadata": {},
     "output_type": "display_data"
    },
    {
     "data": {
      "text/html": [
       "<span style=\"color:blue\"> |-learning_rate: 0.01</span>"
      ],
      "text/plain": [
       "<IPython.core.display.HTML object>"
      ]
     },
     "metadata": {},
     "output_type": "display_data"
    },
    {
     "data": {
      "text/html": [
       "<span style=\"color:cyan\"> |-momentum: 0.8</span>"
      ],
      "text/plain": [
       "<IPython.core.display.HTML object>"
      ]
     },
     "metadata": {},
     "output_type": "display_data"
    },
    {
     "data": {
      "text/html": [
       "<span style=\"color:blue\"> |-num_layers: 6</span>"
      ],
      "text/plain": [
       "<IPython.core.display.HTML object>"
      ]
     },
     "metadata": {},
     "output_type": "display_data"
    },
    {
     "data": {
      "text/html": [
       "<span style=\"color:cyan\"> |-tuner/bracket: 2</span>"
      ],
      "text/plain": [
       "<IPython.core.display.HTML object>"
      ]
     },
     "metadata": {},
     "output_type": "display_data"
    },
    {
     "data": {
      "text/html": [
       "<span style=\"color:blue\"> |-tuner/epochs: 3</span>"
      ],
      "text/plain": [
       "<IPython.core.display.HTML object>"
      ]
     },
     "metadata": {},
     "output_type": "display_data"
    },
    {
     "data": {
      "text/html": [
       "<span style=\"color:cyan\"> |-tuner/initial_epoch: 0</span>"
      ],
      "text/plain": [
       "<IPython.core.display.HTML object>"
      ]
     },
     "metadata": {},
     "output_type": "display_data"
    },
    {
     "data": {
      "text/html": [
       "<span style=\"color:blue\"> |-tuner/round: 0</span>"
      ],
      "text/plain": [
       "<IPython.core.display.HTML object>"
      ]
     },
     "metadata": {},
     "output_type": "display_data"
    },
    {
     "data": {
      "text/html": [
       "<span style=\"color:cyan\"> |-units_0: 48</span>"
      ],
      "text/plain": [
       "<IPython.core.display.HTML object>"
      ]
     },
     "metadata": {},
     "output_type": "display_data"
    },
    {
     "data": {
      "text/html": [
       "<span style=\"color:blue\"> |-units_1: 184</span>"
      ],
      "text/plain": [
       "<IPython.core.display.HTML object>"
      ]
     },
     "metadata": {},
     "output_type": "display_data"
    },
    {
     "data": {
      "text/html": [
       "<span style=\"color:cyan\"> |-units_2: 72</span>"
      ],
      "text/plain": [
       "<IPython.core.display.HTML object>"
      ]
     },
     "metadata": {},
     "output_type": "display_data"
    },
    {
     "data": {
      "text/html": [
       "<span style=\"color:blue\"> |-units_3: 48</span>"
      ],
      "text/plain": [
       "<IPython.core.display.HTML object>"
      ]
     },
     "metadata": {},
     "output_type": "display_data"
    },
    {
     "data": {
      "text/html": [
       "<span style=\"color:cyan\"> |-units_4: 80</span>"
      ],
      "text/plain": [
       "<IPython.core.display.HTML object>"
      ]
     },
     "metadata": {},
     "output_type": "display_data"
    },
    {
     "data": {
      "text/html": [
       "<span style=\"color:blue\"> |-units_5: 240</span>"
      ],
      "text/plain": [
       "<IPython.core.display.HTML object>"
      ]
     },
     "metadata": {},
     "output_type": "display_data"
    },
    {
     "data": {
      "text/html": [
       "<span style=\"color:cyan\"> |-units_6: 216</span>"
      ],
      "text/plain": [
       "<IPython.core.display.HTML object>"
      ]
     },
     "metadata": {},
     "output_type": "display_data"
    },
    {
     "data": {
      "text/html": [
       "<span style=\"color:blue\"> |-units_7: 216</span>"
      ],
      "text/plain": [
       "<IPython.core.display.HTML object>"
      ]
     },
     "metadata": {},
     "output_type": "display_data"
    },
    {
     "data": {
      "text/html": [
       "<span style=\"color:cyan\"> |-Score: 0.5218802094459534</span>"
      ],
      "text/plain": [
       "<IPython.core.display.HTML object>"
      ]
     },
     "metadata": {},
     "output_type": "display_data"
    },
    {
     "data": {
      "text/html": [
       "<span style=\"color:cyan\"> |-Best step: 0</span>"
      ],
      "text/plain": [
       "<IPython.core.display.HTML object>"
      ]
     },
     "metadata": {},
     "output_type": "display_data"
    },
    {
     "name": "stdout",
     "output_type": "stream",
     "text": [
      "Train on 10786 samples, validate on 2697 samples\n",
      "Epoch 1/3\n",
      "10786/10786 [==============================] - ETA: 4:32 - loss: 0.6912 - accuracy: 0.50 - ETA: 23s - loss: 1.0303 - accuracy: 0.4635 - ETA: 14s - loss: 0.8980 - accuracy: 0.468 - ETA: 8s - loss: 0.8168 - accuracy: 0.493 - ETA: 6s - loss: 0.7788 - accuracy: 0.50 - ETA: 4s - loss: 0.7597 - accuracy: 0.49 - ETA: 4s - loss: 0.7532 - accuracy: 0.48 - ETA: 3s - loss: 0.7421 - accuracy: 0.49 - ETA: 2s - loss: 0.7346 - accuracy: 0.49 - ETA: 2s - loss: 0.7286 - accuracy: 0.49 - ETA: 2s - loss: 0.7253 - accuracy: 0.49 - ETA: 1s - loss: 0.7216 - accuracy: 0.50 - ETA: 1s - loss: 0.7191 - accuracy: 0.50 - ETA: 1s - loss: 0.7170 - accuracy: 0.50 - ETA: 1s - loss: 0.7152 - accuracy: 0.51 - ETA: 1s - loss: 0.7138 - accuracy: 0.51 - ETA: 0s - loss: 0.7123 - accuracy: 0.51 - ETA: 0s - loss: 0.7111 - accuracy: 0.51 - ETA: 0s - loss: 0.7102 - accuracy: 0.51 - ETA: 0s - loss: 0.7094 - accuracy: 0.51 - ETA: 0s - loss: 0.7085 - accuracy: 0.51 - ETA: 0s - loss: 0.7077 - accuracy: 0.50 - ETA: 0s - loss: 0.7070 - accuracy: 0.51 - ETA: 0s - loss: 0.7063 - accuracy: 0.51 - ETA: 0s - loss: 0.7057 - accuracy: 0.51 - 2s 222us/sample - loss: 0.7053 - accuracy: 0.5096 - val_loss: 0.6923 - val_accuracy: 0.5217\n",
      "Epoch 2/3\n",
      "10786/10786 [==============================] - ETA: 2s - loss: 0.7012 - accuracy: 0.40 - ETA: 1s - loss: 0.6941 - accuracy: 0.48 - ETA: 0s - loss: 0.6935 - accuracy: 0.50 - ETA: 0s - loss: 0.6938 - accuracy: 0.49 - ETA: 0s - loss: 0.6930 - accuracy: 0.50 - ETA: 0s - loss: 0.6925 - accuracy: 0.51 - ETA: 0s - loss: 0.6922 - accuracy: 0.51 - ETA: 0s - loss: 0.6923 - accuracy: 0.51 - ETA: 0s - loss: 0.6923 - accuracy: 0.51 - ETA: 0s - loss: 0.6926 - accuracy: 0.51 - ETA: 0s - loss: 0.6927 - accuracy: 0.51 - ETA: 0s - loss: 0.6927 - accuracy: 0.51 - ETA: 0s - loss: 0.6928 - accuracy: 0.51 - ETA: 0s - loss: 0.6927 - accuracy: 0.51 - ETA: 0s - loss: 0.6926 - accuracy: 0.51 - ETA: 0s - loss: 0.6917 - accuracy: 0.52 - ETA: 0s - loss: 0.6916 - accuracy: 0.52 - ETA: 0s - loss: 0.6916 - accuracy: 0.52 - ETA: 0s - loss: 0.6921 - accuracy: 0.52 - 1s 105us/sample - loss: 0.6921 - accuracy: 0.5198 - val_loss: 0.6929 - val_accuracy: 0.5217\n",
      "Epoch 3/3\n",
      "10786/10786 [==============================] - ETA: 1s - loss: 0.6934 - accuracy: 0.46 - ETA: 1s - loss: 0.6919 - accuracy: 0.53 - ETA: 1s - loss: 0.6920 - accuracy: 0.52 - ETA: 0s - loss: 0.6918 - accuracy: 0.53 - ETA: 0s - loss: 0.6917 - accuracy: 0.53 - ETA: 0s - loss: 0.6924 - accuracy: 0.52 - ETA: 0s - loss: 0.6919 - accuracy: 0.52 - ETA: 0s - loss: 0.6915 - accuracy: 0.53 - ETA: 0s - loss: 0.6921 - accuracy: 0.52 - ETA: 0s - loss: 0.6922 - accuracy: 0.52 - ETA: 0s - loss: 0.6923 - accuracy: 0.52 - ETA: 0s - loss: 0.6923 - accuracy: 0.52 - ETA: 0s - loss: 0.6923 - accuracy: 0.52 - ETA: 0s - loss: 0.6924 - accuracy: 0.52 - ETA: 0s - loss: 0.6925 - accuracy: 0.52 - ETA: 0s - loss: 0.6924 - accuracy: 0.52 - ETA: 0s - loss: 0.6923 - accuracy: 0.52 - ETA: 0s - loss: 0.6924 - accuracy: 0.52 - ETA: 0s - loss: 0.6924 - accuracy: 0.52 - ETA: 0s - loss: 0.6925 - accuracy: 0.52 - 1s 107us/sample - loss: 0.6925 - accuracy: 0.5219 - val_loss: 0.6925 - val_accuracy: 0.5217\n"
     ]
    },
    {
     "data": {
      "text/html": [
       "<span style=\"color:#4527A0\"><h1 style=\"font-size:18px\">Trial complete</h1></span>"
      ],
      "text/plain": [
       "<IPython.core.display.HTML object>"
      ]
     },
     "metadata": {},
     "output_type": "display_data"
    },
    {
     "data": {
      "text/html": [
       "<span style=\"color:#4527A0\"><h1 style=\"font-size:18px\">Trial summary</h1></span>"
      ],
      "text/plain": [
       "<IPython.core.display.HTML object>"
      ]
     },
     "metadata": {},
     "output_type": "display_data"
    },
    {
     "data": {
      "text/html": [
       "<span style=\"color:#7E57C2\"><h2 style=\"font-size:16px\">Hp values:</h2></span>"
      ],
      "text/plain": [
       "<IPython.core.display.HTML object>"
      ]
     },
     "metadata": {},
     "output_type": "display_data"
    },
    {
     "data": {
      "text/html": [
       "<span style=\"color:cyan\"> |-drop_rate_0: 0.1</span>"
      ],
      "text/plain": [
       "<IPython.core.display.HTML object>"
      ]
     },
     "metadata": {},
     "output_type": "display_data"
    },
    {
     "data": {
      "text/html": [
       "<span style=\"color:blue\"> |-drop_rate_1: 0.3</span>"
      ],
      "text/plain": [
       "<IPython.core.display.HTML object>"
      ]
     },
     "metadata": {},
     "output_type": "display_data"
    },
    {
     "data": {
      "text/html": [
       "<span style=\"color:cyan\"> |-drop_rate_2: 0.2</span>"
      ],
      "text/plain": [
       "<IPython.core.display.HTML object>"
      ]
     },
     "metadata": {},
     "output_type": "display_data"
    },
    {
     "data": {
      "text/html": [
       "<span style=\"color:blue\"> |-drop_rate_3: 0.3</span>"
      ],
      "text/plain": [
       "<IPython.core.display.HTML object>"
      ]
     },
     "metadata": {},
     "output_type": "display_data"
    },
    {
     "data": {
      "text/html": [
       "<span style=\"color:cyan\"> |-drop_rate_5: 0.2</span>"
      ],
      "text/plain": [
       "<IPython.core.display.HTML object>"
      ]
     },
     "metadata": {},
     "output_type": "display_data"
    },
    {
     "data": {
      "text/html": [
       "<span style=\"color:blue\"> |-drop_rate_6: 0.2</span>"
      ],
      "text/plain": [
       "<IPython.core.display.HTML object>"
      ]
     },
     "metadata": {},
     "output_type": "display_data"
    },
    {
     "data": {
      "text/html": [
       "<span style=\"color:cyan\"> |-drop_rate_7: 0.3</span>"
      ],
      "text/plain": [
       "<IPython.core.display.HTML object>"
      ]
     },
     "metadata": {},
     "output_type": "display_data"
    },
    {
     "data": {
      "text/html": [
       "<span style=\"color:blue\"> |-learning_rate: 0.01</span>"
      ],
      "text/plain": [
       "<IPython.core.display.HTML object>"
      ]
     },
     "metadata": {},
     "output_type": "display_data"
    },
    {
     "data": {
      "text/html": [
       "<span style=\"color:cyan\"> |-momentum: 0.8</span>"
      ],
      "text/plain": [
       "<IPython.core.display.HTML object>"
      ]
     },
     "metadata": {},
     "output_type": "display_data"
    },
    {
     "data": {
      "text/html": [
       "<span style=\"color:blue\"> |-num_layers: 7</span>"
      ],
      "text/plain": [
       "<IPython.core.display.HTML object>"
      ]
     },
     "metadata": {},
     "output_type": "display_data"
    },
    {
     "data": {
      "text/html": [
       "<span style=\"color:cyan\"> |-tuner/bracket: 2</span>"
      ],
      "text/plain": [
       "<IPython.core.display.HTML object>"
      ]
     },
     "metadata": {},
     "output_type": "display_data"
    },
    {
     "data": {
      "text/html": [
       "<span style=\"color:blue\"> |-tuner/epochs: 3</span>"
      ],
      "text/plain": [
       "<IPython.core.display.HTML object>"
      ]
     },
     "metadata": {},
     "output_type": "display_data"
    },
    {
     "data": {
      "text/html": [
       "<span style=\"color:cyan\"> |-tuner/initial_epoch: 0</span>"
      ],
      "text/plain": [
       "<IPython.core.display.HTML object>"
      ]
     },
     "metadata": {},
     "output_type": "display_data"
    },
    {
     "data": {
      "text/html": [
       "<span style=\"color:blue\"> |-tuner/round: 0</span>"
      ],
      "text/plain": [
       "<IPython.core.display.HTML object>"
      ]
     },
     "metadata": {},
     "output_type": "display_data"
    },
    {
     "data": {
      "text/html": [
       "<span style=\"color:cyan\"> |-units_0: 240</span>"
      ],
      "text/plain": [
       "<IPython.core.display.HTML object>"
      ]
     },
     "metadata": {},
     "output_type": "display_data"
    },
    {
     "data": {
      "text/html": [
       "<span style=\"color:blue\"> |-units_1: 32</span>"
      ],
      "text/plain": [
       "<IPython.core.display.HTML object>"
      ]
     },
     "metadata": {},
     "output_type": "display_data"
    },
    {
     "data": {
      "text/html": [
       "<span style=\"color:cyan\"> |-units_2: 248</span>"
      ],
      "text/plain": [
       "<IPython.core.display.HTML object>"
      ]
     },
     "metadata": {},
     "output_type": "display_data"
    },
    {
     "data": {
      "text/html": [
       "<span style=\"color:blue\"> |-units_3: 232</span>"
      ],
      "text/plain": [
       "<IPython.core.display.HTML object>"
      ]
     },
     "metadata": {},
     "output_type": "display_data"
    },
    {
     "data": {
      "text/html": [
       "<span style=\"color:cyan\"> |-units_4: 152</span>"
      ],
      "text/plain": [
       "<IPython.core.display.HTML object>"
      ]
     },
     "metadata": {},
     "output_type": "display_data"
    },
    {
     "data": {
      "text/html": [
       "<span style=\"color:blue\"> |-units_5: 24</span>"
      ],
      "text/plain": [
       "<IPython.core.display.HTML object>"
      ]
     },
     "metadata": {},
     "output_type": "display_data"
    },
    {
     "data": {
      "text/html": [
       "<span style=\"color:cyan\"> |-units_6: 240</span>"
      ],
      "text/plain": [
       "<IPython.core.display.HTML object>"
      ]
     },
     "metadata": {},
     "output_type": "display_data"
    },
    {
     "data": {
      "text/html": [
       "<span style=\"color:blue\"> |-units_7: 136</span>"
      ],
      "text/plain": [
       "<IPython.core.display.HTML object>"
      ]
     },
     "metadata": {},
     "output_type": "display_data"
    },
    {
     "data": {
      "text/html": [
       "<span style=\"color:cyan\"> |-Score: 0.5218802094459534</span>"
      ],
      "text/plain": [
       "<IPython.core.display.HTML object>"
      ]
     },
     "metadata": {},
     "output_type": "display_data"
    },
    {
     "data": {
      "text/html": [
       "<span style=\"color:cyan\"> |-Best step: 0</span>"
      ],
      "text/plain": [
       "<IPython.core.display.HTML object>"
      ]
     },
     "metadata": {},
     "output_type": "display_data"
    },
    {
     "name": "stdout",
     "output_type": "stream",
     "text": [
      "Train on 10786 samples, validate on 2697 samples\n",
      "Epoch 1/3\n",
      "10786/10786 [==============================] - ETA: 2:50 - loss: 0.6964 - accuracy: 0.56 - ETA: 8s - loss: 0.9102 - accuracy: 0.4929 - ETA: 4s - loss: 0.8040 - accuracy: 0.48 - ETA: 2s - loss: 0.7676 - accuracy: 0.48 - ETA: 2s - loss: 0.7493 - accuracy: 0.49 - ETA: 1s - loss: 0.7383 - accuracy: 0.49 - ETA: 1s - loss: 0.7307 - accuracy: 0.49 - ETA: 1s - loss: 0.7252 - accuracy: 0.50 - ETA: 0s - loss: 0.7219 - accuracy: 0.50 - ETA: 0s - loss: 0.7189 - accuracy: 0.50 - ETA: 0s - loss: 0.7168 - accuracy: 0.50 - ETA: 0s - loss: 0.7153 - accuracy: 0.50 - ETA: 0s - loss: 0.7137 - accuracy: 0.50 - ETA: 0s - loss: 0.7118 - accuracy: 0.51 - ETA: 0s - loss: 0.7103 - accuracy: 0.51 - ETA: 0s - loss: 0.7092 - accuracy: 0.51 - ETA: 0s - loss: 0.7083 - accuracy: 0.51 - 2s 154us/sample - loss: 0.7074 - accuracy: 0.5128 - val_loss: 0.6922 - val_accuracy: 0.5217\n",
      "Epoch 2/3\n",
      "10786/10786 [==============================] - ETA: 1s - loss: 0.6868 - accuracy: 0.59 - ETA: 0s - loss: 0.6930 - accuracy: 0.51 - ETA: 0s - loss: 0.6930 - accuracy: 0.51 - ETA: 0s - loss: 0.6933 - accuracy: 0.51 - ETA: 0s - loss: 0.6930 - accuracy: 0.51 - ETA: 0s - loss: 0.6928 - accuracy: 0.51 - ETA: 0s - loss: 0.6931 - accuracy: 0.51 - ETA: 0s - loss: 0.6929 - accuracy: 0.51 - ETA: 0s - loss: 0.6930 - accuracy: 0.51 - ETA: 0s - loss: 0.6930 - accuracy: 0.51 - ETA: 0s - loss: 0.6928 - accuracy: 0.52 - ETA: 0s - loss: 0.6929 - accuracy: 0.51 - ETA: 0s - loss: 0.6928 - accuracy: 0.52 - ETA: 0s - loss: 0.6927 - accuracy: 0.52 - ETA: 0s - loss: 0.6925 - accuracy: 0.52 - ETA: 0s - loss: 0.6928 - accuracy: 0.52 - ETA: 0s - loss: 0.6928 - accuracy: 0.52 - 1s 91us/sample - loss: 0.6927 - accuracy: 0.5217 - val_loss: 0.6924 - val_accuracy: 0.5217\n",
      "Epoch 3/3\n",
      "10786/10786 [==============================] - ETA: 1s - loss: 0.6956 - accuracy: 0.46 - ETA: 0s - loss: 0.6929 - accuracy: 0.51 - ETA: 0s - loss: 0.6930 - accuracy: 0.51 - ETA: 0s - loss: 0.6930 - accuracy: 0.51 - ETA: 0s - loss: 0.6929 - accuracy: 0.51 - ETA: 0s - loss: 0.6928 - accuracy: 0.51 - ETA: 0s - loss: 0.6928 - accuracy: 0.51 - ETA: 0s - loss: 0.6922 - accuracy: 0.52 - ETA: 0s - loss: 0.6920 - accuracy: 0.52 - ETA: 0s - loss: 0.6920 - accuracy: 0.52 - ETA: 0s - loss: 0.6922 - accuracy: 0.52 - ETA: 0s - loss: 0.6922 - accuracy: 0.52 - ETA: 0s - loss: 0.6921 - accuracy: 0.52 - ETA: 0s - loss: 0.6924 - accuracy: 0.52 - ETA: 0s - loss: 0.6922 - accuracy: 0.52 - ETA: 0s - loss: 0.6924 - accuracy: 0.52 - ETA: 0s - loss: 0.6925 - accuracy: 0.52 - 1s 89us/sample - loss: 0.6925 - accuracy: 0.5212 - val_loss: 0.6923 - val_accuracy: 0.5217\n"
     ]
    },
    {
     "data": {
      "text/html": [
       "<span style=\"color:#4527A0\"><h1 style=\"font-size:18px\">Trial complete</h1></span>"
      ],
      "text/plain": [
       "<IPython.core.display.HTML object>"
      ]
     },
     "metadata": {},
     "output_type": "display_data"
    },
    {
     "data": {
      "text/html": [
       "<span style=\"color:#4527A0\"><h1 style=\"font-size:18px\">Trial summary</h1></span>"
      ],
      "text/plain": [
       "<IPython.core.display.HTML object>"
      ]
     },
     "metadata": {},
     "output_type": "display_data"
    },
    {
     "data": {
      "text/html": [
       "<span style=\"color:#7E57C2\"><h2 style=\"font-size:16px\">Hp values:</h2></span>"
      ],
      "text/plain": [
       "<IPython.core.display.HTML object>"
      ]
     },
     "metadata": {},
     "output_type": "display_data"
    },
    {
     "data": {
      "text/html": [
       "<span style=\"color:cyan\"> |-drop_rate_0: 0.1</span>"
      ],
      "text/plain": [
       "<IPython.core.display.HTML object>"
      ]
     },
     "metadata": {},
     "output_type": "display_data"
    },
    {
     "data": {
      "text/html": [
       "<span style=\"color:blue\"> |-drop_rate_1: 0.2</span>"
      ],
      "text/plain": [
       "<IPython.core.display.HTML object>"
      ]
     },
     "metadata": {},
     "output_type": "display_data"
    },
    {
     "data": {
      "text/html": [
       "<span style=\"color:cyan\"> |-drop_rate_2: 0.01</span>"
      ],
      "text/plain": [
       "<IPython.core.display.HTML object>"
      ]
     },
     "metadata": {},
     "output_type": "display_data"
    },
    {
     "data": {
      "text/html": [
       "<span style=\"color:blue\"> |-drop_rate_3: 0.3</span>"
      ],
      "text/plain": [
       "<IPython.core.display.HTML object>"
      ]
     },
     "metadata": {},
     "output_type": "display_data"
    },
    {
     "data": {
      "text/html": [
       "<span style=\"color:cyan\"> |-drop_rate_5: 0.3</span>"
      ],
      "text/plain": [
       "<IPython.core.display.HTML object>"
      ]
     },
     "metadata": {},
     "output_type": "display_data"
    },
    {
     "data": {
      "text/html": [
       "<span style=\"color:blue\"> |-drop_rate_6: 0.1</span>"
      ],
      "text/plain": [
       "<IPython.core.display.HTML object>"
      ]
     },
     "metadata": {},
     "output_type": "display_data"
    },
    {
     "data": {
      "text/html": [
       "<span style=\"color:cyan\"> |-drop_rate_7: 0.3</span>"
      ],
      "text/plain": [
       "<IPython.core.display.HTML object>"
      ]
     },
     "metadata": {},
     "output_type": "display_data"
    },
    {
     "data": {
      "text/html": [
       "<span style=\"color:blue\"> |-learning_rate: 0.01</span>"
      ],
      "text/plain": [
       "<IPython.core.display.HTML object>"
      ]
     },
     "metadata": {},
     "output_type": "display_data"
    },
    {
     "data": {
      "text/html": [
       "<span style=\"color:cyan\"> |-momentum: 0.0</span>"
      ],
      "text/plain": [
       "<IPython.core.display.HTML object>"
      ]
     },
     "metadata": {},
     "output_type": "display_data"
    },
    {
     "data": {
      "text/html": [
       "<span style=\"color:blue\"> |-num_layers: 6</span>"
      ],
      "text/plain": [
       "<IPython.core.display.HTML object>"
      ]
     },
     "metadata": {},
     "output_type": "display_data"
    },
    {
     "data": {
      "text/html": [
       "<span style=\"color:cyan\"> |-tuner/bracket: 2</span>"
      ],
      "text/plain": [
       "<IPython.core.display.HTML object>"
      ]
     },
     "metadata": {},
     "output_type": "display_data"
    },
    {
     "data": {
      "text/html": [
       "<span style=\"color:blue\"> |-tuner/epochs: 3</span>"
      ],
      "text/plain": [
       "<IPython.core.display.HTML object>"
      ]
     },
     "metadata": {},
     "output_type": "display_data"
    },
    {
     "data": {
      "text/html": [
       "<span style=\"color:cyan\"> |-tuner/initial_epoch: 0</span>"
      ],
      "text/plain": [
       "<IPython.core.display.HTML object>"
      ]
     },
     "metadata": {},
     "output_type": "display_data"
    },
    {
     "data": {
      "text/html": [
       "<span style=\"color:blue\"> |-tuner/round: 0</span>"
      ],
      "text/plain": [
       "<IPython.core.display.HTML object>"
      ]
     },
     "metadata": {},
     "output_type": "display_data"
    },
    {
     "data": {
      "text/html": [
       "<span style=\"color:cyan\"> |-units_0: 32</span>"
      ],
      "text/plain": [
       "<IPython.core.display.HTML object>"
      ]
     },
     "metadata": {},
     "output_type": "display_data"
    },
    {
     "data": {
      "text/html": [
       "<span style=\"color:blue\"> |-units_1: 144</span>"
      ],
      "text/plain": [
       "<IPython.core.display.HTML object>"
      ]
     },
     "metadata": {},
     "output_type": "display_data"
    },
    {
     "data": {
      "text/html": [
       "<span style=\"color:cyan\"> |-units_2: 152</span>"
      ],
      "text/plain": [
       "<IPython.core.display.HTML object>"
      ]
     },
     "metadata": {},
     "output_type": "display_data"
    },
    {
     "data": {
      "text/html": [
       "<span style=\"color:blue\"> |-units_3: 232</span>"
      ],
      "text/plain": [
       "<IPython.core.display.HTML object>"
      ]
     },
     "metadata": {},
     "output_type": "display_data"
    },
    {
     "data": {
      "text/html": [
       "<span style=\"color:cyan\"> |-units_4: 120</span>"
      ],
      "text/plain": [
       "<IPython.core.display.HTML object>"
      ]
     },
     "metadata": {},
     "output_type": "display_data"
    },
    {
     "data": {
      "text/html": [
       "<span style=\"color:blue\"> |-units_5: 224</span>"
      ],
      "text/plain": [
       "<IPython.core.display.HTML object>"
      ]
     },
     "metadata": {},
     "output_type": "display_data"
    },
    {
     "data": {
      "text/html": [
       "<span style=\"color:cyan\"> |-units_6: 48</span>"
      ],
      "text/plain": [
       "<IPython.core.display.HTML object>"
      ]
     },
     "metadata": {},
     "output_type": "display_data"
    },
    {
     "data": {
      "text/html": [
       "<span style=\"color:blue\"> |-units_7: 184</span>"
      ],
      "text/plain": [
       "<IPython.core.display.HTML object>"
      ]
     },
     "metadata": {},
     "output_type": "display_data"
    },
    {
     "data": {
      "text/html": [
       "<span style=\"color:cyan\"> |-Score: 0.5216947793960571</span>"
      ],
      "text/plain": [
       "<IPython.core.display.HTML object>"
      ]
     },
     "metadata": {},
     "output_type": "display_data"
    },
    {
     "data": {
      "text/html": [
       "<span style=\"color:cyan\"> |-Best step: 0</span>"
      ],
      "text/plain": [
       "<IPython.core.display.HTML object>"
      ]
     },
     "metadata": {},
     "output_type": "display_data"
    },
    {
     "name": "stdout",
     "output_type": "stream",
     "text": [
      "Train on 10786 samples, validate on 2697 samples\n",
      "Epoch 1/3\n",
      "10786/10786 [==============================] - ETA: 2:19 - loss: 0.8736 - accuracy: 0.56 - ETA: 5s - loss: 0.7507 - accuracy: 0.5537 - ETA: 3s - loss: 0.7150 - accuracy: 0.56 - ETA: 2s - loss: 0.6930 - accuracy: 0.58 - ETA: 1s - loss: 0.6748 - accuracy: 0.60 - ETA: 1s - loss: 0.6630 - accuracy: 0.61 - ETA: 0s - loss: 0.6559 - accuracy: 0.62 - ETA: 0s - loss: 0.6494 - accuracy: 0.62 - ETA: 0s - loss: 0.6431 - accuracy: 0.63 - ETA: 0s - loss: 0.6417 - accuracy: 0.63 - ETA: 0s - loss: 0.6372 - accuracy: 0.63 - ETA: 0s - loss: 0.6329 - accuracy: 0.64 - ETA: 0s - loss: 0.6303 - accuracy: 0.64 - ETA: 0s - loss: 0.6287 - accuracy: 0.64 - 1s 120us/sample - loss: 0.6257 - accuracy: 0.6477 - val_loss: 0.5775 - val_accuracy: 0.6937\n",
      "Epoch 2/3\n",
      "10786/10786 [==============================] - ETA: 1s - loss: 0.6795 - accuracy: 0.62 - ETA: 0s - loss: 0.5989 - accuracy: 0.68 - ETA: 0s - loss: 0.6018 - accuracy: 0.67 - ETA: 0s - loss: 0.5946 - accuracy: 0.68 - ETA: 0s - loss: 0.5966 - accuracy: 0.67 - ETA: 0s - loss: 0.5940 - accuracy: 0.68 - ETA: 0s - loss: 0.5941 - accuracy: 0.68 - ETA: 0s - loss: 0.5966 - accuracy: 0.68 - ETA: 0s - loss: 0.5971 - accuracy: 0.68 - ETA: 0s - loss: 0.6006 - accuracy: 0.67 - ETA: 0s - loss: 0.6007 - accuracy: 0.67 - ETA: 0s - loss: 0.6008 - accuracy: 0.67 - ETA: 0s - loss: 0.5998 - accuracy: 0.67 - ETA: 0s - loss: 0.5992 - accuracy: 0.67 - 1s 75us/sample - loss: 0.5984 - accuracy: 0.6793 - val_loss: 0.5765 - val_accuracy: 0.6930\n",
      "Epoch 3/3\n",
      "10786/10786 [==============================] - ETA: 1s - loss: 0.5961 - accuracy: 0.59 - ETA: 0s - loss: 0.5889 - accuracy: 0.68 - ETA: 0s - loss: 0.5963 - accuracy: 0.67 - ETA: 0s - loss: 0.6038 - accuracy: 0.67 - ETA: 0s - loss: 0.6001 - accuracy: 0.67 - ETA: 0s - loss: 0.5981 - accuracy: 0.67 - ETA: 0s - loss: 0.5957 - accuracy: 0.67 - ETA: 0s - loss: 0.5946 - accuracy: 0.68 - ETA: 0s - loss: 0.5949 - accuracy: 0.68 - ETA: 0s - loss: 0.5945 - accuracy: 0.68 - ETA: 0s - loss: 0.5958 - accuracy: 0.68 - ETA: 0s - loss: 0.5980 - accuracy: 0.68 - ETA: 0s - loss: 0.5969 - accuracy: 0.68 - ETA: 0s - loss: 0.5973 - accuracy: 0.68 - ETA: 0s - loss: 0.5963 - accuracy: 0.68 - 1s 78us/sample - loss: 0.5966 - accuracy: 0.6827 - val_loss: 0.5884 - val_accuracy: 0.6900\n"
     ]
    },
    {
     "data": {
      "text/html": [
       "<span style=\"color:#4527A0\"><h1 style=\"font-size:18px\">Trial complete</h1></span>"
      ],
      "text/plain": [
       "<IPython.core.display.HTML object>"
      ]
     },
     "metadata": {},
     "output_type": "display_data"
    },
    {
     "data": {
      "text/html": [
       "<span style=\"color:#4527A0\"><h1 style=\"font-size:18px\">Trial summary</h1></span>"
      ],
      "text/plain": [
       "<IPython.core.display.HTML object>"
      ]
     },
     "metadata": {},
     "output_type": "display_data"
    },
    {
     "data": {
      "text/html": [
       "<span style=\"color:#7E57C2\"><h2 style=\"font-size:16px\">Hp values:</h2></span>"
      ],
      "text/plain": [
       "<IPython.core.display.HTML object>"
      ]
     },
     "metadata": {},
     "output_type": "display_data"
    },
    {
     "data": {
      "text/html": [
       "<span style=\"color:cyan\"> |-drop_rate_0: 0.3</span>"
      ],
      "text/plain": [
       "<IPython.core.display.HTML object>"
      ]
     },
     "metadata": {},
     "output_type": "display_data"
    },
    {
     "data": {
      "text/html": [
       "<span style=\"color:blue\"> |-drop_rate_1: 0.01</span>"
      ],
      "text/plain": [
       "<IPython.core.display.HTML object>"
      ]
     },
     "metadata": {},
     "output_type": "display_data"
    },
    {
     "data": {
      "text/html": [
       "<span style=\"color:cyan\"> |-drop_rate_2: 0.1</span>"
      ],
      "text/plain": [
       "<IPython.core.display.HTML object>"
      ]
     },
     "metadata": {},
     "output_type": "display_data"
    },
    {
     "data": {
      "text/html": [
       "<span style=\"color:blue\"> |-drop_rate_3: 0.1</span>"
      ],
      "text/plain": [
       "<IPython.core.display.HTML object>"
      ]
     },
     "metadata": {},
     "output_type": "display_data"
    },
    {
     "data": {
      "text/html": [
       "<span style=\"color:cyan\"> |-drop_rate_5: 0.3</span>"
      ],
      "text/plain": [
       "<IPython.core.display.HTML object>"
      ]
     },
     "metadata": {},
     "output_type": "display_data"
    },
    {
     "data": {
      "text/html": [
       "<span style=\"color:blue\"> |-drop_rate_6: 0.01</span>"
      ],
      "text/plain": [
       "<IPython.core.display.HTML object>"
      ]
     },
     "metadata": {},
     "output_type": "display_data"
    },
    {
     "data": {
      "text/html": [
       "<span style=\"color:cyan\"> |-drop_rate_7: 0.2</span>"
      ],
      "text/plain": [
       "<IPython.core.display.HTML object>"
      ]
     },
     "metadata": {},
     "output_type": "display_data"
    },
    {
     "data": {
      "text/html": [
       "<span style=\"color:blue\"> |-learning_rate: 0.0001</span>"
      ],
      "text/plain": [
       "<IPython.core.display.HTML object>"
      ]
     },
     "metadata": {},
     "output_type": "display_data"
    },
    {
     "data": {
      "text/html": [
       "<span style=\"color:cyan\"> |-momentum: 0.9</span>"
      ],
      "text/plain": [
       "<IPython.core.display.HTML object>"
      ]
     },
     "metadata": {},
     "output_type": "display_data"
    },
    {
     "data": {
      "text/html": [
       "<span style=\"color:blue\"> |-num_layers: 3</span>"
      ],
      "text/plain": [
       "<IPython.core.display.HTML object>"
      ]
     },
     "metadata": {},
     "output_type": "display_data"
    },
    {
     "data": {
      "text/html": [
       "<span style=\"color:cyan\"> |-tuner/bracket: 2</span>"
      ],
      "text/plain": [
       "<IPython.core.display.HTML object>"
      ]
     },
     "metadata": {},
     "output_type": "display_data"
    },
    {
     "data": {
      "text/html": [
       "<span style=\"color:blue\"> |-tuner/epochs: 3</span>"
      ],
      "text/plain": [
       "<IPython.core.display.HTML object>"
      ]
     },
     "metadata": {},
     "output_type": "display_data"
    },
    {
     "data": {
      "text/html": [
       "<span style=\"color:cyan\"> |-tuner/initial_epoch: 0</span>"
      ],
      "text/plain": [
       "<IPython.core.display.HTML object>"
      ]
     },
     "metadata": {},
     "output_type": "display_data"
    },
    {
     "data": {
      "text/html": [
       "<span style=\"color:blue\"> |-tuner/round: 0</span>"
      ],
      "text/plain": [
       "<IPython.core.display.HTML object>"
      ]
     },
     "metadata": {},
     "output_type": "display_data"
    },
    {
     "data": {
      "text/html": [
       "<span style=\"color:cyan\"> |-units_0: 152</span>"
      ],
      "text/plain": [
       "<IPython.core.display.HTML object>"
      ]
     },
     "metadata": {},
     "output_type": "display_data"
    },
    {
     "data": {
      "text/html": [
       "<span style=\"color:blue\"> |-units_1: 112</span>"
      ],
      "text/plain": [
       "<IPython.core.display.HTML object>"
      ]
     },
     "metadata": {},
     "output_type": "display_data"
    },
    {
     "data": {
      "text/html": [
       "<span style=\"color:cyan\"> |-units_2: 48</span>"
      ],
      "text/plain": [
       "<IPython.core.display.HTML object>"
      ]
     },
     "metadata": {},
     "output_type": "display_data"
    },
    {
     "data": {
      "text/html": [
       "<span style=\"color:blue\"> |-units_3: 144</span>"
      ],
      "text/plain": [
       "<IPython.core.display.HTML object>"
      ]
     },
     "metadata": {},
     "output_type": "display_data"
    },
    {
     "data": {
      "text/html": [
       "<span style=\"color:cyan\"> |-units_4: 32</span>"
      ],
      "text/plain": [
       "<IPython.core.display.HTML object>"
      ]
     },
     "metadata": {},
     "output_type": "display_data"
    },
    {
     "data": {
      "text/html": [
       "<span style=\"color:blue\"> |-units_5: 144</span>"
      ],
      "text/plain": [
       "<IPython.core.display.HTML object>"
      ]
     },
     "metadata": {},
     "output_type": "display_data"
    },
    {
     "data": {
      "text/html": [
       "<span style=\"color:cyan\"> |-units_6: 40</span>"
      ],
      "text/plain": [
       "<IPython.core.display.HTML object>"
      ]
     },
     "metadata": {},
     "output_type": "display_data"
    },
    {
     "data": {
      "text/html": [
       "<span style=\"color:blue\"> |-units_7: 80</span>"
      ],
      "text/plain": [
       "<IPython.core.display.HTML object>"
      ]
     },
     "metadata": {},
     "output_type": "display_data"
    },
    {
     "data": {
      "text/html": [
       "<span style=\"color:cyan\"> |-Score: 0.682736873626709</span>"
      ],
      "text/plain": [
       "<IPython.core.display.HTML object>"
      ]
     },
     "metadata": {},
     "output_type": "display_data"
    },
    {
     "data": {
      "text/html": [
       "<span style=\"color:cyan\"> |-Best step: 0</span>"
      ],
      "text/plain": [
       "<IPython.core.display.HTML object>"
      ]
     },
     "metadata": {},
     "output_type": "display_data"
    },
    {
     "name": "stdout",
     "output_type": "stream",
     "text": [
      "Train on 10786 samples, validate on 2697 samples\n",
      "Epoch 1/3\n",
      "10786/10786 [==============================] - ETA: 2:30 - loss: 1.0379 - accuracy: 0.40 - ETA: 8s - loss: 0.8077 - accuracy: 0.4852 - ETA: 4s - loss: 0.7581 - accuracy: 0.51 - ETA: 2s - loss: 0.7326 - accuracy: 0.54 - ETA: 2s - loss: 0.7176 - accuracy: 0.56 - ETA: 1s - loss: 0.7101 - accuracy: 0.56 - ETA: 1s - loss: 0.7165 - accuracy: 0.57 - ETA: 1s - loss: 0.7126 - accuracy: 0.57 - ETA: 0s - loss: 0.7143 - accuracy: 0.58 - ETA: 0s - loss: 0.7101 - accuracy: 0.58 - ETA: 0s - loss: 0.7060 - accuracy: 0.58 - ETA: 0s - loss: 0.6997 - accuracy: 0.59 - ETA: 0s - loss: 0.6964 - accuracy: 0.59 - ETA: 0s - loss: 0.6909 - accuracy: 0.60 - ETA: 0s - loss: 0.6856 - accuracy: 0.60 - ETA: 0s - loss: 0.6896 - accuracy: 0.60 - ETA: 0s - loss: 0.6868 - accuracy: 0.60 - ETA: 0s - loss: 0.6820 - accuracy: 0.61 - 2s 146us/sample - loss: 0.6793 - accuracy: 0.6128 - val_loss: 0.7405 - val_accuracy: 0.4783\n",
      "Epoch 2/3\n",
      "10786/10786 [==============================] - ETA: 1s - loss: 0.8062 - accuracy: 0.40 - ETA: 0s - loss: 0.6587 - accuracy: 0.59 - ETA: 0s - loss: 0.6272 - accuracy: 0.63 - ETA: 0s - loss: 0.6304 - accuracy: 0.63 - ETA: 0s - loss: 0.6188 - accuracy: 0.65 - ETA: 0s - loss: 0.6178 - accuracy: 0.65 - ETA: 0s - loss: 0.6198 - accuracy: 0.65 - ETA: 0s - loss: 0.6207 - accuracy: 0.65 - ETA: 0s - loss: 0.6209 - accuracy: 0.65 - ETA: 0s - loss: 0.6162 - accuracy: 0.65 - ETA: 0s - loss: 0.6140 - accuracy: 0.66 - ETA: 0s - loss: 0.6178 - accuracy: 0.66 - ETA: 0s - loss: 0.6180 - accuracy: 0.66 - ETA: 0s - loss: 0.6161 - accuracy: 0.66 - ETA: 0s - loss: 0.6125 - accuracy: 0.66 - ETA: 0s - loss: 0.6125 - accuracy: 0.66 - ETA: 0s - loss: 0.6143 - accuracy: 0.66 - ETA: 0s - loss: 0.6127 - accuracy: 0.66 - 1s 95us/sample - loss: 0.6118 - accuracy: 0.6656 - val_loss: 0.9169 - val_accuracy: 0.5569\n",
      "Epoch 3/3\n",
      "10786/10786 [==============================] - ETA: 1s - loss: 0.7302 - accuracy: 0.65 - ETA: 0s - loss: 0.5837 - accuracy: 0.71 - ETA: 0s - loss: 0.5947 - accuracy: 0.69 - ETA: 0s - loss: 0.6003 - accuracy: 0.68 - ETA: 0s - loss: 0.6017 - accuracy: 0.68 - ETA: 0s - loss: 0.5987 - accuracy: 0.68 - ETA: 0s - loss: 0.6017 - accuracy: 0.67 - ETA: 0s - loss: 0.6002 - accuracy: 0.67 - ETA: 0s - loss: 0.6005 - accuracy: 0.67 - ETA: 0s - loss: 0.6005 - accuracy: 0.67 - ETA: 0s - loss: 0.5997 - accuracy: 0.67 - ETA: 0s - loss: 0.6019 - accuracy: 0.67 - ETA: 0s - loss: 0.6026 - accuracy: 0.67 - ETA: 0s - loss: 0.6019 - accuracy: 0.67 - ETA: 0s - loss: 0.6017 - accuracy: 0.67 - ETA: 0s - loss: 0.6020 - accuracy: 0.67 - ETA: 0s - loss: 0.6020 - accuracy: 0.67 - ETA: 0s - loss: 0.6011 - accuracy: 0.67 - 1s 95us/sample - loss: 0.6011 - accuracy: 0.6788 - val_loss: 0.5844 - val_accuracy: 0.6919\n"
     ]
    },
    {
     "data": {
      "text/html": [
       "<span style=\"color:#4527A0\"><h1 style=\"font-size:18px\">Trial complete</h1></span>"
      ],
      "text/plain": [
       "<IPython.core.display.HTML object>"
      ]
     },
     "metadata": {},
     "output_type": "display_data"
    },
    {
     "data": {
      "text/html": [
       "<span style=\"color:#4527A0\"><h1 style=\"font-size:18px\">Trial summary</h1></span>"
      ],
      "text/plain": [
       "<IPython.core.display.HTML object>"
      ]
     },
     "metadata": {},
     "output_type": "display_data"
    },
    {
     "data": {
      "text/html": [
       "<span style=\"color:#7E57C2\"><h2 style=\"font-size:16px\">Hp values:</h2></span>"
      ],
      "text/plain": [
       "<IPython.core.display.HTML object>"
      ]
     },
     "metadata": {},
     "output_type": "display_data"
    },
    {
     "data": {
      "text/html": [
       "<span style=\"color:cyan\"> |-drop_rate_0: 0.01</span>"
      ],
      "text/plain": [
       "<IPython.core.display.HTML object>"
      ]
     },
     "metadata": {},
     "output_type": "display_data"
    },
    {
     "data": {
      "text/html": [
       "<span style=\"color:blue\"> |-drop_rate_1: 0.2</span>"
      ],
      "text/plain": [
       "<IPython.core.display.HTML object>"
      ]
     },
     "metadata": {},
     "output_type": "display_data"
    },
    {
     "data": {
      "text/html": [
       "<span style=\"color:cyan\"> |-drop_rate_2: 0.01</span>"
      ],
      "text/plain": [
       "<IPython.core.display.HTML object>"
      ]
     },
     "metadata": {},
     "output_type": "display_data"
    },
    {
     "data": {
      "text/html": [
       "<span style=\"color:blue\"> |-drop_rate_3: 0.2</span>"
      ],
      "text/plain": [
       "<IPython.core.display.HTML object>"
      ]
     },
     "metadata": {},
     "output_type": "display_data"
    },
    {
     "data": {
      "text/html": [
       "<span style=\"color:cyan\"> |-drop_rate_5: 0.3</span>"
      ],
      "text/plain": [
       "<IPython.core.display.HTML object>"
      ]
     },
     "metadata": {},
     "output_type": "display_data"
    },
    {
     "data": {
      "text/html": [
       "<span style=\"color:blue\"> |-drop_rate_6: 0.01</span>"
      ],
      "text/plain": [
       "<IPython.core.display.HTML object>"
      ]
     },
     "metadata": {},
     "output_type": "display_data"
    },
    {
     "data": {
      "text/html": [
       "<span style=\"color:cyan\"> |-drop_rate_7: 0.1</span>"
      ],
      "text/plain": [
       "<IPython.core.display.HTML object>"
      ]
     },
     "metadata": {},
     "output_type": "display_data"
    },
    {
     "data": {
      "text/html": [
       "<span style=\"color:blue\"> |-learning_rate: 0.001</span>"
      ],
      "text/plain": [
       "<IPython.core.display.HTML object>"
      ]
     },
     "metadata": {},
     "output_type": "display_data"
    },
    {
     "data": {
      "text/html": [
       "<span style=\"color:cyan\"> |-momentum: 0.0</span>"
      ],
      "text/plain": [
       "<IPython.core.display.HTML object>"
      ]
     },
     "metadata": {},
     "output_type": "display_data"
    },
    {
     "data": {
      "text/html": [
       "<span style=\"color:blue\"> |-num_layers: 4</span>"
      ],
      "text/plain": [
       "<IPython.core.display.HTML object>"
      ]
     },
     "metadata": {},
     "output_type": "display_data"
    },
    {
     "data": {
      "text/html": [
       "<span style=\"color:cyan\"> |-tuner/bracket: 2</span>"
      ],
      "text/plain": [
       "<IPython.core.display.HTML object>"
      ]
     },
     "metadata": {},
     "output_type": "display_data"
    },
    {
     "data": {
      "text/html": [
       "<span style=\"color:blue\"> |-tuner/epochs: 3</span>"
      ],
      "text/plain": [
       "<IPython.core.display.HTML object>"
      ]
     },
     "metadata": {},
     "output_type": "display_data"
    },
    {
     "data": {
      "text/html": [
       "<span style=\"color:cyan\"> |-tuner/initial_epoch: 0</span>"
      ],
      "text/plain": [
       "<IPython.core.display.HTML object>"
      ]
     },
     "metadata": {},
     "output_type": "display_data"
    },
    {
     "data": {
      "text/html": [
       "<span style=\"color:blue\"> |-tuner/round: 0</span>"
      ],
      "text/plain": [
       "<IPython.core.display.HTML object>"
      ]
     },
     "metadata": {},
     "output_type": "display_data"
    },
    {
     "data": {
      "text/html": [
       "<span style=\"color:cyan\"> |-units_0: 96</span>"
      ],
      "text/plain": [
       "<IPython.core.display.HTML object>"
      ]
     },
     "metadata": {},
     "output_type": "display_data"
    },
    {
     "data": {
      "text/html": [
       "<span style=\"color:blue\"> |-units_1: 248</span>"
      ],
      "text/plain": [
       "<IPython.core.display.HTML object>"
      ]
     },
     "metadata": {},
     "output_type": "display_data"
    },
    {
     "data": {
      "text/html": [
       "<span style=\"color:cyan\"> |-units_2: 240</span>"
      ],
      "text/plain": [
       "<IPython.core.display.HTML object>"
      ]
     },
     "metadata": {},
     "output_type": "display_data"
    },
    {
     "data": {
      "text/html": [
       "<span style=\"color:blue\"> |-units_3: 232</span>"
      ],
      "text/plain": [
       "<IPython.core.display.HTML object>"
      ]
     },
     "metadata": {},
     "output_type": "display_data"
    },
    {
     "data": {
      "text/html": [
       "<span style=\"color:cyan\"> |-units_4: 48</span>"
      ],
      "text/plain": [
       "<IPython.core.display.HTML object>"
      ]
     },
     "metadata": {},
     "output_type": "display_data"
    },
    {
     "data": {
      "text/html": [
       "<span style=\"color:blue\"> |-units_5: 152</span>"
      ],
      "text/plain": [
       "<IPython.core.display.HTML object>"
      ]
     },
     "metadata": {},
     "output_type": "display_data"
    },
    {
     "data": {
      "text/html": [
       "<span style=\"color:cyan\"> |-units_6: 128</span>"
      ],
      "text/plain": [
       "<IPython.core.display.HTML object>"
      ]
     },
     "metadata": {},
     "output_type": "display_data"
    },
    {
     "data": {
      "text/html": [
       "<span style=\"color:blue\"> |-units_7: 104</span>"
      ],
      "text/plain": [
       "<IPython.core.display.HTML object>"
      ]
     },
     "metadata": {},
     "output_type": "display_data"
    },
    {
     "data": {
      "text/html": [
       "<span style=\"color:cyan\"> |-Score: 0.678750216960907</span>"
      ],
      "text/plain": [
       "<IPython.core.display.HTML object>"
      ]
     },
     "metadata": {},
     "output_type": "display_data"
    },
    {
     "data": {
      "text/html": [
       "<span style=\"color:cyan\"> |-Best step: 0</span>"
      ],
      "text/plain": [
       "<IPython.core.display.HTML object>"
      ]
     },
     "metadata": {},
     "output_type": "display_data"
    },
    {
     "name": "stdout",
     "output_type": "stream",
     "text": [
      "Train on 10786 samples, validate on 2697 samples\n",
      "Epoch 1/3\n",
      "10786/10786 [==============================] - ETA: 2:07 - loss: 1.2413 - accuracy: 0.50 - ETA: 5s - loss: 0.8697 - accuracy: 0.5755 - ETA: 2s - loss: 0.8524 - accuracy: 0.56 - ETA: 2s - loss: 0.8077 - accuracy: 0.56 - ETA: 1s - loss: 0.7694 - accuracy: 0.57 - ETA: 1s - loss: 0.7464 - accuracy: 0.59 - ETA: 0s - loss: 0.7260 - accuracy: 0.60 - ETA: 0s - loss: 0.7126 - accuracy: 0.60 - ETA: 0s - loss: 0.7020 - accuracy: 0.61 - ETA: 0s - loss: 0.6923 - accuracy: 0.61 - ETA: 0s - loss: 0.6866 - accuracy: 0.62 - ETA: 0s - loss: 0.6791 - accuracy: 0.62 - ETA: 0s - loss: 0.6741 - accuracy: 0.62 - ETA: 0s - loss: 0.6696 - accuracy: 0.63 - ETA: 0s - loss: 0.6652 - accuracy: 0.63 - 1s 121us/sample - loss: 0.6638 - accuracy: 0.6349 - val_loss: 0.6253 - val_accuracy: 0.6403\n",
      "Epoch 2/3\n",
      "10786/10786 [==============================] - ETA: 1s - loss: 0.7164 - accuracy: 0.56 - ETA: 0s - loss: 0.6479 - accuracy: 0.64 - ETA: 0s - loss: 0.6317 - accuracy: 0.64 - ETA: 0s - loss: 0.6284 - accuracy: 0.64 - ETA: 0s - loss: 0.6280 - accuracy: 0.65 - ETA: 0s - loss: 0.6192 - accuracy: 0.66 - ETA: 0s - loss: 0.6184 - accuracy: 0.66 - ETA: 0s - loss: 0.6147 - accuracy: 0.66 - ETA: 0s - loss: 0.6137 - accuracy: 0.66 - ETA: 0s - loss: 0.6126 - accuracy: 0.66 - ETA: 0s - loss: 0.6106 - accuracy: 0.66 - ETA: 0s - loss: 0.6088 - accuracy: 0.66 - ETA: 0s - loss: 0.6105 - accuracy: 0.66 - ETA: 0s - loss: 0.6118 - accuracy: 0.66 - ETA: 0s - loss: 0.6109 - accuracy: 0.66 - 1s 79us/sample - loss: 0.6107 - accuracy: 0.6666 - val_loss: 0.6130 - val_accuracy: 0.6418\n",
      "Epoch 3/3\n",
      "10786/10786 [==============================] - ETA: 1s - loss: 0.5814 - accuracy: 0.71 - ETA: 0s - loss: 0.6023 - accuracy: 0.66 - ETA: 0s - loss: 0.6009 - accuracy: 0.67 - ETA: 0s - loss: 0.6013 - accuracy: 0.67 - ETA: 0s - loss: 0.5993 - accuracy: 0.67 - ETA: 0s - loss: 0.6028 - accuracy: 0.67 - ETA: 0s - loss: 0.6054 - accuracy: 0.67 - ETA: 0s - loss: 0.6067 - accuracy: 0.66 - ETA: 0s - loss: 0.6088 - accuracy: 0.66 - ETA: 0s - loss: 0.6096 - accuracy: 0.66 - ETA: 0s - loss: 0.6071 - accuracy: 0.66 - ETA: 0s - loss: 0.6072 - accuracy: 0.66 - ETA: 0s - loss: 0.6047 - accuracy: 0.66 - ETA: 0s - loss: 0.6034 - accuracy: 0.66 - ETA: 0s - loss: 0.6029 - accuracy: 0.67 - ETA: 0s - loss: 0.6031 - accuracy: 0.67 - 1s 84us/sample - loss: 0.6018 - accuracy: 0.6726 - val_loss: 0.5896 - val_accuracy: 0.6871\n"
     ]
    },
    {
     "data": {
      "text/html": [
       "<span style=\"color:#4527A0\"><h1 style=\"font-size:18px\">Trial complete</h1></span>"
      ],
      "text/plain": [
       "<IPython.core.display.HTML object>"
      ]
     },
     "metadata": {},
     "output_type": "display_data"
    },
    {
     "data": {
      "text/html": [
       "<span style=\"color:#4527A0\"><h1 style=\"font-size:18px\">Trial summary</h1></span>"
      ],
      "text/plain": [
       "<IPython.core.display.HTML object>"
      ]
     },
     "metadata": {},
     "output_type": "display_data"
    },
    {
     "data": {
      "text/html": [
       "<span style=\"color:#7E57C2\"><h2 style=\"font-size:16px\">Hp values:</h2></span>"
      ],
      "text/plain": [
       "<IPython.core.display.HTML object>"
      ]
     },
     "metadata": {},
     "output_type": "display_data"
    },
    {
     "data": {
      "text/html": [
       "<span style=\"color:cyan\"> |-drop_rate_0: 0.2</span>"
      ],
      "text/plain": [
       "<IPython.core.display.HTML object>"
      ]
     },
     "metadata": {},
     "output_type": "display_data"
    },
    {
     "data": {
      "text/html": [
       "<span style=\"color:blue\"> |-drop_rate_1: 0.3</span>"
      ],
      "text/plain": [
       "<IPython.core.display.HTML object>"
      ]
     },
     "metadata": {},
     "output_type": "display_data"
    },
    {
     "data": {
      "text/html": [
       "<span style=\"color:cyan\"> |-drop_rate_2: 0.01</span>"
      ],
      "text/plain": [
       "<IPython.core.display.HTML object>"
      ]
     },
     "metadata": {},
     "output_type": "display_data"
    },
    {
     "data": {
      "text/html": [
       "<span style=\"color:blue\"> |-drop_rate_3: 0.3</span>"
      ],
      "text/plain": [
       "<IPython.core.display.HTML object>"
      ]
     },
     "metadata": {},
     "output_type": "display_data"
    },
    {
     "data": {
      "text/html": [
       "<span style=\"color:cyan\"> |-drop_rate_5: 0.1</span>"
      ],
      "text/plain": [
       "<IPython.core.display.HTML object>"
      ]
     },
     "metadata": {},
     "output_type": "display_data"
    },
    {
     "data": {
      "text/html": [
       "<span style=\"color:blue\"> |-drop_rate_6: 0.01</span>"
      ],
      "text/plain": [
       "<IPython.core.display.HTML object>"
      ]
     },
     "metadata": {},
     "output_type": "display_data"
    },
    {
     "data": {
      "text/html": [
       "<span style=\"color:cyan\"> |-drop_rate_7: 0.01</span>"
      ],
      "text/plain": [
       "<IPython.core.display.HTML object>"
      ]
     },
     "metadata": {},
     "output_type": "display_data"
    },
    {
     "data": {
      "text/html": [
       "<span style=\"color:blue\"> |-learning_rate: 0.0001</span>"
      ],
      "text/plain": [
       "<IPython.core.display.HTML object>"
      ]
     },
     "metadata": {},
     "output_type": "display_data"
    },
    {
     "data": {
      "text/html": [
       "<span style=\"color:cyan\"> |-momentum: 0.8</span>"
      ],
      "text/plain": [
       "<IPython.core.display.HTML object>"
      ]
     },
     "metadata": {},
     "output_type": "display_data"
    },
    {
     "data": {
      "text/html": [
       "<span style=\"color:blue\"> |-num_layers: 2</span>"
      ],
      "text/plain": [
       "<IPython.core.display.HTML object>"
      ]
     },
     "metadata": {},
     "output_type": "display_data"
    },
    {
     "data": {
      "text/html": [
       "<span style=\"color:cyan\"> |-tuner/bracket: 2</span>"
      ],
      "text/plain": [
       "<IPython.core.display.HTML object>"
      ]
     },
     "metadata": {},
     "output_type": "display_data"
    },
    {
     "data": {
      "text/html": [
       "<span style=\"color:blue\"> |-tuner/epochs: 3</span>"
      ],
      "text/plain": [
       "<IPython.core.display.HTML object>"
      ]
     },
     "metadata": {},
     "output_type": "display_data"
    },
    {
     "data": {
      "text/html": [
       "<span style=\"color:cyan\"> |-tuner/initial_epoch: 0</span>"
      ],
      "text/plain": [
       "<IPython.core.display.HTML object>"
      ]
     },
     "metadata": {},
     "output_type": "display_data"
    },
    {
     "data": {
      "text/html": [
       "<span style=\"color:blue\"> |-tuner/round: 0</span>"
      ],
      "text/plain": [
       "<IPython.core.display.HTML object>"
      ]
     },
     "metadata": {},
     "output_type": "display_data"
    },
    {
     "data": {
      "text/html": [
       "<span style=\"color:cyan\"> |-units_0: 200</span>"
      ],
      "text/plain": [
       "<IPython.core.display.HTML object>"
      ]
     },
     "metadata": {},
     "output_type": "display_data"
    },
    {
     "data": {
      "text/html": [
       "<span style=\"color:blue\"> |-units_1: 160</span>"
      ],
      "text/plain": [
       "<IPython.core.display.HTML object>"
      ]
     },
     "metadata": {},
     "output_type": "display_data"
    },
    {
     "data": {
      "text/html": [
       "<span style=\"color:cyan\"> |-units_2: 168</span>"
      ],
      "text/plain": [
       "<IPython.core.display.HTML object>"
      ]
     },
     "metadata": {},
     "output_type": "display_data"
    },
    {
     "data": {
      "text/html": [
       "<span style=\"color:blue\"> |-units_3: 144</span>"
      ],
      "text/plain": [
       "<IPython.core.display.HTML object>"
      ]
     },
     "metadata": {},
     "output_type": "display_data"
    },
    {
     "data": {
      "text/html": [
       "<span style=\"color:cyan\"> |-units_4: 32</span>"
      ],
      "text/plain": [
       "<IPython.core.display.HTML object>"
      ]
     },
     "metadata": {},
     "output_type": "display_data"
    },
    {
     "data": {
      "text/html": [
       "<span style=\"color:blue\"> |-units_5: 96</span>"
      ],
      "text/plain": [
       "<IPython.core.display.HTML object>"
      ]
     },
     "metadata": {},
     "output_type": "display_data"
    },
    {
     "data": {
      "text/html": [
       "<span style=\"color:cyan\"> |-units_6: 24</span>"
      ],
      "text/plain": [
       "<IPython.core.display.HTML object>"
      ]
     },
     "metadata": {},
     "output_type": "display_data"
    },
    {
     "data": {
      "text/html": [
       "<span style=\"color:blue\"> |-units_7: 120</span>"
      ],
      "text/plain": [
       "<IPython.core.display.HTML object>"
      ]
     },
     "metadata": {},
     "output_type": "display_data"
    },
    {
     "data": {
      "text/html": [
       "<span style=\"color:cyan\"> |-Score: 0.6726312041282654</span>"
      ],
      "text/plain": [
       "<IPython.core.display.HTML object>"
      ]
     },
     "metadata": {},
     "output_type": "display_data"
    },
    {
     "data": {
      "text/html": [
       "<span style=\"color:cyan\"> |-Best step: 0</span>"
      ],
      "text/plain": [
       "<IPython.core.display.HTML object>"
      ]
     },
     "metadata": {},
     "output_type": "display_data"
    },
    {
     "name": "stdout",
     "output_type": "stream",
     "text": [
      "Train on 10786 samples, validate on 2697 samples\n",
      "Epoch 1/3\n",
      "10786/10786 [==============================] - ETA: 2:26 - loss: 0.7436 - accuracy: 0.46 - ETA: 6s - loss: 0.6775 - accuracy: 0.5750 - ETA: 3s - loss: 0.6581 - accuracy: 0.60 - ETA: 2s - loss: 0.6527 - accuracy: 0.61 - ETA: 1s - loss: 0.6399 - accuracy: 0.63 - ETA: 1s - loss: 0.6348 - accuracy: 0.64 - ETA: 0s - loss: 0.6304 - accuracy: 0.64 - ETA: 0s - loss: 0.6283 - accuracy: 0.64 - ETA: 0s - loss: 0.6271 - accuracy: 0.65 - ETA: 0s - loss: 0.6224 - accuracy: 0.65 - ETA: 0s - loss: 0.6207 - accuracy: 0.65 - ETA: 0s - loss: 0.6201 - accuracy: 0.65 - ETA: 0s - loss: 0.6168 - accuracy: 0.66 - ETA: 0s - loss: 0.6155 - accuracy: 0.66 - 1s 123us/sample - loss: 0.6147 - accuracy: 0.6637 - val_loss: 0.5823 - val_accuracy: 0.6948\n",
      "Epoch 2/3\n",
      "10786/10786 [==============================] - ETA: 1s - loss: 0.4917 - accuracy: 0.81 - ETA: 0s - loss: 0.6000 - accuracy: 0.67 - ETA: 0s - loss: 0.6032 - accuracy: 0.67 - ETA: 0s - loss: 0.6061 - accuracy: 0.66 - ETA: 0s - loss: 0.6004 - accuracy: 0.67 - ETA: 0s - loss: 0.6026 - accuracy: 0.67 - ETA: 0s - loss: 0.5999 - accuracy: 0.67 - ETA: 0s - loss: 0.6031 - accuracy: 0.67 - ETA: 0s - loss: 0.6031 - accuracy: 0.67 - ETA: 0s - loss: 0.5995 - accuracy: 0.67 - ETA: 0s - loss: 0.5994 - accuracy: 0.67 - ETA: 0s - loss: 0.5985 - accuracy: 0.68 - ETA: 0s - loss: 0.5990 - accuracy: 0.67 - ETA: 0s - loss: 0.6011 - accuracy: 0.67 - 1s 77us/sample - loss: 0.6007 - accuracy: 0.6788 - val_loss: 0.5855 - val_accuracy: 0.6900\n",
      "Epoch 3/3\n",
      "10786/10786 [==============================] - ETA: 1s - loss: 0.6758 - accuracy: 0.71 - ETA: 0s - loss: 0.5974 - accuracy: 0.68 - ETA: 0s - loss: 0.6018 - accuracy: 0.68 - ETA: 0s - loss: 0.5967 - accuracy: 0.68 - ETA: 0s - loss: 0.5966 - accuracy: 0.67 - ETA: 0s - loss: 0.5974 - accuracy: 0.67 - ETA: 0s - loss: 0.5959 - accuracy: 0.67 - ETA: 0s - loss: 0.5948 - accuracy: 0.67 - ETA: 0s - loss: 0.5968 - accuracy: 0.67 - ETA: 0s - loss: 0.5963 - accuracy: 0.67 - ETA: 0s - loss: 0.5970 - accuracy: 0.67 - ETA: 0s - loss: 0.5988 - accuracy: 0.67 - ETA: 0s - loss: 0.5977 - accuracy: 0.67 - ETA: 0s - loss: 0.5982 - accuracy: 0.67 - 1s 76us/sample - loss: 0.5970 - accuracy: 0.6795 - val_loss: 0.5787 - val_accuracy: 0.6971\n"
     ]
    },
    {
     "data": {
      "text/html": [
       "<span style=\"color:#4527A0\"><h1 style=\"font-size:18px\">Trial complete</h1></span>"
      ],
      "text/plain": [
       "<IPython.core.display.HTML object>"
      ]
     },
     "metadata": {},
     "output_type": "display_data"
    },
    {
     "data": {
      "text/html": [
       "<span style=\"color:#4527A0\"><h1 style=\"font-size:18px\">Trial summary</h1></span>"
      ],
      "text/plain": [
       "<IPython.core.display.HTML object>"
      ]
     },
     "metadata": {},
     "output_type": "display_data"
    },
    {
     "data": {
      "text/html": [
       "<span style=\"color:#7E57C2\"><h2 style=\"font-size:16px\">Hp values:</h2></span>"
      ],
      "text/plain": [
       "<IPython.core.display.HTML object>"
      ]
     },
     "metadata": {},
     "output_type": "display_data"
    },
    {
     "data": {
      "text/html": [
       "<span style=\"color:cyan\"> |-drop_rate_0: 0.3</span>"
      ],
      "text/plain": [
       "<IPython.core.display.HTML object>"
      ]
     },
     "metadata": {},
     "output_type": "display_data"
    },
    {
     "data": {
      "text/html": [
       "<span style=\"color:blue\"> |-drop_rate_1: 0.01</span>"
      ],
      "text/plain": [
       "<IPython.core.display.HTML object>"
      ]
     },
     "metadata": {},
     "output_type": "display_data"
    },
    {
     "data": {
      "text/html": [
       "<span style=\"color:cyan\"> |-drop_rate_2: 0.1</span>"
      ],
      "text/plain": [
       "<IPython.core.display.HTML object>"
      ]
     },
     "metadata": {},
     "output_type": "display_data"
    },
    {
     "data": {
      "text/html": [
       "<span style=\"color:blue\"> |-drop_rate_3: 0.1</span>"
      ],
      "text/plain": [
       "<IPython.core.display.HTML object>"
      ]
     },
     "metadata": {},
     "output_type": "display_data"
    },
    {
     "data": {
      "text/html": [
       "<span style=\"color:cyan\"> |-drop_rate_5: 0.1</span>"
      ],
      "text/plain": [
       "<IPython.core.display.HTML object>"
      ]
     },
     "metadata": {},
     "output_type": "display_data"
    },
    {
     "data": {
      "text/html": [
       "<span style=\"color:blue\"> |-drop_rate_6: 0.2</span>"
      ],
      "text/plain": [
       "<IPython.core.display.HTML object>"
      ]
     },
     "metadata": {},
     "output_type": "display_data"
    },
    {
     "data": {
      "text/html": [
       "<span style=\"color:cyan\"> |-drop_rate_7: 0.01</span>"
      ],
      "text/plain": [
       "<IPython.core.display.HTML object>"
      ]
     },
     "metadata": {},
     "output_type": "display_data"
    },
    {
     "data": {
      "text/html": [
       "<span style=\"color:blue\"> |-learning_rate: 0.0001</span>"
      ],
      "text/plain": [
       "<IPython.core.display.HTML object>"
      ]
     },
     "metadata": {},
     "output_type": "display_data"
    },
    {
     "data": {
      "text/html": [
       "<span style=\"color:cyan\"> |-momentum: 0.6</span>"
      ],
      "text/plain": [
       "<IPython.core.display.HTML object>"
      ]
     },
     "metadata": {},
     "output_type": "display_data"
    },
    {
     "data": {
      "text/html": [
       "<span style=\"color:blue\"> |-num_layers: 4</span>"
      ],
      "text/plain": [
       "<IPython.core.display.HTML object>"
      ]
     },
     "metadata": {},
     "output_type": "display_data"
    },
    {
     "data": {
      "text/html": [
       "<span style=\"color:cyan\"> |-tuner/bracket: 2</span>"
      ],
      "text/plain": [
       "<IPython.core.display.HTML object>"
      ]
     },
     "metadata": {},
     "output_type": "display_data"
    },
    {
     "data": {
      "text/html": [
       "<span style=\"color:blue\"> |-tuner/epochs: 3</span>"
      ],
      "text/plain": [
       "<IPython.core.display.HTML object>"
      ]
     },
     "metadata": {},
     "output_type": "display_data"
    },
    {
     "data": {
      "text/html": [
       "<span style=\"color:cyan\"> |-tuner/initial_epoch: 0</span>"
      ],
      "text/plain": [
       "<IPython.core.display.HTML object>"
      ]
     },
     "metadata": {},
     "output_type": "display_data"
    },
    {
     "data": {
      "text/html": [
       "<span style=\"color:blue\"> |-tuner/round: 0</span>"
      ],
      "text/plain": [
       "<IPython.core.display.HTML object>"
      ]
     },
     "metadata": {},
     "output_type": "display_data"
    },
    {
     "data": {
      "text/html": [
       "<span style=\"color:cyan\"> |-units_0: 152</span>"
      ],
      "text/plain": [
       "<IPython.core.display.HTML object>"
      ]
     },
     "metadata": {},
     "output_type": "display_data"
    },
    {
     "data": {
      "text/html": [
       "<span style=\"color:blue\"> |-units_1: 56</span>"
      ],
      "text/plain": [
       "<IPython.core.display.HTML object>"
      ]
     },
     "metadata": {},
     "output_type": "display_data"
    },
    {
     "data": {
      "text/html": [
       "<span style=\"color:cyan\"> |-units_2: 144</span>"
      ],
      "text/plain": [
       "<IPython.core.display.HTML object>"
      ]
     },
     "metadata": {},
     "output_type": "display_data"
    },
    {
     "data": {
      "text/html": [
       "<span style=\"color:blue\"> |-units_3: 24</span>"
      ],
      "text/plain": [
       "<IPython.core.display.HTML object>"
      ]
     },
     "metadata": {},
     "output_type": "display_data"
    },
    {
     "data": {
      "text/html": [
       "<span style=\"color:cyan\"> |-units_4: 224</span>"
      ],
      "text/plain": [
       "<IPython.core.display.HTML object>"
      ]
     },
     "metadata": {},
     "output_type": "display_data"
    },
    {
     "data": {
      "text/html": [
       "<span style=\"color:blue\"> |-units_5: 248</span>"
      ],
      "text/plain": [
       "<IPython.core.display.HTML object>"
      ]
     },
     "metadata": {},
     "output_type": "display_data"
    },
    {
     "data": {
      "text/html": [
       "<span style=\"color:cyan\"> |-units_6: 88</span>"
      ],
      "text/plain": [
       "<IPython.core.display.HTML object>"
      ]
     },
     "metadata": {},
     "output_type": "display_data"
    },
    {
     "data": {
      "text/html": [
       "<span style=\"color:blue\"> |-units_7: 96</span>"
      ],
      "text/plain": [
       "<IPython.core.display.HTML object>"
      ]
     },
     "metadata": {},
     "output_type": "display_data"
    },
    {
     "data": {
      "text/html": [
       "<span style=\"color:cyan\"> |-Score: 0.6794919371604919</span>"
      ],
      "text/plain": [
       "<IPython.core.display.HTML object>"
      ]
     },
     "metadata": {},
     "output_type": "display_data"
    },
    {
     "data": {
      "text/html": [
       "<span style=\"color:cyan\"> |-Best step: 0</span>"
      ],
      "text/plain": [
       "<IPython.core.display.HTML object>"
      ]
     },
     "metadata": {},
     "output_type": "display_data"
    },
    {
     "name": "stdout",
     "output_type": "stream",
     "text": [
      "Train on 10786 samples, validate on 2697 samples\n",
      "Epoch 4/7\n",
      "10786/10786 [==============================] - ETA: 2:17 - loss: 1.5709 - accuracy: 0.37 - ETA: 5s - loss: 0.8018 - accuracy: 0.5225 - ETA: 2s - loss: 0.7499 - accuracy: 0.55 - ETA: 1s - loss: 0.7107 - accuracy: 0.57 - ETA: 1s - loss: 0.6923 - accuracy: 0.59 - ETA: 1s - loss: 0.6785 - accuracy: 0.60 - ETA: 0s - loss: 0.6689 - accuracy: 0.61 - ETA: 0s - loss: 0.6589 - accuracy: 0.62 - ETA: 0s - loss: 0.6531 - accuracy: 0.62 - ETA: 0s - loss: 0.6471 - accuracy: 0.63 - ETA: 0s - loss: 0.6419 - accuracy: 0.63 - ETA: 0s - loss: 0.6375 - accuracy: 0.64 - ETA: 0s - loss: 0.6341 - accuracy: 0.64 - ETA: 0s - loss: 0.6307 - accuracy: 0.64 - 1s 120us/sample - loss: 0.6294 - accuracy: 0.6506 - val_loss: 0.5817 - val_accuracy: 0.6882\n",
      "Epoch 5/7\n",
      "10786/10786 [==============================] - ETA: 1s - loss: 0.6194 - accuracy: 0.65 - ETA: 0s - loss: 0.6137 - accuracy: 0.66 - ETA: 0s - loss: 0.5968 - accuracy: 0.67 - ETA: 0s - loss: 0.5967 - accuracy: 0.67 - ETA: 0s - loss: 0.5966 - accuracy: 0.67 - ETA: 0s - loss: 0.5968 - accuracy: 0.67 - ETA: 0s - loss: 0.5958 - accuracy: 0.67 - ETA: 0s - loss: 0.5960 - accuracy: 0.67 - ETA: 0s - loss: 0.5963 - accuracy: 0.67 - ETA: 0s - loss: 0.5960 - accuracy: 0.67 - ETA: 0s - loss: 0.5964 - accuracy: 0.67 - ETA: 0s - loss: 0.5972 - accuracy: 0.67 - ETA: 0s - loss: 0.5972 - accuracy: 0.67 - ETA: 0s - loss: 0.5981 - accuracy: 0.67 - 1s 76us/sample - loss: 0.5988 - accuracy: 0.6774 - val_loss: 0.5931 - val_accuracy: 0.6871\n",
      "Epoch 6/7\n",
      "10786/10786 [==============================] - ETA: 1s - loss: 0.5348 - accuracy: 0.78 - ETA: 0s - loss: 0.6110 - accuracy: 0.66 - ETA: 0s - loss: 0.6222 - accuracy: 0.65 - ETA: 0s - loss: 0.6201 - accuracy: 0.65 - ETA: 0s - loss: 0.6113 - accuracy: 0.66 - ETA: 0s - loss: 0.6099 - accuracy: 0.66 - ETA: 0s - loss: 0.6104 - accuracy: 0.66 - ETA: 0s - loss: 0.6044 - accuracy: 0.66 - ETA: 0s - loss: 0.6013 - accuracy: 0.67 - ETA: 0s - loss: 0.6033 - accuracy: 0.67 - ETA: 0s - loss: 0.6027 - accuracy: 0.67 - ETA: 0s - loss: 0.6013 - accuracy: 0.67 - ETA: 0s - loss: 0.6035 - accuracy: 0.67 - ETA: 0s - loss: 0.6022 - accuracy: 0.67 - 1s 75us/sample - loss: 0.6025 - accuracy: 0.6750 - val_loss: 0.5796 - val_accuracy: 0.6948\n",
      "Epoch 7/7\n",
      "10786/10786 [==============================] - ETA: 1s - loss: 0.5656 - accuracy: 0.71 - ETA: 0s - loss: 0.6163 - accuracy: 0.67 - ETA: 0s - loss: 0.6076 - accuracy: 0.67 - ETA: 0s - loss: 0.6079 - accuracy: 0.67 - ETA: 0s - loss: 0.6018 - accuracy: 0.67 - ETA: 0s - loss: 0.6050 - accuracy: 0.67 - ETA: 0s - loss: 0.6058 - accuracy: 0.67 - ETA: 0s - loss: 0.6048 - accuracy: 0.67 - ETA: 0s - loss: 0.6041 - accuracy: 0.67 - ETA: 0s - loss: 0.6018 - accuracy: 0.67 - ETA: 0s - loss: 0.5991 - accuracy: 0.68 - ETA: 0s - loss: 0.5980 - accuracy: 0.68 - ETA: 0s - loss: 0.5988 - accuracy: 0.67 - ETA: 0s - loss: 0.5984 - accuracy: 0.68 - 1s 76us/sample - loss: 0.5969 - accuracy: 0.6805 - val_loss: 0.5738 - val_accuracy: 0.6978\n"
     ]
    },
    {
     "data": {
      "text/html": [
       "<span style=\"color:#4527A0\"><h1 style=\"font-size:18px\">Trial complete</h1></span>"
      ],
      "text/plain": [
       "<IPython.core.display.HTML object>"
      ]
     },
     "metadata": {},
     "output_type": "display_data"
    },
    {
     "data": {
      "text/html": [
       "<span style=\"color:#4527A0\"><h1 style=\"font-size:18px\">Trial summary</h1></span>"
      ],
      "text/plain": [
       "<IPython.core.display.HTML object>"
      ]
     },
     "metadata": {},
     "output_type": "display_data"
    },
    {
     "data": {
      "text/html": [
       "<span style=\"color:#7E57C2\"><h2 style=\"font-size:16px\">Hp values:</h2></span>"
      ],
      "text/plain": [
       "<IPython.core.display.HTML object>"
      ]
     },
     "metadata": {},
     "output_type": "display_data"
    },
    {
     "data": {
      "text/html": [
       "<span style=\"color:cyan\"> |-drop_rate_0: 0.3</span>"
      ],
      "text/plain": [
       "<IPython.core.display.HTML object>"
      ]
     },
     "metadata": {},
     "output_type": "display_data"
    },
    {
     "data": {
      "text/html": [
       "<span style=\"color:blue\"> |-drop_rate_1: 0.01</span>"
      ],
      "text/plain": [
       "<IPython.core.display.HTML object>"
      ]
     },
     "metadata": {},
     "output_type": "display_data"
    },
    {
     "data": {
      "text/html": [
       "<span style=\"color:cyan\"> |-drop_rate_2: 0.1</span>"
      ],
      "text/plain": [
       "<IPython.core.display.HTML object>"
      ]
     },
     "metadata": {},
     "output_type": "display_data"
    },
    {
     "data": {
      "text/html": [
       "<span style=\"color:blue\"> |-drop_rate_3: 0.1</span>"
      ],
      "text/plain": [
       "<IPython.core.display.HTML object>"
      ]
     },
     "metadata": {},
     "output_type": "display_data"
    },
    {
     "data": {
      "text/html": [
       "<span style=\"color:cyan\"> |-drop_rate_5: 0.3</span>"
      ],
      "text/plain": [
       "<IPython.core.display.HTML object>"
      ]
     },
     "metadata": {},
     "output_type": "display_data"
    },
    {
     "data": {
      "text/html": [
       "<span style=\"color:blue\"> |-drop_rate_6: 0.01</span>"
      ],
      "text/plain": [
       "<IPython.core.display.HTML object>"
      ]
     },
     "metadata": {},
     "output_type": "display_data"
    },
    {
     "data": {
      "text/html": [
       "<span style=\"color:cyan\"> |-drop_rate_7: 0.2</span>"
      ],
      "text/plain": [
       "<IPython.core.display.HTML object>"
      ]
     },
     "metadata": {},
     "output_type": "display_data"
    },
    {
     "data": {
      "text/html": [
       "<span style=\"color:blue\"> |-learning_rate: 0.0001</span>"
      ],
      "text/plain": [
       "<IPython.core.display.HTML object>"
      ]
     },
     "metadata": {},
     "output_type": "display_data"
    },
    {
     "data": {
      "text/html": [
       "<span style=\"color:cyan\"> |-momentum: 0.9</span>"
      ],
      "text/plain": [
       "<IPython.core.display.HTML object>"
      ]
     },
     "metadata": {},
     "output_type": "display_data"
    },
    {
     "data": {
      "text/html": [
       "<span style=\"color:blue\"> |-num_layers: 3</span>"
      ],
      "text/plain": [
       "<IPython.core.display.HTML object>"
      ]
     },
     "metadata": {},
     "output_type": "display_data"
    },
    {
     "data": {
      "text/html": [
       "<span style=\"color:cyan\"> |-tuner/bracket: 2</span>"
      ],
      "text/plain": [
       "<IPython.core.display.HTML object>"
      ]
     },
     "metadata": {},
     "output_type": "display_data"
    },
    {
     "data": {
      "text/html": [
       "<span style=\"color:blue\"> |-tuner/epochs: 7</span>"
      ],
      "text/plain": [
       "<IPython.core.display.HTML object>"
      ]
     },
     "metadata": {},
     "output_type": "display_data"
    },
    {
     "data": {
      "text/html": [
       "<span style=\"color:cyan\"> |-tuner/initial_epoch: 3</span>"
      ],
      "text/plain": [
       "<IPython.core.display.HTML object>"
      ]
     },
     "metadata": {},
     "output_type": "display_data"
    },
    {
     "data": {
      "text/html": [
       "<span style=\"color:blue\"> |-tuner/round: 1</span>"
      ],
      "text/plain": [
       "<IPython.core.display.HTML object>"
      ]
     },
     "metadata": {},
     "output_type": "display_data"
    },
    {
     "data": {
      "text/html": [
       "<span style=\"color:cyan\"> |-tuner/trial_id: c4989c51eee5c2ee66ed7d9ae886109c</span>"
      ],
      "text/plain": [
       "<IPython.core.display.HTML object>"
      ]
     },
     "metadata": {},
     "output_type": "display_data"
    },
    {
     "data": {
      "text/html": [
       "<span style=\"color:blue\"> |-units_0: 152</span>"
      ],
      "text/plain": [
       "<IPython.core.display.HTML object>"
      ]
     },
     "metadata": {},
     "output_type": "display_data"
    },
    {
     "data": {
      "text/html": [
       "<span style=\"color:cyan\"> |-units_1: 112</span>"
      ],
      "text/plain": [
       "<IPython.core.display.HTML object>"
      ]
     },
     "metadata": {},
     "output_type": "display_data"
    },
    {
     "data": {
      "text/html": [
       "<span style=\"color:blue\"> |-units_2: 48</span>"
      ],
      "text/plain": [
       "<IPython.core.display.HTML object>"
      ]
     },
     "metadata": {},
     "output_type": "display_data"
    },
    {
     "data": {
      "text/html": [
       "<span style=\"color:cyan\"> |-units_3: 144</span>"
      ],
      "text/plain": [
       "<IPython.core.display.HTML object>"
      ]
     },
     "metadata": {},
     "output_type": "display_data"
    },
    {
     "data": {
      "text/html": [
       "<span style=\"color:blue\"> |-units_4: 32</span>"
      ],
      "text/plain": [
       "<IPython.core.display.HTML object>"
      ]
     },
     "metadata": {},
     "output_type": "display_data"
    },
    {
     "data": {
      "text/html": [
       "<span style=\"color:cyan\"> |-units_5: 144</span>"
      ],
      "text/plain": [
       "<IPython.core.display.HTML object>"
      ]
     },
     "metadata": {},
     "output_type": "display_data"
    },
    {
     "data": {
      "text/html": [
       "<span style=\"color:blue\"> |-units_6: 40</span>"
      ],
      "text/plain": [
       "<IPython.core.display.HTML object>"
      ]
     },
     "metadata": {},
     "output_type": "display_data"
    },
    {
     "data": {
      "text/html": [
       "<span style=\"color:cyan\"> |-units_7: 80</span>"
      ],
      "text/plain": [
       "<IPython.core.display.HTML object>"
      ]
     },
     "metadata": {},
     "output_type": "display_data"
    },
    {
     "data": {
      "text/html": [
       "<span style=\"color:cyan\"> |-Score: 0.6805117726325989</span>"
      ],
      "text/plain": [
       "<IPython.core.display.HTML object>"
      ]
     },
     "metadata": {},
     "output_type": "display_data"
    },
    {
     "data": {
      "text/html": [
       "<span style=\"color:cyan\"> |-Best step: 0</span>"
      ],
      "text/plain": [
       "<IPython.core.display.HTML object>"
      ]
     },
     "metadata": {},
     "output_type": "display_data"
    },
    {
     "name": "stdout",
     "output_type": "stream",
     "text": [
      "Train on 10786 samples, validate on 2697 samples\n",
      "Epoch 4/7\n",
      "10786/10786 [==============================] - ETA: 2:33 - loss: 0.7888 - accuracy: 0.50 - ETA: 6s - loss: 0.6751 - accuracy: 0.5889 - ETA: 3s - loss: 0.6600 - accuracy: 0.60 - ETA: 2s - loss: 0.6504 - accuracy: 0.61 - ETA: 1s - loss: 0.6452 - accuracy: 0.62 - ETA: 1s - loss: 0.6361 - accuracy: 0.63 - ETA: 0s - loss: 0.6288 - accuracy: 0.64 - ETA: 0s - loss: 0.6273 - accuracy: 0.64 - ETA: 0s - loss: 0.6246 - accuracy: 0.65 - ETA: 0s - loss: 0.6217 - accuracy: 0.65 - ETA: 0s - loss: 0.6193 - accuracy: 0.65 - ETA: 0s - loss: 0.6170 - accuracy: 0.65 - ETA: 0s - loss: 0.6138 - accuracy: 0.66 - 1s 121us/sample - loss: 0.6139 - accuracy: 0.6609 - val_loss: 0.6063 - val_accuracy: 0.6559\n",
      "Epoch 5/7\n",
      "10786/10786 [==============================] - ETA: 1s - loss: 0.6490 - accuracy: 0.59 - ETA: 0s - loss: 0.6129 - accuracy: 0.65 - ETA: 0s - loss: 0.6023 - accuracy: 0.67 - ETA: 0s - loss: 0.6036 - accuracy: 0.66 - ETA: 0s - loss: 0.6015 - accuracy: 0.67 - ETA: 0s - loss: 0.5968 - accuracy: 0.67 - ETA: 0s - loss: 0.5990 - accuracy: 0.67 - ETA: 0s - loss: 0.5992 - accuracy: 0.67 - ETA: 0s - loss: 0.5979 - accuracy: 0.67 - ETA: 0s - loss: 0.5970 - accuracy: 0.67 - ETA: 0s - loss: 0.5975 - accuracy: 0.67 - ETA: 0s - loss: 0.5962 - accuracy: 0.67 - ETA: 0s - loss: 0.5960 - accuracy: 0.67 - ETA: 0s - loss: 0.5940 - accuracy: 0.68 - ETA: 0s - loss: 0.5952 - accuracy: 0.68 - 1s 81us/sample - loss: 0.5967 - accuracy: 0.6790 - val_loss: 0.6389 - val_accuracy: 0.6333\n",
      "Epoch 6/7\n",
      "10786/10786 [==============================] - ETA: 1s - loss: 0.6266 - accuracy: 0.59 - ETA: 0s - loss: 0.5994 - accuracy: 0.68 - ETA: 0s - loss: 0.6043 - accuracy: 0.68 - ETA: 0s - loss: 0.5957 - accuracy: 0.68 - ETA: 0s - loss: 0.5957 - accuracy: 0.68 - ETA: 0s - loss: 0.5957 - accuracy: 0.68 - ETA: 0s - loss: 0.5965 - accuracy: 0.68 - ETA: 0s - loss: 0.5954 - accuracy: 0.68 - ETA: 0s - loss: 0.5946 - accuracy: 0.68 - ETA: 0s - loss: 0.5943 - accuracy: 0.68 - ETA: 0s - loss: 0.5957 - accuracy: 0.68 - ETA: 0s - loss: 0.5961 - accuracy: 0.68 - ETA: 0s - loss: 0.5968 - accuracy: 0.68 - ETA: 0s - loss: 0.5964 - accuracy: 0.68 - 1s 77us/sample - loss: 0.5955 - accuracy: 0.6837 - val_loss: 0.6620 - val_accuracy: 0.6148\n",
      "Epoch 7/7\n",
      "10786/10786 [==============================] - ETA: 1s - loss: 0.6269 - accuracy: 0.59 - ETA: 0s - loss: 0.6207 - accuracy: 0.64 - ETA: 0s - loss: 0.6167 - accuracy: 0.66 - ETA: 0s - loss: 0.6129 - accuracy: 0.66 - ETA: 0s - loss: 0.6078 - accuracy: 0.66 - ETA: 0s - loss: 0.5994 - accuracy: 0.67 - ETA: 0s - loss: 0.5985 - accuracy: 0.67 - ETA: 0s - loss: 0.5957 - accuracy: 0.68 - ETA: 0s - loss: 0.5922 - accuracy: 0.68 - ETA: 0s - loss: 0.5926 - accuracy: 0.68 - ETA: 0s - loss: 0.5918 - accuracy: 0.68 - ETA: 0s - loss: 0.5911 - accuracy: 0.68 - ETA: 0s - loss: 0.5928 - accuracy: 0.68 - ETA: 0s - loss: 0.5934 - accuracy: 0.68 - 1s 73us/sample - loss: 0.5931 - accuracy: 0.6810 - val_loss: 0.5766 - val_accuracy: 0.6934\n"
     ]
    },
    {
     "data": {
      "text/html": [
       "<span style=\"color:#4527A0\"><h1 style=\"font-size:18px\">Trial complete</h1></span>"
      ],
      "text/plain": [
       "<IPython.core.display.HTML object>"
      ]
     },
     "metadata": {},
     "output_type": "display_data"
    },
    {
     "data": {
      "text/html": [
       "<span style=\"color:#4527A0\"><h1 style=\"font-size:18px\">Trial summary</h1></span>"
      ],
      "text/plain": [
       "<IPython.core.display.HTML object>"
      ]
     },
     "metadata": {},
     "output_type": "display_data"
    },
    {
     "data": {
      "text/html": [
       "<span style=\"color:#7E57C2\"><h2 style=\"font-size:16px\">Hp values:</h2></span>"
      ],
      "text/plain": [
       "<IPython.core.display.HTML object>"
      ]
     },
     "metadata": {},
     "output_type": "display_data"
    },
    {
     "data": {
      "text/html": [
       "<span style=\"color:cyan\"> |-drop_rate_0: 0.3</span>"
      ],
      "text/plain": [
       "<IPython.core.display.HTML object>"
      ]
     },
     "metadata": {},
     "output_type": "display_data"
    },
    {
     "data": {
      "text/html": [
       "<span style=\"color:blue\"> |-drop_rate_2: 0.01</span>"
      ],
      "text/plain": [
       "<IPython.core.display.HTML object>"
      ]
     },
     "metadata": {},
     "output_type": "display_data"
    },
    {
     "data": {
      "text/html": [
       "<span style=\"color:cyan\"> |-drop_rate_3: 0.2</span>"
      ],
      "text/plain": [
       "<IPython.core.display.HTML object>"
      ]
     },
     "metadata": {},
     "output_type": "display_data"
    },
    {
     "data": {
      "text/html": [
       "<span style=\"color:blue\"> |-drop_rate_6: 0.01</span>"
      ],
      "text/plain": [
       "<IPython.core.display.HTML object>"
      ]
     },
     "metadata": {},
     "output_type": "display_data"
    },
    {
     "data": {
      "text/html": [
       "<span style=\"color:cyan\"> |-learning_rate: 0.0001</span>"
      ],
      "text/plain": [
       "<IPython.core.display.HTML object>"
      ]
     },
     "metadata": {},
     "output_type": "display_data"
    },
    {
     "data": {
      "text/html": [
       "<span style=\"color:blue\"> |-momentum: 0.6</span>"
      ],
      "text/plain": [
       "<IPython.core.display.HTML object>"
      ]
     },
     "metadata": {},
     "output_type": "display_data"
    },
    {
     "data": {
      "text/html": [
       "<span style=\"color:cyan\"> |-num_layers: 3</span>"
      ],
      "text/plain": [
       "<IPython.core.display.HTML object>"
      ]
     },
     "metadata": {},
     "output_type": "display_data"
    },
    {
     "data": {
      "text/html": [
       "<span style=\"color:blue\"> |-tuner/bracket: 2</span>"
      ],
      "text/plain": [
       "<IPython.core.display.HTML object>"
      ]
     },
     "metadata": {},
     "output_type": "display_data"
    },
    {
     "data": {
      "text/html": [
       "<span style=\"color:cyan\"> |-tuner/epochs: 7</span>"
      ],
      "text/plain": [
       "<IPython.core.display.HTML object>"
      ]
     },
     "metadata": {},
     "output_type": "display_data"
    },
    {
     "data": {
      "text/html": [
       "<span style=\"color:blue\"> |-tuner/initial_epoch: 3</span>"
      ],
      "text/plain": [
       "<IPython.core.display.HTML object>"
      ]
     },
     "metadata": {},
     "output_type": "display_data"
    },
    {
     "data": {
      "text/html": [
       "<span style=\"color:cyan\"> |-tuner/round: 1</span>"
      ],
      "text/plain": [
       "<IPython.core.display.HTML object>"
      ]
     },
     "metadata": {},
     "output_type": "display_data"
    },
    {
     "data": {
      "text/html": [
       "<span style=\"color:blue\"> |-tuner/trial_id: 6c62276dbd80d7d0dd4548b2030172b4</span>"
      ],
      "text/plain": [
       "<IPython.core.display.HTML object>"
      ]
     },
     "metadata": {},
     "output_type": "display_data"
    },
    {
     "data": {
      "text/html": [
       "<span style=\"color:cyan\"> |-units_0: 88</span>"
      ],
      "text/plain": [
       "<IPython.core.display.HTML object>"
      ]
     },
     "metadata": {},
     "output_type": "display_data"
    },
    {
     "data": {
      "text/html": [
       "<span style=\"color:blue\"> |-units_1: 128</span>"
      ],
      "text/plain": [
       "<IPython.core.display.HTML object>"
      ]
     },
     "metadata": {},
     "output_type": "display_data"
    },
    {
     "data": {
      "text/html": [
       "<span style=\"color:cyan\"> |-units_2: 112</span>"
      ],
      "text/plain": [
       "<IPython.core.display.HTML object>"
      ]
     },
     "metadata": {},
     "output_type": "display_data"
    },
    {
     "data": {
      "text/html": [
       "<span style=\"color:blue\"> |-units_3: 32</span>"
      ],
      "text/plain": [
       "<IPython.core.display.HTML object>"
      ]
     },
     "metadata": {},
     "output_type": "display_data"
    },
    {
     "data": {
      "text/html": [
       "<span style=\"color:cyan\"> |-units_4: 32</span>"
      ],
      "text/plain": [
       "<IPython.core.display.HTML object>"
      ]
     },
     "metadata": {},
     "output_type": "display_data"
    },
    {
     "data": {
      "text/html": [
       "<span style=\"color:blue\"> |-units_5: 192</span>"
      ],
      "text/plain": [
       "<IPython.core.display.HTML object>"
      ]
     },
     "metadata": {},
     "output_type": "display_data"
    },
    {
     "data": {
      "text/html": [
       "<span style=\"color:cyan\"> |-units_6: 184</span>"
      ],
      "text/plain": [
       "<IPython.core.display.HTML object>"
      ]
     },
     "metadata": {},
     "output_type": "display_data"
    },
    {
     "data": {
      "text/html": [
       "<span style=\"color:cyan\"> |-Score: 0.6836640238761902</span>"
      ],
      "text/plain": [
       "<IPython.core.display.HTML object>"
      ]
     },
     "metadata": {},
     "output_type": "display_data"
    },
    {
     "data": {
      "text/html": [
       "<span style=\"color:cyan\"> |-Best step: 0</span>"
      ],
      "text/plain": [
       "<IPython.core.display.HTML object>"
      ]
     },
     "metadata": {},
     "output_type": "display_data"
    },
    {
     "name": "stdout",
     "output_type": "stream",
     "text": [
      "Train on 10786 samples, validate on 2697 samples\n",
      "Epoch 4/7\n",
      "10786/10786 [==============================] - ETA: 2:49 - loss: 0.6508 - accuracy: 0.62 - ETA: 8s - loss: 0.7580 - accuracy: 0.5281 - ETA: 4s - loss: 0.7238 - accuracy: 0.54 - ETA: 3s - loss: 0.7129 - accuracy: 0.55 - ETA: 2s - loss: 0.7149 - accuracy: 0.55 - ETA: 1s - loss: 0.7063 - accuracy: 0.56 - ETA: 1s - loss: 0.6928 - accuracy: 0.57 - ETA: 1s - loss: 0.6893 - accuracy: 0.58 - ETA: 1s - loss: 0.6814 - accuracy: 0.59 - ETA: 0s - loss: 0.6765 - accuracy: 0.59 - ETA: 0s - loss: 0.6722 - accuracy: 0.60 - ETA: 0s - loss: 0.6697 - accuracy: 0.60 - ETA: 0s - loss: 0.6667 - accuracy: 0.60 - ETA: 0s - loss: 0.6620 - accuracy: 0.61 - ETA: 0s - loss: 0.6585 - accuracy: 0.61 - ETA: 0s - loss: 0.6535 - accuracy: 0.62 - ETA: 0s - loss: 0.6505 - accuracy: 0.62 - ETA: 0s - loss: 0.6495 - accuracy: 0.62 - ETA: 0s - loss: 0.6476 - accuracy: 0.63 - 2s 153us/sample - loss: 0.6470 - accuracy: 0.6310 - val_loss: 0.7699 - val_accuracy: 0.6033\n",
      "Epoch 5/7\n",
      "10786/10786 [==============================] - ETA: 1s - loss: 0.6984 - accuracy: 0.62 - ETA: 0s - loss: 0.6061 - accuracy: 0.69 - ETA: 0s - loss: 0.6032 - accuracy: 0.68 - ETA: 0s - loss: 0.6063 - accuracy: 0.67 - ETA: 0s - loss: 0.6089 - accuracy: 0.66 - ETA: 0s - loss: 0.6075 - accuracy: 0.66 - ETA: 0s - loss: 0.6085 - accuracy: 0.66 - ETA: 0s - loss: 0.6085 - accuracy: 0.66 - ETA: 0s - loss: 0.6090 - accuracy: 0.66 - ETA: 0s - loss: 0.6069 - accuracy: 0.67 - ETA: 0s - loss: 0.6075 - accuracy: 0.67 - ETA: 0s - loss: 0.6075 - accuracy: 0.66 - ETA: 0s - loss: 0.6086 - accuracy: 0.66 - ETA: 0s - loss: 0.6047 - accuracy: 0.67 - ETA: 0s - loss: 0.6061 - accuracy: 0.67 - ETA: 0s - loss: 0.6061 - accuracy: 0.67 - ETA: 0s - loss: 0.6052 - accuracy: 0.67 - ETA: 0s - loss: 0.6062 - accuracy: 0.67 - ETA: 0s - loss: 0.6066 - accuracy: 0.67 - 1s 100us/sample - loss: 0.6066 - accuracy: 0.6715 - val_loss: 0.6308 - val_accuracy: 0.6333\n",
      "Epoch 6/7\n",
      "10786/10786 [==============================] - ETA: 1s - loss: 0.7682 - accuracy: 0.53 - ETA: 0s - loss: 0.6280 - accuracy: 0.65 - ETA: 0s - loss: 0.6100 - accuracy: 0.67 - ETA: 0s - loss: 0.6024 - accuracy: 0.67 - ETA: 0s - loss: 0.6037 - accuracy: 0.67 - ETA: 0s - loss: 0.6051 - accuracy: 0.67 - ETA: 0s - loss: 0.6049 - accuracy: 0.67 - ETA: 0s - loss: 0.6068 - accuracy: 0.66 - ETA: 0s - loss: 0.6099 - accuracy: 0.66 - ETA: 0s - loss: 0.6062 - accuracy: 0.67 - ETA: 0s - loss: 0.6087 - accuracy: 0.67 - ETA: 0s - loss: 0.6090 - accuracy: 0.67 - ETA: 0s - loss: 0.6095 - accuracy: 0.67 - ETA: 0s - loss: 0.6080 - accuracy: 0.67 - ETA: 0s - loss: 0.6061 - accuracy: 0.67 - ETA: 0s - loss: 0.6053 - accuracy: 0.67 - ETA: 0s - loss: 0.6041 - accuracy: 0.67 - ETA: 0s - loss: 0.6037 - accuracy: 0.67 - 1s 97us/sample - loss: 0.6036 - accuracy: 0.6792 - val_loss: 0.7248 - val_accuracy: 0.6396\n",
      "Epoch 7/7\n",
      "10786/10786 [==============================] - ETA: 1s - loss: 0.8010 - accuracy: 0.65 - ETA: 0s - loss: 0.6270 - accuracy: 0.68 - ETA: 0s - loss: 0.6191 - accuracy: 0.68 - ETA: 0s - loss: 0.6135 - accuracy: 0.68 - ETA: 0s - loss: 0.6170 - accuracy: 0.67 - ETA: 0s - loss: 0.6084 - accuracy: 0.67 - ETA: 0s - loss: 0.6049 - accuracy: 0.67 - ETA: 0s - loss: 0.6029 - accuracy: 0.67 - ETA: 0s - loss: 0.6028 - accuracy: 0.67 - ETA: 0s - loss: 0.6009 - accuracy: 0.67 - ETA: 0s - loss: 0.6025 - accuracy: 0.67 - ETA: 0s - loss: 0.6001 - accuracy: 0.67 - ETA: 0s - loss: 0.5995 - accuracy: 0.67 - ETA: 0s - loss: 0.5988 - accuracy: 0.67 - ETA: 0s - loss: 0.5972 - accuracy: 0.68 - ETA: 0s - loss: 0.5978 - accuracy: 0.68 - ETA: 0s - loss: 0.5961 - accuracy: 0.68 - ETA: 0s - loss: 0.5968 - accuracy: 0.68 - 1s 97us/sample - loss: 0.5976 - accuracy: 0.6813 - val_loss: 0.6408 - val_accuracy: 0.6118\n"
     ]
    },
    {
     "data": {
      "text/html": [
       "<span style=\"color:#4527A0\"><h1 style=\"font-size:18px\">Trial complete</h1></span>"
      ],
      "text/plain": [
       "<IPython.core.display.HTML object>"
      ]
     },
     "metadata": {},
     "output_type": "display_data"
    },
    {
     "data": {
      "text/html": [
       "<span style=\"color:#4527A0\"><h1 style=\"font-size:18px\">Trial summary</h1></span>"
      ],
      "text/plain": [
       "<IPython.core.display.HTML object>"
      ]
     },
     "metadata": {},
     "output_type": "display_data"
    },
    {
     "data": {
      "text/html": [
       "<span style=\"color:#7E57C2\"><h2 style=\"font-size:16px\">Hp values:</h2></span>"
      ],
      "text/plain": [
       "<IPython.core.display.HTML object>"
      ]
     },
     "metadata": {},
     "output_type": "display_data"
    },
    {
     "data": {
      "text/html": [
       "<span style=\"color:cyan\"> |-drop_rate_0: 0.01</span>"
      ],
      "text/plain": [
       "<IPython.core.display.HTML object>"
      ]
     },
     "metadata": {},
     "output_type": "display_data"
    },
    {
     "data": {
      "text/html": [
       "<span style=\"color:blue\"> |-drop_rate_3: 0.01</span>"
      ],
      "text/plain": [
       "<IPython.core.display.HTML object>"
      ]
     },
     "metadata": {},
     "output_type": "display_data"
    },
    {
     "data": {
      "text/html": [
       "<span style=\"color:cyan\"> |-drop_rate_6: 0.1</span>"
      ],
      "text/plain": [
       "<IPython.core.display.HTML object>"
      ]
     },
     "metadata": {},
     "output_type": "display_data"
    },
    {
     "data": {
      "text/html": [
       "<span style=\"color:blue\"> |-learning_rate: 0.001</span>"
      ],
      "text/plain": [
       "<IPython.core.display.HTML object>"
      ]
     },
     "metadata": {},
     "output_type": "display_data"
    },
    {
     "data": {
      "text/html": [
       "<span style=\"color:cyan\"> |-momentum: 0.2</span>"
      ],
      "text/plain": [
       "<IPython.core.display.HTML object>"
      ]
     },
     "metadata": {},
     "output_type": "display_data"
    },
    {
     "data": {
      "text/html": [
       "<span style=\"color:blue\"> |-num_layers: 4</span>"
      ],
      "text/plain": [
       "<IPython.core.display.HTML object>"
      ]
     },
     "metadata": {},
     "output_type": "display_data"
    },
    {
     "data": {
      "text/html": [
       "<span style=\"color:cyan\"> |-tuner/bracket: 2</span>"
      ],
      "text/plain": [
       "<IPython.core.display.HTML object>"
      ]
     },
     "metadata": {},
     "output_type": "display_data"
    },
    {
     "data": {
      "text/html": [
       "<span style=\"color:blue\"> |-tuner/epochs: 7</span>"
      ],
      "text/plain": [
       "<IPython.core.display.HTML object>"
      ]
     },
     "metadata": {},
     "output_type": "display_data"
    },
    {
     "data": {
      "text/html": [
       "<span style=\"color:cyan\"> |-tuner/initial_epoch: 3</span>"
      ],
      "text/plain": [
       "<IPython.core.display.HTML object>"
      ]
     },
     "metadata": {},
     "output_type": "display_data"
    },
    {
     "data": {
      "text/html": [
       "<span style=\"color:blue\"> |-tuner/round: 1</span>"
      ],
      "text/plain": [
       "<IPython.core.display.HTML object>"
      ]
     },
     "metadata": {},
     "output_type": "display_data"
    },
    {
     "data": {
      "text/html": [
       "<span style=\"color:cyan\"> |-tuner/trial_id: 211bcdb5c0445692ef6623a9addb68d2</span>"
      ],
      "text/plain": [
       "<IPython.core.display.HTML object>"
      ]
     },
     "metadata": {},
     "output_type": "display_data"
    },
    {
     "data": {
      "text/html": [
       "<span style=\"color:blue\"> |-units_0: 144</span>"
      ],
      "text/plain": [
       "<IPython.core.display.HTML object>"
      ]
     },
     "metadata": {},
     "output_type": "display_data"
    },
    {
     "data": {
      "text/html": [
       "<span style=\"color:cyan\"> |-units_1: 248</span>"
      ],
      "text/plain": [
       "<IPython.core.display.HTML object>"
      ]
     },
     "metadata": {},
     "output_type": "display_data"
    },
    {
     "data": {
      "text/html": [
       "<span style=\"color:blue\"> |-units_2: 168</span>"
      ],
      "text/plain": [
       "<IPython.core.display.HTML object>"
      ]
     },
     "metadata": {},
     "output_type": "display_data"
    },
    {
     "data": {
      "text/html": [
       "<span style=\"color:cyan\"> |-units_3: 232</span>"
      ],
      "text/plain": [
       "<IPython.core.display.HTML object>"
      ]
     },
     "metadata": {},
     "output_type": "display_data"
    },
    {
     "data": {
      "text/html": [
       "<span style=\"color:blue\"> |-units_4: 40</span>"
      ],
      "text/plain": [
       "<IPython.core.display.HTML object>"
      ]
     },
     "metadata": {},
     "output_type": "display_data"
    },
    {
     "data": {
      "text/html": [
       "<span style=\"color:cyan\"> |-units_5: 248</span>"
      ],
      "text/plain": [
       "<IPython.core.display.HTML object>"
      ]
     },
     "metadata": {},
     "output_type": "display_data"
    },
    {
     "data": {
      "text/html": [
       "<span style=\"color:blue\"> |-units_6: 24</span>"
      ],
      "text/plain": [
       "<IPython.core.display.HTML object>"
      ]
     },
     "metadata": {},
     "output_type": "display_data"
    },
    {
     "data": {
      "text/html": [
       "<span style=\"color:cyan\"> |-Score: 0.6812534928321838</span>"
      ],
      "text/plain": [
       "<IPython.core.display.HTML object>"
      ]
     },
     "metadata": {},
     "output_type": "display_data"
    },
    {
     "data": {
      "text/html": [
       "<span style=\"color:cyan\"> |-Best step: 0</span>"
      ],
      "text/plain": [
       "<IPython.core.display.HTML object>"
      ]
     },
     "metadata": {},
     "output_type": "display_data"
    },
    {
     "name": "stdout",
     "output_type": "stream",
     "text": [
      "Train on 10786 samples, validate on 2697 samples\n",
      "Epoch 4/7\n",
      "10786/10786 [==============================] - ETA: 3:06 - loss: 0.6890 - accuracy: 0.56 - ETA: 6s - loss: 0.6939 - accuracy: 0.5201 - ETA: 3s - loss: 0.6899 - accuracy: 0.54 - ETA: 2s - loss: 0.6843 - accuracy: 0.55 - ETA: 1s - loss: 0.6804 - accuracy: 0.56 - ETA: 1s - loss: 0.6723 - accuracy: 0.58 - ETA: 0s - loss: 0.6634 - accuracy: 0.59 - ETA: 0s - loss: 0.6551 - accuracy: 0.61 - ETA: 0s - loss: 0.6493 - accuracy: 0.62 - ETA: 0s - loss: 0.6456 - accuracy: 0.62 - ETA: 0s - loss: 0.6418 - accuracy: 0.63 - ETA: 0s - loss: 0.6385 - accuracy: 0.63 - 1s 132us/sample - loss: 0.6362 - accuracy: 0.6372 - val_loss: 0.5858 - val_accuracy: 0.6834\n",
      "Epoch 5/7\n",
      "10786/10786 [==============================] - ETA: 1s - loss: 0.4864 - accuracy: 0.78 - ETA: 0s - loss: 0.5931 - accuracy: 0.67 - ETA: 0s - loss: 0.6019 - accuracy: 0.66 - ETA: 0s - loss: 0.6030 - accuracy: 0.66 - ETA: 0s - loss: 0.6029 - accuracy: 0.66 - ETA: 0s - loss: 0.6066 - accuracy: 0.66 - ETA: 0s - loss: 0.6029 - accuracy: 0.67 - ETA: 0s - loss: 0.6030 - accuracy: 0.67 - ETA: 0s - loss: 0.6031 - accuracy: 0.67 - ETA: 0s - loss: 0.6019 - accuracy: 0.67 - ETA: 0s - loss: 0.6024 - accuracy: 0.67 - ETA: 0s - loss: 0.6023 - accuracy: 0.67 - 1s 65us/sample - loss: 0.6023 - accuracy: 0.6728 - val_loss: 0.6070 - val_accuracy: 0.6533\n",
      "Epoch 6/7\n",
      "10786/10786 [==============================] - ETA: 1s - loss: 0.6836 - accuracy: 0.59 - ETA: 0s - loss: 0.5946 - accuracy: 0.67 - ETA: 0s - loss: 0.5923 - accuracy: 0.67 - ETA: 0s - loss: 0.5954 - accuracy: 0.67 - ETA: 0s - loss: 0.5948 - accuracy: 0.67 - ETA: 0s - loss: 0.5968 - accuracy: 0.67 - ETA: 0s - loss: 0.5967 - accuracy: 0.67 - ETA: 0s - loss: 0.5976 - accuracy: 0.67 - ETA: 0s - loss: 0.5972 - accuracy: 0.67 - ETA: 0s - loss: 0.5997 - accuracy: 0.67 - ETA: 0s - loss: 0.5991 - accuracy: 0.67 - ETA: 0s - loss: 0.5988 - accuracy: 0.67 - 1s 65us/sample - loss: 0.5989 - accuracy: 0.6755 - val_loss: 0.7469 - val_accuracy: 0.6047\n",
      "Epoch 7/7\n",
      "10786/10786 [==============================] - ETA: 1s - loss: 0.5253 - accuracy: 0.71 - ETA: 0s - loss: 0.6013 - accuracy: 0.67 - ETA: 0s - loss: 0.5873 - accuracy: 0.69 - ETA: 0s - loss: 0.5911 - accuracy: 0.68 - ETA: 0s - loss: 0.5992 - accuracy: 0.67 - ETA: 0s - loss: 0.5975 - accuracy: 0.67 - ETA: 0s - loss: 0.5942 - accuracy: 0.68 - ETA: 0s - loss: 0.5940 - accuracy: 0.68 - ETA: 0s - loss: 0.5957 - accuracy: 0.68 - ETA: 0s - loss: 0.5969 - accuracy: 0.67 - ETA: 0s - loss: 0.5965 - accuracy: 0.68 - ETA: 0s - loss: 0.5964 - accuracy: 0.67 - 1s 65us/sample - loss: 0.5969 - accuracy: 0.6800 - val_loss: 0.7500 - val_accuracy: 0.5425\n"
     ]
    },
    {
     "data": {
      "text/html": [
       "<span style=\"color:#4527A0\"><h1 style=\"font-size:18px\">Trial complete</h1></span>"
      ],
      "text/plain": [
       "<IPython.core.display.HTML object>"
      ]
     },
     "metadata": {},
     "output_type": "display_data"
    },
    {
     "data": {
      "text/html": [
       "<span style=\"color:#4527A0\"><h1 style=\"font-size:18px\">Trial summary</h1></span>"
      ],
      "text/plain": [
       "<IPython.core.display.HTML object>"
      ]
     },
     "metadata": {},
     "output_type": "display_data"
    },
    {
     "data": {
      "text/html": [
       "<span style=\"color:#7E57C2\"><h2 style=\"font-size:16px\">Hp values:</h2></span>"
      ],
      "text/plain": [
       "<IPython.core.display.HTML object>"
      ]
     },
     "metadata": {},
     "output_type": "display_data"
    },
    {
     "data": {
      "text/html": [
       "<span style=\"color:cyan\"> |-drop_rate_0: 0.3</span>"
      ],
      "text/plain": [
       "<IPython.core.display.HTML object>"
      ]
     },
     "metadata": {},
     "output_type": "display_data"
    },
    {
     "data": {
      "text/html": [
       "<span style=\"color:blue\"> |-drop_rate_6: 0.01</span>"
      ],
      "text/plain": [
       "<IPython.core.display.HTML object>"
      ]
     },
     "metadata": {},
     "output_type": "display_data"
    },
    {
     "data": {
      "text/html": [
       "<span style=\"color:cyan\"> |-learning_rate: 0.001</span>"
      ],
      "text/plain": [
       "<IPython.core.display.HTML object>"
      ]
     },
     "metadata": {},
     "output_type": "display_data"
    },
    {
     "data": {
      "text/html": [
       "<span style=\"color:blue\"> |-momentum: 0.0</span>"
      ],
      "text/plain": [
       "<IPython.core.display.HTML object>"
      ]
     },
     "metadata": {},
     "output_type": "display_data"
    },
    {
     "data": {
      "text/html": [
       "<span style=\"color:cyan\"> |-num_layers: 7</span>"
      ],
      "text/plain": [
       "<IPython.core.display.HTML object>"
      ]
     },
     "metadata": {},
     "output_type": "display_data"
    },
    {
     "data": {
      "text/html": [
       "<span style=\"color:blue\"> |-tuner/bracket: 2</span>"
      ],
      "text/plain": [
       "<IPython.core.display.HTML object>"
      ]
     },
     "metadata": {},
     "output_type": "display_data"
    },
    {
     "data": {
      "text/html": [
       "<span style=\"color:cyan\"> |-tuner/epochs: 7</span>"
      ],
      "text/plain": [
       "<IPython.core.display.HTML object>"
      ]
     },
     "metadata": {},
     "output_type": "display_data"
    },
    {
     "data": {
      "text/html": [
       "<span style=\"color:blue\"> |-tuner/initial_epoch: 3</span>"
      ],
      "text/plain": [
       "<IPython.core.display.HTML object>"
      ]
     },
     "metadata": {},
     "output_type": "display_data"
    },
    {
     "data": {
      "text/html": [
       "<span style=\"color:cyan\"> |-tuner/round: 1</span>"
      ],
      "text/plain": [
       "<IPython.core.display.HTML object>"
      ]
     },
     "metadata": {},
     "output_type": "display_data"
    },
    {
     "data": {
      "text/html": [
       "<span style=\"color:blue\"> |-tuner/trial_id: 8e3fce6660c23be7011cbb3342f62a83</span>"
      ],
      "text/plain": [
       "<IPython.core.display.HTML object>"
      ]
     },
     "metadata": {},
     "output_type": "display_data"
    },
    {
     "data": {
      "text/html": [
       "<span style=\"color:cyan\"> |-units_0: 24</span>"
      ],
      "text/plain": [
       "<IPython.core.display.HTML object>"
      ]
     },
     "metadata": {},
     "output_type": "display_data"
    },
    {
     "data": {
      "text/html": [
       "<span style=\"color:blue\"> |-units_1: 16</span>"
      ],
      "text/plain": [
       "<IPython.core.display.HTML object>"
      ]
     },
     "metadata": {},
     "output_type": "display_data"
    },
    {
     "data": {
      "text/html": [
       "<span style=\"color:cyan\"> |-units_2: 16</span>"
      ],
      "text/plain": [
       "<IPython.core.display.HTML object>"
      ]
     },
     "metadata": {},
     "output_type": "display_data"
    },
    {
     "data": {
      "text/html": [
       "<span style=\"color:blue\"> |-units_3: 16</span>"
      ],
      "text/plain": [
       "<IPython.core.display.HTML object>"
      ]
     },
     "metadata": {},
     "output_type": "display_data"
    },
    {
     "data": {
      "text/html": [
       "<span style=\"color:cyan\"> |-units_4: 16</span>"
      ],
      "text/plain": [
       "<IPython.core.display.HTML object>"
      ]
     },
     "metadata": {},
     "output_type": "display_data"
    },
    {
     "data": {
      "text/html": [
       "<span style=\"color:blue\"> |-units_5: 16</span>"
      ],
      "text/plain": [
       "<IPython.core.display.HTML object>"
      ]
     },
     "metadata": {},
     "output_type": "display_data"
    },
    {
     "data": {
      "text/html": [
       "<span style=\"color:cyan\"> |-units_6: 16</span>"
      ],
      "text/plain": [
       "<IPython.core.display.HTML object>"
      ]
     },
     "metadata": {},
     "output_type": "display_data"
    },
    {
     "data": {
      "text/html": [
       "<span style=\"color:cyan\"> |-Score: 0.6800482273101807</span>"
      ],
      "text/plain": [
       "<IPython.core.display.HTML object>"
      ]
     },
     "metadata": {},
     "output_type": "display_data"
    },
    {
     "data": {
      "text/html": [
       "<span style=\"color:cyan\"> |-Best step: 0</span>"
      ],
      "text/plain": [
       "<IPython.core.display.HTML object>"
      ]
     },
     "metadata": {},
     "output_type": "display_data"
    },
    {
     "name": "stdout",
     "output_type": "stream",
     "text": [
      "Train on 10786 samples, validate on 2697 samples\n",
      "Epoch 8/20\n",
      "10786/10786 [==============================] - ETA: 2:19 - loss: 0.7592 - accuracy: 0.31 - ETA: 5s - loss: 0.6659 - accuracy: 0.5938 - ETA: 2s - loss: 0.6595 - accuracy: 0.60 - ETA: 1s - loss: 0.6503 - accuracy: 0.62 - ETA: 1s - loss: 0.6395 - accuracy: 0.63 - ETA: 1s - loss: 0.6316 - accuracy: 0.64 - ETA: 0s - loss: 0.6289 - accuracy: 0.64 - ETA: 0s - loss: 0.6278 - accuracy: 0.64 - ETA: 0s - loss: 0.6233 - accuracy: 0.65 - ETA: 0s - loss: 0.6219 - accuracy: 0.65 - ETA: 0s - loss: 0.6176 - accuracy: 0.65 - ETA: 0s - loss: 0.6161 - accuracy: 0.65 - ETA: 0s - loss: 0.6170 - accuracy: 0.65 - ETA: 0s - loss: 0.6148 - accuracy: 0.65 - 1s 118us/sample - loss: 0.6148 - accuracy: 0.6583 - val_loss: 0.5779 - val_accuracy: 0.6930\n",
      "Epoch 9/20\n",
      "10786/10786 [==============================] - ETA: 1s - loss: 0.4739 - accuracy: 0.84 - ETA: 0s - loss: 0.6166 - accuracy: 0.67 - ETA: 0s - loss: 0.5992 - accuracy: 0.68 - ETA: 0s - loss: 0.5970 - accuracy: 0.68 - ETA: 0s - loss: 0.5949 - accuracy: 0.68 - ETA: 0s - loss: 0.5958 - accuracy: 0.67 - ETA: 0s - loss: 0.5938 - accuracy: 0.68 - ETA: 0s - loss: 0.5963 - accuracy: 0.67 - ETA: 0s - loss: 0.5937 - accuracy: 0.67 - ETA: 0s - loss: 0.5953 - accuracy: 0.67 - ETA: 0s - loss: 0.5974 - accuracy: 0.67 - ETA: 0s - loss: 0.5969 - accuracy: 0.67 - ETA: 0s - loss: 0.5973 - accuracy: 0.67 - 1s 71us/sample - loss: 0.5972 - accuracy: 0.6765 - val_loss: 0.5869 - val_accuracy: 0.6885\n",
      "Epoch 10/20\n",
      "10786/10786 [==============================] - ETA: 1s - loss: 0.5445 - accuracy: 0.75 - ETA: 0s - loss: 0.5997 - accuracy: 0.67 - ETA: 0s - loss: 0.5961 - accuracy: 0.67 - ETA: 0s - loss: 0.5950 - accuracy: 0.68 - ETA: 0s - loss: 0.5977 - accuracy: 0.68 - ETA: 0s - loss: 0.6013 - accuracy: 0.67 - ETA: 0s - loss: 0.6010 - accuracy: 0.67 - ETA: 0s - loss: 0.5991 - accuracy: 0.67 - ETA: 0s - loss: 0.5972 - accuracy: 0.67 - ETA: 0s - loss: 0.5951 - accuracy: 0.68 - ETA: 0s - loss: 0.5947 - accuracy: 0.68 - ETA: 0s - loss: 0.5958 - accuracy: 0.67 - ETA: 0s - loss: 0.5957 - accuracy: 0.68 - 1s 70us/sample - loss: 0.5956 - accuracy: 0.6808 - val_loss: 0.5920 - val_accuracy: 0.6893\n",
      "Epoch 11/20\n",
      "10786/10786 [==============================] - ETA: 1s - loss: 0.6026 - accuracy: 0.65 - ETA: 0s - loss: 0.6139 - accuracy: 0.65 - ETA: 0s - loss: 0.6082 - accuracy: 0.65 - ETA: 0s - loss: 0.6029 - accuracy: 0.67 - ETA: 0s - loss: 0.5964 - accuracy: 0.67 - ETA: 0s - loss: 0.6024 - accuracy: 0.67 - ETA: 0s - loss: 0.6007 - accuracy: 0.67 - ETA: 0s - loss: 0.5990 - accuracy: 0.67 - ETA: 0s - loss: 0.5962 - accuracy: 0.67 - ETA: 0s - loss: 0.5916 - accuracy: 0.67 - ETA: 0s - loss: 0.5911 - accuracy: 0.67 - ETA: 0s - loss: 0.5925 - accuracy: 0.67 - ETA: 0s - loss: 0.5932 - accuracy: 0.67 - ETA: 0s - loss: 0.5942 - accuracy: 0.67 - 1s 72us/sample - loss: 0.5944 - accuracy: 0.6773 - val_loss: 0.5843 - val_accuracy: 0.6919\n",
      "Epoch 12/20\n",
      "10786/10786 [==============================] - ETA: 1s - loss: 0.5877 - accuracy: 0.62 - ETA: 0s - loss: 0.5925 - accuracy: 0.66 - ETA: 0s - loss: 0.5945 - accuracy: 0.67 - ETA: 0s - loss: 0.5921 - accuracy: 0.67 - ETA: 0s - loss: 0.5993 - accuracy: 0.67 - ETA: 0s - loss: 0.5950 - accuracy: 0.67 - ETA: 0s - loss: 0.5963 - accuracy: 0.67 - ETA: 0s - loss: 0.5948 - accuracy: 0.67 - ETA: 0s - loss: 0.5917 - accuracy: 0.67 - ETA: 0s - loss: 0.5918 - accuracy: 0.67 - ETA: 0s - loss: 0.5934 - accuracy: 0.67 - ETA: 0s - loss: 0.5955 - accuracy: 0.67 - ETA: 0s - loss: 0.5942 - accuracy: 0.68 - ETA: 0s - loss: 0.5926 - accuracy: 0.68 - 1s 74us/sample - loss: 0.5925 - accuracy: 0.6817 - val_loss: 0.6321 - val_accuracy: 0.6422\n",
      "Epoch 13/20\n",
      "10786/10786 [==============================] - ETA: 1s - loss: 0.4548 - accuracy: 0.78 - ETA: 0s - loss: 0.5944 - accuracy: 0.69 - ETA: 0s - loss: 0.5967 - accuracy: 0.68 - ETA: 0s - loss: 0.5901 - accuracy: 0.69 - ETA: 0s - loss: 0.5913 - accuracy: 0.69 - ETA: 0s - loss: 0.5911 - accuracy: 0.69 - ETA: 0s - loss: 0.5960 - accuracy: 0.68 - ETA: 0s - loss: 0.5948 - accuracy: 0.68 - ETA: 0s - loss: 0.5951 - accuracy: 0.68 - ETA: 0s - loss: 0.5936 - accuracy: 0.68 - ETA: 0s - loss: 0.5948 - accuracy: 0.68 - ETA: 0s - loss: 0.5948 - accuracy: 0.68 - ETA: 0s - loss: 0.5950 - accuracy: 0.68 - ETA: 0s - loss: 0.5931 - accuracy: 0.68 - 1s 73us/sample - loss: 0.5926 - accuracy: 0.6821 - val_loss: 0.5739 - val_accuracy: 0.6967\n",
      "Epoch 14/20\n",
      "10786/10786 [==============================] - ETA: 1s - loss: 0.5535 - accuracy: 0.78 - ETA: 0s - loss: 0.5725 - accuracy: 0.70 - ETA: 0s - loss: 0.5892 - accuracy: 0.68 - ETA: 0s - loss: 0.5848 - accuracy: 0.68 - ETA: 0s - loss: 0.5840 - accuracy: 0.68 - ETA: 0s - loss: 0.5877 - accuracy: 0.68 - ETA: 0s - loss: 0.5856 - accuracy: 0.68 - ETA: 0s - loss: 0.5857 - accuracy: 0.68 - ETA: 0s - loss: 0.5864 - accuracy: 0.68 - ETA: 0s - loss: 0.5883 - accuracy: 0.68 - ETA: 0s - loss: 0.5892 - accuracy: 0.68 - ETA: 0s - loss: 0.5896 - accuracy: 0.68 - ETA: 0s - loss: 0.5897 - accuracy: 0.68 - ETA: 0s - loss: 0.5905 - accuracy: 0.68 - 1s 73us/sample - loss: 0.5904 - accuracy: 0.6824 - val_loss: 0.5770 - val_accuracy: 0.6923\n",
      "Epoch 15/20\n",
      "10786/10786 [==============================] - ETA: 1s - loss: 0.5235 - accuracy: 0.71 - ETA: 0s - loss: 0.5642 - accuracy: 0.70 - ETA: 0s - loss: 0.5944 - accuracy: 0.68 - ETA: 0s - loss: 0.5983 - accuracy: 0.68 - ETA: 0s - loss: 0.5943 - accuracy: 0.68 - ETA: 0s - loss: 0.5906 - accuracy: 0.68 - ETA: 0s - loss: 0.5907 - accuracy: 0.68 - ETA: 0s - loss: 0.5869 - accuracy: 0.69 - ETA: 0s - loss: 0.5898 - accuracy: 0.68 - ETA: 0s - loss: 0.5900 - accuracy: 0.68 - ETA: 0s - loss: 0.5897 - accuracy: 0.68 - ETA: 0s - loss: 0.5911 - accuracy: 0.68 - ETA: 0s - loss: 0.5920 - accuracy: 0.68 - ETA: 0s - loss: 0.5898 - accuracy: 0.68 - 1s 72us/sample - loss: 0.5907 - accuracy: 0.6813 - val_loss: 0.5863 - val_accuracy: 0.6808\n",
      "Epoch 16/20\n",
      "10786/10786 [==============================] - ETA: 1s - loss: 0.6524 - accuracy: 0.62 - ETA: 0s - loss: 0.5700 - accuracy: 0.69 - ETA: 0s - loss: 0.5875 - accuracy: 0.68 - ETA: 0s - loss: 0.5878 - accuracy: 0.68 - ETA: 0s - loss: 0.5873 - accuracy: 0.68 - ETA: 0s - loss: 0.5838 - accuracy: 0.68 - ETA: 0s - loss: 0.5875 - accuracy: 0.68 - ETA: 0s - loss: 0.5881 - accuracy: 0.68 - ETA: 0s - loss: 0.5892 - accuracy: 0.68 - ETA: 0s - loss: 0.5891 - accuracy: 0.68 - ETA: 0s - loss: 0.5856 - accuracy: 0.68 - ETA: 0s - loss: 0.5851 - accuracy: 0.68 - ETA: 0s - loss: 0.5861 - accuracy: 0.68 - ETA: 0s - loss: 0.5890 - accuracy: 0.68 - 1s 75us/sample - loss: 0.5891 - accuracy: 0.6848 - val_loss: 0.5873 - val_accuracy: 0.6782\n",
      "Epoch 17/20\n",
      "10786/10786 [==============================] - ETA: 1s - loss: 0.6586 - accuracy: 0.59 - ETA: 0s - loss: 0.5952 - accuracy: 0.66 - ETA: 0s - loss: 0.6107 - accuracy: 0.66 - ETA: 0s - loss: 0.6081 - accuracy: 0.66 - ETA: 0s - loss: 0.5939 - accuracy: 0.67 - ETA: 0s - loss: 0.5914 - accuracy: 0.68 - ETA: 0s - loss: 0.5867 - accuracy: 0.68 - ETA: 0s - loss: 0.5866 - accuracy: 0.69 - ETA: 0s - loss: 0.5864 - accuracy: 0.69 - ETA: 0s - loss: 0.5909 - accuracy: 0.68 - ETA: 0s - loss: 0.5904 - accuracy: 0.68 - ETA: 0s - loss: 0.5884 - accuracy: 0.68 - ETA: 0s - loss: 0.5877 - accuracy: 0.68 - ETA: 0s - loss: 0.5896 - accuracy: 0.68 - 1s 73us/sample - loss: 0.5898 - accuracy: 0.6877 - val_loss: 0.5795 - val_accuracy: 0.6967\n",
      "Epoch 18/20\n",
      "10786/10786 [==============================] - ETA: 1s - loss: 0.6967 - accuracy: 0.59 - ETA: 0s - loss: 0.5977 - accuracy: 0.65 - ETA: 0s - loss: 0.6007 - accuracy: 0.66 - ETA: 0s - loss: 0.5969 - accuracy: 0.67 - ETA: 0s - loss: 0.5925 - accuracy: 0.67 - ETA: 0s - loss: 0.5951 - accuracy: 0.67 - ETA: 0s - loss: 0.5945 - accuracy: 0.67 - ETA: 0s - loss: 0.5931 - accuracy: 0.67 - ETA: 0s - loss: 0.5967 - accuracy: 0.67 - ETA: 0s - loss: 0.5944 - accuracy: 0.67 - ETA: 0s - loss: 0.5936 - accuracy: 0.68 - ETA: 0s - loss: 0.5909 - accuracy: 0.68 - ETA: 0s - loss: 0.5895 - accuracy: 0.68 - ETA: 0s - loss: 0.5902 - accuracy: 0.68 - 1s 72us/sample - loss: 0.5898 - accuracy: 0.6850 - val_loss: 0.5717 - val_accuracy: 0.6974\n",
      "Epoch 19/20\n",
      "10786/10786 [==============================] - ETA: 0s - loss: 0.4974 - accuracy: 0.81 - ETA: 0s - loss: 0.5809 - accuracy: 0.69 - ETA: 0s - loss: 0.5825 - accuracy: 0.69 - ETA: 0s - loss: 0.5872 - accuracy: 0.68 - ETA: 0s - loss: 0.5903 - accuracy: 0.68 - ETA: 0s - loss: 0.5899 - accuracy: 0.68 - ETA: 0s - loss: 0.5906 - accuracy: 0.68 - ETA: 0s - loss: 0.5907 - accuracy: 0.68 - ETA: 0s - loss: 0.5899 - accuracy: 0.68 - ETA: 0s - loss: 0.5925 - accuracy: 0.68 - ETA: 0s - loss: 0.5928 - accuracy: 0.68 - ETA: 0s - loss: 0.5919 - accuracy: 0.68 - ETA: 0s - loss: 0.5908 - accuracy: 0.68 - ETA: 0s - loss: 0.5907 - accuracy: 0.68 - 1s 73us/sample - loss: 0.5899 - accuracy: 0.6848 - val_loss: 0.5753 - val_accuracy: 0.6937\n",
      "Epoch 20/20\n",
      "10786/10786 [==============================] - ETA: 1s - loss: 0.5689 - accuracy: 0.68 - ETA: 0s - loss: 0.5630 - accuracy: 0.71 - ETA: 0s - loss: 0.5840 - accuracy: 0.69 - ETA: 0s - loss: 0.5920 - accuracy: 0.68 - ETA: 0s - loss: 0.5927 - accuracy: 0.68 - ETA: 0s - loss: 0.5889 - accuracy: 0.69 - ETA: 0s - loss: 0.5886 - accuracy: 0.68 - ETA: 0s - loss: 0.5853 - accuracy: 0.69 - ETA: 0s - loss: 0.5853 - accuracy: 0.69 - ETA: 0s - loss: 0.5892 - accuracy: 0.68 - ETA: 0s - loss: 0.5903 - accuracy: 0.68 - ETA: 0s - loss: 0.5903 - accuracy: 0.68 - ETA: 0s - loss: 0.5892 - accuracy: 0.68 - ETA: 0s - loss: 0.5885 - accuracy: 0.68 - 1s 73us/sample - loss: 0.5888 - accuracy: 0.6878 - val_loss: 0.5833 - val_accuracy: 0.6856\n"
     ]
    },
    {
     "data": {
      "text/html": [
       "<span style=\"color:#4527A0\"><h1 style=\"font-size:18px\">Trial complete</h1></span>"
      ],
      "text/plain": [
       "<IPython.core.display.HTML object>"
      ]
     },
     "metadata": {},
     "output_type": "display_data"
    },
    {
     "data": {
      "text/html": [
       "<span style=\"color:#4527A0\"><h1 style=\"font-size:18px\">Trial summary</h1></span>"
      ],
      "text/plain": [
       "<IPython.core.display.HTML object>"
      ]
     },
     "metadata": {},
     "output_type": "display_data"
    },
    {
     "data": {
      "text/html": [
       "<span style=\"color:#7E57C2\"><h2 style=\"font-size:16px\">Hp values:</h2></span>"
      ],
      "text/plain": [
       "<IPython.core.display.HTML object>"
      ]
     },
     "metadata": {},
     "output_type": "display_data"
    },
    {
     "data": {
      "text/html": [
       "<span style=\"color:cyan\"> |-drop_rate_0: 0.3</span>"
      ],
      "text/plain": [
       "<IPython.core.display.HTML object>"
      ]
     },
     "metadata": {},
     "output_type": "display_data"
    },
    {
     "data": {
      "text/html": [
       "<span style=\"color:blue\"> |-drop_rate_2: 0.01</span>"
      ],
      "text/plain": [
       "<IPython.core.display.HTML object>"
      ]
     },
     "metadata": {},
     "output_type": "display_data"
    },
    {
     "data": {
      "text/html": [
       "<span style=\"color:cyan\"> |-drop_rate_3: 0.2</span>"
      ],
      "text/plain": [
       "<IPython.core.display.HTML object>"
      ]
     },
     "metadata": {},
     "output_type": "display_data"
    },
    {
     "data": {
      "text/html": [
       "<span style=\"color:blue\"> |-drop_rate_6: 0.01</span>"
      ],
      "text/plain": [
       "<IPython.core.display.HTML object>"
      ]
     },
     "metadata": {},
     "output_type": "display_data"
    },
    {
     "data": {
      "text/html": [
       "<span style=\"color:cyan\"> |-learning_rate: 0.0001</span>"
      ],
      "text/plain": [
       "<IPython.core.display.HTML object>"
      ]
     },
     "metadata": {},
     "output_type": "display_data"
    },
    {
     "data": {
      "text/html": [
       "<span style=\"color:blue\"> |-momentum: 0.6</span>"
      ],
      "text/plain": [
       "<IPython.core.display.HTML object>"
      ]
     },
     "metadata": {},
     "output_type": "display_data"
    },
    {
     "data": {
      "text/html": [
       "<span style=\"color:cyan\"> |-num_layers: 3</span>"
      ],
      "text/plain": [
       "<IPython.core.display.HTML object>"
      ]
     },
     "metadata": {},
     "output_type": "display_data"
    },
    {
     "data": {
      "text/html": [
       "<span style=\"color:blue\"> |-tuner/bracket: 2</span>"
      ],
      "text/plain": [
       "<IPython.core.display.HTML object>"
      ]
     },
     "metadata": {},
     "output_type": "display_data"
    },
    {
     "data": {
      "text/html": [
       "<span style=\"color:cyan\"> |-tuner/epochs: 20</span>"
      ],
      "text/plain": [
       "<IPython.core.display.HTML object>"
      ]
     },
     "metadata": {},
     "output_type": "display_data"
    },
    {
     "data": {
      "text/html": [
       "<span style=\"color:blue\"> |-tuner/initial_epoch: 7</span>"
      ],
      "text/plain": [
       "<IPython.core.display.HTML object>"
      ]
     },
     "metadata": {},
     "output_type": "display_data"
    },
    {
     "data": {
      "text/html": [
       "<span style=\"color:cyan\"> |-tuner/round: 2</span>"
      ],
      "text/plain": [
       "<IPython.core.display.HTML object>"
      ]
     },
     "metadata": {},
     "output_type": "display_data"
    },
    {
     "data": {
      "text/html": [
       "<span style=\"color:blue\"> |-tuner/trial_id: 6e991e8eb4a1248f19df9bb1ddebb320</span>"
      ],
      "text/plain": [
       "<IPython.core.display.HTML object>"
      ]
     },
     "metadata": {},
     "output_type": "display_data"
    },
    {
     "data": {
      "text/html": [
       "<span style=\"color:cyan\"> |-units_0: 88</span>"
      ],
      "text/plain": [
       "<IPython.core.display.HTML object>"
      ]
     },
     "metadata": {},
     "output_type": "display_data"
    },
    {
     "data": {
      "text/html": [
       "<span style=\"color:blue\"> |-units_1: 128</span>"
      ],
      "text/plain": [
       "<IPython.core.display.HTML object>"
      ]
     },
     "metadata": {},
     "output_type": "display_data"
    },
    {
     "data": {
      "text/html": [
       "<span style=\"color:cyan\"> |-units_2: 112</span>"
      ],
      "text/plain": [
       "<IPython.core.display.HTML object>"
      ]
     },
     "metadata": {},
     "output_type": "display_data"
    },
    {
     "data": {
      "text/html": [
       "<span style=\"color:blue\"> |-units_3: 32</span>"
      ],
      "text/plain": [
       "<IPython.core.display.HTML object>"
      ]
     },
     "metadata": {},
     "output_type": "display_data"
    },
    {
     "data": {
      "text/html": [
       "<span style=\"color:cyan\"> |-units_4: 32</span>"
      ],
      "text/plain": [
       "<IPython.core.display.HTML object>"
      ]
     },
     "metadata": {},
     "output_type": "display_data"
    },
    {
     "data": {
      "text/html": [
       "<span style=\"color:blue\"> |-units_5: 192</span>"
      ],
      "text/plain": [
       "<IPython.core.display.HTML object>"
      ]
     },
     "metadata": {},
     "output_type": "display_data"
    },
    {
     "data": {
      "text/html": [
       "<span style=\"color:cyan\"> |-units_6: 184</span>"
      ],
      "text/plain": [
       "<IPython.core.display.HTML object>"
      ]
     },
     "metadata": {},
     "output_type": "display_data"
    },
    {
     "data": {
      "text/html": [
       "<span style=\"color:cyan\"> |-Score: 0.6878361105918884</span>"
      ],
      "text/plain": [
       "<IPython.core.display.HTML object>"
      ]
     },
     "metadata": {},
     "output_type": "display_data"
    },
    {
     "data": {
      "text/html": [
       "<span style=\"color:cyan\"> |-Best step: 0</span>"
      ],
      "text/plain": [
       "<IPython.core.display.HTML object>"
      ]
     },
     "metadata": {},
     "output_type": "display_data"
    },
    {
     "name": "stdout",
     "output_type": "stream",
     "text": [
      "Train on 10786 samples, validate on 2697 samples\n",
      "Epoch 8/20\n",
      "10786/10786 [==============================] - ETA: 2:29 - loss: 1.1172 - accuracy: 0.40 - ETA: 7s - loss: 0.7374 - accuracy: 0.5281 - ETA: 4s - loss: 0.7109 - accuracy: 0.54 - ETA: 2s - loss: 0.6989 - accuracy: 0.56 - ETA: 2s - loss: 0.6841 - accuracy: 0.58 - ETA: 1s - loss: 0.6825 - accuracy: 0.58 - ETA: 1s - loss: 0.6741 - accuracy: 0.59 - ETA: 1s - loss: 0.6665 - accuracy: 0.60 - ETA: 1s - loss: 0.6625 - accuracy: 0.61 - ETA: 0s - loss: 0.6588 - accuracy: 0.61 - ETA: 0s - loss: 0.6554 - accuracy: 0.62 - ETA: 0s - loss: 0.6507 - accuracy: 0.62 - ETA: 0s - loss: 0.6494 - accuracy: 0.62 - ETA: 0s - loss: 0.6474 - accuracy: 0.62 - ETA: 0s - loss: 0.6447 - accuracy: 0.63 - ETA: 0s - loss: 0.6401 - accuracy: 0.63 - ETA: 0s - loss: 0.6378 - accuracy: 0.64 - ETA: 0s - loss: 0.6372 - accuracy: 0.64 - 2s 146us/sample - loss: 0.6358 - accuracy: 0.6431 - val_loss: 0.6332 - val_accuracy: 0.6663\n",
      "Epoch 9/20\n",
      "10786/10786 [==============================] - ETA: 1s - loss: 0.6008 - accuracy: 0.62 - ETA: 0s - loss: 0.6241 - accuracy: 0.65 - ETA: 0s - loss: 0.6198 - accuracy: 0.66 - ETA: 0s - loss: 0.6104 - accuracy: 0.67 - ETA: 0s - loss: 0.6119 - accuracy: 0.66 - ETA: 0s - loss: 0.6099 - accuracy: 0.66 - ETA: 0s - loss: 0.6042 - accuracy: 0.67 - ETA: 0s - loss: 0.6038 - accuracy: 0.67 - ETA: 0s - loss: 0.6059 - accuracy: 0.67 - ETA: 0s - loss: 0.6100 - accuracy: 0.67 - ETA: 0s - loss: 0.6088 - accuracy: 0.67 - ETA: 0s - loss: 0.6095 - accuracy: 0.67 - ETA: 0s - loss: 0.6108 - accuracy: 0.66 - ETA: 0s - loss: 0.6100 - accuracy: 0.66 - ETA: 0s - loss: 0.6095 - accuracy: 0.67 - ETA: 0s - loss: 0.6091 - accuracy: 0.66 - ETA: 0s - loss: 0.6091 - accuracy: 0.66 - ETA: 0s - loss: 0.6067 - accuracy: 0.67 - 1s 97us/sample - loss: 0.6062 - accuracy: 0.6719 - val_loss: 0.6860 - val_accuracy: 0.6118\n",
      "Epoch 10/20\n",
      "10786/10786 [==============================] - ETA: 1s - loss: 0.5591 - accuracy: 0.71 - ETA: 0s - loss: 0.5881 - accuracy: 0.68 - ETA: 0s - loss: 0.5849 - accuracy: 0.68 - ETA: 0s - loss: 0.5954 - accuracy: 0.68 - ETA: 0s - loss: 0.5964 - accuracy: 0.68 - ETA: 0s - loss: 0.5936 - accuracy: 0.68 - ETA: 0s - loss: 0.5883 - accuracy: 0.68 - ETA: 0s - loss: 0.5906 - accuracy: 0.68 - ETA: 0s - loss: 0.5919 - accuracy: 0.68 - ETA: 0s - loss: 0.5938 - accuracy: 0.68 - ETA: 0s - loss: 0.5951 - accuracy: 0.68 - ETA: 0s - loss: 0.5957 - accuracy: 0.68 - ETA: 0s - loss: 0.5967 - accuracy: 0.68 - ETA: 0s - loss: 0.5981 - accuracy: 0.68 - ETA: 0s - loss: 0.5997 - accuracy: 0.67 - ETA: 0s - loss: 0.6000 - accuracy: 0.67 - ETA: 0s - loss: 0.6001 - accuracy: 0.68 - ETA: 0s - loss: 0.5992 - accuracy: 0.68 - 1s 97us/sample - loss: 0.6005 - accuracy: 0.6798 - val_loss: 0.6373 - val_accuracy: 0.6389\n",
      "Epoch 11/20\n",
      "10786/10786 [==============================] - ETA: 1s - loss: 0.6572 - accuracy: 0.56 - ETA: 0s - loss: 0.6420 - accuracy: 0.64 - ETA: 0s - loss: 0.6250 - accuracy: 0.66 - ETA: 0s - loss: 0.6186 - accuracy: 0.66 - ETA: 0s - loss: 0.6078 - accuracy: 0.67 - ETA: 0s - loss: 0.6124 - accuracy: 0.67 - ETA: 0s - loss: 0.6094 - accuracy: 0.67 - ETA: 0s - loss: 0.6106 - accuracy: 0.67 - ETA: 0s - loss: 0.6097 - accuracy: 0.67 - ETA: 0s - loss: 0.6062 - accuracy: 0.67 - ETA: 0s - loss: 0.6062 - accuracy: 0.67 - ETA: 0s - loss: 0.6051 - accuracy: 0.67 - ETA: 0s - loss: 0.6036 - accuracy: 0.68 - ETA: 0s - loss: 0.6047 - accuracy: 0.67 - ETA: 0s - loss: 0.6037 - accuracy: 0.68 - ETA: 0s - loss: 0.6050 - accuracy: 0.67 - ETA: 0s - loss: 0.6046 - accuracy: 0.67 - ETA: 0s - loss: 0.6031 - accuracy: 0.67 - 1s 95us/sample - loss: 0.6026 - accuracy: 0.6789 - val_loss: 0.7802 - val_accuracy: 0.6355\n",
      "Epoch 12/20\n",
      "10786/10786 [==============================] - ETA: 1s - loss: 0.8686 - accuracy: 0.62 - ETA: 0s - loss: 0.5915 - accuracy: 0.69 - ETA: 0s - loss: 0.6054 - accuracy: 0.68 - ETA: 0s - loss: 0.6038 - accuracy: 0.67 - ETA: 0s - loss: 0.5979 - accuracy: 0.67 - ETA: 0s - loss: 0.5974 - accuracy: 0.67 - ETA: 0s - loss: 0.5983 - accuracy: 0.67 - ETA: 0s - loss: 0.5968 - accuracy: 0.68 - ETA: 0s - loss: 0.5923 - accuracy: 0.68 - ETA: 0s - loss: 0.5924 - accuracy: 0.68 - ETA: 0s - loss: 0.5920 - accuracy: 0.68 - ETA: 0s - loss: 0.5942 - accuracy: 0.68 - ETA: 0s - loss: 0.5929 - accuracy: 0.68 - ETA: 0s - loss: 0.5941 - accuracy: 0.68 - ETA: 0s - loss: 0.5964 - accuracy: 0.68 - ETA: 0s - loss: 0.5950 - accuracy: 0.68 - ETA: 0s - loss: 0.5975 - accuracy: 0.68 - ETA: 0s - loss: 0.5970 - accuracy: 0.68 - 1s 97us/sample - loss: 0.5966 - accuracy: 0.6813 - val_loss: 0.6918 - val_accuracy: 0.6407\n",
      "Epoch 13/20\n",
      "10786/10786 [==============================] - ETA: 1s - loss: 0.8611 - accuracy: 0.50 - ETA: 0s - loss: 0.6177 - accuracy: 0.65 - ETA: 0s - loss: 0.6058 - accuracy: 0.67 - ETA: 0s - loss: 0.6051 - accuracy: 0.67 - ETA: 0s - loss: 0.5952 - accuracy: 0.68 - ETA: 0s - loss: 0.5932 - accuracy: 0.68 - ETA: 0s - loss: 0.5947 - accuracy: 0.68 - ETA: 0s - loss: 0.5943 - accuracy: 0.68 - ETA: 0s - loss: 0.5986 - accuracy: 0.68 - ETA: 0s - loss: 0.5996 - accuracy: 0.68 - ETA: 0s - loss: 0.5978 - accuracy: 0.68 - ETA: 0s - loss: 0.5962 - accuracy: 0.68 - ETA: 0s - loss: 0.5944 - accuracy: 0.68 - ETA: 0s - loss: 0.5944 - accuracy: 0.68 - ETA: 0s - loss: 0.5945 - accuracy: 0.68 - ETA: 0s - loss: 0.5949 - accuracy: 0.68 - ETA: 0s - loss: 0.5932 - accuracy: 0.68 - ETA: 0s - loss: 0.5943 - accuracy: 0.68 - 1s 98us/sample - loss: 0.5948 - accuracy: 0.6818 - val_loss: 0.5793 - val_accuracy: 0.6915\n",
      "Epoch 14/20\n",
      "10786/10786 [==============================] - ETA: 1s - loss: 0.4777 - accuracy: 0.84 - ETA: 0s - loss: 0.6192 - accuracy: 0.66 - ETA: 0s - loss: 0.6108 - accuracy: 0.66 - ETA: 0s - loss: 0.6074 - accuracy: 0.67 - ETA: 0s - loss: 0.6024 - accuracy: 0.68 - ETA: 0s - loss: 0.5892 - accuracy: 0.69 - ETA: 0s - loss: 0.5867 - accuracy: 0.68 - ETA: 0s - loss: 0.5876 - accuracy: 0.68 - ETA: 0s - loss: 0.5889 - accuracy: 0.68 - ETA: 0s - loss: 0.5910 - accuracy: 0.68 - ETA: 0s - loss: 0.5920 - accuracy: 0.68 - ETA: 0s - loss: 0.5917 - accuracy: 0.68 - ETA: 0s - loss: 0.5911 - accuracy: 0.68 - ETA: 0s - loss: 0.5915 - accuracy: 0.68 - ETA: 0s - loss: 0.5919 - accuracy: 0.68 - ETA: 0s - loss: 0.5921 - accuracy: 0.68 - ETA: 0s - loss: 0.5939 - accuracy: 0.68 - ETA: 0s - loss: 0.5918 - accuracy: 0.68 - 1s 93us/sample - loss: 0.5929 - accuracy: 0.6815 - val_loss: 0.7136 - val_accuracy: 0.5039\n",
      "Epoch 15/20\n",
      "10786/10786 [==============================] - ETA: 1s - loss: 0.7075 - accuracy: 0.59 - ETA: 0s - loss: 0.6480 - accuracy: 0.62 - ETA: 0s - loss: 0.6115 - accuracy: 0.66 - ETA: 0s - loss: 0.6102 - accuracy: 0.67 - ETA: 0s - loss: 0.6080 - accuracy: 0.67 - ETA: 0s - loss: 0.6059 - accuracy: 0.67 - ETA: 0s - loss: 0.6040 - accuracy: 0.67 - ETA: 0s - loss: 0.6064 - accuracy: 0.67 - ETA: 0s - loss: 0.6054 - accuracy: 0.67 - ETA: 0s - loss: 0.6051 - accuracy: 0.67 - ETA: 0s - loss: 0.6054 - accuracy: 0.67 - ETA: 0s - loss: 0.6044 - accuracy: 0.67 - ETA: 0s - loss: 0.6032 - accuracy: 0.67 - ETA: 0s - loss: 0.6041 - accuracy: 0.67 - ETA: 0s - loss: 0.6009 - accuracy: 0.67 - ETA: 0s - loss: 0.5997 - accuracy: 0.67 - ETA: 0s - loss: 0.5994 - accuracy: 0.67 - ETA: 0s - loss: 0.5990 - accuracy: 0.67 - 1s 94us/sample - loss: 0.5982 - accuracy: 0.6800 - val_loss: 0.5758 - val_accuracy: 0.6941\n",
      "Epoch 16/20\n",
      "10786/10786 [==============================] - ETA: 1s - loss: 0.4652 - accuracy: 0.75 - ETA: 0s - loss: 0.6110 - accuracy: 0.66 - ETA: 0s - loss: 0.6052 - accuracy: 0.66 - ETA: 0s - loss: 0.5950 - accuracy: 0.67 - ETA: 0s - loss: 0.5933 - accuracy: 0.68 - ETA: 0s - loss: 0.5958 - accuracy: 0.68 - ETA: 0s - loss: 0.5985 - accuracy: 0.67 - ETA: 0s - loss: 0.5935 - accuracy: 0.68 - ETA: 0s - loss: 0.5913 - accuracy: 0.68 - ETA: 0s - loss: 0.5913 - accuracy: 0.68 - ETA: 0s - loss: 0.5906 - accuracy: 0.68 - ETA: 0s - loss: 0.5897 - accuracy: 0.68 - ETA: 0s - loss: 0.5902 - accuracy: 0.68 - ETA: 0s - loss: 0.5899 - accuracy: 0.68 - ETA: 0s - loss: 0.5914 - accuracy: 0.68 - ETA: 0s - loss: 0.5928 - accuracy: 0.68 - ETA: 0s - loss: 0.5925 - accuracy: 0.68 - ETA: 0s - loss: 0.5932 - accuracy: 0.68 - 1s 95us/sample - loss: 0.5926 - accuracy: 0.6837 - val_loss: 0.5721 - val_accuracy: 0.6986\n"
     ]
    },
    {
     "name": "stdout",
     "output_type": "stream",
     "text": [
      "Epoch 17/20\n",
      "10786/10786 [==============================] - ETA: 1s - loss: 0.5520 - accuracy: 0.68 - ETA: 0s - loss: 0.6055 - accuracy: 0.67 - ETA: 0s - loss: 0.5978 - accuracy: 0.67 - ETA: 0s - loss: 0.6031 - accuracy: 0.66 - ETA: 0s - loss: 0.5947 - accuracy: 0.67 - ETA: 0s - loss: 0.5928 - accuracy: 0.68 - ETA: 0s - loss: 0.5936 - accuracy: 0.67 - ETA: 0s - loss: 0.5931 - accuracy: 0.67 - ETA: 0s - loss: 0.5909 - accuracy: 0.68 - ETA: 0s - loss: 0.5925 - accuracy: 0.68 - ETA: 0s - loss: 0.5930 - accuracy: 0.68 - ETA: 0s - loss: 0.5921 - accuracy: 0.68 - ETA: 0s - loss: 0.5905 - accuracy: 0.68 - ETA: 0s - loss: 0.5908 - accuracy: 0.68 - ETA: 0s - loss: 0.5907 - accuracy: 0.68 - ETA: 0s - loss: 0.5891 - accuracy: 0.68 - ETA: 0s - loss: 0.5907 - accuracy: 0.68 - ETA: 0s - loss: 0.5911 - accuracy: 0.68 - 1s 97us/sample - loss: 0.5903 - accuracy: 0.6849 - val_loss: 1.0452 - val_accuracy: 0.5536\n",
      "Epoch 18/20\n",
      "10786/10786 [==============================] - ETA: 1s - loss: 1.0418 - accuracy: 0.53 - ETA: 0s - loss: 0.6286 - accuracy: 0.65 - ETA: 0s - loss: 0.6126 - accuracy: 0.66 - ETA: 0s - loss: 0.6060 - accuracy: 0.67 - ETA: 0s - loss: 0.6047 - accuracy: 0.67 - ETA: 0s - loss: 0.5960 - accuracy: 0.68 - ETA: 0s - loss: 0.5909 - accuracy: 0.68 - ETA: 0s - loss: 0.5901 - accuracy: 0.68 - ETA: 0s - loss: 0.5887 - accuracy: 0.69 - ETA: 0s - loss: 0.5875 - accuracy: 0.68 - ETA: 0s - loss: 0.5895 - accuracy: 0.68 - ETA: 0s - loss: 0.5905 - accuracy: 0.68 - ETA: 0s - loss: 0.5903 - accuracy: 0.68 - ETA: 0s - loss: 0.5908 - accuracy: 0.68 - ETA: 0s - loss: 0.5903 - accuracy: 0.68 - ETA: 0s - loss: 0.5922 - accuracy: 0.68 - ETA: 0s - loss: 0.5937 - accuracy: 0.68 - ETA: 0s - loss: 0.5923 - accuracy: 0.68 - 1s 97us/sample - loss: 0.5925 - accuracy: 0.6850 - val_loss: 0.6016 - val_accuracy: 0.6611\n",
      "Epoch 19/20\n",
      "10786/10786 [==============================] - ETA: 1s - loss: 0.4762 - accuracy: 0.75 - ETA: 0s - loss: 0.5891 - accuracy: 0.70 - ETA: 0s - loss: 0.5809 - accuracy: 0.71 - ETA: 0s - loss: 0.5936 - accuracy: 0.69 - ETA: 0s - loss: 0.5906 - accuracy: 0.69 - ETA: 0s - loss: 0.5947 - accuracy: 0.69 - ETA: 0s - loss: 0.5929 - accuracy: 0.69 - ETA: 0s - loss: 0.5938 - accuracy: 0.68 - ETA: 0s - loss: 0.5932 - accuracy: 0.68 - ETA: 0s - loss: 0.5918 - accuracy: 0.68 - ETA: 0s - loss: 0.5916 - accuracy: 0.68 - ETA: 0s - loss: 0.5915 - accuracy: 0.68 - ETA: 0s - loss: 0.5902 - accuracy: 0.68 - ETA: 0s - loss: 0.5901 - accuracy: 0.68 - ETA: 0s - loss: 0.5891 - accuracy: 0.69 - ETA: 0s - loss: 0.5910 - accuracy: 0.68 - ETA: 0s - loss: 0.5901 - accuracy: 0.68 - ETA: 0s - loss: 0.5882 - accuracy: 0.68 - 1s 96us/sample - loss: 0.5895 - accuracy: 0.6877 - val_loss: 0.5846 - val_accuracy: 0.6941\n",
      "Epoch 20/20\n",
      "10786/10786 [==============================] - ETA: 1s - loss: 0.5628 - accuracy: 0.71 - ETA: 0s - loss: 0.5814 - accuracy: 0.69 - ETA: 0s - loss: 0.5699 - accuracy: 0.70 - ETA: 0s - loss: 0.5731 - accuracy: 0.71 - ETA: 0s - loss: 0.5711 - accuracy: 0.71 - ETA: 0s - loss: 0.5753 - accuracy: 0.70 - ETA: 0s - loss: 0.5769 - accuracy: 0.70 - ETA: 0s - loss: 0.5834 - accuracy: 0.69 - ETA: 0s - loss: 0.5847 - accuracy: 0.69 - ETA: 0s - loss: 0.5865 - accuracy: 0.69 - ETA: 0s - loss: 0.5883 - accuracy: 0.69 - ETA: 0s - loss: 0.5891 - accuracy: 0.69 - ETA: 0s - loss: 0.5891 - accuracy: 0.69 - ETA: 0s - loss: 0.5878 - accuracy: 0.69 - ETA: 0s - loss: 0.5882 - accuracy: 0.69 - ETA: 0s - loss: 0.5881 - accuracy: 0.69 - ETA: 0s - loss: 0.5886 - accuracy: 0.69 - ETA: 0s - loss: 0.5900 - accuracy: 0.69 - 1s 97us/sample - loss: 0.5899 - accuracy: 0.6903 - val_loss: 0.6790 - val_accuracy: 0.5925\n"
     ]
    },
    {
     "data": {
      "text/html": [
       "<span style=\"color:#4527A0\"><h1 style=\"font-size:18px\">Trial complete</h1></span>"
      ],
      "text/plain": [
       "<IPython.core.display.HTML object>"
      ]
     },
     "metadata": {},
     "output_type": "display_data"
    },
    {
     "data": {
      "text/html": [
       "<span style=\"color:#4527A0\"><h1 style=\"font-size:18px\">Trial summary</h1></span>"
      ],
      "text/plain": [
       "<IPython.core.display.HTML object>"
      ]
     },
     "metadata": {},
     "output_type": "display_data"
    },
    {
     "data": {
      "text/html": [
       "<span style=\"color:#7E57C2\"><h2 style=\"font-size:16px\">Hp values:</h2></span>"
      ],
      "text/plain": [
       "<IPython.core.display.HTML object>"
      ]
     },
     "metadata": {},
     "output_type": "display_data"
    },
    {
     "data": {
      "text/html": [
       "<span style=\"color:cyan\"> |-drop_rate_0: 0.01</span>"
      ],
      "text/plain": [
       "<IPython.core.display.HTML object>"
      ]
     },
     "metadata": {},
     "output_type": "display_data"
    },
    {
     "data": {
      "text/html": [
       "<span style=\"color:blue\"> |-drop_rate_3: 0.01</span>"
      ],
      "text/plain": [
       "<IPython.core.display.HTML object>"
      ]
     },
     "metadata": {},
     "output_type": "display_data"
    },
    {
     "data": {
      "text/html": [
       "<span style=\"color:cyan\"> |-drop_rate_6: 0.1</span>"
      ],
      "text/plain": [
       "<IPython.core.display.HTML object>"
      ]
     },
     "metadata": {},
     "output_type": "display_data"
    },
    {
     "data": {
      "text/html": [
       "<span style=\"color:blue\"> |-learning_rate: 0.001</span>"
      ],
      "text/plain": [
       "<IPython.core.display.HTML object>"
      ]
     },
     "metadata": {},
     "output_type": "display_data"
    },
    {
     "data": {
      "text/html": [
       "<span style=\"color:cyan\"> |-momentum: 0.2</span>"
      ],
      "text/plain": [
       "<IPython.core.display.HTML object>"
      ]
     },
     "metadata": {},
     "output_type": "display_data"
    },
    {
     "data": {
      "text/html": [
       "<span style=\"color:blue\"> |-num_layers: 4</span>"
      ],
      "text/plain": [
       "<IPython.core.display.HTML object>"
      ]
     },
     "metadata": {},
     "output_type": "display_data"
    },
    {
     "data": {
      "text/html": [
       "<span style=\"color:cyan\"> |-tuner/bracket: 2</span>"
      ],
      "text/plain": [
       "<IPython.core.display.HTML object>"
      ]
     },
     "metadata": {},
     "output_type": "display_data"
    },
    {
     "data": {
      "text/html": [
       "<span style=\"color:blue\"> |-tuner/epochs: 20</span>"
      ],
      "text/plain": [
       "<IPython.core.display.HTML object>"
      ]
     },
     "metadata": {},
     "output_type": "display_data"
    },
    {
     "data": {
      "text/html": [
       "<span style=\"color:cyan\"> |-tuner/initial_epoch: 7</span>"
      ],
      "text/plain": [
       "<IPython.core.display.HTML object>"
      ]
     },
     "metadata": {},
     "output_type": "display_data"
    },
    {
     "data": {
      "text/html": [
       "<span style=\"color:blue\"> |-tuner/round: 2</span>"
      ],
      "text/plain": [
       "<IPython.core.display.HTML object>"
      ]
     },
     "metadata": {},
     "output_type": "display_data"
    },
    {
     "data": {
      "text/html": [
       "<span style=\"color:cyan\"> |-tuner/trial_id: 2947db5ff119ffa2025a2f48f5d7db57</span>"
      ],
      "text/plain": [
       "<IPython.core.display.HTML object>"
      ]
     },
     "metadata": {},
     "output_type": "display_data"
    },
    {
     "data": {
      "text/html": [
       "<span style=\"color:blue\"> |-units_0: 144</span>"
      ],
      "text/plain": [
       "<IPython.core.display.HTML object>"
      ]
     },
     "metadata": {},
     "output_type": "display_data"
    },
    {
     "data": {
      "text/html": [
       "<span style=\"color:cyan\"> |-units_1: 248</span>"
      ],
      "text/plain": [
       "<IPython.core.display.HTML object>"
      ]
     },
     "metadata": {},
     "output_type": "display_data"
    },
    {
     "data": {
      "text/html": [
       "<span style=\"color:blue\"> |-units_2: 168</span>"
      ],
      "text/plain": [
       "<IPython.core.display.HTML object>"
      ]
     },
     "metadata": {},
     "output_type": "display_data"
    },
    {
     "data": {
      "text/html": [
       "<span style=\"color:cyan\"> |-units_3: 232</span>"
      ],
      "text/plain": [
       "<IPython.core.display.HTML object>"
      ]
     },
     "metadata": {},
     "output_type": "display_data"
    },
    {
     "data": {
      "text/html": [
       "<span style=\"color:blue\"> |-units_4: 40</span>"
      ],
      "text/plain": [
       "<IPython.core.display.HTML object>"
      ]
     },
     "metadata": {},
     "output_type": "display_data"
    },
    {
     "data": {
      "text/html": [
       "<span style=\"color:cyan\"> |-units_5: 248</span>"
      ],
      "text/plain": [
       "<IPython.core.display.HTML object>"
      ]
     },
     "metadata": {},
     "output_type": "display_data"
    },
    {
     "data": {
      "text/html": [
       "<span style=\"color:blue\"> |-units_6: 24</span>"
      ],
      "text/plain": [
       "<IPython.core.display.HTML object>"
      ]
     },
     "metadata": {},
     "output_type": "display_data"
    },
    {
     "data": {
      "text/html": [
       "<span style=\"color:cyan\"> |-Score: 0.6903393268585205</span>"
      ],
      "text/plain": [
       "<IPython.core.display.HTML object>"
      ]
     },
     "metadata": {},
     "output_type": "display_data"
    },
    {
     "data": {
      "text/html": [
       "<span style=\"color:cyan\"> |-Best step: 0</span>"
      ],
      "text/plain": [
       "<IPython.core.display.HTML object>"
      ]
     },
     "metadata": {},
     "output_type": "display_data"
    },
    {
     "name": "stdout",
     "output_type": "stream",
     "text": [
      "Train on 10786 samples, validate on 2697 samples\n",
      "Epoch 1/7\n",
      "10786/10786 [==============================] - ETA: 2:41 - loss: 0.9444 - accuracy: 0.46 - ETA: 7s - loss: 0.7039 - accuracy: 0.5625 - ETA: 3s - loss: 0.6870 - accuracy: 0.58 - ETA: 2s - loss: 0.6722 - accuracy: 0.60 - ETA: 1s - loss: 0.6617 - accuracy: 0.62 - ETA: 1s - loss: 0.6521 - accuracy: 0.62 - ETA: 1s - loss: 0.6454 - accuracy: 0.63 - ETA: 1s - loss: 0.6403 - accuracy: 0.63 - ETA: 0s - loss: 0.6351 - accuracy: 0.64 - ETA: 0s - loss: 0.6327 - accuracy: 0.64 - ETA: 0s - loss: 0.6277 - accuracy: 0.64 - ETA: 0s - loss: 0.6218 - accuracy: 0.65 - ETA: 0s - loss: 0.6190 - accuracy: 0.65 - ETA: 0s - loss: 0.6157 - accuracy: 0.66 - ETA: 0s - loss: 0.6137 - accuracy: 0.66 - ETA: 0s - loss: 0.6118 - accuracy: 0.66 - 2s 145us/sample - loss: 0.6117 - accuracy: 0.6629 - val_loss: 0.5750 - val_accuracy: 0.6967\n",
      "Epoch 2/7\n",
      "10786/10786 [==============================] - ETA: 1s - loss: 0.5463 - accuracy: 0.78 - ETA: 0s - loss: 0.6250 - accuracy: 0.65 - ETA: 0s - loss: 0.6013 - accuracy: 0.67 - ETA: 0s - loss: 0.5996 - accuracy: 0.67 - ETA: 0s - loss: 0.6048 - accuracy: 0.67 - ETA: 0s - loss: 0.6060 - accuracy: 0.67 - ETA: 0s - loss: 0.6039 - accuracy: 0.67 - ETA: 0s - loss: 0.6023 - accuracy: 0.67 - ETA: 0s - loss: 0.5994 - accuracy: 0.67 - ETA: 0s - loss: 0.6021 - accuracy: 0.67 - ETA: 0s - loss: 0.6005 - accuracy: 0.67 - ETA: 0s - loss: 0.5993 - accuracy: 0.67 - ETA: 0s - loss: 0.5999 - accuracy: 0.67 - ETA: 0s - loss: 0.5992 - accuracy: 0.67 - ETA: 0s - loss: 0.5985 - accuracy: 0.68 - ETA: 0s - loss: 0.5962 - accuracy: 0.68 - 1s 87us/sample - loss: 0.5952 - accuracy: 0.6823 - val_loss: 0.5745 - val_accuracy: 0.6941\n",
      "Epoch 3/7\n",
      "10786/10786 [==============================] - ETA: 1s - loss: 0.7166 - accuracy: 0.59 - ETA: 0s - loss: 0.5894 - accuracy: 0.70 - ETA: 0s - loss: 0.5856 - accuracy: 0.68 - ETA: 0s - loss: 0.5992 - accuracy: 0.68 - ETA: 0s - loss: 0.5998 - accuracy: 0.68 - ETA: 0s - loss: 0.6015 - accuracy: 0.67 - ETA: 0s - loss: 0.5992 - accuracy: 0.67 - ETA: 0s - loss: 0.5978 - accuracy: 0.67 - ETA: 0s - loss: 0.5983 - accuracy: 0.67 - ETA: 0s - loss: 0.5991 - accuracy: 0.67 - ETA: 0s - loss: 0.5991 - accuracy: 0.67 - ETA: 0s - loss: 0.5993 - accuracy: 0.67 - ETA: 0s - loss: 0.5994 - accuracy: 0.67 - ETA: 0s - loss: 0.5984 - accuracy: 0.67 - ETA: 0s - loss: 0.5990 - accuracy: 0.67 - ETA: 0s - loss: 0.5979 - accuracy: 0.67 - 1s 85us/sample - loss: 0.5973 - accuracy: 0.6814 - val_loss: 0.5749 - val_accuracy: 0.6982\n",
      "Epoch 4/7\n",
      "10786/10786 [==============================] - ETA: 1s - loss: 0.5919 - accuracy: 0.75 - ETA: 0s - loss: 0.5924 - accuracy: 0.69 - ETA: 0s - loss: 0.5889 - accuracy: 0.69 - ETA: 0s - loss: 0.6040 - accuracy: 0.67 - ETA: 0s - loss: 0.5992 - accuracy: 0.67 - ETA: 0s - loss: 0.5994 - accuracy: 0.67 - ETA: 0s - loss: 0.6023 - accuracy: 0.67 - ETA: 0s - loss: 0.6007 - accuracy: 0.67 - ETA: 0s - loss: 0.5969 - accuracy: 0.67 - ETA: 0s - loss: 0.5956 - accuracy: 0.67 - ETA: 0s - loss: 0.5938 - accuracy: 0.67 - ETA: 0s - loss: 0.5924 - accuracy: 0.68 - ETA: 0s - loss: 0.5945 - accuracy: 0.67 - ETA: 0s - loss: 0.5946 - accuracy: 0.67 - ETA: 0s - loss: 0.5945 - accuracy: 0.67 - ETA: 0s - loss: 0.5955 - accuracy: 0.67 - 1s 84us/sample - loss: 0.5946 - accuracy: 0.6804 - val_loss: 0.5747 - val_accuracy: 0.6948\n",
      "Epoch 5/7\n",
      "10786/10786 [==============================] - ETA: 1s - loss: 0.5782 - accuracy: 0.71 - ETA: 0s - loss: 0.6142 - accuracy: 0.65 - ETA: 0s - loss: 0.5957 - accuracy: 0.67 - ETA: 0s - loss: 0.5940 - accuracy: 0.67 - ETA: 0s - loss: 0.5927 - accuracy: 0.68 - ETA: 0s - loss: 0.5873 - accuracy: 0.68 - ETA: 0s - loss: 0.5893 - accuracy: 0.68 - ETA: 0s - loss: 0.5896 - accuracy: 0.68 - ETA: 0s - loss: 0.5910 - accuracy: 0.68 - ETA: 0s - loss: 0.5918 - accuracy: 0.68 - ETA: 0s - loss: 0.5925 - accuracy: 0.68 - ETA: 0s - loss: 0.5943 - accuracy: 0.68 - ETA: 0s - loss: 0.5928 - accuracy: 0.68 - ETA: 0s - loss: 0.5931 - accuracy: 0.68 - ETA: 0s - loss: 0.5919 - accuracy: 0.68 - ETA: 0s - loss: 0.5921 - accuracy: 0.68 - 1s 86us/sample - loss: 0.5920 - accuracy: 0.6847 - val_loss: 0.5737 - val_accuracy: 0.6982\n",
      "Epoch 6/7\n",
      "10786/10786 [==============================] - ETA: 1s - loss: 0.6617 - accuracy: 0.65 - ETA: 0s - loss: 0.5749 - accuracy: 0.69 - ETA: 0s - loss: 0.5960 - accuracy: 0.68 - ETA: 0s - loss: 0.5975 - accuracy: 0.67 - ETA: 0s - loss: 0.5949 - accuracy: 0.67 - ETA: 0s - loss: 0.5918 - accuracy: 0.68 - ETA: 0s - loss: 0.5892 - accuracy: 0.68 - ETA: 0s - loss: 0.5841 - accuracy: 0.68 - ETA: 0s - loss: 0.5882 - accuracy: 0.68 - ETA: 0s - loss: 0.5901 - accuracy: 0.68 - ETA: 0s - loss: 0.5894 - accuracy: 0.68 - ETA: 0s - loss: 0.5887 - accuracy: 0.68 - ETA: 0s - loss: 0.5873 - accuracy: 0.68 - ETA: 0s - loss: 0.5905 - accuracy: 0.68 - ETA: 0s - loss: 0.5895 - accuracy: 0.68 - ETA: 0s - loss: 0.5899 - accuracy: 0.68 - 1s 85us/sample - loss: 0.5903 - accuracy: 0.6814 - val_loss: 0.5730 - val_accuracy: 0.6963\n",
      "Epoch 7/7\n",
      "10786/10786 [==============================] - ETA: 1s - loss: 0.4990 - accuracy: 0.81 - ETA: 0s - loss: 0.5923 - accuracy: 0.67 - ETA: 0s - loss: 0.5911 - accuracy: 0.67 - ETA: 0s - loss: 0.5852 - accuracy: 0.68 - ETA: 0s - loss: 0.5846 - accuracy: 0.68 - ETA: 0s - loss: 0.5903 - accuracy: 0.68 - ETA: 0s - loss: 0.5892 - accuracy: 0.67 - ETA: 0s - loss: 0.5874 - accuracy: 0.68 - ETA: 0s - loss: 0.5893 - accuracy: 0.68 - ETA: 0s - loss: 0.5901 - accuracy: 0.68 - ETA: 0s - loss: 0.5896 - accuracy: 0.68 - ETA: 0s - loss: 0.5896 - accuracy: 0.68 - ETA: 0s - loss: 0.5900 - accuracy: 0.68 - ETA: 0s - loss: 0.5915 - accuracy: 0.68 - ETA: 0s - loss: 0.5926 - accuracy: 0.67 - ETA: 0s - loss: 0.5933 - accuracy: 0.67 - 1s 83us/sample - loss: 0.5926 - accuracy: 0.6801 - val_loss: 0.5754 - val_accuracy: 0.6915\n"
     ]
    },
    {
     "data": {
      "text/html": [
       "<span style=\"color:#4527A0\"><h1 style=\"font-size:18px\">Trial complete</h1></span>"
      ],
      "text/plain": [
       "<IPython.core.display.HTML object>"
      ]
     },
     "metadata": {},
     "output_type": "display_data"
    },
    {
     "data": {
      "text/html": [
       "<span style=\"color:#4527A0\"><h1 style=\"font-size:18px\">Trial summary</h1></span>"
      ],
      "text/plain": [
       "<IPython.core.display.HTML object>"
      ]
     },
     "metadata": {},
     "output_type": "display_data"
    },
    {
     "data": {
      "text/html": [
       "<span style=\"color:#7E57C2\"><h2 style=\"font-size:16px\">Hp values:</h2></span>"
      ],
      "text/plain": [
       "<IPython.core.display.HTML object>"
      ]
     },
     "metadata": {},
     "output_type": "display_data"
    },
    {
     "data": {
      "text/html": [
       "<span style=\"color:cyan\"> |-drop_rate_0: 0.1</span>"
      ],
      "text/plain": [
       "<IPython.core.display.HTML object>"
      ]
     },
     "metadata": {},
     "output_type": "display_data"
    },
    {
     "data": {
      "text/html": [
       "<span style=\"color:blue\"> |-drop_rate_1: 0.01</span>"
      ],
      "text/plain": [
       "<IPython.core.display.HTML object>"
      ]
     },
     "metadata": {},
     "output_type": "display_data"
    },
    {
     "data": {
      "text/html": [
       "<span style=\"color:cyan\"> |-drop_rate_2: 0.01</span>"
      ],
      "text/plain": [
       "<IPython.core.display.HTML object>"
      ]
     },
     "metadata": {},
     "output_type": "display_data"
    },
    {
     "data": {
      "text/html": [
       "<span style=\"color:blue\"> |-drop_rate_3: 0.2</span>"
      ],
      "text/plain": [
       "<IPython.core.display.HTML object>"
      ]
     },
     "metadata": {},
     "output_type": "display_data"
    },
    {
     "data": {
      "text/html": [
       "<span style=\"color:cyan\"> |-drop_rate_4: 0.01</span>"
      ],
      "text/plain": [
       "<IPython.core.display.HTML object>"
      ]
     },
     "metadata": {},
     "output_type": "display_data"
    },
    {
     "data": {
      "text/html": [
       "<span style=\"color:blue\"> |-drop_rate_5: 0.2</span>"
      ],
      "text/plain": [
       "<IPython.core.display.HTML object>"
      ]
     },
     "metadata": {},
     "output_type": "display_data"
    },
    {
     "data": {
      "text/html": [
       "<span style=\"color:cyan\"> |-drop_rate_6: 0.3</span>"
      ],
      "text/plain": [
       "<IPython.core.display.HTML object>"
      ]
     },
     "metadata": {},
     "output_type": "display_data"
    },
    {
     "data": {
      "text/html": [
       "<span style=\"color:blue\"> |-drop_rate_7: 0.2</span>"
      ],
      "text/plain": [
       "<IPython.core.display.HTML object>"
      ]
     },
     "metadata": {},
     "output_type": "display_data"
    },
    {
     "data": {
      "text/html": [
       "<span style=\"color:cyan\"> |-learning_rate: 0.0001</span>"
      ],
      "text/plain": [
       "<IPython.core.display.HTML object>"
      ]
     },
     "metadata": {},
     "output_type": "display_data"
    },
    {
     "data": {
      "text/html": [
       "<span style=\"color:blue\"> |-momentum: 0.9</span>"
      ],
      "text/plain": [
       "<IPython.core.display.HTML object>"
      ]
     },
     "metadata": {},
     "output_type": "display_data"
    },
    {
     "data": {
      "text/html": [
       "<span style=\"color:cyan\"> |-num_layers: 5</span>"
      ],
      "text/plain": [
       "<IPython.core.display.HTML object>"
      ]
     },
     "metadata": {},
     "output_type": "display_data"
    },
    {
     "data": {
      "text/html": [
       "<span style=\"color:blue\"> |-tuner/bracket: 1</span>"
      ],
      "text/plain": [
       "<IPython.core.display.HTML object>"
      ]
     },
     "metadata": {},
     "output_type": "display_data"
    },
    {
     "data": {
      "text/html": [
       "<span style=\"color:cyan\"> |-tuner/epochs: 7</span>"
      ],
      "text/plain": [
       "<IPython.core.display.HTML object>"
      ]
     },
     "metadata": {},
     "output_type": "display_data"
    },
    {
     "data": {
      "text/html": [
       "<span style=\"color:blue\"> |-tuner/initial_epoch: 0</span>"
      ],
      "text/plain": [
       "<IPython.core.display.HTML object>"
      ]
     },
     "metadata": {},
     "output_type": "display_data"
    },
    {
     "data": {
      "text/html": [
       "<span style=\"color:cyan\"> |-tuner/round: 0</span>"
      ],
      "text/plain": [
       "<IPython.core.display.HTML object>"
      ]
     },
     "metadata": {},
     "output_type": "display_data"
    },
    {
     "data": {
      "text/html": [
       "<span style=\"color:blue\"> |-units_0: 112</span>"
      ],
      "text/plain": [
       "<IPython.core.display.HTML object>"
      ]
     },
     "metadata": {},
     "output_type": "display_data"
    },
    {
     "data": {
      "text/html": [
       "<span style=\"color:cyan\"> |-units_1: 224</span>"
      ],
      "text/plain": [
       "<IPython.core.display.HTML object>"
      ]
     },
     "metadata": {},
     "output_type": "display_data"
    },
    {
     "data": {
      "text/html": [
       "<span style=\"color:blue\"> |-units_2: 80</span>"
      ],
      "text/plain": [
       "<IPython.core.display.HTML object>"
      ]
     },
     "metadata": {},
     "output_type": "display_data"
    },
    {
     "data": {
      "text/html": [
       "<span style=\"color:cyan\"> |-units_3: 176</span>"
      ],
      "text/plain": [
       "<IPython.core.display.HTML object>"
      ]
     },
     "metadata": {},
     "output_type": "display_data"
    },
    {
     "data": {
      "text/html": [
       "<span style=\"color:blue\"> |-units_4: 96</span>"
      ],
      "text/plain": [
       "<IPython.core.display.HTML object>"
      ]
     },
     "metadata": {},
     "output_type": "display_data"
    },
    {
     "data": {
      "text/html": [
       "<span style=\"color:cyan\"> |-units_5: 96</span>"
      ],
      "text/plain": [
       "<IPython.core.display.HTML object>"
      ]
     },
     "metadata": {},
     "output_type": "display_data"
    },
    {
     "data": {
      "text/html": [
       "<span style=\"color:blue\"> |-units_6: 176</span>"
      ],
      "text/plain": [
       "<IPython.core.display.HTML object>"
      ]
     },
     "metadata": {},
     "output_type": "display_data"
    },
    {
     "data": {
      "text/html": [
       "<span style=\"color:cyan\"> |-units_7: 184</span>"
      ],
      "text/plain": [
       "<IPython.core.display.HTML object>"
      ]
     },
     "metadata": {},
     "output_type": "display_data"
    },
    {
     "data": {
      "text/html": [
       "<span style=\"color:cyan\"> |-Score: 0.6846838593482971</span>"
      ],
      "text/plain": [
       "<IPython.core.display.HTML object>"
      ]
     },
     "metadata": {},
     "output_type": "display_data"
    },
    {
     "data": {
      "text/html": [
       "<span style=\"color:cyan\"> |-Best step: 0</span>"
      ],
      "text/plain": [
       "<IPython.core.display.HTML object>"
      ]
     },
     "metadata": {},
     "output_type": "display_data"
    },
    {
     "name": "stdout",
     "output_type": "stream",
     "text": [
      "Train on 10786 samples, validate on 2697 samples\n",
      "Epoch 1/7\n",
      "10786/10786 [==============================] - ETA: 3:56 - loss: 0.6988 - accuracy: 0.50 - ETA: 10s - loss: 0.6913 - accuracy: 0.5355 - ETA: 5s - loss: 0.6923 - accuracy: 0.523 - ETA: 3s - loss: 0.6919 - accuracy: 0.52 - ETA: 2s - loss: 0.6910 - accuracy: 0.52 - ETA: 2s - loss: 0.6913 - accuracy: 0.52 - ETA: 1s - loss: 0.6865 - accuracy: 0.54 - ETA: 1s - loss: 0.6823 - accuracy: 0.55 - ETA: 1s - loss: 0.6766 - accuracy: 0.56 - ETA: 0s - loss: 0.6728 - accuracy: 0.57 - ETA: 0s - loss: 0.6687 - accuracy: 0.58 - ETA: 0s - loss: 0.6663 - accuracy: 0.58 - ETA: 0s - loss: 0.6636 - accuracy: 0.59 - ETA: 0s - loss: 0.6587 - accuracy: 0.59 - ETA: 0s - loss: 0.6564 - accuracy: 0.60 - ETA: 0s - loss: 0.6529 - accuracy: 0.60 - 2s 162us/sample - loss: 0.6503 - accuracy: 0.6101 - val_loss: 0.6174 - val_accuracy: 0.6288\n",
      "Epoch 2/7\n",
      "10786/10786 [==============================] - ETA: 1s - loss: 0.5912 - accuracy: 0.65 - ETA: 0s - loss: 0.6356 - accuracy: 0.61 - ETA: 0s - loss: 0.6312 - accuracy: 0.63 - ETA: 0s - loss: 0.6256 - accuracy: 0.64 - ETA: 0s - loss: 0.6214 - accuracy: 0.64 - ETA: 0s - loss: 0.6182 - accuracy: 0.65 - ETA: 0s - loss: 0.6158 - accuracy: 0.65 - ETA: 0s - loss: 0.6172 - accuracy: 0.65 - ETA: 0s - loss: 0.6122 - accuracy: 0.66 - ETA: 0s - loss: 0.6132 - accuracy: 0.66 - ETA: 0s - loss: 0.6115 - accuracy: 0.66 - ETA: 0s - loss: 0.6089 - accuracy: 0.66 - ETA: 0s - loss: 0.6114 - accuracy: 0.66 - ETA: 0s - loss: 0.6116 - accuracy: 0.66 - ETA: 0s - loss: 0.6102 - accuracy: 0.66 - ETA: 0s - loss: 0.6083 - accuracy: 0.66 - ETA: 0s - loss: 0.6081 - accuracy: 0.66 - 1s 91us/sample - loss: 0.6083 - accuracy: 0.6676 - val_loss: 0.5947 - val_accuracy: 0.6934\n",
      "Epoch 3/7\n",
      "10786/10786 [==============================] - ETA: 1s - loss: 0.5861 - accuracy: 0.62 - ETA: 0s - loss: 0.6226 - accuracy: 0.65 - ETA: 0s - loss: 0.6070 - accuracy: 0.66 - ETA: 0s - loss: 0.6058 - accuracy: 0.66 - ETA: 0s - loss: 0.5979 - accuracy: 0.67 - ETA: 0s - loss: 0.5981 - accuracy: 0.67 - ETA: 0s - loss: 0.5992 - accuracy: 0.67 - ETA: 0s - loss: 0.5989 - accuracy: 0.68 - ETA: 0s - loss: 0.5983 - accuracy: 0.68 - ETA: 0s - loss: 0.5997 - accuracy: 0.68 - ETA: 0s - loss: 0.6000 - accuracy: 0.68 - ETA: 0s - loss: 0.5986 - accuracy: 0.68 - ETA: 0s - loss: 0.5987 - accuracy: 0.68 - ETA: 0s - loss: 0.5961 - accuracy: 0.68 - ETA: 0s - loss: 0.5969 - accuracy: 0.68 - ETA: 0s - loss: 0.5986 - accuracy: 0.68 - ETA: 0s - loss: 0.5983 - accuracy: 0.68 - 1s 90us/sample - loss: 0.5990 - accuracy: 0.6822 - val_loss: 0.6043 - val_accuracy: 0.6452\n",
      "Epoch 4/7\n",
      "10786/10786 [==============================] - ETA: 1s - loss: 0.6106 - accuracy: 0.65 - ETA: 0s - loss: 0.6175 - accuracy: 0.67 - ETA: 0s - loss: 0.5907 - accuracy: 0.69 - ETA: 0s - loss: 0.5992 - accuracy: 0.68 - ETA: 0s - loss: 0.5949 - accuracy: 0.68 - ETA: 0s - loss: 0.5999 - accuracy: 0.67 - ETA: 0s - loss: 0.6016 - accuracy: 0.67 - ETA: 0s - loss: 0.6010 - accuracy: 0.67 - ETA: 0s - loss: 0.6011 - accuracy: 0.67 - ETA: 0s - loss: 0.6013 - accuracy: 0.68 - ETA: 0s - loss: 0.6027 - accuracy: 0.67 - ETA: 0s - loss: 0.6035 - accuracy: 0.67 - ETA: 0s - loss: 0.6020 - accuracy: 0.67 - ETA: 0s - loss: 0.5988 - accuracy: 0.68 - ETA: 0s - loss: 0.5990 - accuracy: 0.68 - ETA: 0s - loss: 0.5980 - accuracy: 0.68 - ETA: 0s - loss: 0.5976 - accuracy: 0.68 - ETA: 0s - loss: 0.5976 - accuracy: 0.68 - 1s 93us/sample - loss: 0.5975 - accuracy: 0.6821 - val_loss: 0.5763 - val_accuracy: 0.7008\n",
      "Epoch 5/7\n",
      "10786/10786 [==============================] - ETA: 1s - loss: 0.5547 - accuracy: 0.78 - ETA: 0s - loss: 0.5970 - accuracy: 0.65 - ETA: 0s - loss: 0.5946 - accuracy: 0.66 - ETA: 0s - loss: 0.5986 - accuracy: 0.66 - ETA: 0s - loss: 0.5961 - accuracy: 0.67 - ETA: 0s - loss: 0.5948 - accuracy: 0.67 - ETA: 0s - loss: 0.5917 - accuracy: 0.67 - ETA: 0s - loss: 0.5946 - accuracy: 0.67 - ETA: 0s - loss: 0.5958 - accuracy: 0.68 - ETA: 0s - loss: 0.5965 - accuracy: 0.68 - ETA: 0s - loss: 0.5946 - accuracy: 0.68 - ETA: 0s - loss: 0.5941 - accuracy: 0.68 - ETA: 0s - loss: 0.5940 - accuracy: 0.68 - ETA: 0s - loss: 0.5938 - accuracy: 0.68 - ETA: 0s - loss: 0.5935 - accuracy: 0.68 - ETA: 0s - loss: 0.5941 - accuracy: 0.68 - ETA: 0s - loss: 0.5942 - accuracy: 0.68 - 1s 90us/sample - loss: 0.5947 - accuracy: 0.6832 - val_loss: 0.6049 - val_accuracy: 0.6874\n",
      "Epoch 6/7\n",
      "10786/10786 [==============================] - ETA: 1s - loss: 0.5669 - accuracy: 0.68 - ETA: 0s - loss: 0.6179 - accuracy: 0.65 - ETA: 0s - loss: 0.5990 - accuracy: 0.67 - ETA: 0s - loss: 0.6025 - accuracy: 0.67 - ETA: 0s - loss: 0.6057 - accuracy: 0.67 - ETA: 0s - loss: 0.5997 - accuracy: 0.68 - ETA: 0s - loss: 0.5999 - accuracy: 0.67 - ETA: 0s - loss: 0.5967 - accuracy: 0.68 - ETA: 0s - loss: 0.5986 - accuracy: 0.67 - ETA: 0s - loss: 0.5966 - accuracy: 0.68 - ETA: 0s - loss: 0.5972 - accuracy: 0.68 - ETA: 0s - loss: 0.5947 - accuracy: 0.68 - ETA: 0s - loss: 0.5939 - accuracy: 0.68 - ETA: 0s - loss: 0.5923 - accuracy: 0.68 - ETA: 0s - loss: 0.5925 - accuracy: 0.68 - ETA: 0s - loss: 0.5917 - accuracy: 0.68 - ETA: 0s - loss: 0.5921 - accuracy: 0.68 - ETA: 0s - loss: 0.5919 - accuracy: 0.68 - 1s 95us/sample - loss: 0.5924 - accuracy: 0.6865 - val_loss: 0.5745 - val_accuracy: 0.6971\n",
      "Epoch 7/7\n",
      "10786/10786 [==============================] - ETA: 1s - loss: 0.6492 - accuracy: 0.68 - ETA: 0s - loss: 0.5804 - accuracy: 0.71 - ETA: 0s - loss: 0.5790 - accuracy: 0.70 - ETA: 0s - loss: 0.5822 - accuracy: 0.70 - ETA: 0s - loss: 0.5891 - accuracy: 0.69 - ETA: 0s - loss: 0.5931 - accuracy: 0.68 - ETA: 0s - loss: 0.5942 - accuracy: 0.68 - ETA: 0s - loss: 0.5927 - accuracy: 0.68 - ETA: 0s - loss: 0.5938 - accuracy: 0.68 - ETA: 0s - loss: 0.5920 - accuracy: 0.68 - ETA: 0s - loss: 0.5904 - accuracy: 0.68 - ETA: 0s - loss: 0.5926 - accuracy: 0.68 - ETA: 0s - loss: 0.5938 - accuracy: 0.68 - ETA: 0s - loss: 0.5958 - accuracy: 0.68 - ETA: 0s - loss: 0.5950 - accuracy: 0.68 - ETA: 0s - loss: 0.5948 - accuracy: 0.68 - ETA: 0s - loss: 0.5935 - accuracy: 0.68 - ETA: 0s - loss: 0.5942 - accuracy: 0.68 - 1s 94us/sample - loss: 0.5943 - accuracy: 0.6870 - val_loss: 0.6458 - val_accuracy: 0.6174\n"
     ]
    },
    {
     "data": {
      "text/html": [
       "<span style=\"color:#4527A0\"><h1 style=\"font-size:18px\">Trial complete</h1></span>"
      ],
      "text/plain": [
       "<IPython.core.display.HTML object>"
      ]
     },
     "metadata": {},
     "output_type": "display_data"
    },
    {
     "data": {
      "text/html": [
       "<span style=\"color:#4527A0\"><h1 style=\"font-size:18px\">Trial summary</h1></span>"
      ],
      "text/plain": [
       "<IPython.core.display.HTML object>"
      ]
     },
     "metadata": {},
     "output_type": "display_data"
    },
    {
     "data": {
      "text/html": [
       "<span style=\"color:#7E57C2\"><h2 style=\"font-size:16px\">Hp values:</h2></span>"
      ],
      "text/plain": [
       "<IPython.core.display.HTML object>"
      ]
     },
     "metadata": {},
     "output_type": "display_data"
    },
    {
     "data": {
      "text/html": [
       "<span style=\"color:cyan\"> |-drop_rate_0: 0.01</span>"
      ],
      "text/plain": [
       "<IPython.core.display.HTML object>"
      ]
     },
     "metadata": {},
     "output_type": "display_data"
    },
    {
     "data": {
      "text/html": [
       "<span style=\"color:blue\"> |-drop_rate_1: 0.01</span>"
      ],
      "text/plain": [
       "<IPython.core.display.HTML object>"
      ]
     },
     "metadata": {},
     "output_type": "display_data"
    },
    {
     "data": {
      "text/html": [
       "<span style=\"color:cyan\"> |-drop_rate_2: 0.2</span>"
      ],
      "text/plain": [
       "<IPython.core.display.HTML object>"
      ]
     },
     "metadata": {},
     "output_type": "display_data"
    },
    {
     "data": {
      "text/html": [
       "<span style=\"color:blue\"> |-drop_rate_3: 0.3</span>"
      ],
      "text/plain": [
       "<IPython.core.display.HTML object>"
      ]
     },
     "metadata": {},
     "output_type": "display_data"
    },
    {
     "data": {
      "text/html": [
       "<span style=\"color:cyan\"> |-drop_rate_4: 0.2</span>"
      ],
      "text/plain": [
       "<IPython.core.display.HTML object>"
      ]
     },
     "metadata": {},
     "output_type": "display_data"
    },
    {
     "data": {
      "text/html": [
       "<span style=\"color:blue\"> |-drop_rate_5: 0.3</span>"
      ],
      "text/plain": [
       "<IPython.core.display.HTML object>"
      ]
     },
     "metadata": {},
     "output_type": "display_data"
    },
    {
     "data": {
      "text/html": [
       "<span style=\"color:cyan\"> |-drop_rate_6: 0.01</span>"
      ],
      "text/plain": [
       "<IPython.core.display.HTML object>"
      ]
     },
     "metadata": {},
     "output_type": "display_data"
    },
    {
     "data": {
      "text/html": [
       "<span style=\"color:blue\"> |-drop_rate_7: 0.1</span>"
      ],
      "text/plain": [
       "<IPython.core.display.HTML object>"
      ]
     },
     "metadata": {},
     "output_type": "display_data"
    },
    {
     "data": {
      "text/html": [
       "<span style=\"color:cyan\"> |-drop_rate_9: 0.01</span>"
      ],
      "text/plain": [
       "<IPython.core.display.HTML object>"
      ]
     },
     "metadata": {},
     "output_type": "display_data"
    },
    {
     "data": {
      "text/html": [
       "<span style=\"color:blue\"> |-learning_rate: 0.001</span>"
      ],
      "text/plain": [
       "<IPython.core.display.HTML object>"
      ]
     },
     "metadata": {},
     "output_type": "display_data"
    },
    {
     "data": {
      "text/html": [
       "<span style=\"color:cyan\"> |-momentum: 0.6</span>"
      ],
      "text/plain": [
       "<IPython.core.display.HTML object>"
      ]
     },
     "metadata": {},
     "output_type": "display_data"
    },
    {
     "data": {
      "text/html": [
       "<span style=\"color:blue\"> |-num_layers: 10</span>"
      ],
      "text/plain": [
       "<IPython.core.display.HTML object>"
      ]
     },
     "metadata": {},
     "output_type": "display_data"
    },
    {
     "data": {
      "text/html": [
       "<span style=\"color:cyan\"> |-tuner/bracket: 1</span>"
      ],
      "text/plain": [
       "<IPython.core.display.HTML object>"
      ]
     },
     "metadata": {},
     "output_type": "display_data"
    },
    {
     "data": {
      "text/html": [
       "<span style=\"color:blue\"> |-tuner/epochs: 7</span>"
      ],
      "text/plain": [
       "<IPython.core.display.HTML object>"
      ]
     },
     "metadata": {},
     "output_type": "display_data"
    },
    {
     "data": {
      "text/html": [
       "<span style=\"color:cyan\"> |-tuner/initial_epoch: 0</span>"
      ],
      "text/plain": [
       "<IPython.core.display.HTML object>"
      ]
     },
     "metadata": {},
     "output_type": "display_data"
    },
    {
     "data": {
      "text/html": [
       "<span style=\"color:blue\"> |-tuner/round: 0</span>"
      ],
      "text/plain": [
       "<IPython.core.display.HTML object>"
      ]
     },
     "metadata": {},
     "output_type": "display_data"
    },
    {
     "data": {
      "text/html": [
       "<span style=\"color:cyan\"> |-units_0: 48</span>"
      ],
      "text/plain": [
       "<IPython.core.display.HTML object>"
      ]
     },
     "metadata": {},
     "output_type": "display_data"
    },
    {
     "data": {
      "text/html": [
       "<span style=\"color:blue\"> |-units_1: 80</span>"
      ],
      "text/plain": [
       "<IPython.core.display.HTML object>"
      ]
     },
     "metadata": {},
     "output_type": "display_data"
    },
    {
     "data": {
      "text/html": [
       "<span style=\"color:cyan\"> |-units_2: 112</span>"
      ],
      "text/plain": [
       "<IPython.core.display.HTML object>"
      ]
     },
     "metadata": {},
     "output_type": "display_data"
    },
    {
     "data": {
      "text/html": [
       "<span style=\"color:blue\"> |-units_3: 120</span>"
      ],
      "text/plain": [
       "<IPython.core.display.HTML object>"
      ]
     },
     "metadata": {},
     "output_type": "display_data"
    },
    {
     "data": {
      "text/html": [
       "<span style=\"color:cyan\"> |-units_4: 200</span>"
      ],
      "text/plain": [
       "<IPython.core.display.HTML object>"
      ]
     },
     "metadata": {},
     "output_type": "display_data"
    },
    {
     "data": {
      "text/html": [
       "<span style=\"color:blue\"> |-units_5: 144</span>"
      ],
      "text/plain": [
       "<IPython.core.display.HTML object>"
      ]
     },
     "metadata": {},
     "output_type": "display_data"
    },
    {
     "data": {
      "text/html": [
       "<span style=\"color:cyan\"> |-units_6: 104</span>"
      ],
      "text/plain": [
       "<IPython.core.display.HTML object>"
      ]
     },
     "metadata": {},
     "output_type": "display_data"
    },
    {
     "data": {
      "text/html": [
       "<span style=\"color:blue\"> |-units_7: 24</span>"
      ],
      "text/plain": [
       "<IPython.core.display.HTML object>"
      ]
     },
     "metadata": {},
     "output_type": "display_data"
    },
    {
     "data": {
      "text/html": [
       "<span style=\"color:cyan\"> |-units_8: 16</span>"
      ],
      "text/plain": [
       "<IPython.core.display.HTML object>"
      ]
     },
     "metadata": {},
     "output_type": "display_data"
    },
    {
     "data": {
      "text/html": [
       "<span style=\"color:blue\"> |-units_9: 16</span>"
      ],
      "text/plain": [
       "<IPython.core.display.HTML object>"
      ]
     },
     "metadata": {},
     "output_type": "display_data"
    },
    {
     "data": {
      "text/html": [
       "<span style=\"color:cyan\"> |-Score: 0.687001645565033</span>"
      ],
      "text/plain": [
       "<IPython.core.display.HTML object>"
      ]
     },
     "metadata": {},
     "output_type": "display_data"
    },
    {
     "data": {
      "text/html": [
       "<span style=\"color:cyan\"> |-Best step: 0</span>"
      ],
      "text/plain": [
       "<IPython.core.display.HTML object>"
      ]
     },
     "metadata": {},
     "output_type": "display_data"
    },
    {
     "name": "stdout",
     "output_type": "stream",
     "text": [
      "Train on 10786 samples, validate on 2697 samples\n",
      "Epoch 1/7\n",
      "10786/10786 [==============================] - ETA: 3:35 - loss: 0.6935 - accuracy: 0.62 - ETA: 13s - loss: 0.8207 - accuracy: 0.4982 - ETA: 6s - loss: 0.7795 - accuracy: 0.487 - ETA: 4s - loss: 0.7524 - accuracy: 0.49 - ETA: 3s - loss: 0.7382 - accuracy: 0.49 - ETA: 2s - loss: 0.7294 - accuracy: 0.50 - ETA: 2s - loss: 0.7234 - accuracy: 0.50 - ETA: 1s - loss: 0.7180 - accuracy: 0.51 - ETA: 1s - loss: 0.7150 - accuracy: 0.51 - ETA: 1s - loss: 0.7126 - accuracy: 0.51 - ETA: 1s - loss: 0.7109 - accuracy: 0.51 - ETA: 1s - loss: 0.7093 - accuracy: 0.51 - ETA: 0s - loss: 0.7079 - accuracy: 0.51 - ETA: 0s - loss: 0.7065 - accuracy: 0.52 - ETA: 0s - loss: 0.7056 - accuracy: 0.51 - ETA: 0s - loss: 0.7048 - accuracy: 0.51 - ETA: 0s - loss: 0.7039 - accuracy: 0.51 - ETA: 0s - loss: 0.7028 - accuracy: 0.51 - ETA: 0s - loss: 0.7025 - accuracy: 0.51 - ETA: 0s - loss: 0.7020 - accuracy: 0.51 - ETA: 0s - loss: 0.7015 - accuracy: 0.51 - 2s 178us/sample - loss: 0.7015 - accuracy: 0.5175 - val_loss: 0.6924 - val_accuracy: 0.5217\n",
      "Epoch 2/7\n",
      "10786/10786 [==============================] - ETA: 1s - loss: 0.6896 - accuracy: 0.53 - ETA: 0s - loss: 0.6896 - accuracy: 0.55 - ETA: 0s - loss: 0.6925 - accuracy: 0.52 - ETA: 0s - loss: 0.6928 - accuracy: 0.52 - ETA: 0s - loss: 0.6931 - accuracy: 0.51 - ETA: 0s - loss: 0.6930 - accuracy: 0.51 - ETA: 0s - loss: 0.6930 - accuracy: 0.51 - ETA: 0s - loss: 0.6931 - accuracy: 0.51 - ETA: 0s - loss: 0.6931 - accuracy: 0.51 - ETA: 0s - loss: 0.6929 - accuracy: 0.51 - ETA: 0s - loss: 0.6926 - accuracy: 0.51 - ETA: 0s - loss: 0.6927 - accuracy: 0.51 - ETA: 0s - loss: 0.6928 - accuracy: 0.51 - ETA: 0s - loss: 0.6928 - accuracy: 0.51 - ETA: 0s - loss: 0.6929 - accuracy: 0.51 - ETA: 0s - loss: 0.6929 - accuracy: 0.51 - ETA: 0s - loss: 0.6929 - accuracy: 0.51 - ETA: 0s - loss: 0.6927 - accuracy: 0.51 - ETA: 0s - loss: 0.6926 - accuracy: 0.51 - ETA: 0s - loss: 0.6927 - accuracy: 0.51 - 1s 107us/sample - loss: 0.6927 - accuracy: 0.5193 - val_loss: 0.6923 - val_accuracy: 0.5217\n",
      "Epoch 3/7\n",
      "10786/10786 [==============================] - ETA: 1s - loss: 0.6905 - accuracy: 0.53 - ETA: 0s - loss: 0.6933 - accuracy: 0.51 - ETA: 0s - loss: 0.6911 - accuracy: 0.53 - ETA: 0s - loss: 0.6921 - accuracy: 0.52 - ETA: 0s - loss: 0.6922 - accuracy: 0.52 - ETA: 0s - loss: 0.6919 - accuracy: 0.52 - ETA: 0s - loss: 0.6921 - accuracy: 0.52 - ETA: 0s - loss: 0.6922 - accuracy: 0.52 - ETA: 0s - loss: 0.6922 - accuracy: 0.52 - ETA: 0s - loss: 0.6925 - accuracy: 0.52 - ETA: 0s - loss: 0.6924 - accuracy: 0.52 - ETA: 0s - loss: 0.6926 - accuracy: 0.52 - ETA: 0s - loss: 0.6925 - accuracy: 0.52 - ETA: 0s - loss: 0.6927 - accuracy: 0.52 - ETA: 0s - loss: 0.6926 - accuracy: 0.52 - ETA: 0s - loss: 0.6926 - accuracy: 0.52 - ETA: 0s - loss: 0.6926 - accuracy: 0.52 - ETA: 0s - loss: 0.6927 - accuracy: 0.52 - ETA: 0s - loss: 0.6927 - accuracy: 0.52 - ETA: 0s - loss: 0.6927 - accuracy: 0.52 - 1s 106us/sample - loss: 0.6926 - accuracy: 0.5219 - val_loss: 0.6923 - val_accuracy: 0.5217\n",
      "Epoch 4/7\n",
      "10786/10786 [==============================] - ETA: 1s - loss: 0.7017 - accuracy: 0.43 - ETA: 0s - loss: 0.6939 - accuracy: 0.51 - ETA: 0s - loss: 0.6925 - accuracy: 0.52 - ETA: 0s - loss: 0.6921 - accuracy: 0.52 - ETA: 0s - loss: 0.6919 - accuracy: 0.52 - ETA: 0s - loss: 0.6924 - accuracy: 0.52 - ETA: 0s - loss: 0.6925 - accuracy: 0.52 - ETA: 0s - loss: 0.6926 - accuracy: 0.52 - ETA: 0s - loss: 0.6927 - accuracy: 0.52 - ETA: 0s - loss: 0.6927 - accuracy: 0.52 - ETA: 0s - loss: 0.6928 - accuracy: 0.51 - ETA: 0s - loss: 0.6924 - accuracy: 0.52 - ETA: 0s - loss: 0.6923 - accuracy: 0.52 - ETA: 0s - loss: 0.6924 - accuracy: 0.52 - ETA: 0s - loss: 0.6926 - accuracy: 0.52 - ETA: 0s - loss: 0.6926 - accuracy: 0.52 - ETA: 0s - loss: 0.6925 - accuracy: 0.52 - ETA: 0s - loss: 0.6925 - accuracy: 0.52 - ETA: 0s - loss: 0.6926 - accuracy: 0.52 - ETA: 0s - loss: 0.6925 - accuracy: 0.52 - ETA: 0s - loss: 0.6926 - accuracy: 0.52 - 1s 108us/sample - loss: 0.6926 - accuracy: 0.5219 - val_loss: 0.6922 - val_accuracy: 0.5217\n",
      "Epoch 5/7\n",
      "10786/10786 [==============================] - ETA: 1s - loss: 0.7051 - accuracy: 0.34 - ETA: 1s - loss: 0.6927 - accuracy: 0.52 - ETA: 0s - loss: 0.6924 - accuracy: 0.52 - ETA: 0s - loss: 0.6929 - accuracy: 0.51 - ETA: 0s - loss: 0.6930 - accuracy: 0.51 - ETA: 0s - loss: 0.6927 - accuracy: 0.52 - ETA: 0s - loss: 0.6927 - accuracy: 0.52 - ETA: 0s - loss: 0.6923 - accuracy: 0.52 - ETA: 0s - loss: 0.6927 - accuracy: 0.51 - ETA: 0s - loss: 0.6928 - accuracy: 0.51 - ETA: 0s - loss: 0.6928 - accuracy: 0.51 - ETA: 0s - loss: 0.6928 - accuracy: 0.51 - ETA: 0s - loss: 0.6924 - accuracy: 0.52 - ETA: 0s - loss: 0.6921 - accuracy: 0.52 - ETA: 0s - loss: 0.6922 - accuracy: 0.52 - ETA: 0s - loss: 0.6923 - accuracy: 0.52 - ETA: 0s - loss: 0.6925 - accuracy: 0.52 - ETA: 0s - loss: 0.6925 - accuracy: 0.52 - ETA: 0s - loss: 0.6926 - accuracy: 0.52 - ETA: 0s - loss: 0.6926 - accuracy: 0.52 - 1s 105us/sample - loss: 0.6925 - accuracy: 0.5219 - val_loss: 0.6923 - val_accuracy: 0.5217\n",
      "Epoch 6/7\n",
      "10786/10786 [==============================] - ETA: 1s - loss: 0.6844 - accuracy: 0.59 - ETA: 0s - loss: 0.6924 - accuracy: 0.52 - ETA: 0s - loss: 0.6928 - accuracy: 0.51 - ETA: 0s - loss: 0.6921 - accuracy: 0.52 - ETA: 0s - loss: 0.6926 - accuracy: 0.52 - ETA: 0s - loss: 0.6926 - accuracy: 0.52 - ETA: 0s - loss: 0.6921 - accuracy: 0.52 - ETA: 0s - loss: 0.6921 - accuracy: 0.52 - ETA: 0s - loss: 0.6923 - accuracy: 0.52 - ETA: 0s - loss: 0.6922 - accuracy: 0.52 - ETA: 0s - loss: 0.6926 - accuracy: 0.52 - ETA: 0s - loss: 0.6927 - accuracy: 0.51 - ETA: 0s - loss: 0.6927 - accuracy: 0.51 - ETA: 0s - loss: 0.6928 - accuracy: 0.51 - ETA: 0s - loss: 0.6924 - accuracy: 0.51 - ETA: 0s - loss: 0.6925 - accuracy: 0.52 - ETA: 0s - loss: 0.6925 - accuracy: 0.51 - ETA: 0s - loss: 0.6925 - accuracy: 0.52 - ETA: 0s - loss: 0.6923 - accuracy: 0.52 - ETA: 0s - loss: 0.6924 - accuracy: 0.52 - 1s 105us/sample - loss: 0.6924 - accuracy: 0.5217 - val_loss: 0.6922 - val_accuracy: 0.5217\n",
      "Epoch 7/7\n",
      "10786/10786 [==============================] - ETA: 1s - loss: 0.7077 - accuracy: 0.37 - ETA: 0s - loss: 0.6930 - accuracy: 0.51 - ETA: 0s - loss: 0.6940 - accuracy: 0.50 - ETA: 0s - loss: 0.6933 - accuracy: 0.51 - ETA: 0s - loss: 0.6935 - accuracy: 0.51 - ETA: 0s - loss: 0.6934 - accuracy: 0.51 - ETA: 0s - loss: 0.6926 - accuracy: 0.52 - ETA: 0s - loss: 0.6926 - accuracy: 0.52 - ETA: 0s - loss: 0.6927 - accuracy: 0.52 - ETA: 0s - loss: 0.6928 - accuracy: 0.51 - ETA: 0s - loss: 0.6930 - accuracy: 0.51 - ETA: 0s - loss: 0.6930 - accuracy: 0.51 - ETA: 0s - loss: 0.6930 - accuracy: 0.51 - ETA: 0s - loss: 0.6929 - accuracy: 0.51 - ETA: 0s - loss: 0.6929 - accuracy: 0.51 - ETA: 0s - loss: 0.6929 - accuracy: 0.51 - ETA: 0s - loss: 0.6930 - accuracy: 0.51 - ETA: 0s - loss: 0.6929 - accuracy: 0.51 - ETA: 0s - loss: 0.6925 - accuracy: 0.52 - ETA: 0s - loss: 0.6923 - accuracy: 0.52 - 1s 105us/sample - loss: 0.6924 - accuracy: 0.5219 - val_loss: 0.6925 - val_accuracy: 0.5217\n"
     ]
    },
    {
     "data": {
      "text/html": [
       "<span style=\"color:#4527A0\"><h1 style=\"font-size:18px\">Trial complete</h1></span>"
      ],
      "text/plain": [
       "<IPython.core.display.HTML object>"
      ]
     },
     "metadata": {},
     "output_type": "display_data"
    },
    {
     "data": {
      "text/html": [
       "<span style=\"color:#4527A0\"><h1 style=\"font-size:18px\">Trial summary</h1></span>"
      ],
      "text/plain": [
       "<IPython.core.display.HTML object>"
      ]
     },
     "metadata": {},
     "output_type": "display_data"
    },
    {
     "data": {
      "text/html": [
       "<span style=\"color:#7E57C2\"><h2 style=\"font-size:16px\">Hp values:</h2></span>"
      ],
      "text/plain": [
       "<IPython.core.display.HTML object>"
      ]
     },
     "metadata": {},
     "output_type": "display_data"
    },
    {
     "data": {
      "text/html": [
       "<span style=\"color:cyan\"> |-drop_rate_0: 0.3</span>"
      ],
      "text/plain": [
       "<IPython.core.display.HTML object>"
      ]
     },
     "metadata": {},
     "output_type": "display_data"
    },
    {
     "data": {
      "text/html": [
       "<span style=\"color:blue\"> |-drop_rate_1: 0.01</span>"
      ],
      "text/plain": [
       "<IPython.core.display.HTML object>"
      ]
     },
     "metadata": {},
     "output_type": "display_data"
    },
    {
     "data": {
      "text/html": [
       "<span style=\"color:cyan\"> |-drop_rate_2: 0.2</span>"
      ],
      "text/plain": [
       "<IPython.core.display.HTML object>"
      ]
     },
     "metadata": {},
     "output_type": "display_data"
    },
    {
     "data": {
      "text/html": [
       "<span style=\"color:blue\"> |-drop_rate_3: 0.01</span>"
      ],
      "text/plain": [
       "<IPython.core.display.HTML object>"
      ]
     },
     "metadata": {},
     "output_type": "display_data"
    },
    {
     "data": {
      "text/html": [
       "<span style=\"color:cyan\"> |-drop_rate_4: 0.01</span>"
      ],
      "text/plain": [
       "<IPython.core.display.HTML object>"
      ]
     },
     "metadata": {},
     "output_type": "display_data"
    },
    {
     "data": {
      "text/html": [
       "<span style=\"color:blue\"> |-drop_rate_5: 0.2</span>"
      ],
      "text/plain": [
       "<IPython.core.display.HTML object>"
      ]
     },
     "metadata": {},
     "output_type": "display_data"
    },
    {
     "data": {
      "text/html": [
       "<span style=\"color:cyan\"> |-drop_rate_6: 0.1</span>"
      ],
      "text/plain": [
       "<IPython.core.display.HTML object>"
      ]
     },
     "metadata": {},
     "output_type": "display_data"
    },
    {
     "data": {
      "text/html": [
       "<span style=\"color:blue\"> |-drop_rate_7: 0.3</span>"
      ],
      "text/plain": [
       "<IPython.core.display.HTML object>"
      ]
     },
     "metadata": {},
     "output_type": "display_data"
    },
    {
     "data": {
      "text/html": [
       "<span style=\"color:cyan\"> |-drop_rate_9: 0.01</span>"
      ],
      "text/plain": [
       "<IPython.core.display.HTML object>"
      ]
     },
     "metadata": {},
     "output_type": "display_data"
    },
    {
     "data": {
      "text/html": [
       "<span style=\"color:blue\"> |-learning_rate: 0.01</span>"
      ],
      "text/plain": [
       "<IPython.core.display.HTML object>"
      ]
     },
     "metadata": {},
     "output_type": "display_data"
    },
    {
     "data": {
      "text/html": [
       "<span style=\"color:cyan\"> |-momentum: 0.2</span>"
      ],
      "text/plain": [
       "<IPython.core.display.HTML object>"
      ]
     },
     "metadata": {},
     "output_type": "display_data"
    },
    {
     "data": {
      "text/html": [
       "<span style=\"color:blue\"> |-num_layers: 8</span>"
      ],
      "text/plain": [
       "<IPython.core.display.HTML object>"
      ]
     },
     "metadata": {},
     "output_type": "display_data"
    },
    {
     "data": {
      "text/html": [
       "<span style=\"color:cyan\"> |-tuner/bracket: 1</span>"
      ],
      "text/plain": [
       "<IPython.core.display.HTML object>"
      ]
     },
     "metadata": {},
     "output_type": "display_data"
    },
    {
     "data": {
      "text/html": [
       "<span style=\"color:blue\"> |-tuner/epochs: 7</span>"
      ],
      "text/plain": [
       "<IPython.core.display.HTML object>"
      ]
     },
     "metadata": {},
     "output_type": "display_data"
    },
    {
     "data": {
      "text/html": [
       "<span style=\"color:cyan\"> |-tuner/initial_epoch: 0</span>"
      ],
      "text/plain": [
       "<IPython.core.display.HTML object>"
      ]
     },
     "metadata": {},
     "output_type": "display_data"
    },
    {
     "data": {
      "text/html": [
       "<span style=\"color:blue\"> |-tuner/round: 0</span>"
      ],
      "text/plain": [
       "<IPython.core.display.HTML object>"
      ]
     },
     "metadata": {},
     "output_type": "display_data"
    },
    {
     "data": {
      "text/html": [
       "<span style=\"color:cyan\"> |-units_0: 168</span>"
      ],
      "text/plain": [
       "<IPython.core.display.HTML object>"
      ]
     },
     "metadata": {},
     "output_type": "display_data"
    },
    {
     "data": {
      "text/html": [
       "<span style=\"color:blue\"> |-units_1: 200</span>"
      ],
      "text/plain": [
       "<IPython.core.display.HTML object>"
      ]
     },
     "metadata": {},
     "output_type": "display_data"
    },
    {
     "data": {
      "text/html": [
       "<span style=\"color:cyan\"> |-units_2: 24</span>"
      ],
      "text/plain": [
       "<IPython.core.display.HTML object>"
      ]
     },
     "metadata": {},
     "output_type": "display_data"
    },
    {
     "data": {
      "text/html": [
       "<span style=\"color:blue\"> |-units_3: 216</span>"
      ],
      "text/plain": [
       "<IPython.core.display.HTML object>"
      ]
     },
     "metadata": {},
     "output_type": "display_data"
    },
    {
     "data": {
      "text/html": [
       "<span style=\"color:cyan\"> |-units_4: 136</span>"
      ],
      "text/plain": [
       "<IPython.core.display.HTML object>"
      ]
     },
     "metadata": {},
     "output_type": "display_data"
    },
    {
     "data": {
      "text/html": [
       "<span style=\"color:blue\"> |-units_5: 248</span>"
      ],
      "text/plain": [
       "<IPython.core.display.HTML object>"
      ]
     },
     "metadata": {},
     "output_type": "display_data"
    },
    {
     "data": {
      "text/html": [
       "<span style=\"color:cyan\"> |-units_6: 64</span>"
      ],
      "text/plain": [
       "<IPython.core.display.HTML object>"
      ]
     },
     "metadata": {},
     "output_type": "display_data"
    },
    {
     "data": {
      "text/html": [
       "<span style=\"color:blue\"> |-units_7: 232</span>"
      ],
      "text/plain": [
       "<IPython.core.display.HTML object>"
      ]
     },
     "metadata": {},
     "output_type": "display_data"
    },
    {
     "data": {
      "text/html": [
       "<span style=\"color:cyan\"> |-units_8: 176</span>"
      ],
      "text/plain": [
       "<IPython.core.display.HTML object>"
      ]
     },
     "metadata": {},
     "output_type": "display_data"
    },
    {
     "data": {
      "text/html": [
       "<span style=\"color:blue\"> |-units_9: 192</span>"
      ],
      "text/plain": [
       "<IPython.core.display.HTML object>"
      ]
     },
     "metadata": {},
     "output_type": "display_data"
    },
    {
     "data": {
      "text/html": [
       "<span style=\"color:cyan\"> |-Score: 0.5218802094459534</span>"
      ],
      "text/plain": [
       "<IPython.core.display.HTML object>"
      ]
     },
     "metadata": {},
     "output_type": "display_data"
    },
    {
     "data": {
      "text/html": [
       "<span style=\"color:cyan\"> |-Best step: 0</span>"
      ],
      "text/plain": [
       "<IPython.core.display.HTML object>"
      ]
     },
     "metadata": {},
     "output_type": "display_data"
    },
    {
     "name": "stdout",
     "output_type": "stream",
     "text": [
      "Train on 10786 samples, validate on 2697 samples\n",
      "Epoch 1/7\n",
      "10786/10786 [==============================] - ETA: 2:57 - loss: 0.7672 - accuracy: 0.56 - ETA: 9s - loss: 0.7314 - accuracy: 0.5109 - ETA: 4s - loss: 0.7084 - accuracy: 0.54 - ETA: 3s - loss: 0.6948 - accuracy: 0.56 - ETA: 2s - loss: 0.6808 - accuracy: 0.58 - ETA: 1s - loss: 0.6766 - accuracy: 0.58 - ETA: 1s - loss: 0.6721 - accuracy: 0.59 - ETA: 1s - loss: 0.6597 - accuracy: 0.61 - ETA: 1s - loss: 0.6580 - accuracy: 0.61 - ETA: 0s - loss: 0.6541 - accuracy: 0.62 - ETA: 0s - loss: 0.6549 - accuracy: 0.62 - ETA: 0s - loss: 0.6544 - accuracy: 0.62 - ETA: 0s - loss: 0.6528 - accuracy: 0.62 - ETA: 0s - loss: 0.6506 - accuracy: 0.62 - ETA: 0s - loss: 0.6481 - accuracy: 0.63 - ETA: 0s - loss: 0.6459 - accuracy: 0.63 - ETA: 0s - loss: 0.6433 - accuracy: 0.63 - ETA: 0s - loss: 0.6422 - accuracy: 0.63 - 2s 162us/sample - loss: 0.6408 - accuracy: 0.6390 - val_loss: 1.1102 - val_accuracy: 0.5425\n",
      "Epoch 2/7\n",
      "10786/10786 [==============================] - ETA: 1s - loss: 0.9561 - accuracy: 0.65 - ETA: 0s - loss: 0.6316 - accuracy: 0.69 - ETA: 0s - loss: 0.6185 - accuracy: 0.68 - ETA: 0s - loss: 0.6172 - accuracy: 0.68 - ETA: 0s - loss: 0.6071 - accuracy: 0.68 - ETA: 0s - loss: 0.6152 - accuracy: 0.67 - ETA: 0s - loss: 0.6149 - accuracy: 0.67 - ETA: 0s - loss: 0.6154 - accuracy: 0.67 - ETA: 0s - loss: 0.6124 - accuracy: 0.67 - ETA: 0s - loss: 0.6115 - accuracy: 0.67 - ETA: 0s - loss: 0.6089 - accuracy: 0.68 - ETA: 0s - loss: 0.6091 - accuracy: 0.68 - ETA: 0s - loss: 0.6091 - accuracy: 0.68 - ETA: 0s - loss: 0.6097 - accuracy: 0.68 - ETA: 0s - loss: 0.6112 - accuracy: 0.67 - ETA: 0s - loss: 0.6108 - accuracy: 0.67 - ETA: 0s - loss: 0.6124 - accuracy: 0.67 - ETA: 0s - loss: 0.6117 - accuracy: 0.67 - 1s 96us/sample - loss: 0.6112 - accuracy: 0.6767 - val_loss: 0.5896 - val_accuracy: 0.6893\n",
      "Epoch 3/7\n",
      "10786/10786 [==============================] - ETA: 1s - loss: 0.6245 - accuracy: 0.65 - ETA: 0s - loss: 0.5928 - accuracy: 0.72 - ETA: 0s - loss: 0.5935 - accuracy: 0.70 - ETA: 0s - loss: 0.6110 - accuracy: 0.67 - ETA: 0s - loss: 0.6065 - accuracy: 0.67 - ETA: 0s - loss: 0.6104 - accuracy: 0.67 - ETA: 0s - loss: 0.6092 - accuracy: 0.67 - ETA: 0s - loss: 0.6042 - accuracy: 0.67 - ETA: 0s - loss: 0.6083 - accuracy: 0.67 - ETA: 0s - loss: 0.6082 - accuracy: 0.67 - ETA: 0s - loss: 0.6069 - accuracy: 0.67 - ETA: 0s - loss: 0.6058 - accuracy: 0.67 - ETA: 0s - loss: 0.6070 - accuracy: 0.67 - ETA: 0s - loss: 0.6063 - accuracy: 0.67 - ETA: 0s - loss: 0.6053 - accuracy: 0.67 - ETA: 0s - loss: 0.6057 - accuracy: 0.67 - ETA: 0s - loss: 0.6042 - accuracy: 0.67 - ETA: 0s - loss: 0.6042 - accuracy: 0.67 - ETA: 0s - loss: 0.6042 - accuracy: 0.67 - 1s 99us/sample - loss: 0.6042 - accuracy: 0.6784 - val_loss: 0.5894 - val_accuracy: 0.6904\n",
      "Epoch 4/7\n",
      "10786/10786 [==============================] - ETA: 1s - loss: 0.5177 - accuracy: 0.78 - ETA: 0s - loss: 0.6178 - accuracy: 0.67 - ETA: 0s - loss: 0.6161 - accuracy: 0.67 - ETA: 0s - loss: 0.6142 - accuracy: 0.66 - ETA: 0s - loss: 0.6141 - accuracy: 0.66 - ETA: 0s - loss: 0.6088 - accuracy: 0.67 - ETA: 0s - loss: 0.6070 - accuracy: 0.67 - ETA: 0s - loss: 0.6058 - accuracy: 0.67 - ETA: 0s - loss: 0.6045 - accuracy: 0.67 - ETA: 0s - loss: 0.6035 - accuracy: 0.67 - ETA: 0s - loss: 0.6034 - accuracy: 0.67 - ETA: 0s - loss: 0.6032 - accuracy: 0.68 - ETA: 0s - loss: 0.6041 - accuracy: 0.67 - ETA: 0s - loss: 0.6055 - accuracy: 0.67 - ETA: 0s - loss: 0.6037 - accuracy: 0.67 - ETA: 0s - loss: 0.6031 - accuracy: 0.67 - ETA: 0s - loss: 0.6036 - accuracy: 0.67 - ETA: 0s - loss: 0.6014 - accuracy: 0.68 - ETA: 0s - loss: 0.6014 - accuracy: 0.68 - 1s 100us/sample - loss: 0.6017 - accuracy: 0.6826 - val_loss: 0.6013 - val_accuracy: 0.6852\n",
      "Epoch 5/7\n",
      "10786/10786 [==============================] - ETA: 1s - loss: 0.5456 - accuracy: 0.71 - ETA: 0s - loss: 0.6087 - accuracy: 0.67 - ETA: 0s - loss: 0.6057 - accuracy: 0.67 - ETA: 0s - loss: 0.6131 - accuracy: 0.67 - ETA: 0s - loss: 0.6101 - accuracy: 0.67 - ETA: 0s - loss: 0.6059 - accuracy: 0.68 - ETA: 0s - loss: 0.6071 - accuracy: 0.68 - ETA: 0s - loss: 0.6031 - accuracy: 0.68 - ETA: 0s - loss: 0.5980 - accuracy: 0.68 - ETA: 0s - loss: 0.5970 - accuracy: 0.69 - ETA: 0s - loss: 0.5987 - accuracy: 0.68 - ETA: 0s - loss: 0.5982 - accuracy: 0.69 - ETA: 0s - loss: 0.5983 - accuracy: 0.68 - ETA: 0s - loss: 0.5991 - accuracy: 0.68 - ETA: 0s - loss: 0.6004 - accuracy: 0.68 - ETA: 0s - loss: 0.6012 - accuracy: 0.68 - ETA: 0s - loss: 0.6012 - accuracy: 0.68 - ETA: 0s - loss: 0.6010 - accuracy: 0.68 - ETA: 0s - loss: 0.6005 - accuracy: 0.68 - 1s 100us/sample - loss: 0.6009 - accuracy: 0.6837 - val_loss: 0.5815 - val_accuracy: 0.7004\n",
      "Epoch 6/7\n",
      "10786/10786 [==============================] - ETA: 1s - loss: 0.7111 - accuracy: 0.50 - ETA: 0s - loss: 0.5761 - accuracy: 0.70 - ETA: 0s - loss: 0.5905 - accuracy: 0.69 - ETA: 0s - loss: 0.5991 - accuracy: 0.68 - ETA: 0s - loss: 0.6004 - accuracy: 0.68 - ETA: 0s - loss: 0.5988 - accuracy: 0.68 - ETA: 0s - loss: 0.6031 - accuracy: 0.67 - ETA: 0s - loss: 0.6026 - accuracy: 0.67 - ETA: 0s - loss: 0.6085 - accuracy: 0.67 - ETA: 0s - loss: 0.6070 - accuracy: 0.67 - ETA: 0s - loss: 0.6046 - accuracy: 0.67 - ETA: 0s - loss: 0.6015 - accuracy: 0.67 - ETA: 0s - loss: 0.6010 - accuracy: 0.68 - ETA: 0s - loss: 0.6001 - accuracy: 0.68 - ETA: 0s - loss: 0.5996 - accuracy: 0.68 - ETA: 0s - loss: 0.5982 - accuracy: 0.68 - ETA: 0s - loss: 0.5996 - accuracy: 0.68 - ETA: 0s - loss: 0.6007 - accuracy: 0.67 - 1s 96us/sample - loss: 0.5996 - accuracy: 0.6813 - val_loss: 0.7256 - val_accuracy: 0.6292\n",
      "Epoch 7/7\n",
      "10786/10786 [==============================] - ETA: 1s - loss: 0.9604 - accuracy: 0.37 - ETA: 0s - loss: 0.6098 - accuracy: 0.69 - ETA: 0s - loss: 0.6011 - accuracy: 0.69 - ETA: 0s - loss: 0.6047 - accuracy: 0.68 - ETA: 0s - loss: 0.6022 - accuracy: 0.68 - ETA: 0s - loss: 0.5969 - accuracy: 0.69 - ETA: 0s - loss: 0.6016 - accuracy: 0.68 - ETA: 0s - loss: 0.6007 - accuracy: 0.68 - ETA: 0s - loss: 0.5989 - accuracy: 0.68 - ETA: 0s - loss: 0.6009 - accuracy: 0.68 - ETA: 0s - loss: 0.6016 - accuracy: 0.68 - ETA: 0s - loss: 0.6032 - accuracy: 0.68 - ETA: 0s - loss: 0.6024 - accuracy: 0.68 - ETA: 0s - loss: 0.6011 - accuracy: 0.68 - ETA: 0s - loss: 0.5995 - accuracy: 0.68 - ETA: 0s - loss: 0.5985 - accuracy: 0.68 - ETA: 0s - loss: 0.5987 - accuracy: 0.68 - ETA: 0s - loss: 0.5988 - accuracy: 0.68 - 1s 97us/sample - loss: 0.5995 - accuracy: 0.6841 - val_loss: 0.5753 - val_accuracy: 0.6900\n"
     ]
    },
    {
     "data": {
      "text/html": [
       "<span style=\"color:#4527A0\"><h1 style=\"font-size:18px\">Trial complete</h1></span>"
      ],
      "text/plain": [
       "<IPython.core.display.HTML object>"
      ]
     },
     "metadata": {},
     "output_type": "display_data"
    },
    {
     "data": {
      "text/html": [
       "<span style=\"color:#4527A0\"><h1 style=\"font-size:18px\">Trial summary</h1></span>"
      ],
      "text/plain": [
       "<IPython.core.display.HTML object>"
      ]
     },
     "metadata": {},
     "output_type": "display_data"
    },
    {
     "data": {
      "text/html": [
       "<span style=\"color:#7E57C2\"><h2 style=\"font-size:16px\">Hp values:</h2></span>"
      ],
      "text/plain": [
       "<IPython.core.display.HTML object>"
      ]
     },
     "metadata": {},
     "output_type": "display_data"
    },
    {
     "data": {
      "text/html": [
       "<span style=\"color:cyan\"> |-drop_rate_0: 0.01</span>"
      ],
      "text/plain": [
       "<IPython.core.display.HTML object>"
      ]
     },
     "metadata": {},
     "output_type": "display_data"
    },
    {
     "data": {
      "text/html": [
       "<span style=\"color:blue\"> |-drop_rate_1: 0.2</span>"
      ],
      "text/plain": [
       "<IPython.core.display.HTML object>"
      ]
     },
     "metadata": {},
     "output_type": "display_data"
    },
    {
     "data": {
      "text/html": [
       "<span style=\"color:cyan\"> |-drop_rate_2: 0.1</span>"
      ],
      "text/plain": [
       "<IPython.core.display.HTML object>"
      ]
     },
     "metadata": {},
     "output_type": "display_data"
    },
    {
     "data": {
      "text/html": [
       "<span style=\"color:blue\"> |-drop_rate_3: 0.2</span>"
      ],
      "text/plain": [
       "<IPython.core.display.HTML object>"
      ]
     },
     "metadata": {},
     "output_type": "display_data"
    },
    {
     "data": {
      "text/html": [
       "<span style=\"color:cyan\"> |-drop_rate_4: 0.01</span>"
      ],
      "text/plain": [
       "<IPython.core.display.HTML object>"
      ]
     },
     "metadata": {},
     "output_type": "display_data"
    },
    {
     "data": {
      "text/html": [
       "<span style=\"color:blue\"> |-drop_rate_5: 0.3</span>"
      ],
      "text/plain": [
       "<IPython.core.display.HTML object>"
      ]
     },
     "metadata": {},
     "output_type": "display_data"
    },
    {
     "data": {
      "text/html": [
       "<span style=\"color:cyan\"> |-drop_rate_6: 0.01</span>"
      ],
      "text/plain": [
       "<IPython.core.display.HTML object>"
      ]
     },
     "metadata": {},
     "output_type": "display_data"
    },
    {
     "data": {
      "text/html": [
       "<span style=\"color:blue\"> |-drop_rate_7: 0.3</span>"
      ],
      "text/plain": [
       "<IPython.core.display.HTML object>"
      ]
     },
     "metadata": {},
     "output_type": "display_data"
    },
    {
     "data": {
      "text/html": [
       "<span style=\"color:cyan\"> |-drop_rate_9: 0.3</span>"
      ],
      "text/plain": [
       "<IPython.core.display.HTML object>"
      ]
     },
     "metadata": {},
     "output_type": "display_data"
    },
    {
     "data": {
      "text/html": [
       "<span style=\"color:blue\"> |-learning_rate: 0.001</span>"
      ],
      "text/plain": [
       "<IPython.core.display.HTML object>"
      ]
     },
     "metadata": {},
     "output_type": "display_data"
    },
    {
     "data": {
      "text/html": [
       "<span style=\"color:cyan\"> |-momentum: 0.4</span>"
      ],
      "text/plain": [
       "<IPython.core.display.HTML object>"
      ]
     },
     "metadata": {},
     "output_type": "display_data"
    },
    {
     "data": {
      "text/html": [
       "<span style=\"color:blue\"> |-num_layers: 6</span>"
      ],
      "text/plain": [
       "<IPython.core.display.HTML object>"
      ]
     },
     "metadata": {},
     "output_type": "display_data"
    },
    {
     "data": {
      "text/html": [
       "<span style=\"color:cyan\"> |-tuner/bracket: 1</span>"
      ],
      "text/plain": [
       "<IPython.core.display.HTML object>"
      ]
     },
     "metadata": {},
     "output_type": "display_data"
    },
    {
     "data": {
      "text/html": [
       "<span style=\"color:blue\"> |-tuner/epochs: 7</span>"
      ],
      "text/plain": [
       "<IPython.core.display.HTML object>"
      ]
     },
     "metadata": {},
     "output_type": "display_data"
    },
    {
     "data": {
      "text/html": [
       "<span style=\"color:cyan\"> |-tuner/initial_epoch: 0</span>"
      ],
      "text/plain": [
       "<IPython.core.display.HTML object>"
      ]
     },
     "metadata": {},
     "output_type": "display_data"
    },
    {
     "data": {
      "text/html": [
       "<span style=\"color:blue\"> |-tuner/round: 0</span>"
      ],
      "text/plain": [
       "<IPython.core.display.HTML object>"
      ]
     },
     "metadata": {},
     "output_type": "display_data"
    },
    {
     "data": {
      "text/html": [
       "<span style=\"color:cyan\"> |-units_0: 136</span>"
      ],
      "text/plain": [
       "<IPython.core.display.HTML object>"
      ]
     },
     "metadata": {},
     "output_type": "display_data"
    },
    {
     "data": {
      "text/html": [
       "<span style=\"color:blue\"> |-units_1: 144</span>"
      ],
      "text/plain": [
       "<IPython.core.display.HTML object>"
      ]
     },
     "metadata": {},
     "output_type": "display_data"
    },
    {
     "data": {
      "text/html": [
       "<span style=\"color:cyan\"> |-units_2: 176</span>"
      ],
      "text/plain": [
       "<IPython.core.display.HTML object>"
      ]
     },
     "metadata": {},
     "output_type": "display_data"
    },
    {
     "data": {
      "text/html": [
       "<span style=\"color:blue\"> |-units_3: 200</span>"
      ],
      "text/plain": [
       "<IPython.core.display.HTML object>"
      ]
     },
     "metadata": {},
     "output_type": "display_data"
    },
    {
     "data": {
      "text/html": [
       "<span style=\"color:cyan\"> |-units_4: 128</span>"
      ],
      "text/plain": [
       "<IPython.core.display.HTML object>"
      ]
     },
     "metadata": {},
     "output_type": "display_data"
    },
    {
     "data": {
      "text/html": [
       "<span style=\"color:blue\"> |-units_5: 56</span>"
      ],
      "text/plain": [
       "<IPython.core.display.HTML object>"
      ]
     },
     "metadata": {},
     "output_type": "display_data"
    },
    {
     "data": {
      "text/html": [
       "<span style=\"color:cyan\"> |-units_6: 224</span>"
      ],
      "text/plain": [
       "<IPython.core.display.HTML object>"
      ]
     },
     "metadata": {},
     "output_type": "display_data"
    },
    {
     "data": {
      "text/html": [
       "<span style=\"color:blue\"> |-units_7: 160</span>"
      ],
      "text/plain": [
       "<IPython.core.display.HTML object>"
      ]
     },
     "metadata": {},
     "output_type": "display_data"
    },
    {
     "data": {
      "text/html": [
       "<span style=\"color:cyan\"> |-units_8: 48</span>"
      ],
      "text/plain": [
       "<IPython.core.display.HTML object>"
      ]
     },
     "metadata": {},
     "output_type": "display_data"
    },
    {
     "data": {
      "text/html": [
       "<span style=\"color:blue\"> |-units_9: 56</span>"
      ],
      "text/plain": [
       "<IPython.core.display.HTML object>"
      ]
     },
     "metadata": {},
     "output_type": "display_data"
    },
    {
     "data": {
      "text/html": [
       "<span style=\"color:cyan\"> |-Score: 0.6841275691986084</span>"
      ],
      "text/plain": [
       "<IPython.core.display.HTML object>"
      ]
     },
     "metadata": {},
     "output_type": "display_data"
    },
    {
     "data": {
      "text/html": [
       "<span style=\"color:cyan\"> |-Best step: 0</span>"
      ],
      "text/plain": [
       "<IPython.core.display.HTML object>"
      ]
     },
     "metadata": {},
     "output_type": "display_data"
    },
    {
     "name": "stdout",
     "output_type": "stream",
     "text": [
      "Train on 10786 samples, validate on 2697 samples\n",
      "Epoch 1/7\n",
      "10786/10786 [==============================] - ETA: 3:10 - loss: 0.6927 - accuracy: 0.43 - ETA: 8s - loss: 0.6836 - accuracy: 0.5611 - ETA: 4s - loss: 0.6750 - accuracy: 0.58 - ETA: 3s - loss: 0.6613 - accuracy: 0.60 - ETA: 2s - loss: 0.6454 - accuracy: 0.62 - ETA: 1s - loss: 0.6418 - accuracy: 0.63 - ETA: 1s - loss: 0.6327 - accuracy: 0.64 - ETA: 1s - loss: 0.6275 - accuracy: 0.65 - ETA: 0s - loss: 0.6258 - accuracy: 0.65 - ETA: 0s - loss: 0.6242 - accuracy: 0.65 - ETA: 0s - loss: 0.6210 - accuracy: 0.65 - ETA: 0s - loss: 0.6211 - accuracy: 0.65 - ETA: 0s - loss: 0.6199 - accuracy: 0.65 - ETA: 0s - loss: 0.6186 - accuracy: 0.65 - ETA: 0s - loss: 0.6172 - accuracy: 0.65 - ETA: 0s - loss: 0.6164 - accuracy: 0.66 - 2s 154us/sample - loss: 0.6173 - accuracy: 0.6585 - val_loss: 0.5854 - val_accuracy: 0.6971\n",
      "Epoch 2/7\n",
      "10786/10786 [==============================] - ETA: 1s - loss: 0.5909 - accuracy: 0.71 - ETA: 0s - loss: 0.6023 - accuracy: 0.68 - ETA: 0s - loss: 0.5955 - accuracy: 0.69 - ETA: 0s - loss: 0.5900 - accuracy: 0.69 - ETA: 0s - loss: 0.5951 - accuracy: 0.68 - ETA: 0s - loss: 0.5916 - accuracy: 0.68 - ETA: 0s - loss: 0.5937 - accuracy: 0.68 - ETA: 0s - loss: 0.5974 - accuracy: 0.67 - ETA: 0s - loss: 0.5961 - accuracy: 0.67 - ETA: 0s - loss: 0.5986 - accuracy: 0.67 - ETA: 0s - loss: 0.5976 - accuracy: 0.67 - ETA: 0s - loss: 0.5976 - accuracy: 0.67 - ETA: 0s - loss: 0.5990 - accuracy: 0.67 - ETA: 0s - loss: 0.5999 - accuracy: 0.67 - ETA: 0s - loss: 0.5999 - accuracy: 0.67 - ETA: 0s - loss: 0.5990 - accuracy: 0.67 - 1s 86us/sample - loss: 0.5972 - accuracy: 0.6765 - val_loss: 0.5779 - val_accuracy: 0.6923\n",
      "Epoch 3/7\n",
      "10786/10786 [==============================] - ETA: 1s - loss: 0.6660 - accuracy: 0.59 - ETA: 0s - loss: 0.5925 - accuracy: 0.67 - ETA: 0s - loss: 0.5908 - accuracy: 0.68 - ETA: 0s - loss: 0.5934 - accuracy: 0.68 - ETA: 0s - loss: 0.5923 - accuracy: 0.69 - ETA: 0s - loss: 0.5911 - accuracy: 0.69 - ETA: 0s - loss: 0.5936 - accuracy: 0.68 - ETA: 0s - loss: 0.5959 - accuracy: 0.68 - ETA: 0s - loss: 0.5961 - accuracy: 0.68 - ETA: 0s - loss: 0.5970 - accuracy: 0.68 - ETA: 0s - loss: 0.5964 - accuracy: 0.68 - ETA: 0s - loss: 0.5959 - accuracy: 0.68 - ETA: 0s - loss: 0.5964 - accuracy: 0.68 - ETA: 0s - loss: 0.5961 - accuracy: 0.68 - ETA: 0s - loss: 0.5953 - accuracy: 0.68 - ETA: 0s - loss: 0.5941 - accuracy: 0.68 - 1s 85us/sample - loss: 0.5948 - accuracy: 0.6853 - val_loss: 0.6102 - val_accuracy: 0.6745\n",
      "Epoch 4/7\n",
      "10786/10786 [==============================] - ETA: 1s - loss: 0.5048 - accuracy: 0.78 - ETA: 0s - loss: 0.5886 - accuracy: 0.68 - ETA: 0s - loss: 0.5843 - accuracy: 0.69 - ETA: 0s - loss: 0.5911 - accuracy: 0.68 - ETA: 0s - loss: 0.5932 - accuracy: 0.68 - ETA: 0s - loss: 0.5871 - accuracy: 0.68 - ETA: 0s - loss: 0.5892 - accuracy: 0.68 - ETA: 0s - loss: 0.5902 - accuracy: 0.68 - ETA: 0s - loss: 0.5899 - accuracy: 0.68 - ETA: 0s - loss: 0.5918 - accuracy: 0.68 - ETA: 0s - loss: 0.5917 - accuracy: 0.68 - ETA: 0s - loss: 0.5929 - accuracy: 0.68 - ETA: 0s - loss: 0.5928 - accuracy: 0.68 - ETA: 0s - loss: 0.5928 - accuracy: 0.68 - ETA: 0s - loss: 0.5922 - accuracy: 0.68 - ETA: 0s - loss: 0.5936 - accuracy: 0.68 - 1s 83us/sample - loss: 0.5926 - accuracy: 0.6828 - val_loss: 0.6330 - val_accuracy: 0.6426\n",
      "Epoch 5/7\n",
      "10786/10786 [==============================] - ETA: 1s - loss: 0.7854 - accuracy: 0.37 - ETA: 0s - loss: 0.5868 - accuracy: 0.67 - ETA: 0s - loss: 0.5903 - accuracy: 0.67 - ETA: 0s - loss: 0.5878 - accuracy: 0.68 - ETA: 0s - loss: 0.5925 - accuracy: 0.68 - ETA: 0s - loss: 0.5945 - accuracy: 0.67 - ETA: 0s - loss: 0.5985 - accuracy: 0.67 - ETA: 0s - loss: 0.5997 - accuracy: 0.67 - ETA: 0s - loss: 0.5966 - accuracy: 0.67 - ETA: 0s - loss: 0.5940 - accuracy: 0.68 - ETA: 0s - loss: 0.5931 - accuracy: 0.68 - ETA: 0s - loss: 0.5952 - accuracy: 0.67 - ETA: 0s - loss: 0.5923 - accuracy: 0.68 - ETA: 0s - loss: 0.5894 - accuracy: 0.68 - ETA: 0s - loss: 0.5884 - accuracy: 0.68 - ETA: 0s - loss: 0.5893 - accuracy: 0.68 - 1s 85us/sample - loss: 0.5908 - accuracy: 0.6825 - val_loss: 0.6906 - val_accuracy: 0.5688\n",
      "Epoch 6/7\n",
      "10786/10786 [==============================] - ETA: 1s - loss: 0.8535 - accuracy: 0.40 - ETA: 0s - loss: 0.6479 - accuracy: 0.61 - ETA: 0s - loss: 0.6197 - accuracy: 0.64 - ETA: 0s - loss: 0.6074 - accuracy: 0.66 - ETA: 0s - loss: 0.6018 - accuracy: 0.67 - ETA: 0s - loss: 0.6012 - accuracy: 0.67 - ETA: 0s - loss: 0.6010 - accuracy: 0.67 - ETA: 0s - loss: 0.5992 - accuracy: 0.67 - ETA: 0s - loss: 0.5987 - accuracy: 0.67 - ETA: 0s - loss: 0.5983 - accuracy: 0.67 - ETA: 0s - loss: 0.5995 - accuracy: 0.67 - ETA: 0s - loss: 0.5992 - accuracy: 0.67 - ETA: 0s - loss: 0.5985 - accuracy: 0.67 - ETA: 0s - loss: 0.5964 - accuracy: 0.67 - ETA: 0s - loss: 0.5942 - accuracy: 0.67 - ETA: 0s - loss: 0.5938 - accuracy: 0.68 - 1s 84us/sample - loss: 0.5945 - accuracy: 0.6798 - val_loss: 0.6309 - val_accuracy: 0.6374\n",
      "Epoch 7/7\n",
      "10786/10786 [==============================] - ETA: 1s - loss: 0.6806 - accuracy: 0.59 - ETA: 0s - loss: 0.6142 - accuracy: 0.67 - ETA: 0s - loss: 0.5992 - accuracy: 0.68 - ETA: 0s - loss: 0.6000 - accuracy: 0.68 - ETA: 0s - loss: 0.5916 - accuracy: 0.69 - ETA: 0s - loss: 0.5899 - accuracy: 0.68 - ETA: 0s - loss: 0.5921 - accuracy: 0.68 - ETA: 0s - loss: 0.5897 - accuracy: 0.68 - ETA: 0s - loss: 0.5895 - accuracy: 0.68 - ETA: 0s - loss: 0.5905 - accuracy: 0.68 - ETA: 0s - loss: 0.5914 - accuracy: 0.68 - ETA: 0s - loss: 0.5936 - accuracy: 0.68 - ETA: 0s - loss: 0.5927 - accuracy: 0.68 - ETA: 0s - loss: 0.5922 - accuracy: 0.68 - ETA: 0s - loss: 0.5916 - accuracy: 0.68 - ETA: 0s - loss: 0.5909 - accuracy: 0.68 - 1s 85us/sample - loss: 0.5898 - accuracy: 0.6877 - val_loss: 0.6334 - val_accuracy: 0.6537\n"
     ]
    },
    {
     "data": {
      "text/html": [
       "<span style=\"color:#4527A0\"><h1 style=\"font-size:18px\">Trial complete</h1></span>"
      ],
      "text/plain": [
       "<IPython.core.display.HTML object>"
      ]
     },
     "metadata": {},
     "output_type": "display_data"
    },
    {
     "data": {
      "text/html": [
       "<span style=\"color:#4527A0\"><h1 style=\"font-size:18px\">Trial summary</h1></span>"
      ],
      "text/plain": [
       "<IPython.core.display.HTML object>"
      ]
     },
     "metadata": {},
     "output_type": "display_data"
    },
    {
     "data": {
      "text/html": [
       "<span style=\"color:#7E57C2\"><h2 style=\"font-size:16px\">Hp values:</h2></span>"
      ],
      "text/plain": [
       "<IPython.core.display.HTML object>"
      ]
     },
     "metadata": {},
     "output_type": "display_data"
    },
    {
     "data": {
      "text/html": [
       "<span style=\"color:cyan\"> |-drop_rate_0: 0.01</span>"
      ],
      "text/plain": [
       "<IPython.core.display.HTML object>"
      ]
     },
     "metadata": {},
     "output_type": "display_data"
    },
    {
     "data": {
      "text/html": [
       "<span style=\"color:blue\"> |-drop_rate_1: 0.2</span>"
      ],
      "text/plain": [
       "<IPython.core.display.HTML object>"
      ]
     },
     "metadata": {},
     "output_type": "display_data"
    },
    {
     "data": {
      "text/html": [
       "<span style=\"color:cyan\"> |-drop_rate_2: 0.3</span>"
      ],
      "text/plain": [
       "<IPython.core.display.HTML object>"
      ]
     },
     "metadata": {},
     "output_type": "display_data"
    },
    {
     "data": {
      "text/html": [
       "<span style=\"color:blue\"> |-drop_rate_3: 0.1</span>"
      ],
      "text/plain": [
       "<IPython.core.display.HTML object>"
      ]
     },
     "metadata": {},
     "output_type": "display_data"
    },
    {
     "data": {
      "text/html": [
       "<span style=\"color:cyan\"> |-drop_rate_4: 0.1</span>"
      ],
      "text/plain": [
       "<IPython.core.display.HTML object>"
      ]
     },
     "metadata": {},
     "output_type": "display_data"
    },
    {
     "data": {
      "text/html": [
       "<span style=\"color:blue\"> |-drop_rate_5: 0.1</span>"
      ],
      "text/plain": [
       "<IPython.core.display.HTML object>"
      ]
     },
     "metadata": {},
     "output_type": "display_data"
    },
    {
     "data": {
      "text/html": [
       "<span style=\"color:cyan\"> |-drop_rate_6: 0.01</span>"
      ],
      "text/plain": [
       "<IPython.core.display.HTML object>"
      ]
     },
     "metadata": {},
     "output_type": "display_data"
    },
    {
     "data": {
      "text/html": [
       "<span style=\"color:blue\"> |-drop_rate_7: 0.01</span>"
      ],
      "text/plain": [
       "<IPython.core.display.HTML object>"
      ]
     },
     "metadata": {},
     "output_type": "display_data"
    },
    {
     "data": {
      "text/html": [
       "<span style=\"color:cyan\"> |-drop_rate_9: 0.2</span>"
      ],
      "text/plain": [
       "<IPython.core.display.HTML object>"
      ]
     },
     "metadata": {},
     "output_type": "display_data"
    },
    {
     "data": {
      "text/html": [
       "<span style=\"color:blue\"> |-learning_rate: 0.0001</span>"
      ],
      "text/plain": [
       "<IPython.core.display.HTML object>"
      ]
     },
     "metadata": {},
     "output_type": "display_data"
    },
    {
     "data": {
      "text/html": [
       "<span style=\"color:cyan\"> |-momentum: 0.4</span>"
      ],
      "text/plain": [
       "<IPython.core.display.HTML object>"
      ]
     },
     "metadata": {},
     "output_type": "display_data"
    },
    {
     "data": {
      "text/html": [
       "<span style=\"color:blue\"> |-num_layers: 7</span>"
      ],
      "text/plain": [
       "<IPython.core.display.HTML object>"
      ]
     },
     "metadata": {},
     "output_type": "display_data"
    },
    {
     "data": {
      "text/html": [
       "<span style=\"color:cyan\"> |-tuner/bracket: 1</span>"
      ],
      "text/plain": [
       "<IPython.core.display.HTML object>"
      ]
     },
     "metadata": {},
     "output_type": "display_data"
    },
    {
     "data": {
      "text/html": [
       "<span style=\"color:blue\"> |-tuner/epochs: 7</span>"
      ],
      "text/plain": [
       "<IPython.core.display.HTML object>"
      ]
     },
     "metadata": {},
     "output_type": "display_data"
    },
    {
     "data": {
      "text/html": [
       "<span style=\"color:cyan\"> |-tuner/initial_epoch: 0</span>"
      ],
      "text/plain": [
       "<IPython.core.display.HTML object>"
      ]
     },
     "metadata": {},
     "output_type": "display_data"
    },
    {
     "data": {
      "text/html": [
       "<span style=\"color:blue\"> |-tuner/round: 0</span>"
      ],
      "text/plain": [
       "<IPython.core.display.HTML object>"
      ]
     },
     "metadata": {},
     "output_type": "display_data"
    },
    {
     "data": {
      "text/html": [
       "<span style=\"color:cyan\"> |-units_0: 64</span>"
      ],
      "text/plain": [
       "<IPython.core.display.HTML object>"
      ]
     },
     "metadata": {},
     "output_type": "display_data"
    },
    {
     "data": {
      "text/html": [
       "<span style=\"color:blue\"> |-units_1: 176</span>"
      ],
      "text/plain": [
       "<IPython.core.display.HTML object>"
      ]
     },
     "metadata": {},
     "output_type": "display_data"
    },
    {
     "data": {
      "text/html": [
       "<span style=\"color:cyan\"> |-units_2: 152</span>"
      ],
      "text/plain": [
       "<IPython.core.display.HTML object>"
      ]
     },
     "metadata": {},
     "output_type": "display_data"
    },
    {
     "data": {
      "text/html": [
       "<span style=\"color:blue\"> |-units_3: 64</span>"
      ],
      "text/plain": [
       "<IPython.core.display.HTML object>"
      ]
     },
     "metadata": {},
     "output_type": "display_data"
    },
    {
     "data": {
      "text/html": [
       "<span style=\"color:cyan\"> |-units_4: 112</span>"
      ],
      "text/plain": [
       "<IPython.core.display.HTML object>"
      ]
     },
     "metadata": {},
     "output_type": "display_data"
    },
    {
     "data": {
      "text/html": [
       "<span style=\"color:blue\"> |-units_5: 24</span>"
      ],
      "text/plain": [
       "<IPython.core.display.HTML object>"
      ]
     },
     "metadata": {},
     "output_type": "display_data"
    },
    {
     "data": {
      "text/html": [
       "<span style=\"color:cyan\"> |-units_6: 128</span>"
      ],
      "text/plain": [
       "<IPython.core.display.HTML object>"
      ]
     },
     "metadata": {},
     "output_type": "display_data"
    },
    {
     "data": {
      "text/html": [
       "<span style=\"color:blue\"> |-units_7: 224</span>"
      ],
      "text/plain": [
       "<IPython.core.display.HTML object>"
      ]
     },
     "metadata": {},
     "output_type": "display_data"
    },
    {
     "data": {
      "text/html": [
       "<span style=\"color:cyan\"> |-units_8: 40</span>"
      ],
      "text/plain": [
       "<IPython.core.display.HTML object>"
      ]
     },
     "metadata": {},
     "output_type": "display_data"
    },
    {
     "data": {
      "text/html": [
       "<span style=\"color:blue\"> |-units_9: 224</span>"
      ],
      "text/plain": [
       "<IPython.core.display.HTML object>"
      ]
     },
     "metadata": {},
     "output_type": "display_data"
    },
    {
     "data": {
      "text/html": [
       "<span style=\"color:cyan\"> |-Score: 0.6876506805419922</span>"
      ],
      "text/plain": [
       "<IPython.core.display.HTML object>"
      ]
     },
     "metadata": {},
     "output_type": "display_data"
    },
    {
     "data": {
      "text/html": [
       "<span style=\"color:cyan\"> |-Best step: 0</span>"
      ],
      "text/plain": [
       "<IPython.core.display.HTML object>"
      ]
     },
     "metadata": {},
     "output_type": "display_data"
    },
    {
     "name": "stdout",
     "output_type": "stream",
     "text": [
      "Train on 10786 samples, validate on 2697 samples\n",
      "Epoch 1/7\n",
      "10786/10786 [==============================] - ETA: 3:34 - loss: 0.6828 - accuracy: 0.53 - ETA: 11s - loss: 0.8385 - accuracy: 0.5115 - ETA: 5s - loss: 0.7779 - accuracy: 0.534 - ETA: 4s - loss: 0.7536 - accuracy: 0.54 - ETA: 3s - loss: 0.7407 - accuracy: 0.52 - ETA: 2s - loss: 0.7316 - accuracy: 0.53 - ETA: 1s - loss: 0.7247 - accuracy: 0.53 - ETA: 1s - loss: 0.7201 - accuracy: 0.52 - ETA: 1s - loss: 0.7166 - accuracy: 0.52 - ETA: 1s - loss: 0.7137 - accuracy: 0.52 - ETA: 0s - loss: 0.7118 - accuracy: 0.52 - ETA: 0s - loss: 0.7096 - accuracy: 0.52 - ETA: 0s - loss: 0.7085 - accuracy: 0.52 - ETA: 0s - loss: 0.7070 - accuracy: 0.52 - ETA: 0s - loss: 0.7059 - accuracy: 0.52 - ETA: 0s - loss: 0.7054 - accuracy: 0.52 - ETA: 0s - loss: 0.7046 - accuracy: 0.52 - ETA: 0s - loss: 0.7030 - accuracy: 0.53 - ETA: 0s - loss: 0.7028 - accuracy: 0.53 - 2s 171us/sample - loss: 0.7023 - accuracy: 0.5333 - val_loss: 0.6950 - val_accuracy: 0.5217\n",
      "Epoch 2/7\n",
      "10786/10786 [==============================] - ETA: 1s - loss: 0.6988 - accuracy: 0.46 - ETA: 0s - loss: 0.7012 - accuracy: 0.50 - ETA: 0s - loss: 0.6966 - accuracy: 0.51 - ETA: 0s - loss: 0.6966 - accuracy: 0.50 - ETA: 0s - loss: 0.6941 - accuracy: 0.51 - ETA: 0s - loss: 0.6933 - accuracy: 0.50 - ETA: 0s - loss: 0.6934 - accuracy: 0.50 - ETA: 0s - loss: 0.6935 - accuracy: 0.50 - ETA: 0s - loss: 0.6935 - accuracy: 0.50 - ETA: 0s - loss: 0.6936 - accuracy: 0.50 - ETA: 0s - loss: 0.6935 - accuracy: 0.50 - ETA: 0s - loss: 0.6935 - accuracy: 0.50 - ETA: 0s - loss: 0.6931 - accuracy: 0.50 - ETA: 0s - loss: 0.6927 - accuracy: 0.51 - ETA: 0s - loss: 0.6931 - accuracy: 0.50 - ETA: 0s - loss: 0.6929 - accuracy: 0.51 - ETA: 0s - loss: 0.6926 - accuracy: 0.51 - ETA: 0s - loss: 0.6926 - accuracy: 0.51 - ETA: 0s - loss: 0.6925 - accuracy: 0.51 - 1s 101us/sample - loss: 0.6924 - accuracy: 0.5173 - val_loss: 0.6928 - val_accuracy: 0.5217\n",
      "Epoch 3/7\n",
      "10786/10786 [==============================] - ETA: 1s - loss: 0.6926 - accuracy: 0.53 - ETA: 0s - loss: 0.6925 - accuracy: 0.52 - ETA: 0s - loss: 0.6915 - accuracy: 0.53 - ETA: 0s - loss: 0.6918 - accuracy: 0.53 - ETA: 0s - loss: 0.6916 - accuracy: 0.53 - ETA: 0s - loss: 0.6918 - accuracy: 0.52 - ETA: 0s - loss: 0.6924 - accuracy: 0.52 - ETA: 0s - loss: 0.6924 - accuracy: 0.52 - ETA: 0s - loss: 0.6927 - accuracy: 0.51 - ETA: 0s - loss: 0.6928 - accuracy: 0.51 - ETA: 0s - loss: 0.6927 - accuracy: 0.51 - ETA: 0s - loss: 0.6926 - accuracy: 0.51 - ETA: 0s - loss: 0.6924 - accuracy: 0.51 - ETA: 0s - loss: 0.6922 - accuracy: 0.52 - ETA: 0s - loss: 0.6921 - accuracy: 0.52 - ETA: 0s - loss: 0.6922 - accuracy: 0.52 - ETA: 0s - loss: 0.6923 - accuracy: 0.52 - ETA: 0s - loss: 0.6923 - accuracy: 0.52 - ETA: 0s - loss: 0.6924 - accuracy: 0.52 - 1s 98us/sample - loss: 0.6924 - accuracy: 0.5205 - val_loss: 0.6923 - val_accuracy: 0.5217\n",
      "Epoch 4/7\n",
      "10786/10786 [==============================] - ETA: 1s - loss: 0.6858 - accuracy: 0.62 - ETA: 0s - loss: 0.6903 - accuracy: 0.54 - ETA: 0s - loss: 0.6909 - accuracy: 0.54 - ETA: 0s - loss: 0.6923 - accuracy: 0.52 - ETA: 0s - loss: 0.6926 - accuracy: 0.52 - ETA: 0s - loss: 0.6928 - accuracy: 0.51 - ETA: 0s - loss: 0.6927 - accuracy: 0.52 - ETA: 0s - loss: 0.6923 - accuracy: 0.52 - ETA: 0s - loss: 0.6920 - accuracy: 0.52 - ETA: 0s - loss: 0.6921 - accuracy: 0.52 - ETA: 0s - loss: 0.6925 - accuracy: 0.52 - ETA: 0s - loss: 0.6924 - accuracy: 0.52 - ETA: 0s - loss: 0.6925 - accuracy: 0.52 - ETA: 0s - loss: 0.6924 - accuracy: 0.52 - ETA: 0s - loss: 0.6924 - accuracy: 0.52 - ETA: 0s - loss: 0.6926 - accuracy: 0.52 - ETA: 0s - loss: 0.6926 - accuracy: 0.52 - ETA: 0s - loss: 0.6926 - accuracy: 0.52 - ETA: 0s - loss: 0.6925 - accuracy: 0.52 - 1s 96us/sample - loss: 0.6925 - accuracy: 0.5219 - val_loss: 0.6923 - val_accuracy: 0.5217\n",
      "Epoch 5/7\n",
      "10786/10786 [==============================] - ETA: 1s - loss: 0.7087 - accuracy: 0.37 - ETA: 0s - loss: 0.6931 - accuracy: 0.51 - ETA: 0s - loss: 0.6936 - accuracy: 0.51 - ETA: 0s - loss: 0.6937 - accuracy: 0.50 - ETA: 0s - loss: 0.6935 - accuracy: 0.51 - ETA: 0s - loss: 0.6931 - accuracy: 0.51 - ETA: 0s - loss: 0.6936 - accuracy: 0.51 - ETA: 0s - loss: 0.6934 - accuracy: 0.51 - ETA: 0s - loss: 0.6934 - accuracy: 0.51 - ETA: 0s - loss: 0.6934 - accuracy: 0.51 - ETA: 0s - loss: 0.6934 - accuracy: 0.51 - ETA: 0s - loss: 0.6933 - accuracy: 0.51 - ETA: 0s - loss: 0.6933 - accuracy: 0.51 - ETA: 0s - loss: 0.6932 - accuracy: 0.51 - ETA: 0s - loss: 0.6929 - accuracy: 0.51 - ETA: 0s - loss: 0.6924 - accuracy: 0.52 - ETA: 0s - loss: 0.6924 - accuracy: 0.52 - ETA: 0s - loss: 0.6926 - accuracy: 0.52 - ETA: 0s - loss: 0.6924 - accuracy: 0.52 - 1s 99us/sample - loss: 0.6925 - accuracy: 0.5219 - val_loss: 0.6925 - val_accuracy: 0.5217\n",
      "Epoch 6/7\n",
      "10786/10786 [==============================] - ETA: 1s - loss: 0.6912 - accuracy: 0.53 - ETA: 0s - loss: 0.6925 - accuracy: 0.52 - ETA: 0s - loss: 0.6926 - accuracy: 0.52 - ETA: 0s - loss: 0.6925 - accuracy: 0.52 - ETA: 0s - loss: 0.6924 - accuracy: 0.52 - ETA: 0s - loss: 0.6921 - accuracy: 0.52 - ETA: 0s - loss: 0.6925 - accuracy: 0.52 - ETA: 0s - loss: 0.6922 - accuracy: 0.52 - ETA: 0s - loss: 0.6924 - accuracy: 0.52 - ETA: 0s - loss: 0.6924 - accuracy: 0.52 - ETA: 0s - loss: 0.6925 - accuracy: 0.52 - ETA: 0s - loss: 0.6924 - accuracy: 0.52 - ETA: 0s - loss: 0.6922 - accuracy: 0.52 - ETA: 0s - loss: 0.6920 - accuracy: 0.52 - ETA: 0s - loss: 0.6920 - accuracy: 0.52 - ETA: 0s - loss: 0.6922 - accuracy: 0.52 - ETA: 0s - loss: 0.6922 - accuracy: 0.52 - ETA: 0s - loss: 0.6924 - accuracy: 0.52 - ETA: 0s - loss: 0.6924 - accuracy: 0.52 - 1s 98us/sample - loss: 0.6924 - accuracy: 0.5219 - val_loss: 0.6929 - val_accuracy: 0.5217\n",
      "Epoch 7/7\n",
      "10786/10786 [==============================] - ETA: 1s - loss: 0.6928 - accuracy: 0.53 - ETA: 0s - loss: 0.6913 - accuracy: 0.55 - ETA: 0s - loss: 0.6908 - accuracy: 0.54 - ETA: 0s - loss: 0.6915 - accuracy: 0.53 - ETA: 0s - loss: 0.6919 - accuracy: 0.53 - ETA: 0s - loss: 0.6920 - accuracy: 0.52 - ETA: 0s - loss: 0.6917 - accuracy: 0.53 - ETA: 0s - loss: 0.6921 - accuracy: 0.52 - ETA: 0s - loss: 0.6922 - accuracy: 0.52 - ETA: 0s - loss: 0.6922 - accuracy: 0.52 - ETA: 0s - loss: 0.6922 - accuracy: 0.52 - ETA: 0s - loss: 0.6924 - accuracy: 0.52 - ETA: 0s - loss: 0.6923 - accuracy: 0.52 - ETA: 0s - loss: 0.6924 - accuracy: 0.52 - ETA: 0s - loss: 0.6925 - accuracy: 0.52 - ETA: 0s - loss: 0.6926 - accuracy: 0.52 - ETA: 0s - loss: 0.6927 - accuracy: 0.51 - ETA: 0s - loss: 0.6926 - accuracy: 0.52 - ETA: 0s - loss: 0.6926 - accuracy: 0.52 - 1s 99us/sample - loss: 0.6926 - accuracy: 0.5219 - val_loss: 0.6922 - val_accuracy: 0.5217\n"
     ]
    },
    {
     "data": {
      "text/html": [
       "<span style=\"color:#4527A0\"><h1 style=\"font-size:18px\">Trial complete</h1></span>"
      ],
      "text/plain": [
       "<IPython.core.display.HTML object>"
      ]
     },
     "metadata": {},
     "output_type": "display_data"
    },
    {
     "data": {
      "text/html": [
       "<span style=\"color:#4527A0\"><h1 style=\"font-size:18px\">Trial summary</h1></span>"
      ],
      "text/plain": [
       "<IPython.core.display.HTML object>"
      ]
     },
     "metadata": {},
     "output_type": "display_data"
    },
    {
     "data": {
      "text/html": [
       "<span style=\"color:#7E57C2\"><h2 style=\"font-size:16px\">Hp values:</h2></span>"
      ],
      "text/plain": [
       "<IPython.core.display.HTML object>"
      ]
     },
     "metadata": {},
     "output_type": "display_data"
    },
    {
     "data": {
      "text/html": [
       "<span style=\"color:cyan\"> |-drop_rate_0: 0.2</span>"
      ],
      "text/plain": [
       "<IPython.core.display.HTML object>"
      ]
     },
     "metadata": {},
     "output_type": "display_data"
    },
    {
     "data": {
      "text/html": [
       "<span style=\"color:blue\"> |-drop_rate_1: 0.1</span>"
      ],
      "text/plain": [
       "<IPython.core.display.HTML object>"
      ]
     },
     "metadata": {},
     "output_type": "display_data"
    },
    {
     "data": {
      "text/html": [
       "<span style=\"color:cyan\"> |-drop_rate_2: 0.01</span>"
      ],
      "text/plain": [
       "<IPython.core.display.HTML object>"
      ]
     },
     "metadata": {},
     "output_type": "display_data"
    },
    {
     "data": {
      "text/html": [
       "<span style=\"color:blue\"> |-drop_rate_3: 0.2</span>"
      ],
      "text/plain": [
       "<IPython.core.display.HTML object>"
      ]
     },
     "metadata": {},
     "output_type": "display_data"
    },
    {
     "data": {
      "text/html": [
       "<span style=\"color:cyan\"> |-drop_rate_4: 0.2</span>"
      ],
      "text/plain": [
       "<IPython.core.display.HTML object>"
      ]
     },
     "metadata": {},
     "output_type": "display_data"
    },
    {
     "data": {
      "text/html": [
       "<span style=\"color:blue\"> |-drop_rate_5: 0.1</span>"
      ],
      "text/plain": [
       "<IPython.core.display.HTML object>"
      ]
     },
     "metadata": {},
     "output_type": "display_data"
    },
    {
     "data": {
      "text/html": [
       "<span style=\"color:cyan\"> |-drop_rate_6: 0.3</span>"
      ],
      "text/plain": [
       "<IPython.core.display.HTML object>"
      ]
     },
     "metadata": {},
     "output_type": "display_data"
    },
    {
     "data": {
      "text/html": [
       "<span style=\"color:blue\"> |-drop_rate_7: 0.2</span>"
      ],
      "text/plain": [
       "<IPython.core.display.HTML object>"
      ]
     },
     "metadata": {},
     "output_type": "display_data"
    },
    {
     "data": {
      "text/html": [
       "<span style=\"color:cyan\"> |-drop_rate_9: 0.2</span>"
      ],
      "text/plain": [
       "<IPython.core.display.HTML object>"
      ]
     },
     "metadata": {},
     "output_type": "display_data"
    },
    {
     "data": {
      "text/html": [
       "<span style=\"color:blue\"> |-learning_rate: 0.01</span>"
      ],
      "text/plain": [
       "<IPython.core.display.HTML object>"
      ]
     },
     "metadata": {},
     "output_type": "display_data"
    },
    {
     "data": {
      "text/html": [
       "<span style=\"color:cyan\"> |-momentum: 0.8</span>"
      ],
      "text/plain": [
       "<IPython.core.display.HTML object>"
      ]
     },
     "metadata": {},
     "output_type": "display_data"
    },
    {
     "data": {
      "text/html": [
       "<span style=\"color:blue\"> |-num_layers: 8</span>"
      ],
      "text/plain": [
       "<IPython.core.display.HTML object>"
      ]
     },
     "metadata": {},
     "output_type": "display_data"
    },
    {
     "data": {
      "text/html": [
       "<span style=\"color:cyan\"> |-tuner/bracket: 1</span>"
      ],
      "text/plain": [
       "<IPython.core.display.HTML object>"
      ]
     },
     "metadata": {},
     "output_type": "display_data"
    },
    {
     "data": {
      "text/html": [
       "<span style=\"color:blue\"> |-tuner/epochs: 7</span>"
      ],
      "text/plain": [
       "<IPython.core.display.HTML object>"
      ]
     },
     "metadata": {},
     "output_type": "display_data"
    },
    {
     "data": {
      "text/html": [
       "<span style=\"color:cyan\"> |-tuner/initial_epoch: 0</span>"
      ],
      "text/plain": [
       "<IPython.core.display.HTML object>"
      ]
     },
     "metadata": {},
     "output_type": "display_data"
    },
    {
     "data": {
      "text/html": [
       "<span style=\"color:blue\"> |-tuner/round: 0</span>"
      ],
      "text/plain": [
       "<IPython.core.display.HTML object>"
      ]
     },
     "metadata": {},
     "output_type": "display_data"
    },
    {
     "data": {
      "text/html": [
       "<span style=\"color:cyan\"> |-units_0: 248</span>"
      ],
      "text/plain": [
       "<IPython.core.display.HTML object>"
      ]
     },
     "metadata": {},
     "output_type": "display_data"
    },
    {
     "data": {
      "text/html": [
       "<span style=\"color:blue\"> |-units_1: 240</span>"
      ],
      "text/plain": [
       "<IPython.core.display.HTML object>"
      ]
     },
     "metadata": {},
     "output_type": "display_data"
    },
    {
     "data": {
      "text/html": [
       "<span style=\"color:cyan\"> |-units_2: 48</span>"
      ],
      "text/plain": [
       "<IPython.core.display.HTML object>"
      ]
     },
     "metadata": {},
     "output_type": "display_data"
    },
    {
     "data": {
      "text/html": [
       "<span style=\"color:blue\"> |-units_3: 16</span>"
      ],
      "text/plain": [
       "<IPython.core.display.HTML object>"
      ]
     },
     "metadata": {},
     "output_type": "display_data"
    },
    {
     "data": {
      "text/html": [
       "<span style=\"color:cyan\"> |-units_4: 64</span>"
      ],
      "text/plain": [
       "<IPython.core.display.HTML object>"
      ]
     },
     "metadata": {},
     "output_type": "display_data"
    },
    {
     "data": {
      "text/html": [
       "<span style=\"color:blue\"> |-units_5: 40</span>"
      ],
      "text/plain": [
       "<IPython.core.display.HTML object>"
      ]
     },
     "metadata": {},
     "output_type": "display_data"
    },
    {
     "data": {
      "text/html": [
       "<span style=\"color:cyan\"> |-units_6: 48</span>"
      ],
      "text/plain": [
       "<IPython.core.display.HTML object>"
      ]
     },
     "metadata": {},
     "output_type": "display_data"
    },
    {
     "data": {
      "text/html": [
       "<span style=\"color:blue\"> |-units_7: 104</span>"
      ],
      "text/plain": [
       "<IPython.core.display.HTML object>"
      ]
     },
     "metadata": {},
     "output_type": "display_data"
    },
    {
     "data": {
      "text/html": [
       "<span style=\"color:cyan\"> |-units_8: 224</span>"
      ],
      "text/plain": [
       "<IPython.core.display.HTML object>"
      ]
     },
     "metadata": {},
     "output_type": "display_data"
    },
    {
     "data": {
      "text/html": [
       "<span style=\"color:blue\"> |-units_9: 112</span>"
      ],
      "text/plain": [
       "<IPython.core.display.HTML object>"
      ]
     },
     "metadata": {},
     "output_type": "display_data"
    },
    {
     "data": {
      "text/html": [
       "<span style=\"color:cyan\"> |-Score: 0.5332838892936707</span>"
      ],
      "text/plain": [
       "<IPython.core.display.HTML object>"
      ]
     },
     "metadata": {},
     "output_type": "display_data"
    },
    {
     "data": {
      "text/html": [
       "<span style=\"color:cyan\"> |-Best step: 0</span>"
      ],
      "text/plain": [
       "<IPython.core.display.HTML object>"
      ]
     },
     "metadata": {},
     "output_type": "display_data"
    },
    {
     "name": "stdout",
     "output_type": "stream",
     "text": [
      "Train on 10786 samples, validate on 2697 samples\n",
      "Epoch 8/20\n",
      "10786/10786 [==============================] - ETA: 3:03 - loss: 0.6838 - accuracy: 0.56 - ETA: 8s - loss: 0.6937 - accuracy: 0.5014 - ETA: 4s - loss: 0.6861 - accuracy: 0.55 - ETA: 2s - loss: 0.6768 - accuracy: 0.57 - ETA: 2s - loss: 0.6687 - accuracy: 0.59 - ETA: 1s - loss: 0.6619 - accuracy: 0.60 - ETA: 1s - loss: 0.6533 - accuracy: 0.61 - ETA: 1s - loss: 0.6493 - accuracy: 0.62 - ETA: 0s - loss: 0.6456 - accuracy: 0.62 - ETA: 0s - loss: 0.6409 - accuracy: 0.63 - ETA: 0s - loss: 0.6368 - accuracy: 0.63 - ETA: 0s - loss: 0.6336 - accuracy: 0.64 - ETA: 0s - loss: 0.6312 - accuracy: 0.64 - ETA: 0s - loss: 0.6303 - accuracy: 0.64 - ETA: 0s - loss: 0.6292 - accuracy: 0.64 - ETA: 0s - loss: 0.6257 - accuracy: 0.65 - 2s 152us/sample - loss: 0.6239 - accuracy: 0.6513 - val_loss: 0.6258 - val_accuracy: 0.6678\n",
      "Epoch 9/20\n",
      "10786/10786 [==============================] - ETA: 1s - loss: 0.7816 - accuracy: 0.50 - ETA: 0s - loss: 0.6140 - accuracy: 0.67 - ETA: 0s - loss: 0.5940 - accuracy: 0.67 - ETA: 0s - loss: 0.5938 - accuracy: 0.68 - ETA: 0s - loss: 0.5965 - accuracy: 0.67 - ETA: 0s - loss: 0.5998 - accuracy: 0.66 - ETA: 0s - loss: 0.6025 - accuracy: 0.66 - ETA: 0s - loss: 0.6044 - accuracy: 0.66 - ETA: 0s - loss: 0.6051 - accuracy: 0.66 - ETA: 0s - loss: 0.6042 - accuracy: 0.66 - ETA: 0s - loss: 0.6017 - accuracy: 0.66 - ETA: 0s - loss: 0.6013 - accuracy: 0.67 - ETA: 0s - loss: 0.6024 - accuracy: 0.67 - ETA: 0s - loss: 0.6017 - accuracy: 0.67 - ETA: 0s - loss: 0.6025 - accuracy: 0.67 - ETA: 0s - loss: 0.6022 - accuracy: 0.67 - ETA: 0s - loss: 0.6006 - accuracy: 0.67 - 1s 88us/sample - loss: 0.6005 - accuracy: 0.6740 - val_loss: 0.6002 - val_accuracy: 0.6711\n",
      "Epoch 10/20\n",
      "10786/10786 [==============================] - ETA: 1s - loss: 0.8162 - accuracy: 0.53 - ETA: 0s - loss: 0.6190 - accuracy: 0.65 - ETA: 0s - loss: 0.5960 - accuracy: 0.67 - ETA: 0s - loss: 0.5980 - accuracy: 0.68 - ETA: 0s - loss: 0.5964 - accuracy: 0.68 - ETA: 0s - loss: 0.5951 - accuracy: 0.67 - ETA: 0s - loss: 0.5919 - accuracy: 0.68 - ETA: 0s - loss: 0.5950 - accuracy: 0.68 - ETA: 0s - loss: 0.5977 - accuracy: 0.67 - ETA: 0s - loss: 0.5998 - accuracy: 0.67 - ETA: 0s - loss: 0.5988 - accuracy: 0.67 - ETA: 0s - loss: 0.5983 - accuracy: 0.67 - ETA: 0s - loss: 0.5981 - accuracy: 0.67 - ETA: 0s - loss: 0.5992 - accuracy: 0.67 - ETA: 0s - loss: 0.5989 - accuracy: 0.67 - 1s 81us/sample - loss: 0.5977 - accuracy: 0.6783 - val_loss: 0.5754 - val_accuracy: 0.6960\n",
      "Epoch 11/20\n",
      "10786/10786 [==============================] - ETA: 1s - loss: 0.6755 - accuracy: 0.56 - ETA: 0s - loss: 0.6146 - accuracy: 0.65 - ETA: 0s - loss: 0.6081 - accuracy: 0.66 - ETA: 0s - loss: 0.5956 - accuracy: 0.67 - ETA: 0s - loss: 0.5917 - accuracy: 0.68 - ETA: 0s - loss: 0.5956 - accuracy: 0.68 - ETA: 0s - loss: 0.5930 - accuracy: 0.68 - ETA: 0s - loss: 0.5915 - accuracy: 0.68 - ETA: 0s - loss: 0.5893 - accuracy: 0.68 - ETA: 0s - loss: 0.5933 - accuracy: 0.68 - ETA: 0s - loss: 0.5927 - accuracy: 0.68 - ETA: 0s - loss: 0.5914 - accuracy: 0.68 - ETA: 0s - loss: 0.5936 - accuracy: 0.68 - ETA: 0s - loss: 0.5930 - accuracy: 0.68 - ETA: 0s - loss: 0.5934 - accuracy: 0.68 - ETA: 0s - loss: 0.5936 - accuracy: 0.68 - 1s 84us/sample - loss: 0.5944 - accuracy: 0.6826 - val_loss: 0.5816 - val_accuracy: 0.6956\n",
      "Epoch 12/20\n",
      "10786/10786 [==============================] - ETA: 1s - loss: 0.6318 - accuracy: 0.62 - ETA: 0s - loss: 0.6167 - accuracy: 0.64 - ETA: 0s - loss: 0.6041 - accuracy: 0.66 - ETA: 0s - loss: 0.5998 - accuracy: 0.67 - ETA: 0s - loss: 0.5980 - accuracy: 0.68 - ETA: 0s - loss: 0.5937 - accuracy: 0.68 - ETA: 0s - loss: 0.5965 - accuracy: 0.68 - ETA: 0s - loss: 0.5938 - accuracy: 0.68 - ETA: 0s - loss: 0.5929 - accuracy: 0.68 - ETA: 0s - loss: 0.5934 - accuracy: 0.68 - ETA: 0s - loss: 0.5933 - accuracy: 0.68 - ETA: 0s - loss: 0.5922 - accuracy: 0.68 - ETA: 0s - loss: 0.5925 - accuracy: 0.68 - ETA: 0s - loss: 0.5934 - accuracy: 0.68 - ETA: 0s - loss: 0.5930 - accuracy: 0.68 - ETA: 0s - loss: 0.5922 - accuracy: 0.68 - 1s 87us/sample - loss: 0.5925 - accuracy: 0.6830 - val_loss: 0.6596 - val_accuracy: 0.6136\n",
      "Epoch 13/20\n",
      "10786/10786 [==============================] - ETA: 1s - loss: 0.7468 - accuracy: 0.46 - ETA: 0s - loss: 0.5980 - accuracy: 0.68 - ETA: 0s - loss: 0.5806 - accuracy: 0.69 - ETA: 0s - loss: 0.5904 - accuracy: 0.68 - ETA: 0s - loss: 0.5831 - accuracy: 0.69 - ETA: 0s - loss: 0.5929 - accuracy: 0.68 - ETA: 0s - loss: 0.5905 - accuracy: 0.68 - ETA: 0s - loss: 0.5905 - accuracy: 0.68 - ETA: 0s - loss: 0.5909 - accuracy: 0.68 - ETA: 0s - loss: 0.5922 - accuracy: 0.68 - ETA: 0s - loss: 0.5913 - accuracy: 0.68 - ETA: 0s - loss: 0.5926 - accuracy: 0.68 - ETA: 0s - loss: 0.5931 - accuracy: 0.68 - ETA: 0s - loss: 0.5914 - accuracy: 0.68 - ETA: 0s - loss: 0.5934 - accuracy: 0.68 - ETA: 0s - loss: 0.5938 - accuracy: 0.68 - 1s 86us/sample - loss: 0.5940 - accuracy: 0.6808 - val_loss: 0.6084 - val_accuracy: 0.6696\n",
      "Epoch 14/20\n",
      "10786/10786 [==============================] - ETA: 1s - loss: 0.6521 - accuracy: 0.68 - ETA: 0s - loss: 0.6079 - accuracy: 0.67 - ETA: 0s - loss: 0.5876 - accuracy: 0.69 - ETA: 0s - loss: 0.5879 - accuracy: 0.69 - ETA: 0s - loss: 0.5850 - accuracy: 0.69 - ETA: 0s - loss: 0.5867 - accuracy: 0.68 - ETA: 0s - loss: 0.5869 - accuracy: 0.68 - ETA: 0s - loss: 0.5890 - accuracy: 0.68 - ETA: 0s - loss: 0.5900 - accuracy: 0.68 - ETA: 0s - loss: 0.5886 - accuracy: 0.68 - ETA: 0s - loss: 0.5859 - accuracy: 0.68 - ETA: 0s - loss: 0.5875 - accuracy: 0.68 - ETA: 0s - loss: 0.5871 - accuracy: 0.68 - ETA: 0s - loss: 0.5891 - accuracy: 0.68 - ETA: 0s - loss: 0.5915 - accuracy: 0.68 - ETA: 0s - loss: 0.5912 - accuracy: 0.68 - 1s 85us/sample - loss: 0.5919 - accuracy: 0.6835 - val_loss: 0.5760 - val_accuracy: 0.6930\n",
      "Epoch 15/20\n",
      "10786/10786 [==============================] - ETA: 1s - loss: 0.5998 - accuracy: 0.62 - ETA: 0s - loss: 0.5721 - accuracy: 0.69 - ETA: 0s - loss: 0.5803 - accuracy: 0.69 - ETA: 0s - loss: 0.5795 - accuracy: 0.69 - ETA: 0s - loss: 0.5823 - accuracy: 0.68 - ETA: 0s - loss: 0.5872 - accuracy: 0.68 - ETA: 0s - loss: 0.5892 - accuracy: 0.68 - ETA: 0s - loss: 0.5899 - accuracy: 0.68 - ETA: 0s - loss: 0.5862 - accuracy: 0.68 - ETA: 0s - loss: 0.5872 - accuracy: 0.68 - ETA: 0s - loss: 0.5878 - accuracy: 0.68 - ETA: 0s - loss: 0.5879 - accuracy: 0.68 - ETA: 0s - loss: 0.5880 - accuracy: 0.68 - ETA: 0s - loss: 0.5880 - accuracy: 0.68 - ETA: 0s - loss: 0.5886 - accuracy: 0.68 - ETA: 0s - loss: 0.5904 - accuracy: 0.68 - 1s 87us/sample - loss: 0.5907 - accuracy: 0.6849 - val_loss: 0.5842 - val_accuracy: 0.6952\n",
      "Epoch 16/20\n",
      "10786/10786 [==============================] - ETA: 1s - loss: 0.6173 - accuracy: 0.59 - ETA: 0s - loss: 0.5860 - accuracy: 0.69 - ETA: 0s - loss: 0.5881 - accuracy: 0.68 - ETA: 0s - loss: 0.5936 - accuracy: 0.68 - ETA: 0s - loss: 0.5951 - accuracy: 0.68 - ETA: 0s - loss: 0.5948 - accuracy: 0.68 - ETA: 0s - loss: 0.5973 - accuracy: 0.68 - ETA: 0s - loss: 0.5974 - accuracy: 0.68 - ETA: 0s - loss: 0.5944 - accuracy: 0.68 - ETA: 0s - loss: 0.5895 - accuracy: 0.68 - ETA: 0s - loss: 0.5916 - accuracy: 0.68 - ETA: 0s - loss: 0.5905 - accuracy: 0.68 - ETA: 0s - loss: 0.5909 - accuracy: 0.68 - ETA: 0s - loss: 0.5914 - accuracy: 0.68 - ETA: 0s - loss: 0.5919 - accuracy: 0.68 - ETA: 0s - loss: 0.5917 - accuracy: 0.68 - 1s 84us/sample - loss: 0.5915 - accuracy: 0.6808 - val_loss: 0.5727 - val_accuracy: 0.6963\n",
      "Epoch 17/20\n",
      "10786/10786 [==============================] - ETA: 1s - loss: 0.5841 - accuracy: 0.71 - ETA: 0s - loss: 0.5773 - accuracy: 0.69 - ETA: 0s - loss: 0.5727 - accuracy: 0.69 - ETA: 0s - loss: 0.5904 - accuracy: 0.68 - ETA: 0s - loss: 0.5933 - accuracy: 0.68 - ETA: 0s - loss: 0.5961 - accuracy: 0.68 - ETA: 0s - loss: 0.5936 - accuracy: 0.68 - ETA: 0s - loss: 0.5920 - accuracy: 0.68 - ETA: 0s - loss: 0.5885 - accuracy: 0.68 - ETA: 0s - loss: 0.5873 - accuracy: 0.68 - ETA: 0s - loss: 0.5901 - accuracy: 0.68 - ETA: 0s - loss: 0.5897 - accuracy: 0.68 - ETA: 0s - loss: 0.5912 - accuracy: 0.68 - ETA: 0s - loss: 0.5903 - accuracy: 0.68 - ETA: 0s - loss: 0.5892 - accuracy: 0.68 - ETA: 0s - loss: 0.5886 - accuracy: 0.68 - 1s 84us/sample - loss: 0.5888 - accuracy: 0.6873 - val_loss: 0.5830 - val_accuracy: 0.6971\n"
     ]
    },
    {
     "name": "stdout",
     "output_type": "stream",
     "text": [
      "Epoch 18/20\n",
      "10786/10786 [==============================] - ETA: 1s - loss: 0.6161 - accuracy: 0.62 - ETA: 0s - loss: 0.5572 - accuracy: 0.69 - ETA: 0s - loss: 0.5845 - accuracy: 0.68 - ETA: 0s - loss: 0.5930 - accuracy: 0.68 - ETA: 0s - loss: 0.5939 - accuracy: 0.68 - ETA: 0s - loss: 0.5917 - accuracy: 0.68 - ETA: 0s - loss: 0.5918 - accuracy: 0.68 - ETA: 0s - loss: 0.5928 - accuracy: 0.68 - ETA: 0s - loss: 0.5929 - accuracy: 0.68 - ETA: 0s - loss: 0.5919 - accuracy: 0.68 - ETA: 0s - loss: 0.5920 - accuracy: 0.68 - ETA: 0s - loss: 0.5888 - accuracy: 0.68 - ETA: 0s - loss: 0.5878 - accuracy: 0.69 - ETA: 0s - loss: 0.5886 - accuracy: 0.68 - ETA: 0s - loss: 0.5881 - accuracy: 0.68 - ETA: 0s - loss: 0.5881 - accuracy: 0.68 - 1s 86us/sample - loss: 0.5879 - accuracy: 0.6888 - val_loss: 0.5754 - val_accuracy: 0.6934\n",
      "Epoch 19/20\n",
      "10786/10786 [==============================] - ETA: 1s - loss: 0.6627 - accuracy: 0.71 - ETA: 0s - loss: 0.6185 - accuracy: 0.68 - ETA: 0s - loss: 0.6188 - accuracy: 0.67 - ETA: 0s - loss: 0.6052 - accuracy: 0.68 - ETA: 0s - loss: 0.5910 - accuracy: 0.69 - ETA: 0s - loss: 0.5903 - accuracy: 0.68 - ETA: 0s - loss: 0.5876 - accuracy: 0.69 - ETA: 0s - loss: 0.5845 - accuracy: 0.69 - ETA: 0s - loss: 0.5849 - accuracy: 0.69 - ETA: 0s - loss: 0.5871 - accuracy: 0.69 - ETA: 0s - loss: 0.5874 - accuracy: 0.69 - ETA: 0s - loss: 0.5894 - accuracy: 0.68 - ETA: 0s - loss: 0.5896 - accuracy: 0.68 - ETA: 0s - loss: 0.5885 - accuracy: 0.68 - ETA: 0s - loss: 0.5904 - accuracy: 0.68 - 1s 80us/sample - loss: 0.5893 - accuracy: 0.6860 - val_loss: 0.5723 - val_accuracy: 0.6952\n",
      "Epoch 20/20\n",
      "10786/10786 [==============================] - ETA: 1s - loss: 0.6606 - accuracy: 0.62 - ETA: 0s - loss: 0.5967 - accuracy: 0.67 - ETA: 0s - loss: 0.6033 - accuracy: 0.67 - ETA: 0s - loss: 0.6018 - accuracy: 0.67 - ETA: 0s - loss: 0.5934 - accuracy: 0.68 - ETA: 0s - loss: 0.5898 - accuracy: 0.69 - ETA: 0s - loss: 0.5887 - accuracy: 0.69 - ETA: 0s - loss: 0.5894 - accuracy: 0.69 - ETA: 0s - loss: 0.5839 - accuracy: 0.69 - ETA: 0s - loss: 0.5858 - accuracy: 0.69 - ETA: 0s - loss: 0.5855 - accuracy: 0.69 - ETA: 0s - loss: 0.5861 - accuracy: 0.69 - ETA: 0s - loss: 0.5859 - accuracy: 0.69 - ETA: 0s - loss: 0.5857 - accuracy: 0.69 - ETA: 0s - loss: 0.5853 - accuracy: 0.69 - ETA: 0s - loss: 0.5857 - accuracy: 0.69 - ETA: 0s - loss: 0.5875 - accuracy: 0.69 - 1s 88us/sample - loss: 0.5879 - accuracy: 0.6902 - val_loss: 0.5994 - val_accuracy: 0.6648\n"
     ]
    },
    {
     "data": {
      "text/html": [
       "<span style=\"color:#4527A0\"><h1 style=\"font-size:18px\">Trial complete</h1></span>"
      ],
      "text/plain": [
       "<IPython.core.display.HTML object>"
      ]
     },
     "metadata": {},
     "output_type": "display_data"
    },
    {
     "data": {
      "text/html": [
       "<span style=\"color:#4527A0\"><h1 style=\"font-size:18px\">Trial summary</h1></span>"
      ],
      "text/plain": [
       "<IPython.core.display.HTML object>"
      ]
     },
     "metadata": {},
     "output_type": "display_data"
    },
    {
     "data": {
      "text/html": [
       "<span style=\"color:#7E57C2\"><h2 style=\"font-size:16px\">Hp values:</h2></span>"
      ],
      "text/plain": [
       "<IPython.core.display.HTML object>"
      ]
     },
     "metadata": {},
     "output_type": "display_data"
    },
    {
     "data": {
      "text/html": [
       "<span style=\"color:cyan\"> |-drop_rate_0: 0.01</span>"
      ],
      "text/plain": [
       "<IPython.core.display.HTML object>"
      ]
     },
     "metadata": {},
     "output_type": "display_data"
    },
    {
     "data": {
      "text/html": [
       "<span style=\"color:blue\"> |-drop_rate_1: 0.2</span>"
      ],
      "text/plain": [
       "<IPython.core.display.HTML object>"
      ]
     },
     "metadata": {},
     "output_type": "display_data"
    },
    {
     "data": {
      "text/html": [
       "<span style=\"color:cyan\"> |-drop_rate_2: 0.3</span>"
      ],
      "text/plain": [
       "<IPython.core.display.HTML object>"
      ]
     },
     "metadata": {},
     "output_type": "display_data"
    },
    {
     "data": {
      "text/html": [
       "<span style=\"color:blue\"> |-drop_rate_3: 0.1</span>"
      ],
      "text/plain": [
       "<IPython.core.display.HTML object>"
      ]
     },
     "metadata": {},
     "output_type": "display_data"
    },
    {
     "data": {
      "text/html": [
       "<span style=\"color:cyan\"> |-drop_rate_4: 0.1</span>"
      ],
      "text/plain": [
       "<IPython.core.display.HTML object>"
      ]
     },
     "metadata": {},
     "output_type": "display_data"
    },
    {
     "data": {
      "text/html": [
       "<span style=\"color:blue\"> |-drop_rate_5: 0.1</span>"
      ],
      "text/plain": [
       "<IPython.core.display.HTML object>"
      ]
     },
     "metadata": {},
     "output_type": "display_data"
    },
    {
     "data": {
      "text/html": [
       "<span style=\"color:cyan\"> |-drop_rate_6: 0.01</span>"
      ],
      "text/plain": [
       "<IPython.core.display.HTML object>"
      ]
     },
     "metadata": {},
     "output_type": "display_data"
    },
    {
     "data": {
      "text/html": [
       "<span style=\"color:blue\"> |-drop_rate_7: 0.01</span>"
      ],
      "text/plain": [
       "<IPython.core.display.HTML object>"
      ]
     },
     "metadata": {},
     "output_type": "display_data"
    },
    {
     "data": {
      "text/html": [
       "<span style=\"color:cyan\"> |-drop_rate_9: 0.2</span>"
      ],
      "text/plain": [
       "<IPython.core.display.HTML object>"
      ]
     },
     "metadata": {},
     "output_type": "display_data"
    },
    {
     "data": {
      "text/html": [
       "<span style=\"color:blue\"> |-learning_rate: 0.0001</span>"
      ],
      "text/plain": [
       "<IPython.core.display.HTML object>"
      ]
     },
     "metadata": {},
     "output_type": "display_data"
    },
    {
     "data": {
      "text/html": [
       "<span style=\"color:cyan\"> |-momentum: 0.4</span>"
      ],
      "text/plain": [
       "<IPython.core.display.HTML object>"
      ]
     },
     "metadata": {},
     "output_type": "display_data"
    },
    {
     "data": {
      "text/html": [
       "<span style=\"color:blue\"> |-num_layers: 7</span>"
      ],
      "text/plain": [
       "<IPython.core.display.HTML object>"
      ]
     },
     "metadata": {},
     "output_type": "display_data"
    },
    {
     "data": {
      "text/html": [
       "<span style=\"color:cyan\"> |-tuner/bracket: 1</span>"
      ],
      "text/plain": [
       "<IPython.core.display.HTML object>"
      ]
     },
     "metadata": {},
     "output_type": "display_data"
    },
    {
     "data": {
      "text/html": [
       "<span style=\"color:blue\"> |-tuner/epochs: 20</span>"
      ],
      "text/plain": [
       "<IPython.core.display.HTML object>"
      ]
     },
     "metadata": {},
     "output_type": "display_data"
    },
    {
     "data": {
      "text/html": [
       "<span style=\"color:cyan\"> |-tuner/initial_epoch: 7</span>"
      ],
      "text/plain": [
       "<IPython.core.display.HTML object>"
      ]
     },
     "metadata": {},
     "output_type": "display_data"
    },
    {
     "data": {
      "text/html": [
       "<span style=\"color:blue\"> |-tuner/round: 1</span>"
      ],
      "text/plain": [
       "<IPython.core.display.HTML object>"
      ]
     },
     "metadata": {},
     "output_type": "display_data"
    },
    {
     "data": {
      "text/html": [
       "<span style=\"color:cyan\"> |-tuner/trial_id: 1c9f8d51cfe5e39238d9a8dd818afa75</span>"
      ],
      "text/plain": [
       "<IPython.core.display.HTML object>"
      ]
     },
     "metadata": {},
     "output_type": "display_data"
    },
    {
     "data": {
      "text/html": [
       "<span style=\"color:blue\"> |-units_0: 64</span>"
      ],
      "text/plain": [
       "<IPython.core.display.HTML object>"
      ]
     },
     "metadata": {},
     "output_type": "display_data"
    },
    {
     "data": {
      "text/html": [
       "<span style=\"color:cyan\"> |-units_1: 176</span>"
      ],
      "text/plain": [
       "<IPython.core.display.HTML object>"
      ]
     },
     "metadata": {},
     "output_type": "display_data"
    },
    {
     "data": {
      "text/html": [
       "<span style=\"color:blue\"> |-units_2: 152</span>"
      ],
      "text/plain": [
       "<IPython.core.display.HTML object>"
      ]
     },
     "metadata": {},
     "output_type": "display_data"
    },
    {
     "data": {
      "text/html": [
       "<span style=\"color:cyan\"> |-units_3: 64</span>"
      ],
      "text/plain": [
       "<IPython.core.display.HTML object>"
      ]
     },
     "metadata": {},
     "output_type": "display_data"
    },
    {
     "data": {
      "text/html": [
       "<span style=\"color:blue\"> |-units_4: 112</span>"
      ],
      "text/plain": [
       "<IPython.core.display.HTML object>"
      ]
     },
     "metadata": {},
     "output_type": "display_data"
    },
    {
     "data": {
      "text/html": [
       "<span style=\"color:cyan\"> |-units_5: 24</span>"
      ],
      "text/plain": [
       "<IPython.core.display.HTML object>"
      ]
     },
     "metadata": {},
     "output_type": "display_data"
    },
    {
     "data": {
      "text/html": [
       "<span style=\"color:blue\"> |-units_6: 128</span>"
      ],
      "text/plain": [
       "<IPython.core.display.HTML object>"
      ]
     },
     "metadata": {},
     "output_type": "display_data"
    },
    {
     "data": {
      "text/html": [
       "<span style=\"color:cyan\"> |-units_7: 224</span>"
      ],
      "text/plain": [
       "<IPython.core.display.HTML object>"
      ]
     },
     "metadata": {},
     "output_type": "display_data"
    },
    {
     "data": {
      "text/html": [
       "<span style=\"color:blue\"> |-units_8: 40</span>"
      ],
      "text/plain": [
       "<IPython.core.display.HTML object>"
      ]
     },
     "metadata": {},
     "output_type": "display_data"
    },
    {
     "data": {
      "text/html": [
       "<span style=\"color:cyan\"> |-units_9: 224</span>"
      ],
      "text/plain": [
       "<IPython.core.display.HTML object>"
      ]
     },
     "metadata": {},
     "output_type": "display_data"
    },
    {
     "data": {
      "text/html": [
       "<span style=\"color:cyan\"> |-Score: 0.6901538968086243</span>"
      ],
      "text/plain": [
       "<IPython.core.display.HTML object>"
      ]
     },
     "metadata": {},
     "output_type": "display_data"
    },
    {
     "data": {
      "text/html": [
       "<span style=\"color:cyan\"> |-Best step: 0</span>"
      ],
      "text/plain": [
       "<IPython.core.display.HTML object>"
      ]
     },
     "metadata": {},
     "output_type": "display_data"
    },
    {
     "name": "stdout",
     "output_type": "stream",
     "text": [
      "Train on 10786 samples, validate on 2697 samples\n",
      "Epoch 8/20\n",
      "10786/10786 [==============================] - ETA: 3:56 - loss: 0.6909 - accuracy: 0.53 - ETA: 10s - loss: 0.6934 - accuracy: 0.5455 - ETA: 5s - loss: 0.6910 - accuracy: 0.570 - ETA: 3s - loss: 0.6877 - accuracy: 0.56 - ETA: 2s - loss: 0.6853 - accuracy: 0.57 - ETA: 2s - loss: 0.6792 - accuracy: 0.58 - ETA: 1s - loss: 0.6741 - accuracy: 0.59 - ETA: 1s - loss: 0.6665 - accuracy: 0.60 - ETA: 1s - loss: 0.6611 - accuracy: 0.60 - ETA: 0s - loss: 0.6519 - accuracy: 0.61 - ETA: 0s - loss: 0.6489 - accuracy: 0.62 - ETA: 0s - loss: 0.6448 - accuracy: 0.63 - ETA: 0s - loss: 0.6430 - accuracy: 0.63 - ETA: 0s - loss: 0.6408 - accuracy: 0.63 - ETA: 0s - loss: 0.6385 - accuracy: 0.63 - ETA: 0s - loss: 0.6366 - accuracy: 0.64 - ETA: 0s - loss: 0.6351 - accuracy: 0.64 - 2s 165us/sample - loss: 0.6348 - accuracy: 0.6450 - val_loss: 0.6232 - val_accuracy: 0.6656\n",
      "Epoch 9/20\n",
      "10786/10786 [==============================] - ETA: 1s - loss: 0.6314 - accuracy: 0.62 - ETA: 0s - loss: 0.6254 - accuracy: 0.63 - ETA: 0s - loss: 0.6244 - accuracy: 0.64 - ETA: 0s - loss: 0.6211 - accuracy: 0.65 - ETA: 0s - loss: 0.6149 - accuracy: 0.65 - ETA: 0s - loss: 0.6165 - accuracy: 0.65 - ETA: 0s - loss: 0.6152 - accuracy: 0.65 - ETA: 0s - loss: 0.6177 - accuracy: 0.65 - ETA: 0s - loss: 0.6148 - accuracy: 0.65 - ETA: 0s - loss: 0.6151 - accuracy: 0.65 - ETA: 0s - loss: 0.6140 - accuracy: 0.66 - ETA: 0s - loss: 0.6142 - accuracy: 0.66 - ETA: 0s - loss: 0.6106 - accuracy: 0.66 - ETA: 0s - loss: 0.6094 - accuracy: 0.66 - ETA: 0s - loss: 0.6095 - accuracy: 0.66 - ETA: 0s - loss: 0.6086 - accuracy: 0.66 - ETA: 0s - loss: 0.6074 - accuracy: 0.66 - ETA: 0s - loss: 0.6083 - accuracy: 0.66 - 1s 94us/sample - loss: 0.6084 - accuracy: 0.6691 - val_loss: 0.6323 - val_accuracy: 0.6344\n",
      "Epoch 10/20\n",
      "10786/10786 [==============================] - ETA: 1s - loss: 0.6666 - accuracy: 0.62 - ETA: 0s - loss: 0.6012 - accuracy: 0.67 - ETA: 0s - loss: 0.6156 - accuracy: 0.65 - ETA: 0s - loss: 0.6048 - accuracy: 0.66 - ETA: 0s - loss: 0.6061 - accuracy: 0.66 - ETA: 0s - loss: 0.6011 - accuracy: 0.67 - ETA: 0s - loss: 0.5990 - accuracy: 0.67 - ETA: 0s - loss: 0.6019 - accuracy: 0.67 - ETA: 0s - loss: 0.5991 - accuracy: 0.67 - ETA: 0s - loss: 0.5996 - accuracy: 0.67 - ETA: 0s - loss: 0.5994 - accuracy: 0.67 - ETA: 0s - loss: 0.5993 - accuracy: 0.67 - ETA: 0s - loss: 0.5988 - accuracy: 0.68 - ETA: 0s - loss: 0.5987 - accuracy: 0.68 - ETA: 0s - loss: 0.5989 - accuracy: 0.67 - ETA: 0s - loss: 0.5986 - accuracy: 0.67 - ETA: 0s - loss: 0.6000 - accuracy: 0.67 - ETA: 0s - loss: 0.6015 - accuracy: 0.67 - 1s 94us/sample - loss: 0.6016 - accuracy: 0.6779 - val_loss: 0.6501 - val_accuracy: 0.6233\n",
      "Epoch 11/20\n",
      "10786/10786 [==============================] - ETA: 1s - loss: 0.7206 - accuracy: 0.56 - ETA: 0s - loss: 0.6028 - accuracy: 0.64 - ETA: 0s - loss: 0.6084 - accuracy: 0.66 - ETA: 0s - loss: 0.6041 - accuracy: 0.66 - ETA: 0s - loss: 0.6081 - accuracy: 0.66 - ETA: 0s - loss: 0.6052 - accuracy: 0.67 - ETA: 0s - loss: 0.6085 - accuracy: 0.66 - ETA: 0s - loss: 0.6098 - accuracy: 0.66 - ETA: 0s - loss: 0.6094 - accuracy: 0.66 - ETA: 0s - loss: 0.6104 - accuracy: 0.66 - ETA: 0s - loss: 0.6107 - accuracy: 0.66 - ETA: 0s - loss: 0.6084 - accuracy: 0.66 - ETA: 0s - loss: 0.6070 - accuracy: 0.67 - ETA: 0s - loss: 0.6048 - accuracy: 0.67 - ETA: 0s - loss: 0.6029 - accuracy: 0.67 - ETA: 0s - loss: 0.6039 - accuracy: 0.67 - ETA: 0s - loss: 0.6037 - accuracy: 0.67 - ETA: 0s - loss: 0.6045 - accuracy: 0.67 - 1s 93us/sample - loss: 0.6031 - accuracy: 0.6762 - val_loss: 0.6220 - val_accuracy: 0.6648\n",
      "Epoch 12/20\n",
      "10786/10786 [==============================] - ETA: 1s - loss: 0.5674 - accuracy: 0.75 - ETA: 0s - loss: 0.6459 - accuracy: 0.66 - ETA: 0s - loss: 0.6233 - accuracy: 0.67 - ETA: 0s - loss: 0.6134 - accuracy: 0.67 - ETA: 0s - loss: 0.6059 - accuracy: 0.67 - ETA: 0s - loss: 0.6087 - accuracy: 0.67 - ETA: 0s - loss: 0.6052 - accuracy: 0.67 - ETA: 0s - loss: 0.6019 - accuracy: 0.68 - ETA: 0s - loss: 0.6037 - accuracy: 0.67 - ETA: 0s - loss: 0.6031 - accuracy: 0.67 - ETA: 0s - loss: 0.6020 - accuracy: 0.67 - ETA: 0s - loss: 0.6015 - accuracy: 0.67 - ETA: 0s - loss: 0.6024 - accuracy: 0.67 - ETA: 0s - loss: 0.6005 - accuracy: 0.67 - ETA: 0s - loss: 0.5994 - accuracy: 0.67 - ETA: 0s - loss: 0.5998 - accuracy: 0.67 - ETA: 0s - loss: 0.6000 - accuracy: 0.67 - 1s 93us/sample - loss: 0.6007 - accuracy: 0.6783 - val_loss: 0.5864 - val_accuracy: 0.6889\n",
      "Epoch 13/20\n",
      "10786/10786 [==============================] - ETA: 1s - loss: 0.7280 - accuracy: 0.56 - ETA: 0s - loss: 0.6220 - accuracy: 0.65 - ETA: 0s - loss: 0.6098 - accuracy: 0.67 - ETA: 0s - loss: 0.6148 - accuracy: 0.66 - ETA: 0s - loss: 0.6064 - accuracy: 0.67 - ETA: 0s - loss: 0.6020 - accuracy: 0.67 - ETA: 0s - loss: 0.6030 - accuracy: 0.67 - ETA: 0s - loss: 0.6050 - accuracy: 0.67 - ETA: 0s - loss: 0.6043 - accuracy: 0.67 - ETA: 0s - loss: 0.6007 - accuracy: 0.68 - ETA: 0s - loss: 0.6015 - accuracy: 0.67 - ETA: 0s - loss: 0.6015 - accuracy: 0.68 - ETA: 0s - loss: 0.6017 - accuracy: 0.68 - ETA: 0s - loss: 0.6007 - accuracy: 0.67 - ETA: 0s - loss: 0.5998 - accuracy: 0.68 - ETA: 0s - loss: 0.5993 - accuracy: 0.68 - ETA: 0s - loss: 0.5989 - accuracy: 0.68 - ETA: 0s - loss: 0.5978 - accuracy: 0.68 - 1s 96us/sample - loss: 0.5974 - accuracy: 0.6848 - val_loss: 0.5884 - val_accuracy: 0.6908\n",
      "Epoch 14/20\n",
      "10786/10786 [==============================] - ETA: 1s - loss: 0.5125 - accuracy: 0.81 - ETA: 0s - loss: 0.6071 - accuracy: 0.67 - ETA: 0s - loss: 0.6051 - accuracy: 0.66 - ETA: 0s - loss: 0.6059 - accuracy: 0.66 - ETA: 0s - loss: 0.6054 - accuracy: 0.66 - ETA: 0s - loss: 0.6060 - accuracy: 0.66 - ETA: 0s - loss: 0.5994 - accuracy: 0.67 - ETA: 0s - loss: 0.6005 - accuracy: 0.67 - ETA: 0s - loss: 0.6000 - accuracy: 0.67 - ETA: 0s - loss: 0.5968 - accuracy: 0.67 - ETA: 0s - loss: 0.5983 - accuracy: 0.67 - ETA: 0s - loss: 0.5974 - accuracy: 0.67 - ETA: 0s - loss: 0.5959 - accuracy: 0.67 - ETA: 0s - loss: 0.5953 - accuracy: 0.67 - ETA: 0s - loss: 0.5957 - accuracy: 0.67 - ETA: 0s - loss: 0.5965 - accuracy: 0.67 - ETA: 0s - loss: 0.5964 - accuracy: 0.67 - ETA: 0s - loss: 0.5960 - accuracy: 0.68 - 1s 92us/sample - loss: 0.5955 - accuracy: 0.6806 - val_loss: 0.5731 - val_accuracy: 0.6974\n",
      "Epoch 15/20\n",
      "10786/10786 [==============================] - ETA: 1s - loss: 0.5803 - accuracy: 0.65 - ETA: 0s - loss: 0.5636 - accuracy: 0.69 - ETA: 0s - loss: 0.5857 - accuracy: 0.68 - ETA: 0s - loss: 0.5904 - accuracy: 0.68 - ETA: 0s - loss: 0.5848 - accuracy: 0.69 - ETA: 0s - loss: 0.5813 - accuracy: 0.69 - ETA: 0s - loss: 0.5842 - accuracy: 0.69 - ETA: 0s - loss: 0.5888 - accuracy: 0.68 - ETA: 0s - loss: 0.5923 - accuracy: 0.68 - ETA: 0s - loss: 0.5888 - accuracy: 0.68 - ETA: 0s - loss: 0.5905 - accuracy: 0.68 - ETA: 0s - loss: 0.5922 - accuracy: 0.68 - ETA: 0s - loss: 0.5932 - accuracy: 0.68 - ETA: 0s - loss: 0.5922 - accuracy: 0.68 - ETA: 0s - loss: 0.5911 - accuracy: 0.68 - ETA: 0s - loss: 0.5919 - accuracy: 0.68 - ETA: 0s - loss: 0.5938 - accuracy: 0.68 - 1s 91us/sample - loss: 0.5933 - accuracy: 0.6838 - val_loss: 0.7108 - val_accuracy: 0.6192\n",
      "Epoch 16/20\n",
      "10786/10786 [==============================] - ETA: 1s - loss: 0.8200 - accuracy: 0.53 - ETA: 0s - loss: 0.6127 - accuracy: 0.67 - ETA: 0s - loss: 0.6162 - accuracy: 0.67 - ETA: 0s - loss: 0.6077 - accuracy: 0.67 - ETA: 0s - loss: 0.5944 - accuracy: 0.67 - ETA: 0s - loss: 0.5915 - accuracy: 0.68 - ETA: 0s - loss: 0.5948 - accuracy: 0.67 - ETA: 0s - loss: 0.5987 - accuracy: 0.67 - ETA: 0s - loss: 0.5944 - accuracy: 0.68 - ETA: 0s - loss: 0.5960 - accuracy: 0.68 - ETA: 0s - loss: 0.5965 - accuracy: 0.68 - ETA: 0s - loss: 0.5944 - accuracy: 0.68 - ETA: 0s - loss: 0.5938 - accuracy: 0.68 - ETA: 0s - loss: 0.5917 - accuracy: 0.68 - ETA: 0s - loss: 0.5911 - accuracy: 0.68 - ETA: 0s - loss: 0.5930 - accuracy: 0.68 - ETA: 0s - loss: 0.5945 - accuracy: 0.68 - 1s 90us/sample - loss: 0.5941 - accuracy: 0.6842 - val_loss: 0.5894 - val_accuracy: 0.6915\n",
      "Epoch 17/20\n",
      "10786/10786 [==============================] - ETA: 1s - loss: 0.5705 - accuracy: 0.71 - ETA: 0s - loss: 0.6077 - accuracy: 0.66 - ETA: 0s - loss: 0.6073 - accuracy: 0.66 - ETA: 0s - loss: 0.6081 - accuracy: 0.66 - ETA: 0s - loss: 0.6026 - accuracy: 0.67 - ETA: 0s - loss: 0.5996 - accuracy: 0.67 - ETA: 0s - loss: 0.6029 - accuracy: 0.67 - ETA: 0s - loss: 0.6006 - accuracy: 0.68 - ETA: 0s - loss: 0.5986 - accuracy: 0.68 - ETA: 0s - loss: 0.5954 - accuracy: 0.68 - ETA: 0s - loss: 0.5939 - accuracy: 0.68 - ETA: 0s - loss: 0.5929 - accuracy: 0.68 - ETA: 0s - loss: 0.5948 - accuracy: 0.68 - ETA: 0s - loss: 0.5936 - accuracy: 0.68 - ETA: 0s - loss: 0.5935 - accuracy: 0.68 - ETA: 0s - loss: 0.5940 - accuracy: 0.68 - ETA: 0s - loss: 0.5937 - accuracy: 0.68 - ETA: 0s - loss: 0.5925 - accuracy: 0.68 - 1s 95us/sample - loss: 0.5928 - accuracy: 0.6866 - val_loss: 0.6328 - val_accuracy: 0.6500\n",
      "Epoch 18/20\n",
      "10786/10786 [==============================] - ETA: 1s - loss: 0.6172 - accuracy: 0.68 - ETA: 0s - loss: 0.6441 - accuracy: 0.63 - ETA: 0s - loss: 0.6130 - accuracy: 0.65 - ETA: 0s - loss: 0.6083 - accuracy: 0.66 - ETA: 0s - loss: 0.6035 - accuracy: 0.67 - ETA: 0s - loss: 0.6018 - accuracy: 0.67 - ETA: 0s - loss: 0.6038 - accuracy: 0.67 - ETA: 0s - loss: 0.6024 - accuracy: 0.67 - ETA: 0s - loss: 0.6016 - accuracy: 0.67 - ETA: 0s - loss: 0.6022 - accuracy: 0.67 - ETA: 0s - loss: 0.6027 - accuracy: 0.67 - ETA: 0s - loss: 0.5999 - accuracy: 0.67 - ETA: 0s - loss: 0.5976 - accuracy: 0.67 - ETA: 0s - loss: 0.5972 - accuracy: 0.67 - ETA: 0s - loss: 0.5950 - accuracy: 0.68 - ETA: 0s - loss: 0.5951 - accuracy: 0.68 - ETA: 0s - loss: 0.5953 - accuracy: 0.68 - ETA: 0s - loss: 0.5962 - accuracy: 0.67 - 1s 93us/sample - loss: 0.5961 - accuracy: 0.6807 - val_loss: 0.5730 - val_accuracy: 0.6978\n",
      "Epoch 19/20\n",
      "10786/10786 [==============================] - ETA: 1s - loss: 0.6548 - accuracy: 0.59 - ETA: 0s - loss: 0.6158 - accuracy: 0.67 - ETA: 0s - loss: 0.6120 - accuracy: 0.67 - ETA: 0s - loss: 0.6060 - accuracy: 0.68 - ETA: 0s - loss: 0.6014 - accuracy: 0.68 - ETA: 0s - loss: 0.5959 - accuracy: 0.68 - ETA: 0s - loss: 0.5942 - accuracy: 0.68 - ETA: 0s - loss: 0.5920 - accuracy: 0.68 - ETA: 0s - loss: 0.5918 - accuracy: 0.68 - ETA: 0s - loss: 0.5931 - accuracy: 0.68 - ETA: 0s - loss: 0.5934 - accuracy: 0.68 - ETA: 0s - loss: 0.5954 - accuracy: 0.67 - ETA: 0s - loss: 0.5948 - accuracy: 0.68 - ETA: 0s - loss: 0.5943 - accuracy: 0.68 - ETA: 0s - loss: 0.5914 - accuracy: 0.68 - ETA: 0s - loss: 0.5918 - accuracy: 0.68 - ETA: 0s - loss: 0.5929 - accuracy: 0.68 - 1s 90us/sample - loss: 0.5906 - accuracy: 0.6848 - val_loss: 0.6257 - val_accuracy: 0.6733\n",
      "Epoch 20/20\n",
      "10786/10786 [==============================] - ETA: 1s - loss: 0.7500 - accuracy: 0.59 - ETA: 0s - loss: 0.6124 - accuracy: 0.66 - ETA: 0s - loss: 0.5950 - accuracy: 0.67 - ETA: 0s - loss: 0.5938 - accuracy: 0.68 - ETA: 0s - loss: 0.5987 - accuracy: 0.68 - ETA: 0s - loss: 0.5935 - accuracy: 0.69 - ETA: 0s - loss: 0.5956 - accuracy: 0.68 - ETA: 0s - loss: 0.5923 - accuracy: 0.69 - ETA: 0s - loss: 0.5947 - accuracy: 0.68 - ETA: 0s - loss: 0.5948 - accuracy: 0.68 - ETA: 0s - loss: 0.5951 - accuracy: 0.68 - ETA: 0s - loss: 0.5935 - accuracy: 0.68 - ETA: 0s - loss: 0.5922 - accuracy: 0.68 - ETA: 0s - loss: 0.5915 - accuracy: 0.68 - ETA: 0s - loss: 0.5910 - accuracy: 0.68 - ETA: 0s - loss: 0.5900 - accuracy: 0.68 - ETA: 0s - loss: 0.5867 - accuracy: 0.68 - 1s 91us/sample - loss: 0.5886 - accuracy: 0.6876 - val_loss: 0.5731 - val_accuracy: 0.6989\n"
     ]
    },
    {
     "data": {
      "text/html": [
       "<span style=\"color:#4527A0\"><h1 style=\"font-size:18px\">Trial complete</h1></span>"
      ],
      "text/plain": [
       "<IPython.core.display.HTML object>"
      ]
     },
     "metadata": {},
     "output_type": "display_data"
    },
    {
     "data": {
      "text/html": [
       "<span style=\"color:#4527A0\"><h1 style=\"font-size:18px\">Trial summary</h1></span>"
      ],
      "text/plain": [
       "<IPython.core.display.HTML object>"
      ]
     },
     "metadata": {},
     "output_type": "display_data"
    },
    {
     "data": {
      "text/html": [
       "<span style=\"color:#7E57C2\"><h2 style=\"font-size:16px\">Hp values:</h2></span>"
      ],
      "text/plain": [
       "<IPython.core.display.HTML object>"
      ]
     },
     "metadata": {},
     "output_type": "display_data"
    },
    {
     "data": {
      "text/html": [
       "<span style=\"color:cyan\"> |-drop_rate_0: 0.01</span>"
      ],
      "text/plain": [
       "<IPython.core.display.HTML object>"
      ]
     },
     "metadata": {},
     "output_type": "display_data"
    },
    {
     "data": {
      "text/html": [
       "<span style=\"color:blue\"> |-drop_rate_1: 0.01</span>"
      ],
      "text/plain": [
       "<IPython.core.display.HTML object>"
      ]
     },
     "metadata": {},
     "output_type": "display_data"
    },
    {
     "data": {
      "text/html": [
       "<span style=\"color:cyan\"> |-drop_rate_2: 0.2</span>"
      ],
      "text/plain": [
       "<IPython.core.display.HTML object>"
      ]
     },
     "metadata": {},
     "output_type": "display_data"
    },
    {
     "data": {
      "text/html": [
       "<span style=\"color:blue\"> |-drop_rate_3: 0.3</span>"
      ],
      "text/plain": [
       "<IPython.core.display.HTML object>"
      ]
     },
     "metadata": {},
     "output_type": "display_data"
    },
    {
     "data": {
      "text/html": [
       "<span style=\"color:cyan\"> |-drop_rate_4: 0.2</span>"
      ],
      "text/plain": [
       "<IPython.core.display.HTML object>"
      ]
     },
     "metadata": {},
     "output_type": "display_data"
    },
    {
     "data": {
      "text/html": [
       "<span style=\"color:blue\"> |-drop_rate_5: 0.3</span>"
      ],
      "text/plain": [
       "<IPython.core.display.HTML object>"
      ]
     },
     "metadata": {},
     "output_type": "display_data"
    },
    {
     "data": {
      "text/html": [
       "<span style=\"color:cyan\"> |-drop_rate_6: 0.01</span>"
      ],
      "text/plain": [
       "<IPython.core.display.HTML object>"
      ]
     },
     "metadata": {},
     "output_type": "display_data"
    },
    {
     "data": {
      "text/html": [
       "<span style=\"color:blue\"> |-drop_rate_7: 0.1</span>"
      ],
      "text/plain": [
       "<IPython.core.display.HTML object>"
      ]
     },
     "metadata": {},
     "output_type": "display_data"
    },
    {
     "data": {
      "text/html": [
       "<span style=\"color:cyan\"> |-drop_rate_9: 0.01</span>"
      ],
      "text/plain": [
       "<IPython.core.display.HTML object>"
      ]
     },
     "metadata": {},
     "output_type": "display_data"
    },
    {
     "data": {
      "text/html": [
       "<span style=\"color:blue\"> |-learning_rate: 0.001</span>"
      ],
      "text/plain": [
       "<IPython.core.display.HTML object>"
      ]
     },
     "metadata": {},
     "output_type": "display_data"
    },
    {
     "data": {
      "text/html": [
       "<span style=\"color:cyan\"> |-momentum: 0.6</span>"
      ],
      "text/plain": [
       "<IPython.core.display.HTML object>"
      ]
     },
     "metadata": {},
     "output_type": "display_data"
    },
    {
     "data": {
      "text/html": [
       "<span style=\"color:blue\"> |-num_layers: 10</span>"
      ],
      "text/plain": [
       "<IPython.core.display.HTML object>"
      ]
     },
     "metadata": {},
     "output_type": "display_data"
    },
    {
     "data": {
      "text/html": [
       "<span style=\"color:cyan\"> |-tuner/bracket: 1</span>"
      ],
      "text/plain": [
       "<IPython.core.display.HTML object>"
      ]
     },
     "metadata": {},
     "output_type": "display_data"
    },
    {
     "data": {
      "text/html": [
       "<span style=\"color:blue\"> |-tuner/epochs: 20</span>"
      ],
      "text/plain": [
       "<IPython.core.display.HTML object>"
      ]
     },
     "metadata": {},
     "output_type": "display_data"
    },
    {
     "data": {
      "text/html": [
       "<span style=\"color:cyan\"> |-tuner/initial_epoch: 7</span>"
      ],
      "text/plain": [
       "<IPython.core.display.HTML object>"
      ]
     },
     "metadata": {},
     "output_type": "display_data"
    },
    {
     "data": {
      "text/html": [
       "<span style=\"color:blue\"> |-tuner/round: 1</span>"
      ],
      "text/plain": [
       "<IPython.core.display.HTML object>"
      ]
     },
     "metadata": {},
     "output_type": "display_data"
    },
    {
     "data": {
      "text/html": [
       "<span style=\"color:cyan\"> |-tuner/trial_id: a05705c3ca5f1d3384b96ca5b8c3e251</span>"
      ],
      "text/plain": [
       "<IPython.core.display.HTML object>"
      ]
     },
     "metadata": {},
     "output_type": "display_data"
    },
    {
     "data": {
      "text/html": [
       "<span style=\"color:blue\"> |-units_0: 48</span>"
      ],
      "text/plain": [
       "<IPython.core.display.HTML object>"
      ]
     },
     "metadata": {},
     "output_type": "display_data"
    },
    {
     "data": {
      "text/html": [
       "<span style=\"color:cyan\"> |-units_1: 80</span>"
      ],
      "text/plain": [
       "<IPython.core.display.HTML object>"
      ]
     },
     "metadata": {},
     "output_type": "display_data"
    },
    {
     "data": {
      "text/html": [
       "<span style=\"color:blue\"> |-units_2: 112</span>"
      ],
      "text/plain": [
       "<IPython.core.display.HTML object>"
      ]
     },
     "metadata": {},
     "output_type": "display_data"
    },
    {
     "data": {
      "text/html": [
       "<span style=\"color:cyan\"> |-units_3: 120</span>"
      ],
      "text/plain": [
       "<IPython.core.display.HTML object>"
      ]
     },
     "metadata": {},
     "output_type": "display_data"
    },
    {
     "data": {
      "text/html": [
       "<span style=\"color:blue\"> |-units_4: 200</span>"
      ],
      "text/plain": [
       "<IPython.core.display.HTML object>"
      ]
     },
     "metadata": {},
     "output_type": "display_data"
    },
    {
     "data": {
      "text/html": [
       "<span style=\"color:cyan\"> |-units_5: 144</span>"
      ],
      "text/plain": [
       "<IPython.core.display.HTML object>"
      ]
     },
     "metadata": {},
     "output_type": "display_data"
    },
    {
     "data": {
      "text/html": [
       "<span style=\"color:blue\"> |-units_6: 104</span>"
      ],
      "text/plain": [
       "<IPython.core.display.HTML object>"
      ]
     },
     "metadata": {},
     "output_type": "display_data"
    },
    {
     "data": {
      "text/html": [
       "<span style=\"color:cyan\"> |-units_7: 24</span>"
      ],
      "text/plain": [
       "<IPython.core.display.HTML object>"
      ]
     },
     "metadata": {},
     "output_type": "display_data"
    },
    {
     "data": {
      "text/html": [
       "<span style=\"color:blue\"> |-units_8: 16</span>"
      ],
      "text/plain": [
       "<IPython.core.display.HTML object>"
      ]
     },
     "metadata": {},
     "output_type": "display_data"
    },
    {
     "data": {
      "text/html": [
       "<span style=\"color:cyan\"> |-units_9: 16</span>"
      ],
      "text/plain": [
       "<IPython.core.display.HTML object>"
      ]
     },
     "metadata": {},
     "output_type": "display_data"
    },
    {
     "data": {
      "text/html": [
       "<span style=\"color:cyan\"> |-Score: 0.6875579357147217</span>"
      ],
      "text/plain": [
       "<IPython.core.display.HTML object>"
      ]
     },
     "metadata": {},
     "output_type": "display_data"
    },
    {
     "data": {
      "text/html": [
       "<span style=\"color:cyan\"> |-Best step: 0</span>"
      ],
      "text/plain": [
       "<IPython.core.display.HTML object>"
      ]
     },
     "metadata": {},
     "output_type": "display_data"
    },
    {
     "name": "stdout",
     "output_type": "stream",
     "text": [
      "Train on 10786 samples, validate on 2697 samples\n",
      "Epoch 1/20\n",
      "10786/10786 [==============================] - ETA: 3:46 - loss: 0.6845 - accuracy: 0.59 - ETA: 13s - loss: 1.4093 - accuracy: 0.4816 - ETA: 7s - loss: 1.0747 - accuracy: 0.475 - ETA: 4s - loss: 0.9504 - accuracy: 0.47 - ETA: 3s - loss: 0.8872 - accuracy: 0.47 - ETA: 2s - loss: 0.8488 - accuracy: 0.48 - ETA: 2s - loss: 0.8245 - accuracy: 0.49 - ETA: 2s - loss: 0.8058 - accuracy: 0.49 - ETA: 1s - loss: 0.7925 - accuracy: 0.49 - ETA: 1s - loss: 0.7815 - accuracy: 0.49 - ETA: 1s - loss: 0.7726 - accuracy: 0.49 - ETA: 1s - loss: 0.7647 - accuracy: 0.50 - ETA: 0s - loss: 0.7582 - accuracy: 0.50 - ETA: 0s - loss: 0.7533 - accuracy: 0.50 - ETA: 0s - loss: 0.7487 - accuracy: 0.51 - ETA: 0s - loss: 0.7450 - accuracy: 0.51 - ETA: 0s - loss: 0.7416 - accuracy: 0.51 - ETA: 0s - loss: 0.7386 - accuracy: 0.51 - ETA: 0s - loss: 0.7360 - accuracy: 0.51 - ETA: 0s - loss: 0.7339 - accuracy: 0.51 - ETA: 0s - loss: 0.7318 - accuracy: 0.51 - 2s 185us/sample - loss: 0.7301 - accuracy: 0.5131 - val_loss: 0.6923 - val_accuracy: 0.5217\n",
      "Epoch 2/20\n",
      "10786/10786 [==============================] - ETA: 1s - loss: 0.6939 - accuracy: 0.50 - ETA: 1s - loss: 0.6892 - accuracy: 0.54 - ETA: 0s - loss: 0.6908 - accuracy: 0.53 - ETA: 0s - loss: 0.6902 - accuracy: 0.54 - ETA: 0s - loss: 0.6900 - accuracy: 0.54 - ETA: 0s - loss: 0.6898 - accuracy: 0.54 - ETA: 0s - loss: 0.6900 - accuracy: 0.54 - ETA: 0s - loss: 0.6910 - accuracy: 0.53 - ETA: 0s - loss: 0.6913 - accuracy: 0.53 - ETA: 0s - loss: 0.6915 - accuracy: 0.52 - ETA: 0s - loss: 0.6916 - accuracy: 0.52 - ETA: 0s - loss: 0.6919 - accuracy: 0.52 - ETA: 0s - loss: 0.6920 - accuracy: 0.52 - ETA: 0s - loss: 0.6922 - accuracy: 0.51 - ETA: 0s - loss: 0.6922 - accuracy: 0.51 - ETA: 0s - loss: 0.6920 - accuracy: 0.51 - ETA: 0s - loss: 0.6919 - accuracy: 0.52 - ETA: 0s - loss: 0.6922 - accuracy: 0.51 - ETA: 0s - loss: 0.6922 - accuracy: 0.51 - ETA: 0s - loss: 0.6922 - accuracy: 0.51 - ETA: 0s - loss: 0.6923 - accuracy: 0.51 - 1s 112us/sample - loss: 0.6923 - accuracy: 0.5180 - val_loss: 0.6923 - val_accuracy: 0.5217\n",
      "Epoch 3/20\n",
      "10786/10786 [==============================] - ETA: 1s - loss: 0.6910 - accuracy: 0.53 - ETA: 1s - loss: 0.6940 - accuracy: 0.50 - ETA: 0s - loss: 0.6938 - accuracy: 0.50 - ETA: 0s - loss: 0.6921 - accuracy: 0.52 - ETA: 0s - loss: 0.6913 - accuracy: 0.53 - ETA: 0s - loss: 0.6923 - accuracy: 0.52 - ETA: 0s - loss: 0.6925 - accuracy: 0.52 - ETA: 0s - loss: 0.6927 - accuracy: 0.51 - ETA: 0s - loss: 0.6929 - accuracy: 0.51 - ETA: 0s - loss: 0.6929 - accuracy: 0.51 - ETA: 0s - loss: 0.6926 - accuracy: 0.52 - ETA: 0s - loss: 0.6924 - accuracy: 0.52 - ETA: 0s - loss: 0.6926 - accuracy: 0.52 - ETA: 0s - loss: 0.6927 - accuracy: 0.52 - ETA: 0s - loss: 0.6926 - accuracy: 0.52 - ETA: 0s - loss: 0.6927 - accuracy: 0.52 - ETA: 0s - loss: 0.6928 - accuracy: 0.51 - ETA: 0s - loss: 0.6928 - accuracy: 0.51 - ETA: 0s - loss: 0.6928 - accuracy: 0.51 - ETA: 0s - loss: 0.6927 - accuracy: 0.52 - ETA: 0s - loss: 0.6927 - accuracy: 0.51 - 1s 112us/sample - loss: 0.6925 - accuracy: 0.5219 - val_loss: 0.6928 - val_accuracy: 0.5217\n",
      "Epoch 4/20\n",
      "10786/10786 [==============================] - ETA: 1s - loss: 0.6815 - accuracy: 0.59 - ETA: 1s - loss: 0.6912 - accuracy: 0.53 - ETA: 1s - loss: 0.6903 - accuracy: 0.54 - ETA: 0s - loss: 0.6919 - accuracy: 0.52 - ETA: 0s - loss: 0.6922 - accuracy: 0.52 - ETA: 0s - loss: 0.6924 - accuracy: 0.52 - ETA: 0s - loss: 0.6926 - accuracy: 0.51 - ETA: 0s - loss: 0.6925 - accuracy: 0.52 - ETA: 0s - loss: 0.6925 - accuracy: 0.52 - ETA: 0s - loss: 0.6921 - accuracy: 0.52 - ETA: 0s - loss: 0.6920 - accuracy: 0.52 - ETA: 0s - loss: 0.6921 - accuracy: 0.52 - ETA: 0s - loss: 0.6923 - accuracy: 0.52 - ETA: 0s - loss: 0.6924 - accuracy: 0.52 - ETA: 0s - loss: 0.6924 - accuracy: 0.52 - ETA: 0s - loss: 0.6925 - accuracy: 0.52 - ETA: 0s - loss: 0.6923 - accuracy: 0.52 - ETA: 0s - loss: 0.6924 - accuracy: 0.52 - ETA: 0s - loss: 0.6923 - accuracy: 0.52 - ETA: 0s - loss: 0.6923 - accuracy: 0.52 - ETA: 0s - loss: 0.6924 - accuracy: 0.52 - 1s 111us/sample - loss: 0.6925 - accuracy: 0.5219 - val_loss: 0.6925 - val_accuracy: 0.5217\n",
      "Epoch 5/20\n",
      "10786/10786 [==============================] - ETA: 1s - loss: 0.6897 - accuracy: 0.59 - ETA: 1s - loss: 0.6930 - accuracy: 0.51 - ETA: 0s - loss: 0.6935 - accuracy: 0.49 - ETA: 0s - loss: 0.6935 - accuracy: 0.49 - ETA: 0s - loss: 0.6930 - accuracy: 0.50 - ETA: 0s - loss: 0.6928 - accuracy: 0.51 - ETA: 0s - loss: 0.6925 - accuracy: 0.51 - ETA: 0s - loss: 0.6925 - accuracy: 0.51 - ETA: 0s - loss: 0.6922 - accuracy: 0.52 - ETA: 0s - loss: 0.6921 - accuracy: 0.52 - ETA: 0s - loss: 0.6925 - accuracy: 0.51 - ETA: 0s - loss: 0.6925 - accuracy: 0.51 - ETA: 0s - loss: 0.6925 - accuracy: 0.51 - ETA: 0s - loss: 0.6925 - accuracy: 0.51 - ETA: 0s - loss: 0.6924 - accuracy: 0.52 - ETA: 0s - loss: 0.6923 - accuracy: 0.52 - ETA: 0s - loss: 0.6923 - accuracy: 0.52 - ETA: 0s - loss: 0.6924 - accuracy: 0.52 - ETA: 0s - loss: 0.6924 - accuracy: 0.52 - ETA: 0s - loss: 0.6925 - accuracy: 0.51 - ETA: 0s - loss: 0.6925 - accuracy: 0.52 - 1s 111us/sample - loss: 0.6925 - accuracy: 0.5199 - val_loss: 0.6926 - val_accuracy: 0.5217\n",
      "Epoch 6/20\n",
      "10786/10786 [==============================] - ETA: 1s - loss: 0.6943 - accuracy: 0.46 - ETA: 1s - loss: 0.6931 - accuracy: 0.52 - ETA: 0s - loss: 0.6930 - accuracy: 0.51 - ETA: 0s - loss: 0.6930 - accuracy: 0.51 - ETA: 0s - loss: 0.6933 - accuracy: 0.51 - ETA: 0s - loss: 0.6933 - accuracy: 0.51 - ETA: 0s - loss: 0.6930 - accuracy: 0.51 - ETA: 0s - loss: 0.6923 - accuracy: 0.52 - ETA: 0s - loss: 0.6921 - accuracy: 0.52 - ETA: 0s - loss: 0.6924 - accuracy: 0.52 - ETA: 0s - loss: 0.6922 - accuracy: 0.52 - ETA: 0s - loss: 0.6926 - accuracy: 0.52 - ETA: 0s - loss: 0.6925 - accuracy: 0.52 - ETA: 0s - loss: 0.6924 - accuracy: 0.52 - ETA: 0s - loss: 0.6922 - accuracy: 0.52 - ETA: 0s - loss: 0.6921 - accuracy: 0.52 - ETA: 0s - loss: 0.6923 - accuracy: 0.52 - ETA: 0s - loss: 0.6924 - accuracy: 0.52 - ETA: 0s - loss: 0.6925 - accuracy: 0.52 - ETA: 0s - loss: 0.6925 - accuracy: 0.52 - ETA: 0s - loss: 0.6925 - accuracy: 0.52 - 1s 110us/sample - loss: 0.6925 - accuracy: 0.5211 - val_loss: 0.6923 - val_accuracy: 0.5217\n",
      "Epoch 7/20\n",
      "10786/10786 [==============================] - ETA: 1s - loss: 0.6976 - accuracy: 0.43 - ETA: 1s - loss: 0.6922 - accuracy: 0.52 - ETA: 1s - loss: 0.6930 - accuracy: 0.51 - ETA: 0s - loss: 0.6925 - accuracy: 0.52 - ETA: 0s - loss: 0.6924 - accuracy: 0.52 - ETA: 0s - loss: 0.6915 - accuracy: 0.53 - ETA: 0s - loss: 0.6919 - accuracy: 0.52 - ETA: 0s - loss: 0.6918 - accuracy: 0.52 - ETA: 0s - loss: 0.6922 - accuracy: 0.52 - ETA: 0s - loss: 0.6922 - accuracy: 0.52 - ETA: 0s - loss: 0.6922 - accuracy: 0.52 - ETA: 0s - loss: 0.6919 - accuracy: 0.52 - ETA: 0s - loss: 0.6918 - accuracy: 0.52 - ETA: 0s - loss: 0.6917 - accuracy: 0.52 - ETA: 0s - loss: 0.6918 - accuracy: 0.52 - ETA: 0s - loss: 0.6917 - accuracy: 0.53 - ETA: 0s - loss: 0.6919 - accuracy: 0.52 - ETA: 0s - loss: 0.6920 - accuracy: 0.52 - ETA: 0s - loss: 0.6921 - accuracy: 0.52 - ETA: 0s - loss: 0.6922 - accuracy: 0.52 - ETA: 0s - loss: 0.6922 - accuracy: 0.52 - 1s 111us/sample - loss: 0.6923 - accuracy: 0.5219 - val_loss: 0.6934 - val_accuracy: 0.4783\n",
      "Epoch 8/20\n",
      "10786/10786 [==============================] - ETA: 1s - loss: 0.6944 - accuracy: 0.37 - ETA: 1s - loss: 0.6914 - accuracy: 0.54 - ETA: 1s - loss: 0.6924 - accuracy: 0.53 - ETA: 0s - loss: 0.6909 - accuracy: 0.54 - ETA: 0s - loss: 0.6911 - accuracy: 0.54 - ETA: 0s - loss: 0.6913 - accuracy: 0.53 - ETA: 0s - loss: 0.6920 - accuracy: 0.53 - ETA: 0s - loss: 0.6921 - accuracy: 0.52 - ETA: 0s - loss: 0.6922 - accuracy: 0.52 - ETA: 0s - loss: 0.6922 - accuracy: 0.52 - ETA: 0s - loss: 0.6922 - accuracy: 0.52 - ETA: 0s - loss: 0.6925 - accuracy: 0.52 - ETA: 0s - loss: 0.6925 - accuracy: 0.52 - ETA: 0s - loss: 0.6926 - accuracy: 0.52 - ETA: 0s - loss: 0.6927 - accuracy: 0.51 - ETA: 0s - loss: 0.6926 - accuracy: 0.52 - ETA: 0s - loss: 0.6925 - accuracy: 0.52 - ETA: 0s - loss: 0.6925 - accuracy: 0.52 - ETA: 0s - loss: 0.6926 - accuracy: 0.52 - ETA: 0s - loss: 0.6927 - accuracy: 0.51 - ETA: 0s - loss: 0.6926 - accuracy: 0.52 - 1s 110us/sample - loss: 0.6926 - accuracy: 0.5210 - val_loss: 0.6924 - val_accuracy: 0.5217\n",
      "Epoch 9/20\n",
      "10786/10786 [==============================] - ETA: 1s - loss: 0.6904 - accuracy: 0.56 - ETA: 1s - loss: 0.6930 - accuracy: 0.51 - ETA: 1s - loss: 0.6895 - accuracy: 0.55 - ETA: 0s - loss: 0.6887 - accuracy: 0.55 - ETA: 0s - loss: 0.6902 - accuracy: 0.54 - ETA: 0s - loss: 0.6901 - accuracy: 0.54 - ETA: 0s - loss: 0.6909 - accuracy: 0.53 - ETA: 0s - loss: 0.6911 - accuracy: 0.53 - ETA: 0s - loss: 0.6910 - accuracy: 0.53 - ETA: 0s - loss: 0.6910 - accuracy: 0.53 - ETA: 0s - loss: 0.6912 - accuracy: 0.53 - ETA: 0s - loss: 0.6915 - accuracy: 0.53 - ETA: 0s - loss: 0.6917 - accuracy: 0.53 - ETA: 0s - loss: 0.6916 - accuracy: 0.53 - ETA: 0s - loss: 0.6917 - accuracy: 0.52 - ETA: 0s - loss: 0.6920 - accuracy: 0.52 - ETA: 0s - loss: 0.6921 - accuracy: 0.52 - ETA: 0s - loss: 0.6920 - accuracy: 0.52 - ETA: 0s - loss: 0.6922 - accuracy: 0.52 - ETA: 0s - loss: 0.6922 - accuracy: 0.51 - ETA: 0s - loss: 0.6923 - accuracy: 0.51 - 1s 111us/sample - loss: 0.6923 - accuracy: 0.5174 - val_loss: 0.6923 - val_accuracy: 0.5217\n",
      "Epoch 10/20\n",
      "10786/10786 [==============================] - ETA: 1s - loss: 0.6946 - accuracy: 0.50 - ETA: 1s - loss: 0.6899 - accuracy: 0.54 - ETA: 0s - loss: 0.6909 - accuracy: 0.53 - ETA: 0s - loss: 0.6905 - accuracy: 0.53 - ETA: 0s - loss: 0.6897 - accuracy: 0.54 - ETA: 0s - loss: 0.6903 - accuracy: 0.54 - ETA: 0s - loss: 0.6913 - accuracy: 0.53 - ETA: 0s - loss: 0.6919 - accuracy: 0.52 - ETA: 0s - loss: 0.6921 - accuracy: 0.51 - ETA: 0s - loss: 0.6919 - accuracy: 0.52 - ETA: 0s - loss: 0.6916 - accuracy: 0.52 - ETA: 0s - loss: 0.6919 - accuracy: 0.52 - ETA: 0s - loss: 0.6920 - accuracy: 0.52 - ETA: 0s - loss: 0.6921 - accuracy: 0.52 - ETA: 0s - loss: 0.6922 - accuracy: 0.52 - ETA: 0s - loss: 0.6922 - accuracy: 0.52 - ETA: 0s - loss: 0.6921 - accuracy: 0.52 - ETA: 0s - loss: 0.6922 - accuracy: 0.52 - ETA: 0s - loss: 0.6922 - accuracy: 0.52 - ETA: 0s - loss: 0.6922 - accuracy: 0.52 - ETA: 0s - loss: 0.6923 - accuracy: 0.52 - 1s 111us/sample - loss: 0.6923 - accuracy: 0.5208 - val_loss: 0.6922 - val_accuracy: 0.5217\n",
      "Epoch 11/20\n",
      "10786/10786 [==============================] - ETA: 1s - loss: 0.6974 - accuracy: 0.46 - ETA: 0s - loss: 0.6923 - accuracy: 0.52 - ETA: 0s - loss: 0.6927 - accuracy: 0.52 - ETA: 0s - loss: 0.6930 - accuracy: 0.51 - ETA: 0s - loss: 0.6932 - accuracy: 0.51 - ETA: 0s - loss: 0.6928 - accuracy: 0.51 - ETA: 0s - loss: 0.6919 - accuracy: 0.52 - ETA: 0s - loss: 0.6918 - accuracy: 0.52 - ETA: 0s - loss: 0.6915 - accuracy: 0.52 - ETA: 0s - loss: 0.6910 - accuracy: 0.53 - ETA: 0s - loss: 0.6913 - accuracy: 0.53 - ETA: 0s - loss: 0.6917 - accuracy: 0.52 - ETA: 0s - loss: 0.6918 - accuracy: 0.52 - ETA: 0s - loss: 0.6917 - accuracy: 0.52 - ETA: 0s - loss: 0.6918 - accuracy: 0.52 - ETA: 0s - loss: 0.6919 - accuracy: 0.52 - ETA: 0s - loss: 0.6920 - accuracy: 0.52 - ETA: 0s - loss: 0.6921 - accuracy: 0.52 - ETA: 0s - loss: 0.6921 - accuracy: 0.52 - ETA: 0s - loss: 0.6922 - accuracy: 0.52 - ETA: 0s - loss: 0.6923 - accuracy: 0.52 - 1s 111us/sample - loss: 0.6923 - accuracy: 0.5219 - val_loss: 0.6924 - val_accuracy: 0.5217\n",
      "Epoch 12/20\n",
      "10786/10786 [==============================] - ETA: 1s - loss: 0.6934 - accuracy: 0.50 - ETA: 1s - loss: 0.6904 - accuracy: 0.55 - ETA: 0s - loss: 0.6930 - accuracy: 0.51 - ETA: 0s - loss: 0.6922 - accuracy: 0.52 - ETA: 0s - loss: 0.6923 - accuracy: 0.52 - ETA: 0s - loss: 0.6918 - accuracy: 0.52 - ETA: 0s - loss: 0.6921 - accuracy: 0.52 - ETA: 0s - loss: 0.6917 - accuracy: 0.53 - ETA: 0s - loss: 0.6923 - accuracy: 0.52 - ETA: 0s - loss: 0.6923 - accuracy: 0.52 - ETA: 0s - loss: 0.6918 - accuracy: 0.52 - ETA: 0s - loss: 0.6922 - accuracy: 0.52 - ETA: 0s - loss: 0.6922 - accuracy: 0.52 - ETA: 0s - loss: 0.6922 - accuracy: 0.52 - ETA: 0s - loss: 0.6923 - accuracy: 0.52 - ETA: 0s - loss: 0.6924 - accuracy: 0.52 - ETA: 0s - loss: 0.6925 - accuracy: 0.52 - ETA: 0s - loss: 0.6926 - accuracy: 0.51 - ETA: 0s - loss: 0.6925 - accuracy: 0.51 - ETA: 0s - loss: 0.6925 - accuracy: 0.51 - ETA: 0s - loss: 0.6924 - accuracy: 0.52 - 1s 111us/sample - loss: 0.6925 - accuracy: 0.5204 - val_loss: 0.6922 - val_accuracy: 0.5217\n",
      "Epoch 13/20\n",
      "10786/10786 [==============================] - ETA: 1s - loss: 0.6890 - accuracy: 0.56 - ETA: 1s - loss: 0.6930 - accuracy: 0.51 - ETA: 0s - loss: 0.6926 - accuracy: 0.52 - ETA: 0s - loss: 0.6921 - accuracy: 0.52 - ETA: 0s - loss: 0.6916 - accuracy: 0.53 - ETA: 0s - loss: 0.6923 - accuracy: 0.52 - ETA: 0s - loss: 0.6923 - accuracy: 0.52 - ETA: 0s - loss: 0.6922 - accuracy: 0.52 - ETA: 0s - loss: 0.6924 - accuracy: 0.52 - ETA: 0s - loss: 0.6923 - accuracy: 0.52 - ETA: 0s - loss: 0.6926 - accuracy: 0.52 - ETA: 0s - loss: 0.6926 - accuracy: 0.52 - ETA: 0s - loss: 0.6926 - accuracy: 0.52 - ETA: 0s - loss: 0.6925 - accuracy: 0.52 - ETA: 0s - loss: 0.6924 - accuracy: 0.52 - ETA: 0s - loss: 0.6926 - accuracy: 0.52 - ETA: 0s - loss: 0.6926 - accuracy: 0.52 - ETA: 0s - loss: 0.6925 - accuracy: 0.52 - ETA: 0s - loss: 0.6925 - accuracy: 0.52 - ETA: 0s - loss: 0.6923 - accuracy: 0.52 - ETA: 0s - loss: 0.6924 - accuracy: 0.52 - 1s 110us/sample - loss: 0.6925 - accuracy: 0.5219 - val_loss: 0.6924 - val_accuracy: 0.5217\n",
      "Epoch 14/20\n",
      "10786/10786 [==============================] - ETA: 1s - loss: 0.6948 - accuracy: 0.46 - ETA: 1s - loss: 0.6923 - accuracy: 0.52 - ETA: 0s - loss: 0.6927 - accuracy: 0.51 - ETA: 0s - loss: 0.6921 - accuracy: 0.52 - ETA: 0s - loss: 0.6930 - accuracy: 0.51 - ETA: 0s - loss: 0.6933 - accuracy: 0.50 - ETA: 0s - loss: 0.6930 - accuracy: 0.51 - ETA: 0s - loss: 0.6919 - accuracy: 0.52 - ETA: 0s - loss: 0.6923 - accuracy: 0.52 - ETA: 0s - loss: 0.6924 - accuracy: 0.52 - ETA: 0s - loss: 0.6923 - accuracy: 0.52 - ETA: 0s - loss: 0.6924 - accuracy: 0.52 - ETA: 0s - loss: 0.6926 - accuracy: 0.51 - ETA: 0s - loss: 0.6926 - accuracy: 0.52 - ETA: 0s - loss: 0.6926 - accuracy: 0.52 - ETA: 0s - loss: 0.6927 - accuracy: 0.51 - ETA: 0s - loss: 0.6927 - accuracy: 0.51 - ETA: 0s - loss: 0.6927 - accuracy: 0.51 - ETA: 0s - loss: 0.6927 - accuracy: 0.51 - ETA: 0s - loss: 0.6926 - accuracy: 0.52 - ETA: 0s - loss: 0.6926 - accuracy: 0.52 - 1s 111us/sample - loss: 0.6925 - accuracy: 0.5211 - val_loss: 0.6926 - val_accuracy: 0.5217\n",
      "Epoch 15/20\n",
      "10786/10786 [==============================] - ETA: 1s - loss: 0.6685 - accuracy: 0.68 - ETA: 1s - loss: 0.6918 - accuracy: 0.53 - ETA: 1s - loss: 0.6906 - accuracy: 0.53 - ETA: 0s - loss: 0.6911 - accuracy: 0.53 - ETA: 0s - loss: 0.6924 - accuracy: 0.52 - ETA: 0s - loss: 0.6922 - accuracy: 0.52 - ETA: 0s - loss: 0.6920 - accuracy: 0.52 - ETA: 0s - loss: 0.6921 - accuracy: 0.52 - ETA: 0s - loss: 0.6925 - accuracy: 0.52 - ETA: 0s - loss: 0.6926 - accuracy: 0.52 - ETA: 0s - loss: 0.6926 - accuracy: 0.52 - ETA: 0s - loss: 0.6926 - accuracy: 0.52 - ETA: 0s - loss: 0.6926 - accuracy: 0.52 - ETA: 0s - loss: 0.6922 - accuracy: 0.52 - ETA: 0s - loss: 0.6924 - accuracy: 0.52 - ETA: 0s - loss: 0.6924 - accuracy: 0.52 - ETA: 0s - loss: 0.6925 - accuracy: 0.52 - ETA: 0s - loss: 0.6926 - accuracy: 0.52 - ETA: 0s - loss: 0.6924 - accuracy: 0.52 - ETA: 0s - loss: 0.6924 - accuracy: 0.52 - ETA: 0s - loss: 0.6925 - accuracy: 0.52 - 1s 110us/sample - loss: 0.6925 - accuracy: 0.5219 - val_loss: 0.6922 - val_accuracy: 0.5217\n"
     ]
    },
    {
     "name": "stdout",
     "output_type": "stream",
     "text": [
      "Epoch 16/20\n",
      "10786/10786 [==============================] - ETA: 1s - loss: 0.6939 - accuracy: 0.50 - ETA: 1s - loss: 0.6934 - accuracy: 0.50 - ETA: 0s - loss: 0.6927 - accuracy: 0.51 - ETA: 0s - loss: 0.6935 - accuracy: 0.50 - ETA: 0s - loss: 0.6929 - accuracy: 0.51 - ETA: 0s - loss: 0.6933 - accuracy: 0.50 - ETA: 0s - loss: 0.6933 - accuracy: 0.51 - ETA: 0s - loss: 0.6928 - accuracy: 0.51 - ETA: 0s - loss: 0.6932 - accuracy: 0.51 - ETA: 0s - loss: 0.6931 - accuracy: 0.51 - ETA: 0s - loss: 0.6932 - accuracy: 0.51 - ETA: 0s - loss: 0.6932 - accuracy: 0.51 - ETA: 0s - loss: 0.6932 - accuracy: 0.51 - ETA: 0s - loss: 0.6932 - accuracy: 0.51 - ETA: 0s - loss: 0.6929 - accuracy: 0.51 - ETA: 0s - loss: 0.6927 - accuracy: 0.51 - ETA: 0s - loss: 0.6927 - accuracy: 0.51 - ETA: 0s - loss: 0.6928 - accuracy: 0.51 - ETA: 0s - loss: 0.6927 - accuracy: 0.51 - ETA: 0s - loss: 0.6926 - accuracy: 0.52 - ETA: 0s - loss: 0.6926 - accuracy: 0.52 - 1s 111us/sample - loss: 0.6924 - accuracy: 0.5219 - val_loss: 0.6926 - val_accuracy: 0.5217\n",
      "Epoch 17/20\n",
      "10786/10786 [==============================] - ETA: 1s - loss: 0.6912 - accuracy: 0.53 - ETA: 1s - loss: 0.6934 - accuracy: 0.51 - ETA: 0s - loss: 0.6925 - accuracy: 0.52 - ETA: 0s - loss: 0.6925 - accuracy: 0.52 - ETA: 0s - loss: 0.6927 - accuracy: 0.52 - ETA: 0s - loss: 0.6924 - accuracy: 0.52 - ETA: 0s - loss: 0.6929 - accuracy: 0.51 - ETA: 0s - loss: 0.6930 - accuracy: 0.51 - ETA: 0s - loss: 0.6931 - accuracy: 0.51 - ETA: 0s - loss: 0.6927 - accuracy: 0.51 - ETA: 0s - loss: 0.6923 - accuracy: 0.52 - ETA: 0s - loss: 0.6925 - accuracy: 0.51 - ETA: 0s - loss: 0.6921 - accuracy: 0.52 - ETA: 0s - loss: 0.6923 - accuracy: 0.52 - ETA: 0s - loss: 0.6923 - accuracy: 0.52 - ETA: 0s - loss: 0.6924 - accuracy: 0.52 - ETA: 0s - loss: 0.6925 - accuracy: 0.51 - ETA: 0s - loss: 0.6924 - accuracy: 0.52 - ETA: 0s - loss: 0.6925 - accuracy: 0.52 - ETA: 0s - loss: 0.6924 - accuracy: 0.52 - ETA: 0s - loss: 0.6925 - accuracy: 0.51 - 1s 111us/sample - loss: 0.6925 - accuracy: 0.5208 - val_loss: 0.6922 - val_accuracy: 0.5217\n",
      "Epoch 18/20\n",
      "10786/10786 [==============================] - ETA: 1s - loss: 0.6723 - accuracy: 0.75 - ETA: 0s - loss: 0.6892 - accuracy: 0.55 - ETA: 0s - loss: 0.6928 - accuracy: 0.52 - ETA: 0s - loss: 0.6928 - accuracy: 0.52 - ETA: 0s - loss: 0.6932 - accuracy: 0.50 - ETA: 0s - loss: 0.6932 - accuracy: 0.51 - ETA: 0s - loss: 0.6929 - accuracy: 0.51 - ETA: 0s - loss: 0.6932 - accuracy: 0.51 - ETA: 0s - loss: 0.6930 - accuracy: 0.51 - ETA: 0s - loss: 0.6929 - accuracy: 0.51 - ETA: 0s - loss: 0.6928 - accuracy: 0.51 - ETA: 0s - loss: 0.6926 - accuracy: 0.51 - ETA: 0s - loss: 0.6924 - accuracy: 0.52 - ETA: 0s - loss: 0.6924 - accuracy: 0.52 - ETA: 0s - loss: 0.6925 - accuracy: 0.52 - ETA: 0s - loss: 0.6924 - accuracy: 0.52 - ETA: 0s - loss: 0.6924 - accuracy: 0.52 - ETA: 0s - loss: 0.6925 - accuracy: 0.52 - ETA: 0s - loss: 0.6923 - accuracy: 0.52 - ETA: 0s - loss: 0.6925 - accuracy: 0.52 - ETA: 0s - loss: 0.6926 - accuracy: 0.52 - 1s 110us/sample - loss: 0.6925 - accuracy: 0.5210 - val_loss: 0.6925 - val_accuracy: 0.5217\n",
      "Epoch 19/20\n",
      "10786/10786 [==============================] - ETA: 1s - loss: 0.6879 - accuracy: 0.65 - ETA: 1s - loss: 0.6933 - accuracy: 0.50 - ETA: 0s - loss: 0.6934 - accuracy: 0.49 - ETA: 0s - loss: 0.6934 - accuracy: 0.48 - ETA: 0s - loss: 0.6934 - accuracy: 0.48 - ETA: 0s - loss: 0.6934 - accuracy: 0.48 - ETA: 0s - loss: 0.6930 - accuracy: 0.50 - ETA: 0s - loss: 0.6924 - accuracy: 0.50 - ETA: 0s - loss: 0.6927 - accuracy: 0.50 - ETA: 0s - loss: 0.6928 - accuracy: 0.50 - ETA: 0s - loss: 0.6924 - accuracy: 0.51 - ETA: 0s - loss: 0.6927 - accuracy: 0.51 - ETA: 0s - loss: 0.6920 - accuracy: 0.51 - ETA: 0s - loss: 0.6924 - accuracy: 0.51 - ETA: 0s - loss: 0.6924 - accuracy: 0.51 - ETA: 0s - loss: 0.6922 - accuracy: 0.51 - ETA: 0s - loss: 0.6924 - accuracy: 0.51 - ETA: 0s - loss: 0.6925 - accuracy: 0.51 - ETA: 0s - loss: 0.6925 - accuracy: 0.51 - ETA: 0s - loss: 0.6923 - accuracy: 0.51 - ETA: 0s - loss: 0.6923 - accuracy: 0.51 - 1s 109us/sample - loss: 0.6923 - accuracy: 0.5187 - val_loss: 0.6927 - val_accuracy: 0.5217\n",
      "Epoch 20/20\n",
      "10786/10786 [==============================] - ETA: 1s - loss: 0.6821 - accuracy: 0.59 - ETA: 1s - loss: 0.6899 - accuracy: 0.54 - ETA: 1s - loss: 0.6893 - accuracy: 0.54 - ETA: 0s - loss: 0.6910 - accuracy: 0.53 - ETA: 0s - loss: 0.6924 - accuracy: 0.52 - ETA: 0s - loss: 0.6918 - accuracy: 0.52 - ETA: 0s - loss: 0.6919 - accuracy: 0.52 - ETA: 0s - loss: 0.6918 - accuracy: 0.52 - ETA: 0s - loss: 0.6914 - accuracy: 0.53 - ETA: 0s - loss: 0.6920 - accuracy: 0.52 - ETA: 0s - loss: 0.6922 - accuracy: 0.52 - ETA: 0s - loss: 0.6922 - accuracy: 0.52 - ETA: 0s - loss: 0.6921 - accuracy: 0.52 - ETA: 0s - loss: 0.6922 - accuracy: 0.52 - ETA: 0s - loss: 0.6922 - accuracy: 0.52 - ETA: 0s - loss: 0.6923 - accuracy: 0.52 - ETA: 0s - loss: 0.6923 - accuracy: 0.52 - ETA: 0s - loss: 0.6923 - accuracy: 0.52 - ETA: 0s - loss: 0.6924 - accuracy: 0.52 - ETA: 0s - loss: 0.6924 - accuracy: 0.52 - ETA: 0s - loss: 0.6924 - accuracy: 0.52 - 1s 111us/sample - loss: 0.6924 - accuracy: 0.5219 - val_loss: 0.6923 - val_accuracy: 0.5217\n"
     ]
    },
    {
     "data": {
      "text/html": [
       "<span style=\"color:#4527A0\"><h1 style=\"font-size:18px\">Trial complete</h1></span>"
      ],
      "text/plain": [
       "<IPython.core.display.HTML object>"
      ]
     },
     "metadata": {},
     "output_type": "display_data"
    },
    {
     "data": {
      "text/html": [
       "<span style=\"color:#4527A0\"><h1 style=\"font-size:18px\">Trial summary</h1></span>"
      ],
      "text/plain": [
       "<IPython.core.display.HTML object>"
      ]
     },
     "metadata": {},
     "output_type": "display_data"
    },
    {
     "data": {
      "text/html": [
       "<span style=\"color:#7E57C2\"><h2 style=\"font-size:16px\">Hp values:</h2></span>"
      ],
      "text/plain": [
       "<IPython.core.display.HTML object>"
      ]
     },
     "metadata": {},
     "output_type": "display_data"
    },
    {
     "data": {
      "text/html": [
       "<span style=\"color:cyan\"> |-drop_rate_0: 0.01</span>"
      ],
      "text/plain": [
       "<IPython.core.display.HTML object>"
      ]
     },
     "metadata": {},
     "output_type": "display_data"
    },
    {
     "data": {
      "text/html": [
       "<span style=\"color:blue\"> |-drop_rate_1: 0.2</span>"
      ],
      "text/plain": [
       "<IPython.core.display.HTML object>"
      ]
     },
     "metadata": {},
     "output_type": "display_data"
    },
    {
     "data": {
      "text/html": [
       "<span style=\"color:cyan\"> |-drop_rate_2: 0.01</span>"
      ],
      "text/plain": [
       "<IPython.core.display.HTML object>"
      ]
     },
     "metadata": {},
     "output_type": "display_data"
    },
    {
     "data": {
      "text/html": [
       "<span style=\"color:blue\"> |-drop_rate_3: 0.1</span>"
      ],
      "text/plain": [
       "<IPython.core.display.HTML object>"
      ]
     },
     "metadata": {},
     "output_type": "display_data"
    },
    {
     "data": {
      "text/html": [
       "<span style=\"color:cyan\"> |-drop_rate_4: 0.2</span>"
      ],
      "text/plain": [
       "<IPython.core.display.HTML object>"
      ]
     },
     "metadata": {},
     "output_type": "display_data"
    },
    {
     "data": {
      "text/html": [
       "<span style=\"color:blue\"> |-drop_rate_5: 0.3</span>"
      ],
      "text/plain": [
       "<IPython.core.display.HTML object>"
      ]
     },
     "metadata": {},
     "output_type": "display_data"
    },
    {
     "data": {
      "text/html": [
       "<span style=\"color:cyan\"> |-drop_rate_6: 0.2</span>"
      ],
      "text/plain": [
       "<IPython.core.display.HTML object>"
      ]
     },
     "metadata": {},
     "output_type": "display_data"
    },
    {
     "data": {
      "text/html": [
       "<span style=\"color:blue\"> |-drop_rate_7: 0.01</span>"
      ],
      "text/plain": [
       "<IPython.core.display.HTML object>"
      ]
     },
     "metadata": {},
     "output_type": "display_data"
    },
    {
     "data": {
      "text/html": [
       "<span style=\"color:cyan\"> |-drop_rate_8: 0.01</span>"
      ],
      "text/plain": [
       "<IPython.core.display.HTML object>"
      ]
     },
     "metadata": {},
     "output_type": "display_data"
    },
    {
     "data": {
      "text/html": [
       "<span style=\"color:blue\"> |-drop_rate_9: 0.01</span>"
      ],
      "text/plain": [
       "<IPython.core.display.HTML object>"
      ]
     },
     "metadata": {},
     "output_type": "display_data"
    },
    {
     "data": {
      "text/html": [
       "<span style=\"color:cyan\"> |-learning_rate: 0.01</span>"
      ],
      "text/plain": [
       "<IPython.core.display.HTML object>"
      ]
     },
     "metadata": {},
     "output_type": "display_data"
    },
    {
     "data": {
      "text/html": [
       "<span style=\"color:blue\"> |-momentum: 0.2</span>"
      ],
      "text/plain": [
       "<IPython.core.display.HTML object>"
      ]
     },
     "metadata": {},
     "output_type": "display_data"
    },
    {
     "data": {
      "text/html": [
       "<span style=\"color:cyan\"> |-num_layers: 9</span>"
      ],
      "text/plain": [
       "<IPython.core.display.HTML object>"
      ]
     },
     "metadata": {},
     "output_type": "display_data"
    },
    {
     "data": {
      "text/html": [
       "<span style=\"color:blue\"> |-tuner/bracket: 0</span>"
      ],
      "text/plain": [
       "<IPython.core.display.HTML object>"
      ]
     },
     "metadata": {},
     "output_type": "display_data"
    },
    {
     "data": {
      "text/html": [
       "<span style=\"color:cyan\"> |-tuner/epochs: 20</span>"
      ],
      "text/plain": [
       "<IPython.core.display.HTML object>"
      ]
     },
     "metadata": {},
     "output_type": "display_data"
    },
    {
     "data": {
      "text/html": [
       "<span style=\"color:blue\"> |-tuner/initial_epoch: 0</span>"
      ],
      "text/plain": [
       "<IPython.core.display.HTML object>"
      ]
     },
     "metadata": {},
     "output_type": "display_data"
    },
    {
     "data": {
      "text/html": [
       "<span style=\"color:cyan\"> |-tuner/round: 0</span>"
      ],
      "text/plain": [
       "<IPython.core.display.HTML object>"
      ]
     },
     "metadata": {},
     "output_type": "display_data"
    },
    {
     "data": {
      "text/html": [
       "<span style=\"color:blue\"> |-units_0: 232</span>"
      ],
      "text/plain": [
       "<IPython.core.display.HTML object>"
      ]
     },
     "metadata": {},
     "output_type": "display_data"
    },
    {
     "data": {
      "text/html": [
       "<span style=\"color:cyan\"> |-units_1: 168</span>"
      ],
      "text/plain": [
       "<IPython.core.display.HTML object>"
      ]
     },
     "metadata": {},
     "output_type": "display_data"
    },
    {
     "data": {
      "text/html": [
       "<span style=\"color:blue\"> |-units_2: 64</span>"
      ],
      "text/plain": [
       "<IPython.core.display.HTML object>"
      ]
     },
     "metadata": {},
     "output_type": "display_data"
    },
    {
     "data": {
      "text/html": [
       "<span style=\"color:cyan\"> |-units_3: 200</span>"
      ],
      "text/plain": [
       "<IPython.core.display.HTML object>"
      ]
     },
     "metadata": {},
     "output_type": "display_data"
    },
    {
     "data": {
      "text/html": [
       "<span style=\"color:blue\"> |-units_4: 40</span>"
      ],
      "text/plain": [
       "<IPython.core.display.HTML object>"
      ]
     },
     "metadata": {},
     "output_type": "display_data"
    },
    {
     "data": {
      "text/html": [
       "<span style=\"color:cyan\"> |-units_5: 240</span>"
      ],
      "text/plain": [
       "<IPython.core.display.HTML object>"
      ]
     },
     "metadata": {},
     "output_type": "display_data"
    },
    {
     "data": {
      "text/html": [
       "<span style=\"color:blue\"> |-units_6: 232</span>"
      ],
      "text/plain": [
       "<IPython.core.display.HTML object>"
      ]
     },
     "metadata": {},
     "output_type": "display_data"
    },
    {
     "data": {
      "text/html": [
       "<span style=\"color:cyan\"> |-units_7: 32</span>"
      ],
      "text/plain": [
       "<IPython.core.display.HTML object>"
      ]
     },
     "metadata": {},
     "output_type": "display_data"
    },
    {
     "data": {
      "text/html": [
       "<span style=\"color:blue\"> |-units_8: 48</span>"
      ],
      "text/plain": [
       "<IPython.core.display.HTML object>"
      ]
     },
     "metadata": {},
     "output_type": "display_data"
    },
    {
     "data": {
      "text/html": [
       "<span style=\"color:cyan\"> |-units_9: 88</span>"
      ],
      "text/plain": [
       "<IPython.core.display.HTML object>"
      ]
     },
     "metadata": {},
     "output_type": "display_data"
    },
    {
     "data": {
      "text/html": [
       "<span style=\"color:cyan\"> |-Score: 0.5218802094459534</span>"
      ],
      "text/plain": [
       "<IPython.core.display.HTML object>"
      ]
     },
     "metadata": {},
     "output_type": "display_data"
    },
    {
     "data": {
      "text/html": [
       "<span style=\"color:cyan\"> |-Best step: 0</span>"
      ],
      "text/plain": [
       "<IPython.core.display.HTML object>"
      ]
     },
     "metadata": {},
     "output_type": "display_data"
    },
    {
     "name": "stdout",
     "output_type": "stream",
     "text": [
      "Train on 10786 samples, validate on 2697 samples\n",
      "Epoch 1/20\n",
      "10786/10786 [==============================] - ETA: 1:57 - loss: 2.0323 - accuracy: 0.34 - ETA: 4s - loss: 0.9247 - accuracy: 0.5269 - ETA: 2s - loss: 0.8616 - accuracy: 0.54 - ETA: 1s - loss: 0.8186 - accuracy: 0.56 - ETA: 0s - loss: 0.7960 - accuracy: 0.56 - ETA: 0s - loss: 0.7804 - accuracy: 0.57 - ETA: 0s - loss: 0.7645 - accuracy: 0.57 - ETA: 0s - loss: 0.7519 - accuracy: 0.58 - ETA: 0s - loss: 0.7369 - accuracy: 0.59 - ETA: 0s - loss: 0.7256 - accuracy: 0.60 - ETA: 0s - loss: 0.7175 - accuracy: 0.61 - ETA: 0s - loss: 0.7093 - accuracy: 0.61 - 1s 101us/sample - loss: 0.7077 - accuracy: 0.6169 - val_loss: 0.6363 - val_accuracy: 0.6633\n",
      "Epoch 2/20\n",
      "10786/10786 [==============================] - ETA: 1s - loss: 0.6188 - accuracy: 0.65 - ETA: 0s - loss: 0.6465 - accuracy: 0.64 - ETA: 0s - loss: 0.6336 - accuracy: 0.64 - ETA: 0s - loss: 0.6266 - accuracy: 0.65 - ETA: 0s - loss: 0.6269 - accuracy: 0.65 - ETA: 0s - loss: 0.6262 - accuracy: 0.64 - ETA: 0s - loss: 0.6243 - accuracy: 0.65 - ETA: 0s - loss: 0.6258 - accuracy: 0.64 - ETA: 0s - loss: 0.6278 - accuracy: 0.64 - ETA: 0s - loss: 0.6238 - accuracy: 0.65 - ETA: 0s - loss: 0.6195 - accuracy: 0.65 - ETA: 0s - loss: 0.6182 - accuracy: 0.65 - 1s 64us/sample - loss: 0.6184 - accuracy: 0.6600 - val_loss: 0.6088 - val_accuracy: 0.6537\n",
      "Epoch 3/20\n",
      "10786/10786 [==============================] - ETA: 1s - loss: 0.5188 - accuracy: 0.78 - ETA: 0s - loss: 0.6020 - accuracy: 0.67 - ETA: 0s - loss: 0.6058 - accuracy: 0.66 - ETA: 0s - loss: 0.6033 - accuracy: 0.67 - ETA: 0s - loss: 0.5995 - accuracy: 0.67 - ETA: 0s - loss: 0.6031 - accuracy: 0.67 - ETA: 0s - loss: 0.6068 - accuracy: 0.67 - ETA: 0s - loss: 0.6044 - accuracy: 0.67 - ETA: 0s - loss: 0.6043 - accuracy: 0.67 - ETA: 0s - loss: 0.6035 - accuracy: 0.67 - ETA: 0s - loss: 0.6024 - accuracy: 0.67 - ETA: 0s - loss: 0.6026 - accuracy: 0.67 - 1s 65us/sample - loss: 0.6016 - accuracy: 0.6772 - val_loss: 0.5784 - val_accuracy: 0.6930\n",
      "Epoch 4/20\n",
      "10786/10786 [==============================] - ETA: 0s - loss: 0.5983 - accuracy: 0.68 - ETA: 0s - loss: 0.6071 - accuracy: 0.67 - ETA: 0s - loss: 0.5888 - accuracy: 0.68 - ETA: 0s - loss: 0.5895 - accuracy: 0.68 - ETA: 0s - loss: 0.5907 - accuracy: 0.68 - ETA: 0s - loss: 0.5982 - accuracy: 0.68 - ETA: 0s - loss: 0.6011 - accuracy: 0.67 - ETA: 0s - loss: 0.6003 - accuracy: 0.68 - ETA: 0s - loss: 0.5990 - accuracy: 0.67 - ETA: 0s - loss: 0.5972 - accuracy: 0.68 - ETA: 0s - loss: 0.5989 - accuracy: 0.67 - ETA: 0s - loss: 0.5989 - accuracy: 0.67 - 1s 64us/sample - loss: 0.5999 - accuracy: 0.6774 - val_loss: 0.6511 - val_accuracy: 0.6177\n",
      "Epoch 5/20\n",
      "10786/10786 [==============================] - ETA: 1s - loss: 0.8010 - accuracy: 0.40 - ETA: 0s - loss: 0.5892 - accuracy: 0.68 - ETA: 0s - loss: 0.5979 - accuracy: 0.67 - ETA: 0s - loss: 0.6033 - accuracy: 0.67 - ETA: 0s - loss: 0.5985 - accuracy: 0.67 - ETA: 0s - loss: 0.6023 - accuracy: 0.67 - ETA: 0s - loss: 0.6020 - accuracy: 0.67 - ETA: 0s - loss: 0.6035 - accuracy: 0.66 - ETA: 0s - loss: 0.6004 - accuracy: 0.67 - ETA: 0s - loss: 0.5977 - accuracy: 0.67 - ETA: 0s - loss: 0.5967 - accuracy: 0.67 - ETA: 0s - loss: 0.5959 - accuracy: 0.67 - 1s 63us/sample - loss: 0.5968 - accuracy: 0.6774 - val_loss: 0.6139 - val_accuracy: 0.6533\n",
      "Epoch 6/20\n",
      "10786/10786 [==============================] - ETA: 0s - loss: 0.5712 - accuracy: 0.75 - ETA: 0s - loss: 0.6013 - accuracy: 0.67 - ETA: 0s - loss: 0.6013 - accuracy: 0.67 - ETA: 0s - loss: 0.5908 - accuracy: 0.68 - ETA: 0s - loss: 0.5977 - accuracy: 0.67 - ETA: 0s - loss: 0.5983 - accuracy: 0.67 - ETA: 0s - loss: 0.5979 - accuracy: 0.67 - ETA: 0s - loss: 0.5977 - accuracy: 0.67 - ETA: 0s - loss: 0.5967 - accuracy: 0.67 - ETA: 0s - loss: 0.5963 - accuracy: 0.67 - ETA: 0s - loss: 0.5964 - accuracy: 0.67 - ETA: 0s - loss: 0.5963 - accuracy: 0.67 - 1s 64us/sample - loss: 0.5952 - accuracy: 0.6814 - val_loss: 0.5772 - val_accuracy: 0.6919\n",
      "Epoch 7/20\n",
      "10786/10786 [==============================] - ETA: 1s - loss: 0.4947 - accuracy: 0.78 - ETA: 0s - loss: 0.5751 - accuracy: 0.70 - ETA: 0s - loss: 0.5898 - accuracy: 0.69 - ETA: 0s - loss: 0.5944 - accuracy: 0.68 - ETA: 0s - loss: 0.6006 - accuracy: 0.68 - ETA: 0s - loss: 0.5988 - accuracy: 0.68 - ETA: 0s - loss: 0.5973 - accuracy: 0.68 - ETA: 0s - loss: 0.5969 - accuracy: 0.68 - ETA: 0s - loss: 0.5953 - accuracy: 0.68 - ETA: 0s - loss: 0.5966 - accuracy: 0.68 - ETA: 0s - loss: 0.5966 - accuracy: 0.68 - ETA: 0s - loss: 0.5952 - accuracy: 0.68 - 1s 64us/sample - loss: 0.5950 - accuracy: 0.6856 - val_loss: 0.5774 - val_accuracy: 0.6989\n",
      "Epoch 8/20\n",
      "10786/10786 [==============================] - ETA: 1s - loss: 0.6145 - accuracy: 0.68 - ETA: 0s - loss: 0.6031 - accuracy: 0.67 - ETA: 0s - loss: 0.5983 - accuracy: 0.68 - ETA: 0s - loss: 0.5844 - accuracy: 0.69 - ETA: 0s - loss: 0.5875 - accuracy: 0.69 - ETA: 0s - loss: 0.5885 - accuracy: 0.69 - ETA: 0s - loss: 0.5927 - accuracy: 0.68 - ETA: 0s - loss: 0.5924 - accuracy: 0.68 - ETA: 0s - loss: 0.5894 - accuracy: 0.68 - ETA: 0s - loss: 0.5917 - accuracy: 0.68 - ETA: 0s - loss: 0.5923 - accuracy: 0.68 - ETA: 0s - loss: 0.5934 - accuracy: 0.68 - 1s 63us/sample - loss: 0.5928 - accuracy: 0.6834 - val_loss: 0.6266 - val_accuracy: 0.6526\n",
      "Epoch 9/20\n",
      "10786/10786 [==============================] - ETA: 1s - loss: 0.6705 - accuracy: 0.53 - ETA: 0s - loss: 0.5684 - accuracy: 0.69 - ETA: 0s - loss: 0.5791 - accuracy: 0.68 - ETA: 0s - loss: 0.5915 - accuracy: 0.68 - ETA: 0s - loss: 0.5888 - accuracy: 0.68 - ETA: 0s - loss: 0.5882 - accuracy: 0.68 - ETA: 0s - loss: 0.5923 - accuracy: 0.68 - ETA: 0s - loss: 0.5897 - accuracy: 0.68 - ETA: 0s - loss: 0.5914 - accuracy: 0.68 - ETA: 0s - loss: 0.5892 - accuracy: 0.69 - ETA: 0s - loss: 0.5896 - accuracy: 0.68 - ETA: 0s - loss: 0.5917 - accuracy: 0.68 - ETA: 0s - loss: 0.5935 - accuracy: 0.68 - 1s 66us/sample - loss: 0.5934 - accuracy: 0.6848 - val_loss: 0.6048 - val_accuracy: 0.6808\n",
      "Epoch 10/20\n",
      "10786/10786 [==============================] - ETA: 0s - loss: 0.6054 - accuracy: 0.68 - ETA: 0s - loss: 0.5895 - accuracy: 0.68 - ETA: 0s - loss: 0.5905 - accuracy: 0.68 - ETA: 0s - loss: 0.5949 - accuracy: 0.68 - ETA: 0s - loss: 0.5867 - accuracy: 0.69 - ETA: 0s - loss: 0.5834 - accuracy: 0.69 - ETA: 0s - loss: 0.5820 - accuracy: 0.69 - ETA: 0s - loss: 0.5836 - accuracy: 0.69 - ETA: 0s - loss: 0.5881 - accuracy: 0.68 - ETA: 0s - loss: 0.5879 - accuracy: 0.69 - ETA: 0s - loss: 0.5891 - accuracy: 0.68 - ETA: 0s - loss: 0.5922 - accuracy: 0.68 - 1s 63us/sample - loss: 0.5926 - accuracy: 0.6844 - val_loss: 0.5781 - val_accuracy: 0.6960\n",
      "Epoch 11/20\n",
      "10786/10786 [==============================] - ETA: 0s - loss: 0.5778 - accuracy: 0.75 - ETA: 0s - loss: 0.6026 - accuracy: 0.67 - ETA: 0s - loss: 0.5893 - accuracy: 0.68 - ETA: 0s - loss: 0.5922 - accuracy: 0.69 - ETA: 0s - loss: 0.5963 - accuracy: 0.68 - ETA: 0s - loss: 0.5964 - accuracy: 0.68 - ETA: 0s - loss: 0.5951 - accuracy: 0.68 - ETA: 0s - loss: 0.5921 - accuracy: 0.68 - ETA: 0s - loss: 0.5906 - accuracy: 0.68 - ETA: 0s - loss: 0.5927 - accuracy: 0.68 - ETA: 0s - loss: 0.5932 - accuracy: 0.68 - ETA: 0s - loss: 0.5911 - accuracy: 0.68 - ETA: 0s - loss: 0.5912 - accuracy: 0.68 - 1s 67us/sample - loss: 0.5907 - accuracy: 0.6862 - val_loss: 0.6633 - val_accuracy: 0.6266\n",
      "Epoch 12/20\n",
      "10786/10786 [==============================] - ETA: 0s - loss: 0.7225 - accuracy: 0.59 - ETA: 0s - loss: 0.6072 - accuracy: 0.65 - ETA: 0s - loss: 0.5931 - accuracy: 0.68 - ETA: 0s - loss: 0.5898 - accuracy: 0.68 - ETA: 0s - loss: 0.5925 - accuracy: 0.68 - ETA: 0s - loss: 0.5887 - accuracy: 0.68 - ETA: 0s - loss: 0.5897 - accuracy: 0.68 - ETA: 0s - loss: 0.5907 - accuracy: 0.68 - ETA: 0s - loss: 0.5928 - accuracy: 0.68 - ETA: 0s - loss: 0.5924 - accuracy: 0.68 - ETA: 0s - loss: 0.5922 - accuracy: 0.68 - ETA: 0s - loss: 0.5922 - accuracy: 0.68 - 1s 64us/sample - loss: 0.5912 - accuracy: 0.6843 - val_loss: 0.5739 - val_accuracy: 0.6941\n",
      "Epoch 13/20\n",
      "10786/10786 [==============================] - ETA: 0s - loss: 0.6326 - accuracy: 0.43 - ETA: 0s - loss: 0.6094 - accuracy: 0.67 - ETA: 0s - loss: 0.5961 - accuracy: 0.67 - ETA: 0s - loss: 0.5955 - accuracy: 0.68 - ETA: 0s - loss: 0.5906 - accuracy: 0.68 - ETA: 0s - loss: 0.5911 - accuracy: 0.68 - ETA: 0s - loss: 0.5897 - accuracy: 0.68 - ETA: 0s - loss: 0.5914 - accuracy: 0.68 - ETA: 0s - loss: 0.5928 - accuracy: 0.68 - ETA: 0s - loss: 0.5924 - accuracy: 0.68 - ETA: 0s - loss: 0.5923 - accuracy: 0.68 - ETA: 0s - loss: 0.5916 - accuracy: 0.68 - 1s 64us/sample - loss: 0.5918 - accuracy: 0.6853 - val_loss: 0.6112 - val_accuracy: 0.6722\n",
      "Epoch 14/20\n",
      "10786/10786 [==============================] - ETA: 1s - loss: 0.6455 - accuracy: 0.59 - ETA: 0s - loss: 0.5948 - accuracy: 0.67 - ETA: 0s - loss: 0.5884 - accuracy: 0.67 - ETA: 0s - loss: 0.5857 - accuracy: 0.68 - ETA: 0s - loss: 0.5839 - accuracy: 0.68 - ETA: 0s - loss: 0.5886 - accuracy: 0.68 - ETA: 0s - loss: 0.5867 - accuracy: 0.68 - ETA: 0s - loss: 0.5873 - accuracy: 0.68 - ETA: 0s - loss: 0.5875 - accuracy: 0.68 - ETA: 0s - loss: 0.5857 - accuracy: 0.68 - ETA: 0s - loss: 0.5881 - accuracy: 0.68 - ETA: 0s - loss: 0.5906 - accuracy: 0.68 - 1s 64us/sample - loss: 0.5902 - accuracy: 0.6837 - val_loss: 0.5924 - val_accuracy: 0.6908\n",
      "Epoch 15/20\n",
      "10786/10786 [==============================] - ETA: 0s - loss: 0.5584 - accuracy: 0.71 - ETA: 0s - loss: 0.5865 - accuracy: 0.67 - ETA: 0s - loss: 0.5922 - accuracy: 0.67 - ETA: 0s - loss: 0.5894 - accuracy: 0.68 - ETA: 0s - loss: 0.5858 - accuracy: 0.68 - ETA: 0s - loss: 0.5858 - accuracy: 0.68 - ETA: 0s - loss: 0.5888 - accuracy: 0.68 - ETA: 0s - loss: 0.5886 - accuracy: 0.68 - ETA: 0s - loss: 0.5887 - accuracy: 0.68 - ETA: 0s - loss: 0.5888 - accuracy: 0.68 - ETA: 0s - loss: 0.5891 - accuracy: 0.68 - ETA: 0s - loss: 0.5892 - accuracy: 0.68 - 1s 65us/sample - loss: 0.5897 - accuracy: 0.6858 - val_loss: 0.5774 - val_accuracy: 0.6952\n",
      "Epoch 16/20\n",
      "10786/10786 [==============================] - ETA: 0s - loss: 0.6680 - accuracy: 0.65 - ETA: 0s - loss: 0.5856 - accuracy: 0.69 - ETA: 0s - loss: 0.5899 - accuracy: 0.68 - ETA: 0s - loss: 0.5942 - accuracy: 0.68 - ETA: 0s - loss: 0.5921 - accuracy: 0.68 - ETA: 0s - loss: 0.5927 - accuracy: 0.68 - ETA: 0s - loss: 0.5913 - accuracy: 0.68 - ETA: 0s - loss: 0.5925 - accuracy: 0.68 - ETA: 0s - loss: 0.5925 - accuracy: 0.68 - ETA: 0s - loss: 0.5922 - accuracy: 0.68 - ETA: 0s - loss: 0.5914 - accuracy: 0.68 - 1s 60us/sample - loss: 0.5905 - accuracy: 0.6884 - val_loss: 0.5806 - val_accuracy: 0.6960\n",
      "Epoch 17/20\n",
      "10786/10786 [==============================] - ETA: 1s - loss: 0.5311 - accuracy: 0.78 - ETA: 0s - loss: 0.6068 - accuracy: 0.67 - ETA: 0s - loss: 0.6108 - accuracy: 0.66 - ETA: 0s - loss: 0.6065 - accuracy: 0.67 - ETA: 0s - loss: 0.5913 - accuracy: 0.68 - ETA: 0s - loss: 0.5892 - accuracy: 0.68 - ETA: 0s - loss: 0.5868 - accuracy: 0.69 - ETA: 0s - loss: 0.5900 - accuracy: 0.69 - ETA: 0s - loss: 0.5908 - accuracy: 0.68 - ETA: 0s - loss: 0.5905 - accuracy: 0.68 - ETA: 0s - loss: 0.5929 - accuracy: 0.68 - ETA: 0s - loss: 0.5913 - accuracy: 0.68 - 1s 64us/sample - loss: 0.5906 - accuracy: 0.6891 - val_loss: 0.6020 - val_accuracy: 0.6911\n",
      "Epoch 18/20\n",
      "10786/10786 [==============================] - ETA: 0s - loss: 0.4567 - accuracy: 0.78 - ETA: 0s - loss: 0.6031 - accuracy: 0.67 - ETA: 0s - loss: 0.5963 - accuracy: 0.67 - ETA: 0s - loss: 0.5941 - accuracy: 0.68 - ETA: 0s - loss: 0.5921 - accuracy: 0.68 - ETA: 0s - loss: 0.5919 - accuracy: 0.68 - ETA: 0s - loss: 0.5877 - accuracy: 0.69 - ETA: 0s - loss: 0.5907 - accuracy: 0.68 - ETA: 0s - loss: 0.5909 - accuracy: 0.68 - ETA: 0s - loss: 0.5929 - accuracy: 0.68 - ETA: 0s - loss: 0.5931 - accuracy: 0.68 - ETA: 0s - loss: 0.5920 - accuracy: 0.68 - 1s 65us/sample - loss: 0.5897 - accuracy: 0.6860 - val_loss: 0.5740 - val_accuracy: 0.6934\n",
      "Epoch 19/20\n",
      "10786/10786 [==============================] - ETA: 1s - loss: 0.5633 - accuracy: 0.68 - ETA: 0s - loss: 0.5852 - accuracy: 0.68 - ETA: 0s - loss: 0.5959 - accuracy: 0.68 - ETA: 0s - loss: 0.5962 - accuracy: 0.68 - ETA: 0s - loss: 0.5966 - accuracy: 0.68 - ETA: 0s - loss: 0.5936 - accuracy: 0.68 - ETA: 0s - loss: 0.5923 - accuracy: 0.68 - ETA: 0s - loss: 0.5909 - accuracy: 0.69 - ETA: 0s - loss: 0.5905 - accuracy: 0.69 - ETA: 0s - loss: 0.5906 - accuracy: 0.69 - ETA: 0s - loss: 0.5924 - accuracy: 0.68 - ETA: 0s - loss: 0.5914 - accuracy: 0.68 - ETA: 0s - loss: 0.5897 - accuracy: 0.68 - 1s 66us/sample - loss: 0.5896 - accuracy: 0.6884 - val_loss: 0.5813 - val_accuracy: 0.6911\n",
      "Epoch 20/20\n",
      "10786/10786 [==============================] - ETA: 0s - loss: 0.5877 - accuracy: 0.62 - ETA: 0s - loss: 0.5927 - accuracy: 0.65 - ETA: 0s - loss: 0.5896 - accuracy: 0.67 - ETA: 0s - loss: 0.5932 - accuracy: 0.67 - ETA: 0s - loss: 0.5914 - accuracy: 0.67 - ETA: 0s - loss: 0.5915 - accuracy: 0.68 - ETA: 0s - loss: 0.5879 - accuracy: 0.68 - ETA: 0s - loss: 0.5871 - accuracy: 0.68 - ETA: 0s - loss: 0.5872 - accuracy: 0.68 - ETA: 0s - loss: 0.5867 - accuracy: 0.68 - ETA: 0s - loss: 0.5872 - accuracy: 0.68 - ETA: 0s - loss: 0.5882 - accuracy: 0.68 - ETA: 0s - loss: 0.5886 - accuracy: 0.68 - 1s 66us/sample - loss: 0.5893 - accuracy: 0.6864 - val_loss: 0.6069 - val_accuracy: 0.6474\n"
     ]
    },
    {
     "data": {
      "text/html": [
       "<span style=\"color:#4527A0\"><h1 style=\"font-size:18px\">Trial complete</h1></span>"
      ],
      "text/plain": [
       "<IPython.core.display.HTML object>"
      ]
     },
     "metadata": {},
     "output_type": "display_data"
    },
    {
     "data": {
      "text/html": [
       "<span style=\"color:#4527A0\"><h1 style=\"font-size:18px\">Trial summary</h1></span>"
      ],
      "text/plain": [
       "<IPython.core.display.HTML object>"
      ]
     },
     "metadata": {},
     "output_type": "display_data"
    },
    {
     "data": {
      "text/html": [
       "<span style=\"color:#7E57C2\"><h2 style=\"font-size:16px\">Hp values:</h2></span>"
      ],
      "text/plain": [
       "<IPython.core.display.HTML object>"
      ]
     },
     "metadata": {},
     "output_type": "display_data"
    },
    {
     "data": {
      "text/html": [
       "<span style=\"color:cyan\"> |-drop_rate_0: 0.1</span>"
      ],
      "text/plain": [
       "<IPython.core.display.HTML object>"
      ]
     },
     "metadata": {},
     "output_type": "display_data"
    },
    {
     "data": {
      "text/html": [
       "<span style=\"color:blue\"> |-drop_rate_1: 0.3</span>"
      ],
      "text/plain": [
       "<IPython.core.display.HTML object>"
      ]
     },
     "metadata": {},
     "output_type": "display_data"
    },
    {
     "data": {
      "text/html": [
       "<span style=\"color:cyan\"> |-drop_rate_2: 0.2</span>"
      ],
      "text/plain": [
       "<IPython.core.display.HTML object>"
      ]
     },
     "metadata": {},
     "output_type": "display_data"
    },
    {
     "data": {
      "text/html": [
       "<span style=\"color:blue\"> |-drop_rate_3: 0.01</span>"
      ],
      "text/plain": [
       "<IPython.core.display.HTML object>"
      ]
     },
     "metadata": {},
     "output_type": "display_data"
    },
    {
     "data": {
      "text/html": [
       "<span style=\"color:cyan\"> |-drop_rate_4: 0.3</span>"
      ],
      "text/plain": [
       "<IPython.core.display.HTML object>"
      ]
     },
     "metadata": {},
     "output_type": "display_data"
    },
    {
     "data": {
      "text/html": [
       "<span style=\"color:blue\"> |-drop_rate_5: 0.01</span>"
      ],
      "text/plain": [
       "<IPython.core.display.HTML object>"
      ]
     },
     "metadata": {},
     "output_type": "display_data"
    },
    {
     "data": {
      "text/html": [
       "<span style=\"color:cyan\"> |-drop_rate_6: 0.3</span>"
      ],
      "text/plain": [
       "<IPython.core.display.HTML object>"
      ]
     },
     "metadata": {},
     "output_type": "display_data"
    },
    {
     "data": {
      "text/html": [
       "<span style=\"color:blue\"> |-drop_rate_7: 0.2</span>"
      ],
      "text/plain": [
       "<IPython.core.display.HTML object>"
      ]
     },
     "metadata": {},
     "output_type": "display_data"
    },
    {
     "data": {
      "text/html": [
       "<span style=\"color:cyan\"> |-drop_rate_8: 0.2</span>"
      ],
      "text/plain": [
       "<IPython.core.display.HTML object>"
      ]
     },
     "metadata": {},
     "output_type": "display_data"
    },
    {
     "data": {
      "text/html": [
       "<span style=\"color:blue\"> |-drop_rate_9: 0.1</span>"
      ],
      "text/plain": [
       "<IPython.core.display.HTML object>"
      ]
     },
     "metadata": {},
     "output_type": "display_data"
    },
    {
     "data": {
      "text/html": [
       "<span style=\"color:cyan\"> |-learning_rate: 0.0001</span>"
      ],
      "text/plain": [
       "<IPython.core.display.HTML object>"
      ]
     },
     "metadata": {},
     "output_type": "display_data"
    },
    {
     "data": {
      "text/html": [
       "<span style=\"color:blue\"> |-momentum: 0.2</span>"
      ],
      "text/plain": [
       "<IPython.core.display.HTML object>"
      ]
     },
     "metadata": {},
     "output_type": "display_data"
    },
    {
     "data": {
      "text/html": [
       "<span style=\"color:cyan\"> |-num_layers: 1</span>"
      ],
      "text/plain": [
       "<IPython.core.display.HTML object>"
      ]
     },
     "metadata": {},
     "output_type": "display_data"
    },
    {
     "data": {
      "text/html": [
       "<span style=\"color:blue\"> |-tuner/bracket: 0</span>"
      ],
      "text/plain": [
       "<IPython.core.display.HTML object>"
      ]
     },
     "metadata": {},
     "output_type": "display_data"
    },
    {
     "data": {
      "text/html": [
       "<span style=\"color:cyan\"> |-tuner/epochs: 20</span>"
      ],
      "text/plain": [
       "<IPython.core.display.HTML object>"
      ]
     },
     "metadata": {},
     "output_type": "display_data"
    },
    {
     "data": {
      "text/html": [
       "<span style=\"color:blue\"> |-tuner/initial_epoch: 0</span>"
      ],
      "text/plain": [
       "<IPython.core.display.HTML object>"
      ]
     },
     "metadata": {},
     "output_type": "display_data"
    },
    {
     "data": {
      "text/html": [
       "<span style=\"color:cyan\"> |-tuner/round: 0</span>"
      ],
      "text/plain": [
       "<IPython.core.display.HTML object>"
      ]
     },
     "metadata": {},
     "output_type": "display_data"
    },
    {
     "data": {
      "text/html": [
       "<span style=\"color:blue\"> |-units_0: 96</span>"
      ],
      "text/plain": [
       "<IPython.core.display.HTML object>"
      ]
     },
     "metadata": {},
     "output_type": "display_data"
    },
    {
     "data": {
      "text/html": [
       "<span style=\"color:cyan\"> |-units_1: 24</span>"
      ],
      "text/plain": [
       "<IPython.core.display.HTML object>"
      ]
     },
     "metadata": {},
     "output_type": "display_data"
    },
    {
     "data": {
      "text/html": [
       "<span style=\"color:blue\"> |-units_2: 24</span>"
      ],
      "text/plain": [
       "<IPython.core.display.HTML object>"
      ]
     },
     "metadata": {},
     "output_type": "display_data"
    },
    {
     "data": {
      "text/html": [
       "<span style=\"color:cyan\"> |-units_3: 240</span>"
      ],
      "text/plain": [
       "<IPython.core.display.HTML object>"
      ]
     },
     "metadata": {},
     "output_type": "display_data"
    },
    {
     "data": {
      "text/html": [
       "<span style=\"color:blue\"> |-units_4: 128</span>"
      ],
      "text/plain": [
       "<IPython.core.display.HTML object>"
      ]
     },
     "metadata": {},
     "output_type": "display_data"
    },
    {
     "data": {
      "text/html": [
       "<span style=\"color:cyan\"> |-units_5: 32</span>"
      ],
      "text/plain": [
       "<IPython.core.display.HTML object>"
      ]
     },
     "metadata": {},
     "output_type": "display_data"
    },
    {
     "data": {
      "text/html": [
       "<span style=\"color:blue\"> |-units_6: 136</span>"
      ],
      "text/plain": [
       "<IPython.core.display.HTML object>"
      ]
     },
     "metadata": {},
     "output_type": "display_data"
    },
    {
     "data": {
      "text/html": [
       "<span style=\"color:cyan\"> |-units_7: 208</span>"
      ],
      "text/plain": [
       "<IPython.core.display.HTML object>"
      ]
     },
     "metadata": {},
     "output_type": "display_data"
    },
    {
     "data": {
      "text/html": [
       "<span style=\"color:blue\"> |-units_8: 160</span>"
      ],
      "text/plain": [
       "<IPython.core.display.HTML object>"
      ]
     },
     "metadata": {},
     "output_type": "display_data"
    },
    {
     "data": {
      "text/html": [
       "<span style=\"color:cyan\"> |-units_9: 104</span>"
      ],
      "text/plain": [
       "<IPython.core.display.HTML object>"
      ]
     },
     "metadata": {},
     "output_type": "display_data"
    },
    {
     "data": {
      "text/html": [
       "<span style=\"color:cyan\"> |-Score: 0.6891340613365173</span>"
      ],
      "text/plain": [
       "<IPython.core.display.HTML object>"
      ]
     },
     "metadata": {},
     "output_type": "display_data"
    },
    {
     "data": {
      "text/html": [
       "<span style=\"color:cyan\"> |-Best step: 0</span>"
      ],
      "text/plain": [
       "<IPython.core.display.HTML object>"
      ]
     },
     "metadata": {},
     "output_type": "display_data"
    },
    {
     "name": "stdout",
     "output_type": "stream",
     "text": [
      "Train on 10786 samples, validate on 2697 samples\n",
      "Epoch 1/20\n",
      "10786/10786 [==============================] - ETA: 1:57 - loss: 1.1275 - accuracy: 0.59 - ETA: 3s - loss: 1.0941 - accuracy: 0.5188 - ETA: 1s - loss: 1.0363 - accuracy: 0.52 - ETA: 1s - loss: 0.9365 - accuracy: 0.52 - ETA: 0s - loss: 0.8744 - accuracy: 0.53 - ETA: 0s - loss: 0.8383 - accuracy: 0.53 - ETA: 0s - loss: 0.8134 - accuracy: 0.54 - ETA: 0s - loss: 0.8128 - accuracy: 0.54 - ETA: 0s - loss: 0.7974 - accuracy: 0.54 - ETA: 0s - loss: 0.7821 - accuracy: 0.55 - 1s 94us/sample - loss: 0.7700 - accuracy: 0.5549 - val_loss: 0.8184 - val_accuracy: 0.5261\n",
      "Epoch 2/20\n",
      "10786/10786 [==============================] - ETA: 1s - loss: 1.0645 - accuracy: 0.46 - ETA: 0s - loss: 0.6709 - accuracy: 0.60 - ETA: 0s - loss: 0.6634 - accuracy: 0.59 - ETA: 0s - loss: 0.6540 - accuracy: 0.61 - ETA: 0s - loss: 0.6520 - accuracy: 0.62 - ETA: 0s - loss: 0.6472 - accuracy: 0.62 - ETA: 0s - loss: 0.6435 - accuracy: 0.63 - ETA: 0s - loss: 0.6431 - accuracy: 0.63 - ETA: 0s - loss: 0.6427 - accuracy: 0.63 - ETA: 0s - loss: 0.6424 - accuracy: 0.63 - ETA: 0s - loss: 0.6407 - accuracy: 0.63 - 1s 59us/sample - loss: 0.6402 - accuracy: 0.6370 - val_loss: 0.8671 - val_accuracy: 0.4783\n",
      "Epoch 3/20\n",
      "10786/10786 [==============================] - ETA: 1s - loss: 0.7745 - accuracy: 0.53 - ETA: 0s - loss: 0.6851 - accuracy: 0.58 - ETA: 0s - loss: 0.6655 - accuracy: 0.61 - ETA: 0s - loss: 0.6550 - accuracy: 0.62 - ETA: 0s - loss: 0.6490 - accuracy: 0.63 - ETA: 0s - loss: 0.6428 - accuracy: 0.63 - ETA: 0s - loss: 0.6405 - accuracy: 0.64 - ETA: 0s - loss: 0.6536 - accuracy: 0.63 - ETA: 0s - loss: 0.6512 - accuracy: 0.63 - ETA: 0s - loss: 0.6469 - accuracy: 0.64 - ETA: 0s - loss: 0.6467 - accuracy: 0.64 - 1s 58us/sample - loss: 0.6467 - accuracy: 0.6393 - val_loss: 0.6046 - val_accuracy: 0.6830\n",
      "Epoch 4/20\n",
      "10786/10786 [==============================] - ETA: 1s - loss: 0.5202 - accuracy: 0.90 - ETA: 0s - loss: 0.6202 - accuracy: 0.67 - ETA: 0s - loss: 0.6042 - accuracy: 0.67 - ETA: 0s - loss: 0.6124 - accuracy: 0.66 - ETA: 0s - loss: 0.6192 - accuracy: 0.66 - ETA: 0s - loss: 0.6187 - accuracy: 0.66 - ETA: 0s - loss: 0.6198 - accuracy: 0.66 - ETA: 0s - loss: 0.6190 - accuracy: 0.66 - ETA: 0s - loss: 0.6159 - accuracy: 0.66 - ETA: 0s - loss: 0.6167 - accuracy: 0.66 - ETA: 0s - loss: 0.6191 - accuracy: 0.66 - 1s 58us/sample - loss: 0.6192 - accuracy: 0.6635 - val_loss: 0.6123 - val_accuracy: 0.6656\n",
      "Epoch 5/20\n",
      "10786/10786 [==============================] - ETA: 1s - loss: 0.7032 - accuracy: 0.50 - ETA: 0s - loss: 0.6192 - accuracy: 0.66 - ETA: 0s - loss: 0.6169 - accuracy: 0.67 - ETA: 0s - loss: 0.6172 - accuracy: 0.67 - ETA: 0s - loss: 0.6169 - accuracy: 0.66 - ETA: 0s - loss: 0.6170 - accuracy: 0.66 - ETA: 0s - loss: 0.6151 - accuracy: 0.66 - ETA: 0s - loss: 0.6162 - accuracy: 0.66 - ETA: 0s - loss: 0.6199 - accuracy: 0.66 - ETA: 0s - loss: 0.6211 - accuracy: 0.66 - ETA: 0s - loss: 0.6215 - accuracy: 0.66 - 1s 57us/sample - loss: 0.6211 - accuracy: 0.6619 - val_loss: 0.6013 - val_accuracy: 0.6900\n",
      "Epoch 6/20\n",
      "10786/10786 [==============================] - ETA: 0s - loss: 0.5389 - accuracy: 0.71 - ETA: 0s - loss: 0.6227 - accuracy: 0.64 - ETA: 0s - loss: 0.6228 - accuracy: 0.65 - ETA: 0s - loss: 0.6268 - accuracy: 0.65 - ETA: 0s - loss: 0.6246 - accuracy: 0.65 - ETA: 0s - loss: 0.6250 - accuracy: 0.65 - ETA: 0s - loss: 0.6243 - accuracy: 0.66 - ETA: 0s - loss: 0.6234 - accuracy: 0.65 - ETA: 0s - loss: 0.6201 - accuracy: 0.66 - ETA: 0s - loss: 0.6183 - accuracy: 0.66 - ETA: 0s - loss: 0.6172 - accuracy: 0.66 - 1s 57us/sample - loss: 0.6170 - accuracy: 0.6626 - val_loss: 0.6017 - val_accuracy: 0.6845\n",
      "Epoch 7/20\n",
      "10786/10786 [==============================] - ETA: 0s - loss: 0.6452 - accuracy: 0.62 - ETA: 0s - loss: 0.5971 - accuracy: 0.67 - ETA: 0s - loss: 0.6100 - accuracy: 0.67 - ETA: 0s - loss: 0.6029 - accuracy: 0.67 - ETA: 0s - loss: 0.6037 - accuracy: 0.68 - ETA: 0s - loss: 0.6067 - accuracy: 0.67 - ETA: 0s - loss: 0.6050 - accuracy: 0.67 - ETA: 0s - loss: 0.6077 - accuracy: 0.67 - ETA: 0s - loss: 0.6092 - accuracy: 0.67 - ETA: 0s - loss: 0.6105 - accuracy: 0.66 - ETA: 0s - loss: 0.6120 - accuracy: 0.66 - 1s 58us/sample - loss: 0.6120 - accuracy: 0.6684 - val_loss: 0.6325 - val_accuracy: 0.5999\n",
      "Epoch 8/20\n",
      "10786/10786 [==============================] - ETA: 1s - loss: 0.7017 - accuracy: 0.59 - ETA: 0s - loss: 0.5952 - accuracy: 0.68 - ETA: 0s - loss: 0.6012 - accuracy: 0.68 - ETA: 0s - loss: 0.6073 - accuracy: 0.68 - ETA: 0s - loss: 0.6081 - accuracy: 0.67 - ETA: 0s - loss: 0.6107 - accuracy: 0.67 - ETA: 0s - loss: 0.6097 - accuracy: 0.67 - ETA: 0s - loss: 0.6098 - accuracy: 0.67 - ETA: 0s - loss: 0.6112 - accuracy: 0.67 - ETA: 0s - loss: 0.6108 - accuracy: 0.67 - ETA: 0s - loss: 0.6121 - accuracy: 0.67 - 1s 60us/sample - loss: 0.6132 - accuracy: 0.6695 - val_loss: 0.5852 - val_accuracy: 0.6934\n",
      "Epoch 9/20\n",
      "10786/10786 [==============================] - ETA: 1s - loss: 0.6609 - accuracy: 0.68 - ETA: 0s - loss: 0.6309 - accuracy: 0.65 - ETA: 0s - loss: 0.6246 - accuracy: 0.66 - ETA: 0s - loss: 0.6208 - accuracy: 0.66 - ETA: 0s - loss: 0.6165 - accuracy: 0.67 - ETA: 0s - loss: 0.6149 - accuracy: 0.67 - ETA: 0s - loss: 0.6154 - accuracy: 0.67 - ETA: 0s - loss: 0.6173 - accuracy: 0.66 - ETA: 0s - loss: 0.6150 - accuracy: 0.67 - ETA: 0s - loss: 0.6126 - accuracy: 0.67 - ETA: 0s - loss: 0.6144 - accuracy: 0.66 - 1s 59us/sample - loss: 0.6126 - accuracy: 0.6698 - val_loss: 0.6439 - val_accuracy: 0.6214\n",
      "Epoch 10/20\n",
      "10786/10786 [==============================] - ETA: 1s - loss: 0.5540 - accuracy: 0.65 - ETA: 0s - loss: 0.6133 - accuracy: 0.66 - ETA: 0s - loss: 0.6157 - accuracy: 0.66 - ETA: 0s - loss: 0.6080 - accuracy: 0.67 - ETA: 0s - loss: 0.6115 - accuracy: 0.67 - ETA: 0s - loss: 0.6125 - accuracy: 0.67 - ETA: 0s - loss: 0.6157 - accuracy: 0.66 - ETA: 0s - loss: 0.6163 - accuracy: 0.66 - ETA: 0s - loss: 0.6168 - accuracy: 0.66 - ETA: 0s - loss: 0.6166 - accuracy: 0.67 - ETA: 0s - loss: 0.6145 - accuracy: 0.67 - 1s 57us/sample - loss: 0.6150 - accuracy: 0.6717 - val_loss: 0.5976 - val_accuracy: 0.6845\n",
      "Epoch 11/20\n",
      "10786/10786 [==============================] - ETA: 1s - loss: 0.6490 - accuracy: 0.71 - ETA: 0s - loss: 0.6221 - accuracy: 0.67 - ETA: 0s - loss: 0.6130 - accuracy: 0.67 - ETA: 0s - loss: 0.6116 - accuracy: 0.67 - ETA: 0s - loss: 0.6120 - accuracy: 0.67 - ETA: 0s - loss: 0.6125 - accuracy: 0.67 - ETA: 0s - loss: 0.6082 - accuracy: 0.67 - ETA: 0s - loss: 0.6095 - accuracy: 0.67 - ETA: 0s - loss: 0.6124 - accuracy: 0.67 - ETA: 0s - loss: 0.6140 - accuracy: 0.66 - ETA: 0s - loss: 0.6115 - accuracy: 0.67 - 1s 57us/sample - loss: 0.6111 - accuracy: 0.6704 - val_loss: 0.6351 - val_accuracy: 0.6448\n",
      "Epoch 12/20\n",
      "10786/10786 [==============================] - ETA: 0s - loss: 0.5324 - accuracy: 0.75 - ETA: 0s - loss: 0.6307 - accuracy: 0.65 - ETA: 0s - loss: 0.6210 - accuracy: 0.66 - ETA: 0s - loss: 0.6204 - accuracy: 0.66 - ETA: 0s - loss: 0.6170 - accuracy: 0.66 - ETA: 0s - loss: 0.6172 - accuracy: 0.67 - ETA: 0s - loss: 0.6184 - accuracy: 0.66 - ETA: 0s - loss: 0.6162 - accuracy: 0.67 - ETA: 0s - loss: 0.6155 - accuracy: 0.67 - ETA: 0s - loss: 0.6162 - accuracy: 0.67 - ETA: 0s - loss: 0.6165 - accuracy: 0.67 - 1s 58us/sample - loss: 0.6156 - accuracy: 0.6726 - val_loss: 0.6059 - val_accuracy: 0.6796\n",
      "Epoch 13/20\n",
      "10786/10786 [==============================] - ETA: 1s - loss: 0.5810 - accuracy: 0.62 - ETA: 0s - loss: 0.6235 - accuracy: 0.64 - ETA: 0s - loss: 0.6218 - accuracy: 0.64 - ETA: 0s - loss: 0.6170 - accuracy: 0.66 - ETA: 0s - loss: 0.6146 - accuracy: 0.66 - ETA: 0s - loss: 0.6156 - accuracy: 0.66 - ETA: 0s - loss: 0.6158 - accuracy: 0.66 - ETA: 0s - loss: 0.6138 - accuracy: 0.66 - ETA: 0s - loss: 0.6137 - accuracy: 0.66 - ETA: 0s - loss: 0.6131 - accuracy: 0.66 - ETA: 0s - loss: 0.6123 - accuracy: 0.67 - 1s 56us/sample - loss: 0.6123 - accuracy: 0.6703 - val_loss: 0.6039 - val_accuracy: 0.6700\n",
      "Epoch 14/20\n",
      "10786/10786 [==============================] - ETA: 0s - loss: 0.5817 - accuracy: 0.75 - ETA: 0s - loss: 0.6212 - accuracy: 0.66 - ETA: 0s - loss: 0.6160 - accuracy: 0.66 - ETA: 0s - loss: 0.6160 - accuracy: 0.66 - ETA: 0s - loss: 0.6131 - accuracy: 0.67 - ETA: 0s - loss: 0.6127 - accuracy: 0.67 - ETA: 0s - loss: 0.6118 - accuracy: 0.67 - ETA: 0s - loss: 0.6095 - accuracy: 0.67 - ETA: 0s - loss: 0.6111 - accuracy: 0.67 - ETA: 0s - loss: 0.6115 - accuracy: 0.67 - ETA: 0s - loss: 0.6127 - accuracy: 0.67 - 1s 57us/sample - loss: 0.6131 - accuracy: 0.6731 - val_loss: 0.6004 - val_accuracy: 0.6834\n",
      "Epoch 15/20\n",
      "10786/10786 [==============================] - ETA: 0s - loss: 0.5664 - accuracy: 0.68 - ETA: 0s - loss: 0.6087 - accuracy: 0.68 - ETA: 0s - loss: 0.6089 - accuracy: 0.67 - ETA: 0s - loss: 0.6086 - accuracy: 0.67 - ETA: 0s - loss: 0.6127 - accuracy: 0.67 - ETA: 0s - loss: 0.6163 - accuracy: 0.66 - ETA: 0s - loss: 0.6157 - accuracy: 0.66 - ETA: 0s - loss: 0.6138 - accuracy: 0.67 - ETA: 0s - loss: 0.6145 - accuracy: 0.66 - ETA: 0s - loss: 0.6123 - accuracy: 0.67 - ETA: 0s - loss: 0.6143 - accuracy: 0.66 - 1s 58us/sample - loss: 0.6145 - accuracy: 0.6700 - val_loss: 0.5889 - val_accuracy: 0.6871\n",
      "Epoch 16/20\n",
      "10786/10786 [==============================] - ETA: 0s - loss: 0.6679 - accuracy: 0.59 - ETA: 0s - loss: 0.5988 - accuracy: 0.66 - ETA: 0s - loss: 0.6066 - accuracy: 0.66 - ETA: 0s - loss: 0.6089 - accuracy: 0.66 - ETA: 0s - loss: 0.6081 - accuracy: 0.66 - ETA: 0s - loss: 0.6098 - accuracy: 0.66 - ETA: 0s - loss: 0.6098 - accuracy: 0.66 - ETA: 0s - loss: 0.6100 - accuracy: 0.66 - ETA: 0s - loss: 0.6103 - accuracy: 0.66 - ETA: 0s - loss: 0.6102 - accuracy: 0.66 - ETA: 0s - loss: 0.6094 - accuracy: 0.66 - 1s 57us/sample - loss: 0.6098 - accuracy: 0.6684 - val_loss: 0.6103 - val_accuracy: 0.6919\n",
      "Epoch 17/20\n",
      "10786/10786 [==============================] - ETA: 0s - loss: 0.6585 - accuracy: 0.65 - ETA: 0s - loss: 0.6164 - accuracy: 0.68 - ETA: 0s - loss: 0.6125 - accuracy: 0.68 - ETA: 0s - loss: 0.6184 - accuracy: 0.67 - ETA: 0s - loss: 0.6216 - accuracy: 0.66 - ETA: 0s - loss: 0.6181 - accuracy: 0.67 - ETA: 0s - loss: 0.6162 - accuracy: 0.67 - ETA: 0s - loss: 0.6168 - accuracy: 0.67 - ETA: 0s - loss: 0.6165 - accuracy: 0.67 - ETA: 0s - loss: 0.6160 - accuracy: 0.67 - ETA: 0s - loss: 0.6153 - accuracy: 0.67 - 1s 59us/sample - loss: 0.6143 - accuracy: 0.6778 - val_loss: 0.5845 - val_accuracy: 0.6897\n",
      "Epoch 18/20\n",
      "10786/10786 [==============================] - ETA: 1s - loss: 0.5211 - accuracy: 0.78 - ETA: 0s - loss: 0.5883 - accuracy: 0.70 - ETA: 0s - loss: 0.6109 - accuracy: 0.68 - ETA: 0s - loss: 0.6098 - accuracy: 0.67 - ETA: 0s - loss: 0.6114 - accuracy: 0.67 - ETA: 0s - loss: 0.6138 - accuracy: 0.67 - ETA: 0s - loss: 0.6173 - accuracy: 0.66 - ETA: 0s - loss: 0.6186 - accuracy: 0.66 - ETA: 0s - loss: 0.6179 - accuracy: 0.66 - ETA: 0s - loss: 0.6161 - accuracy: 0.66 - ETA: 0s - loss: 0.6161 - accuracy: 0.66 - 1s 58us/sample - loss: 0.6160 - accuracy: 0.6660 - val_loss: 0.5955 - val_accuracy: 0.6822\n",
      "Epoch 19/20\n",
      "10786/10786 [==============================] - ETA: 0s - loss: 0.5665 - accuracy: 0.71 - ETA: 0s - loss: 0.6194 - accuracy: 0.64 - ETA: 0s - loss: 0.6105 - accuracy: 0.65 - ETA: 0s - loss: 0.6046 - accuracy: 0.66 - ETA: 0s - loss: 0.6090 - accuracy: 0.66 - ETA: 0s - loss: 0.6104 - accuracy: 0.66 - ETA: 0s - loss: 0.6107 - accuracy: 0.66 - ETA: 0s - loss: 0.6114 - accuracy: 0.67 - ETA: 0s - loss: 0.6109 - accuracy: 0.67 - ETA: 0s - loss: 0.6095 - accuracy: 0.67 - ETA: 0s - loss: 0.6092 - accuracy: 0.66 - 1s 57us/sample - loss: 0.6098 - accuracy: 0.6695 - val_loss: 0.6097 - val_accuracy: 0.6552\n",
      "Epoch 20/20\n",
      "10786/10786 [==============================] - ETA: 0s - loss: 0.5564 - accuracy: 0.71 - ETA: 0s - loss: 0.6040 - accuracy: 0.68 - ETA: 0s - loss: 0.6109 - accuracy: 0.66 - ETA: 0s - loss: 0.6095 - accuracy: 0.66 - ETA: 0s - loss: 0.6056 - accuracy: 0.67 - ETA: 0s - loss: 0.6040 - accuracy: 0.67 - ETA: 0s - loss: 0.6080 - accuracy: 0.67 - ETA: 0s - loss: 0.6084 - accuracy: 0.67 - ETA: 0s - loss: 0.6099 - accuracy: 0.67 - ETA: 0s - loss: 0.6122 - accuracy: 0.66 - ETA: 0s - loss: 0.6106 - accuracy: 0.67 - 1s 58us/sample - loss: 0.6105 - accuracy: 0.6695 - val_loss: 0.6420 - val_accuracy: 0.6333\n"
     ]
    },
    {
     "data": {
      "text/html": [
       "<span style=\"color:#4527A0\"><h1 style=\"font-size:18px\">Trial complete</h1></span>"
      ],
      "text/plain": [
       "<IPython.core.display.HTML object>"
      ]
     },
     "metadata": {},
     "output_type": "display_data"
    },
    {
     "data": {
      "text/html": [
       "<span style=\"color:#4527A0\"><h1 style=\"font-size:18px\">Trial summary</h1></span>"
      ],
      "text/plain": [
       "<IPython.core.display.HTML object>"
      ]
     },
     "metadata": {},
     "output_type": "display_data"
    },
    {
     "data": {
      "text/html": [
       "<span style=\"color:#7E57C2\"><h2 style=\"font-size:16px\">Hp values:</h2></span>"
      ],
      "text/plain": [
       "<IPython.core.display.HTML object>"
      ]
     },
     "metadata": {},
     "output_type": "display_data"
    },
    {
     "data": {
      "text/html": [
       "<span style=\"color:cyan\"> |-drop_rate_0: 0.3</span>"
      ],
      "text/plain": [
       "<IPython.core.display.HTML object>"
      ]
     },
     "metadata": {},
     "output_type": "display_data"
    },
    {
     "data": {
      "text/html": [
       "<span style=\"color:blue\"> |-drop_rate_1: 0.1</span>"
      ],
      "text/plain": [
       "<IPython.core.display.HTML object>"
      ]
     },
     "metadata": {},
     "output_type": "display_data"
    },
    {
     "data": {
      "text/html": [
       "<span style=\"color:cyan\"> |-drop_rate_2: 0.3</span>"
      ],
      "text/plain": [
       "<IPython.core.display.HTML object>"
      ]
     },
     "metadata": {},
     "output_type": "display_data"
    },
    {
     "data": {
      "text/html": [
       "<span style=\"color:blue\"> |-drop_rate_3: 0.3</span>"
      ],
      "text/plain": [
       "<IPython.core.display.HTML object>"
      ]
     },
     "metadata": {},
     "output_type": "display_data"
    },
    {
     "data": {
      "text/html": [
       "<span style=\"color:cyan\"> |-drop_rate_4: 0.3</span>"
      ],
      "text/plain": [
       "<IPython.core.display.HTML object>"
      ]
     },
     "metadata": {},
     "output_type": "display_data"
    },
    {
     "data": {
      "text/html": [
       "<span style=\"color:blue\"> |-drop_rate_5: 0.3</span>"
      ],
      "text/plain": [
       "<IPython.core.display.HTML object>"
      ]
     },
     "metadata": {},
     "output_type": "display_data"
    },
    {
     "data": {
      "text/html": [
       "<span style=\"color:cyan\"> |-drop_rate_6: 0.01</span>"
      ],
      "text/plain": [
       "<IPython.core.display.HTML object>"
      ]
     },
     "metadata": {},
     "output_type": "display_data"
    },
    {
     "data": {
      "text/html": [
       "<span style=\"color:blue\"> |-drop_rate_7: 0.2</span>"
      ],
      "text/plain": [
       "<IPython.core.display.HTML object>"
      ]
     },
     "metadata": {},
     "output_type": "display_data"
    },
    {
     "data": {
      "text/html": [
       "<span style=\"color:cyan\"> |-drop_rate_8: 0.2</span>"
      ],
      "text/plain": [
       "<IPython.core.display.HTML object>"
      ]
     },
     "metadata": {},
     "output_type": "display_data"
    },
    {
     "data": {
      "text/html": [
       "<span style=\"color:blue\"> |-drop_rate_9: 0.01</span>"
      ],
      "text/plain": [
       "<IPython.core.display.HTML object>"
      ]
     },
     "metadata": {},
     "output_type": "display_data"
    },
    {
     "data": {
      "text/html": [
       "<span style=\"color:cyan\"> |-learning_rate: 0.01</span>"
      ],
      "text/plain": [
       "<IPython.core.display.HTML object>"
      ]
     },
     "metadata": {},
     "output_type": "display_data"
    },
    {
     "data": {
      "text/html": [
       "<span style=\"color:blue\"> |-momentum: 0.4</span>"
      ],
      "text/plain": [
       "<IPython.core.display.HTML object>"
      ]
     },
     "metadata": {},
     "output_type": "display_data"
    },
    {
     "data": {
      "text/html": [
       "<span style=\"color:cyan\"> |-num_layers: 1</span>"
      ],
      "text/plain": [
       "<IPython.core.display.HTML object>"
      ]
     },
     "metadata": {},
     "output_type": "display_data"
    },
    {
     "data": {
      "text/html": [
       "<span style=\"color:blue\"> |-tuner/bracket: 0</span>"
      ],
      "text/plain": [
       "<IPython.core.display.HTML object>"
      ]
     },
     "metadata": {},
     "output_type": "display_data"
    },
    {
     "data": {
      "text/html": [
       "<span style=\"color:cyan\"> |-tuner/epochs: 20</span>"
      ],
      "text/plain": [
       "<IPython.core.display.HTML object>"
      ]
     },
     "metadata": {},
     "output_type": "display_data"
    },
    {
     "data": {
      "text/html": [
       "<span style=\"color:blue\"> |-tuner/initial_epoch: 0</span>"
      ],
      "text/plain": [
       "<IPython.core.display.HTML object>"
      ]
     },
     "metadata": {},
     "output_type": "display_data"
    },
    {
     "data": {
      "text/html": [
       "<span style=\"color:cyan\"> |-tuner/round: 0</span>"
      ],
      "text/plain": [
       "<IPython.core.display.HTML object>"
      ]
     },
     "metadata": {},
     "output_type": "display_data"
    },
    {
     "data": {
      "text/html": [
       "<span style=\"color:blue\"> |-units_0: 48</span>"
      ],
      "text/plain": [
       "<IPython.core.display.HTML object>"
      ]
     },
     "metadata": {},
     "output_type": "display_data"
    },
    {
     "data": {
      "text/html": [
       "<span style=\"color:cyan\"> |-units_1: 136</span>"
      ],
      "text/plain": [
       "<IPython.core.display.HTML object>"
      ]
     },
     "metadata": {},
     "output_type": "display_data"
    },
    {
     "data": {
      "text/html": [
       "<span style=\"color:blue\"> |-units_2: 216</span>"
      ],
      "text/plain": [
       "<IPython.core.display.HTML object>"
      ]
     },
     "metadata": {},
     "output_type": "display_data"
    },
    {
     "data": {
      "text/html": [
       "<span style=\"color:cyan\"> |-units_3: 72</span>"
      ],
      "text/plain": [
       "<IPython.core.display.HTML object>"
      ]
     },
     "metadata": {},
     "output_type": "display_data"
    },
    {
     "data": {
      "text/html": [
       "<span style=\"color:blue\"> |-units_4: 40</span>"
      ],
      "text/plain": [
       "<IPython.core.display.HTML object>"
      ]
     },
     "metadata": {},
     "output_type": "display_data"
    },
    {
     "data": {
      "text/html": [
       "<span style=\"color:cyan\"> |-units_5: 24</span>"
      ],
      "text/plain": [
       "<IPython.core.display.HTML object>"
      ]
     },
     "metadata": {},
     "output_type": "display_data"
    },
    {
     "data": {
      "text/html": [
       "<span style=\"color:blue\"> |-units_6: 120</span>"
      ],
      "text/plain": [
       "<IPython.core.display.HTML object>"
      ]
     },
     "metadata": {},
     "output_type": "display_data"
    },
    {
     "data": {
      "text/html": [
       "<span style=\"color:cyan\"> |-units_7: 64</span>"
      ],
      "text/plain": [
       "<IPython.core.display.HTML object>"
      ]
     },
     "metadata": {},
     "output_type": "display_data"
    },
    {
     "data": {
      "text/html": [
       "<span style=\"color:blue\"> |-units_8: 200</span>"
      ],
      "text/plain": [
       "<IPython.core.display.HTML object>"
      ]
     },
     "metadata": {},
     "output_type": "display_data"
    },
    {
     "data": {
      "text/html": [
       "<span style=\"color:cyan\"> |-units_9: 80</span>"
      ],
      "text/plain": [
       "<IPython.core.display.HTML object>"
      ]
     },
     "metadata": {},
     "output_type": "display_data"
    },
    {
     "data": {
      "text/html": [
       "<span style=\"color:cyan\"> |-Score: 0.6778231263160706</span>"
      ],
      "text/plain": [
       "<IPython.core.display.HTML object>"
      ]
     },
     "metadata": {},
     "output_type": "display_data"
    },
    {
     "data": {
      "text/html": [
       "<span style=\"color:cyan\"> |-Best step: 0</span>"
      ],
      "text/plain": [
       "<IPython.core.display.HTML object>"
      ]
     },
     "metadata": {},
     "output_type": "display_data"
    },
    {
     "name": "stdout",
     "output_type": "stream",
     "text": [
      "Train on 10786 samples, validate on 2697 samples\n",
      "Epoch 1/20\n",
      "10786/10786 [==============================] - ETA: 3:00 - loss: 0.6402 - accuracy: 0.62 - ETA: 7s - loss: 0.6933 - accuracy: 0.5425 - ETA: 3s - loss: 0.6823 - accuracy: 0.56 - ETA: 2s - loss: 0.6872 - accuracy: 0.56 - ETA: 1s - loss: 0.6838 - accuracy: 0.57 - ETA: 1s - loss: 0.6731 - accuracy: 0.59 - ETA: 1s - loss: 0.6705 - accuracy: 0.59 - ETA: 0s - loss: 0.6657 - accuracy: 0.60 - ETA: 0s - loss: 0.6585 - accuracy: 0.61 - ETA: 0s - loss: 0.6532 - accuracy: 0.61 - ETA: 0s - loss: 0.6526 - accuracy: 0.62 - ETA: 0s - loss: 0.6471 - accuracy: 0.62 - ETA: 0s - loss: 0.6440 - accuracy: 0.63 - ETA: 0s - loss: 0.6405 - accuracy: 0.63 - 2s 141us/sample - loss: 0.6387 - accuracy: 0.6372 - val_loss: 0.5962 - val_accuracy: 0.6882\n",
      "Epoch 2/20\n",
      "10786/10786 [==============================] - ETA: 1s - loss: 0.5650 - accuracy: 0.75 - ETA: 0s - loss: 0.6204 - accuracy: 0.65 - ETA: 0s - loss: 0.6151 - accuracy: 0.67 - ETA: 0s - loss: 0.6154 - accuracy: 0.67 - ETA: 0s - loss: 0.6117 - accuracy: 0.67 - ETA: 0s - loss: 0.6080 - accuracy: 0.67 - ETA: 0s - loss: 0.6076 - accuracy: 0.67 - ETA: 0s - loss: 0.6079 - accuracy: 0.67 - ETA: 0s - loss: 0.6071 - accuracy: 0.67 - ETA: 0s - loss: 0.6081 - accuracy: 0.67 - ETA: 0s - loss: 0.6072 - accuracy: 0.67 - ETA: 0s - loss: 0.6079 - accuracy: 0.67 - ETA: 0s - loss: 0.6079 - accuracy: 0.67 - ETA: 0s - loss: 0.6085 - accuracy: 0.67 - ETA: 0s - loss: 0.6076 - accuracy: 0.67 - 1s 80us/sample - loss: 0.6059 - accuracy: 0.6753 - val_loss: 0.5747 - val_accuracy: 0.6956\n",
      "Epoch 3/20\n",
      "10786/10786 [==============================] - ETA: 1s - loss: 0.4909 - accuracy: 0.84 - ETA: 0s - loss: 0.6312 - accuracy: 0.64 - ETA: 0s - loss: 0.6213 - accuracy: 0.65 - ETA: 0s - loss: 0.6094 - accuracy: 0.66 - ETA: 0s - loss: 0.6039 - accuracy: 0.67 - ETA: 0s - loss: 0.6040 - accuracy: 0.67 - ETA: 0s - loss: 0.6020 - accuracy: 0.67 - ETA: 0s - loss: 0.6015 - accuracy: 0.67 - ETA: 0s - loss: 0.6015 - accuracy: 0.67 - ETA: 0s - loss: 0.6011 - accuracy: 0.67 - ETA: 0s - loss: 0.6017 - accuracy: 0.67 - ETA: 0s - loss: 0.5996 - accuracy: 0.68 - ETA: 0s - loss: 0.5993 - accuracy: 0.67 - ETA: 0s - loss: 0.5993 - accuracy: 0.67 - ETA: 0s - loss: 0.6007 - accuracy: 0.67 - 1s 79us/sample - loss: 0.6013 - accuracy: 0.6774 - val_loss: 0.6534 - val_accuracy: 0.6281\n",
      "Epoch 4/20\n",
      "10786/10786 [==============================] - ETA: 1s - loss: 0.5392 - accuracy: 0.71 - ETA: 0s - loss: 0.6068 - accuracy: 0.68 - ETA: 0s - loss: 0.5903 - accuracy: 0.68 - ETA: 0s - loss: 0.5921 - accuracy: 0.68 - ETA: 0s - loss: 0.5932 - accuracy: 0.68 - ETA: 0s - loss: 0.5917 - accuracy: 0.68 - ETA: 0s - loss: 0.5896 - accuracy: 0.68 - ETA: 0s - loss: 0.5915 - accuracy: 0.68 - ETA: 0s - loss: 0.5897 - accuracy: 0.68 - ETA: 0s - loss: 0.5914 - accuracy: 0.68 - ETA: 0s - loss: 0.5945 - accuracy: 0.68 - ETA: 0s - loss: 0.5963 - accuracy: 0.68 - ETA: 0s - loss: 0.5948 - accuracy: 0.68 - ETA: 0s - loss: 0.5960 - accuracy: 0.68 - ETA: 0s - loss: 0.5981 - accuracy: 0.68 - 1s 78us/sample - loss: 0.5979 - accuracy: 0.6811 - val_loss: 0.6948 - val_accuracy: 0.5502\n",
      "Epoch 5/20\n",
      "10786/10786 [==============================] - ETA: 1s - loss: 0.7336 - accuracy: 0.43 - ETA: 0s - loss: 0.6158 - accuracy: 0.67 - ETA: 0s - loss: 0.6111 - accuracy: 0.66 - ETA: 0s - loss: 0.6096 - accuracy: 0.67 - ETA: 0s - loss: 0.6015 - accuracy: 0.67 - ETA: 0s - loss: 0.5996 - accuracy: 0.67 - ETA: 0s - loss: 0.6017 - accuracy: 0.67 - ETA: 0s - loss: 0.6029 - accuracy: 0.67 - ETA: 0s - loss: 0.6027 - accuracy: 0.67 - ETA: 0s - loss: 0.5997 - accuracy: 0.67 - ETA: 0s - loss: 0.5976 - accuracy: 0.67 - ETA: 0s - loss: 0.5964 - accuracy: 0.67 - ETA: 0s - loss: 0.5971 - accuracy: 0.68 - ETA: 0s - loss: 0.5982 - accuracy: 0.67 - ETA: 0s - loss: 0.5976 - accuracy: 0.68 - 1s 78us/sample - loss: 0.5973 - accuracy: 0.6806 - val_loss: 0.5805 - val_accuracy: 0.6967\n",
      "Epoch 6/20\n",
      "10786/10786 [==============================] - ETA: 1s - loss: 0.5660 - accuracy: 0.75 - ETA: 0s - loss: 0.5937 - accuracy: 0.68 - ETA: 0s - loss: 0.5852 - accuracy: 0.70 - ETA: 0s - loss: 0.5827 - accuracy: 0.69 - ETA: 0s - loss: 0.5848 - accuracy: 0.68 - ETA: 0s - loss: 0.5826 - accuracy: 0.68 - ETA: 0s - loss: 0.5857 - accuracy: 0.68 - ETA: 0s - loss: 0.5884 - accuracy: 0.68 - ETA: 0s - loss: 0.5864 - accuracy: 0.68 - ETA: 0s - loss: 0.5876 - accuracy: 0.68 - ETA: 0s - loss: 0.5883 - accuracy: 0.68 - ETA: 0s - loss: 0.5883 - accuracy: 0.68 - ETA: 0s - loss: 0.5908 - accuracy: 0.68 - ETA: 0s - loss: 0.5911 - accuracy: 0.68 - ETA: 0s - loss: 0.5917 - accuracy: 0.68 - 1s 78us/sample - loss: 0.5919 - accuracy: 0.6855 - val_loss: 0.5812 - val_accuracy: 0.6885\n",
      "Epoch 7/20\n",
      "10786/10786 [==============================] - ETA: 1s - loss: 0.6448 - accuracy: 0.62 - ETA: 0s - loss: 0.5830 - accuracy: 0.69 - ETA: 0s - loss: 0.5727 - accuracy: 0.70 - ETA: 0s - loss: 0.5770 - accuracy: 0.69 - ETA: 0s - loss: 0.5879 - accuracy: 0.68 - ETA: 0s - loss: 0.5904 - accuracy: 0.68 - ETA: 0s - loss: 0.5929 - accuracy: 0.68 - ETA: 0s - loss: 0.5889 - accuracy: 0.68 - ETA: 0s - loss: 0.5902 - accuracy: 0.68 - ETA: 0s - loss: 0.5910 - accuracy: 0.68 - ETA: 0s - loss: 0.5907 - accuracy: 0.68 - ETA: 0s - loss: 0.5918 - accuracy: 0.68 - ETA: 0s - loss: 0.5906 - accuracy: 0.68 - ETA: 0s - loss: 0.5887 - accuracy: 0.68 - 1s 76us/sample - loss: 0.5916 - accuracy: 0.6849 - val_loss: 0.5755 - val_accuracy: 0.6941\n",
      "Epoch 8/20\n",
      "10786/10786 [==============================] - ETA: 1s - loss: 0.5000 - accuracy: 0.78 - ETA: 0s - loss: 0.5524 - accuracy: 0.70 - ETA: 0s - loss: 0.5727 - accuracy: 0.70 - ETA: 0s - loss: 0.5788 - accuracy: 0.69 - ETA: 0s - loss: 0.5853 - accuracy: 0.68 - ETA: 0s - loss: 0.5841 - accuracy: 0.69 - ETA: 0s - loss: 0.5858 - accuracy: 0.68 - ETA: 0s - loss: 0.5860 - accuracy: 0.69 - ETA: 0s - loss: 0.5885 - accuracy: 0.68 - ETA: 0s - loss: 0.5881 - accuracy: 0.68 - ETA: 0s - loss: 0.5880 - accuracy: 0.68 - ETA: 0s - loss: 0.5891 - accuracy: 0.68 - ETA: 0s - loss: 0.5902 - accuracy: 0.68 - ETA: 0s - loss: 0.5909 - accuracy: 0.68 - ETA: 0s - loss: 0.5913 - accuracy: 0.68 - 1s 79us/sample - loss: 0.5911 - accuracy: 0.6875 - val_loss: 0.5821 - val_accuracy: 0.6948\n",
      "Epoch 9/20\n",
      "10786/10786 [==============================] - ETA: 1s - loss: 0.6170 - accuracy: 0.68 - ETA: 0s - loss: 0.6081 - accuracy: 0.66 - ETA: 0s - loss: 0.5860 - accuracy: 0.68 - ETA: 0s - loss: 0.5858 - accuracy: 0.68 - ETA: 0s - loss: 0.5935 - accuracy: 0.67 - ETA: 0s - loss: 0.5955 - accuracy: 0.67 - ETA: 0s - loss: 0.5905 - accuracy: 0.68 - ETA: 0s - loss: 0.5893 - accuracy: 0.68 - ETA: 0s - loss: 0.5910 - accuracy: 0.68 - ETA: 0s - loss: 0.5939 - accuracy: 0.68 - ETA: 0s - loss: 0.5897 - accuracy: 0.68 - ETA: 0s - loss: 0.5920 - accuracy: 0.68 - ETA: 0s - loss: 0.5902 - accuracy: 0.68 - ETA: 0s - loss: 0.5891 - accuracy: 0.68 - ETA: 0s - loss: 0.5895 - accuracy: 0.68 - 1s 78us/sample - loss: 0.5897 - accuracy: 0.6867 - val_loss: 0.5685 - val_accuracy: 0.7056\n",
      "Epoch 10/20\n",
      "10786/10786 [==============================] - ETA: 1s - loss: 0.5456 - accuracy: 0.71 - ETA: 0s - loss: 0.5904 - accuracy: 0.67 - ETA: 0s - loss: 0.5873 - accuracy: 0.67 - ETA: 0s - loss: 0.5878 - accuracy: 0.68 - ETA: 0s - loss: 0.5875 - accuracy: 0.68 - ETA: 0s - loss: 0.5840 - accuracy: 0.68 - ETA: 0s - loss: 0.5841 - accuracy: 0.68 - ETA: 0s - loss: 0.5825 - accuracy: 0.69 - ETA: 0s - loss: 0.5838 - accuracy: 0.68 - ETA: 0s - loss: 0.5843 - accuracy: 0.69 - ETA: 0s - loss: 0.5876 - accuracy: 0.68 - ETA: 0s - loss: 0.5886 - accuracy: 0.68 - ETA: 0s - loss: 0.5869 - accuracy: 0.68 - ETA: 0s - loss: 0.5881 - accuracy: 0.68 - ETA: 0s - loss: 0.5891 - accuracy: 0.68 - 1s 79us/sample - loss: 0.5893 - accuracy: 0.6886 - val_loss: 0.9209 - val_accuracy: 0.5621\n",
      "Epoch 11/20\n",
      "10786/10786 [==============================] - ETA: 1s - loss: 0.7264 - accuracy: 0.68 - ETA: 0s - loss: 0.6017 - accuracy: 0.68 - ETA: 0s - loss: 0.5820 - accuracy: 0.69 - ETA: 0s - loss: 0.5774 - accuracy: 0.70 - ETA: 0s - loss: 0.5829 - accuracy: 0.69 - ETA: 0s - loss: 0.5833 - accuracy: 0.69 - ETA: 0s - loss: 0.5867 - accuracy: 0.68 - ETA: 0s - loss: 0.5938 - accuracy: 0.67 - ETA: 0s - loss: 0.5945 - accuracy: 0.67 - ETA: 0s - loss: 0.5919 - accuracy: 0.68 - ETA: 0s - loss: 0.5927 - accuracy: 0.68 - ETA: 0s - loss: 0.5922 - accuracy: 0.68 - ETA: 0s - loss: 0.5940 - accuracy: 0.67 - ETA: 0s - loss: 0.5939 - accuracy: 0.67 - ETA: 0s - loss: 0.5905 - accuracy: 0.68 - 1s 80us/sample - loss: 0.5913 - accuracy: 0.6830 - val_loss: 0.5981 - val_accuracy: 0.6960\n",
      "Epoch 12/20\n",
      "10786/10786 [==============================] - ETA: 1s - loss: 0.7697 - accuracy: 0.56 - ETA: 0s - loss: 0.6043 - accuracy: 0.66 - ETA: 0s - loss: 0.5852 - accuracy: 0.68 - ETA: 0s - loss: 0.5873 - accuracy: 0.68 - ETA: 0s - loss: 0.5895 - accuracy: 0.68 - ETA: 0s - loss: 0.5869 - accuracy: 0.68 - ETA: 0s - loss: 0.5895 - accuracy: 0.68 - ETA: 0s - loss: 0.5903 - accuracy: 0.68 - ETA: 0s - loss: 0.5904 - accuracy: 0.68 - ETA: 0s - loss: 0.5895 - accuracy: 0.68 - ETA: 0s - loss: 0.5887 - accuracy: 0.69 - ETA: 0s - loss: 0.5902 - accuracy: 0.69 - ETA: 0s - loss: 0.5911 - accuracy: 0.68 - ETA: 0s - loss: 0.5887 - accuracy: 0.69 - ETA: 0s - loss: 0.5882 - accuracy: 0.69 - 1s 81us/sample - loss: 0.5877 - accuracy: 0.6925 - val_loss: 0.6213 - val_accuracy: 0.6648\n",
      "Epoch 13/20\n",
      "10786/10786 [==============================] - ETA: 1s - loss: 0.7386 - accuracy: 0.59 - ETA: 0s - loss: 0.5999 - accuracy: 0.69 - ETA: 0s - loss: 0.5965 - accuracy: 0.69 - ETA: 0s - loss: 0.5925 - accuracy: 0.68 - ETA: 0s - loss: 0.5930 - accuracy: 0.68 - ETA: 0s - loss: 0.5887 - accuracy: 0.68 - ETA: 0s - loss: 0.5855 - accuracy: 0.69 - ETA: 0s - loss: 0.5836 - accuracy: 0.69 - ETA: 0s - loss: 0.5858 - accuracy: 0.69 - ETA: 0s - loss: 0.5852 - accuracy: 0.69 - ETA: 0s - loss: 0.5856 - accuracy: 0.69 - ETA: 0s - loss: 0.5837 - accuracy: 0.69 - ETA: 0s - loss: 0.5849 - accuracy: 0.69 - ETA: 0s - loss: 0.5844 - accuracy: 0.69 - ETA: 0s - loss: 0.5852 - accuracy: 0.69 - 1s 79us/sample - loss: 0.5861 - accuracy: 0.6924 - val_loss: 0.6712 - val_accuracy: 0.6136\n",
      "Epoch 14/20\n",
      "10786/10786 [==============================] - ETA: 0s - loss: 0.6169 - accuracy: 0.68 - ETA: 0s - loss: 0.5689 - accuracy: 0.70 - ETA: 0s - loss: 0.5813 - accuracy: 0.69 - ETA: 0s - loss: 0.5748 - accuracy: 0.70 - ETA: 0s - loss: 0.5742 - accuracy: 0.70 - ETA: 0s - loss: 0.5762 - accuracy: 0.70 - ETA: 0s - loss: 0.5817 - accuracy: 0.69 - ETA: 0s - loss: 0.5785 - accuracy: 0.69 - ETA: 0s - loss: 0.5788 - accuracy: 0.69 - ETA: 0s - loss: 0.5804 - accuracy: 0.69 - ETA: 0s - loss: 0.5827 - accuracy: 0.69 - ETA: 0s - loss: 0.5829 - accuracy: 0.69 - ETA: 0s - loss: 0.5833 - accuracy: 0.69 - ETA: 0s - loss: 0.5841 - accuracy: 0.69 - ETA: 0s - loss: 0.5866 - accuracy: 0.68 - 1s 78us/sample - loss: 0.5869 - accuracy: 0.6900 - val_loss: 0.6430 - val_accuracy: 0.6459\n",
      "Epoch 15/20\n",
      "10786/10786 [==============================] - ETA: 1s - loss: 0.6538 - accuracy: 0.62 - ETA: 0s - loss: 0.5981 - accuracy: 0.69 - ETA: 0s - loss: 0.5971 - accuracy: 0.68 - ETA: 0s - loss: 0.5911 - accuracy: 0.68 - ETA: 0s - loss: 0.5909 - accuracy: 0.68 - ETA: 0s - loss: 0.5930 - accuracy: 0.68 - ETA: 0s - loss: 0.5922 - accuracy: 0.68 - ETA: 0s - loss: 0.5909 - accuracy: 0.68 - ETA: 0s - loss: 0.5871 - accuracy: 0.68 - ETA: 0s - loss: 0.5881 - accuracy: 0.68 - ETA: 0s - loss: 0.5878 - accuracy: 0.68 - ETA: 0s - loss: 0.5871 - accuracy: 0.69 - ETA: 0s - loss: 0.5896 - accuracy: 0.68 - ETA: 0s - loss: 0.5887 - accuracy: 0.68 - ETA: 0s - loss: 0.5870 - accuracy: 0.69 - 1s 78us/sample - loss: 0.5864 - accuracy: 0.6913 - val_loss: 0.6232 - val_accuracy: 0.6578\n",
      "Epoch 16/20\n",
      "10786/10786 [==============================] - ETA: 0s - loss: 0.6109 - accuracy: 0.71 - ETA: 0s - loss: 0.6036 - accuracy: 0.67 - ETA: 0s - loss: 0.6070 - accuracy: 0.67 - ETA: 0s - loss: 0.6010 - accuracy: 0.67 - ETA: 0s - loss: 0.5941 - accuracy: 0.68 - ETA: 0s - loss: 0.5919 - accuracy: 0.68 - ETA: 0s - loss: 0.5862 - accuracy: 0.68 - ETA: 0s - loss: 0.5882 - accuracy: 0.68 - ETA: 0s - loss: 0.5868 - accuracy: 0.68 - ETA: 0s - loss: 0.5901 - accuracy: 0.68 - ETA: 0s - loss: 0.5890 - accuracy: 0.68 - ETA: 0s - loss: 0.5877 - accuracy: 0.68 - ETA: 0s - loss: 0.5859 - accuracy: 0.69 - ETA: 0s - loss: 0.5869 - accuracy: 0.69 - 1s 76us/sample - loss: 0.5841 - accuracy: 0.6936 - val_loss: 0.5601 - val_accuracy: 0.7100\n",
      "Epoch 17/20\n",
      "10786/10786 [==============================] - ETA: 1s - loss: 0.5207 - accuracy: 0.71 - ETA: 0s - loss: 0.5862 - accuracy: 0.70 - ETA: 0s - loss: 0.5892 - accuracy: 0.68 - ETA: 0s - loss: 0.5849 - accuracy: 0.69 - ETA: 0s - loss: 0.5823 - accuracy: 0.69 - ETA: 0s - loss: 0.5793 - accuracy: 0.69 - ETA: 0s - loss: 0.5843 - accuracy: 0.69 - ETA: 0s - loss: 0.5828 - accuracy: 0.69 - ETA: 0s - loss: 0.5819 - accuracy: 0.69 - ETA: 0s - loss: 0.5821 - accuracy: 0.69 - ETA: 0s - loss: 0.5811 - accuracy: 0.69 - ETA: 0s - loss: 0.5807 - accuracy: 0.69 - ETA: 0s - loss: 0.5819 - accuracy: 0.69 - ETA: 0s - loss: 0.5828 - accuracy: 0.69 - ETA: 0s - loss: 0.5822 - accuracy: 0.69 - 1s 78us/sample - loss: 0.5821 - accuracy: 0.6954 - val_loss: 0.5606 - val_accuracy: 0.7112\n",
      "Epoch 18/20\n",
      "10786/10786 [==============================] - ETA: 1s - loss: 0.5503 - accuracy: 0.68 - ETA: 0s - loss: 0.5837 - accuracy: 0.69 - ETA: 0s - loss: 0.5825 - accuracy: 0.68 - ETA: 0s - loss: 0.5866 - accuracy: 0.68 - ETA: 0s - loss: 0.5819 - accuracy: 0.69 - ETA: 0s - loss: 0.5826 - accuracy: 0.68 - ETA: 0s - loss: 0.5819 - accuracy: 0.69 - ETA: 0s - loss: 0.5857 - accuracy: 0.69 - ETA: 0s - loss: 0.5856 - accuracy: 0.69 - ETA: 0s - loss: 0.5869 - accuracy: 0.69 - ETA: 0s - loss: 0.5866 - accuracy: 0.69 - ETA: 0s - loss: 0.5846 - accuracy: 0.69 - ETA: 0s - loss: 0.5848 - accuracy: 0.69 - ETA: 0s - loss: 0.5849 - accuracy: 0.69 - ETA: 0s - loss: 0.5850 - accuracy: 0.69 - 1s 80us/sample - loss: 0.5839 - accuracy: 0.6932 - val_loss: 0.5729 - val_accuracy: 0.7063\n",
      "Epoch 19/20\n",
      "10786/10786 [==============================] - ETA: 1s - loss: 0.7225 - accuracy: 0.53 - ETA: 0s - loss: 0.5702 - accuracy: 0.70 - ETA: 0s - loss: 0.5731 - accuracy: 0.70 - ETA: 0s - loss: 0.5749 - accuracy: 0.69 - ETA: 0s - loss: 0.5750 - accuracy: 0.69 - ETA: 0s - loss: 0.5764 - accuracy: 0.69 - ETA: 0s - loss: 0.5788 - accuracy: 0.69 - ETA: 0s - loss: 0.5801 - accuracy: 0.69 - ETA: 0s - loss: 0.5805 - accuracy: 0.69 - ETA: 0s - loss: 0.5804 - accuracy: 0.69 - ETA: 0s - loss: 0.5828 - accuracy: 0.69 - ETA: 0s - loss: 0.5828 - accuracy: 0.69 - ETA: 0s - loss: 0.5838 - accuracy: 0.69 - ETA: 0s - loss: 0.5836 - accuracy: 0.69 - ETA: 0s - loss: 0.5819 - accuracy: 0.69 - 1s 78us/sample - loss: 0.5821 - accuracy: 0.6940 - val_loss: 0.5937 - val_accuracy: 0.6848\n",
      "Epoch 20/20\n",
      "10786/10786 [==============================] - ETA: 1s - loss: 0.7276 - accuracy: 0.59 - ETA: 0s - loss: 0.5777 - accuracy: 0.69 - ETA: 0s - loss: 0.5789 - accuracy: 0.70 - ETA: 0s - loss: 0.5838 - accuracy: 0.69 - ETA: 0s - loss: 0.5768 - accuracy: 0.69 - ETA: 0s - loss: 0.5837 - accuracy: 0.69 - ETA: 0s - loss: 0.5842 - accuracy: 0.69 - ETA: 0s - loss: 0.5866 - accuracy: 0.69 - ETA: 0s - loss: 0.5865 - accuracy: 0.69 - ETA: 0s - loss: 0.5841 - accuracy: 0.69 - ETA: 0s - loss: 0.5840 - accuracy: 0.69 - ETA: 0s - loss: 0.5828 - accuracy: 0.69 - ETA: 0s - loss: 0.5826 - accuracy: 0.69 - ETA: 0s - loss: 0.5823 - accuracy: 0.69 - ETA: 0s - loss: 0.5833 - accuracy: 0.69 - 1s 81us/sample - loss: 0.5827 - accuracy: 0.6967 - val_loss: 0.5631 - val_accuracy: 0.7178\n"
     ]
    },
    {
     "data": {
      "text/html": [
       "<span style=\"color:#4527A0\"><h1 style=\"font-size:18px\">Trial complete</h1></span>"
      ],
      "text/plain": [
       "<IPython.core.display.HTML object>"
      ]
     },
     "metadata": {},
     "output_type": "display_data"
    },
    {
     "data": {
      "text/html": [
       "<span style=\"color:#4527A0\"><h1 style=\"font-size:18px\">Trial summary</h1></span>"
      ],
      "text/plain": [
       "<IPython.core.display.HTML object>"
      ]
     },
     "metadata": {},
     "output_type": "display_data"
    },
    {
     "data": {
      "text/html": [
       "<span style=\"color:#7E57C2\"><h2 style=\"font-size:16px\">Hp values:</h2></span>"
      ],
      "text/plain": [
       "<IPython.core.display.HTML object>"
      ]
     },
     "metadata": {},
     "output_type": "display_data"
    },
    {
     "data": {
      "text/html": [
       "<span style=\"color:cyan\"> |-drop_rate_0: 0.2</span>"
      ],
      "text/plain": [
       "<IPython.core.display.HTML object>"
      ]
     },
     "metadata": {},
     "output_type": "display_data"
    },
    {
     "data": {
      "text/html": [
       "<span style=\"color:blue\"> |-drop_rate_1: 0.1</span>"
      ],
      "text/plain": [
       "<IPython.core.display.HTML object>"
      ]
     },
     "metadata": {},
     "output_type": "display_data"
    },
    {
     "data": {
      "text/html": [
       "<span style=\"color:cyan\"> |-drop_rate_2: 0.3</span>"
      ],
      "text/plain": [
       "<IPython.core.display.HTML object>"
      ]
     },
     "metadata": {},
     "output_type": "display_data"
    },
    {
     "data": {
      "text/html": [
       "<span style=\"color:blue\"> |-drop_rate_3: 0.2</span>"
      ],
      "text/plain": [
       "<IPython.core.display.HTML object>"
      ]
     },
     "metadata": {},
     "output_type": "display_data"
    },
    {
     "data": {
      "text/html": [
       "<span style=\"color:cyan\"> |-drop_rate_4: 0.2</span>"
      ],
      "text/plain": [
       "<IPython.core.display.HTML object>"
      ]
     },
     "metadata": {},
     "output_type": "display_data"
    },
    {
     "data": {
      "text/html": [
       "<span style=\"color:blue\"> |-drop_rate_5: 0.3</span>"
      ],
      "text/plain": [
       "<IPython.core.display.HTML object>"
      ]
     },
     "metadata": {},
     "output_type": "display_data"
    },
    {
     "data": {
      "text/html": [
       "<span style=\"color:cyan\"> |-drop_rate_6: 0.2</span>"
      ],
      "text/plain": [
       "<IPython.core.display.HTML object>"
      ]
     },
     "metadata": {},
     "output_type": "display_data"
    },
    {
     "data": {
      "text/html": [
       "<span style=\"color:blue\"> |-drop_rate_7: 0.1</span>"
      ],
      "text/plain": [
       "<IPython.core.display.HTML object>"
      ]
     },
     "metadata": {},
     "output_type": "display_data"
    },
    {
     "data": {
      "text/html": [
       "<span style=\"color:cyan\"> |-drop_rate_8: 0.1</span>"
      ],
      "text/plain": [
       "<IPython.core.display.HTML object>"
      ]
     },
     "metadata": {},
     "output_type": "display_data"
    },
    {
     "data": {
      "text/html": [
       "<span style=\"color:blue\"> |-drop_rate_9: 0.01</span>"
      ],
      "text/plain": [
       "<IPython.core.display.HTML object>"
      ]
     },
     "metadata": {},
     "output_type": "display_data"
    },
    {
     "data": {
      "text/html": [
       "<span style=\"color:cyan\"> |-learning_rate: 0.001</span>"
      ],
      "text/plain": [
       "<IPython.core.display.HTML object>"
      ]
     },
     "metadata": {},
     "output_type": "display_data"
    },
    {
     "data": {
      "text/html": [
       "<span style=\"color:blue\"> |-momentum: 0.4</span>"
      ],
      "text/plain": [
       "<IPython.core.display.HTML object>"
      ]
     },
     "metadata": {},
     "output_type": "display_data"
    },
    {
     "data": {
      "text/html": [
       "<span style=\"color:cyan\"> |-num_layers: 7</span>"
      ],
      "text/plain": [
       "<IPython.core.display.HTML object>"
      ]
     },
     "metadata": {},
     "output_type": "display_data"
    },
    {
     "data": {
      "text/html": [
       "<span style=\"color:blue\"> |-tuner/bracket: 0</span>"
      ],
      "text/plain": [
       "<IPython.core.display.HTML object>"
      ]
     },
     "metadata": {},
     "output_type": "display_data"
    },
    {
     "data": {
      "text/html": [
       "<span style=\"color:cyan\"> |-tuner/epochs: 20</span>"
      ],
      "text/plain": [
       "<IPython.core.display.HTML object>"
      ]
     },
     "metadata": {},
     "output_type": "display_data"
    },
    {
     "data": {
      "text/html": [
       "<span style=\"color:blue\"> |-tuner/initial_epoch: 0</span>"
      ],
      "text/plain": [
       "<IPython.core.display.HTML object>"
      ]
     },
     "metadata": {},
     "output_type": "display_data"
    },
    {
     "data": {
      "text/html": [
       "<span style=\"color:cyan\"> |-tuner/round: 0</span>"
      ],
      "text/plain": [
       "<IPython.core.display.HTML object>"
      ]
     },
     "metadata": {},
     "output_type": "display_data"
    },
    {
     "data": {
      "text/html": [
       "<span style=\"color:blue\"> |-units_0: 24</span>"
      ],
      "text/plain": [
       "<IPython.core.display.HTML object>"
      ]
     },
     "metadata": {},
     "output_type": "display_data"
    },
    {
     "data": {
      "text/html": [
       "<span style=\"color:cyan\"> |-units_1: 152</span>"
      ],
      "text/plain": [
       "<IPython.core.display.HTML object>"
      ]
     },
     "metadata": {},
     "output_type": "display_data"
    },
    {
     "data": {
      "text/html": [
       "<span style=\"color:blue\"> |-units_2: 120</span>"
      ],
      "text/plain": [
       "<IPython.core.display.HTML object>"
      ]
     },
     "metadata": {},
     "output_type": "display_data"
    },
    {
     "data": {
      "text/html": [
       "<span style=\"color:cyan\"> |-units_3: 56</span>"
      ],
      "text/plain": [
       "<IPython.core.display.HTML object>"
      ]
     },
     "metadata": {},
     "output_type": "display_data"
    },
    {
     "data": {
      "text/html": [
       "<span style=\"color:blue\"> |-units_4: 56</span>"
      ],
      "text/plain": [
       "<IPython.core.display.HTML object>"
      ]
     },
     "metadata": {},
     "output_type": "display_data"
    },
    {
     "data": {
      "text/html": [
       "<span style=\"color:cyan\"> |-units_5: 80</span>"
      ],
      "text/plain": [
       "<IPython.core.display.HTML object>"
      ]
     },
     "metadata": {},
     "output_type": "display_data"
    },
    {
     "data": {
      "text/html": [
       "<span style=\"color:blue\"> |-units_6: 160</span>"
      ],
      "text/plain": [
       "<IPython.core.display.HTML object>"
      ]
     },
     "metadata": {},
     "output_type": "display_data"
    },
    {
     "data": {
      "text/html": [
       "<span style=\"color:cyan\"> |-units_7: 104</span>"
      ],
      "text/plain": [
       "<IPython.core.display.HTML object>"
      ]
     },
     "metadata": {},
     "output_type": "display_data"
    },
    {
     "data": {
      "text/html": [
       "<span style=\"color:blue\"> |-units_8: 64</span>"
      ],
      "text/plain": [
       "<IPython.core.display.HTML object>"
      ]
     },
     "metadata": {},
     "output_type": "display_data"
    },
    {
     "data": {
      "text/html": [
       "<span style=\"color:cyan\"> |-units_9: 112</span>"
      ],
      "text/plain": [
       "<IPython.core.display.HTML object>"
      ]
     },
     "metadata": {},
     "output_type": "display_data"
    },
    {
     "data": {
      "text/html": [
       "<span style=\"color:cyan\"> |-Score: 0.6967365145683289</span>"
      ],
      "text/plain": [
       "<IPython.core.display.HTML object>"
      ]
     },
     "metadata": {},
     "output_type": "display_data"
    },
    {
     "data": {
      "text/html": [
       "<span style=\"color:cyan\"> |-Best step: 0</span>"
      ],
      "text/plain": [
       "<IPython.core.display.HTML object>"
      ]
     },
     "metadata": {},
     "output_type": "display_data"
    }
   ],
   "source": [
    "tuner.search(\n",
    "    X_train.values,\n",
    "    y_train.values.flatten(),\n",
    "    epochs=20,\n",
    "    validation_data=(X_test.values, y_test.values.flatten()),\n",
    ")\n"
   ]
  },
  {
   "cell_type": "code",
   "execution_count": 13,
   "metadata": {},
   "outputs": [
    {
     "data": {
      "text/html": [
       "<span style=\"color:#4527A0\"><h1 style=\"font-size:18px\">Results summary</h1></span>"
      ],
      "text/plain": [
       "<IPython.core.display.HTML object>"
      ]
     },
     "metadata": {},
     "output_type": "display_data"
    },
    {
     "data": {
      "text/html": [
       "<span style=\"color:cyan\"> |-Results in ./weather_keras</span>"
      ],
      "text/plain": [
       "<IPython.core.display.HTML object>"
      ]
     },
     "metadata": {},
     "output_type": "display_data"
    },
    {
     "data": {
      "text/html": [
       "<span style=\"color:cyan\"> |-Showing 10 best trials</span>"
      ],
      "text/plain": [
       "<IPython.core.display.HTML object>"
      ]
     },
     "metadata": {},
     "output_type": "display_data"
    },
    {
     "data": {
      "text/html": [
       "<span style=\"color:cyan\"> |-Objective: Objective(name='accuracy', direction='max') Score: 0.6967365145683289</span>"
      ],
      "text/plain": [
       "<IPython.core.display.HTML object>"
      ]
     },
     "metadata": {},
     "output_type": "display_data"
    },
    {
     "data": {
      "text/html": [
       "<span style=\"color:cyan\"> |-Objective: Objective(name='accuracy', direction='max') Score: 0.6903393268585205</span>"
      ],
      "text/plain": [
       "<IPython.core.display.HTML object>"
      ]
     },
     "metadata": {},
     "output_type": "display_data"
    },
    {
     "data": {
      "text/html": [
       "<span style=\"color:cyan\"> |-Objective: Objective(name='accuracy', direction='max') Score: 0.6901538968086243</span>"
      ],
      "text/plain": [
       "<IPython.core.display.HTML object>"
      ]
     },
     "metadata": {},
     "output_type": "display_data"
    },
    {
     "data": {
      "text/html": [
       "<span style=\"color:cyan\"> |-Objective: Objective(name='accuracy', direction='max') Score: 0.6891340613365173</span>"
      ],
      "text/plain": [
       "<IPython.core.display.HTML object>"
      ]
     },
     "metadata": {},
     "output_type": "display_data"
    },
    {
     "data": {
      "text/html": [
       "<span style=\"color:cyan\"> |-Objective: Objective(name='accuracy', direction='max') Score: 0.6878361105918884</span>"
      ],
      "text/plain": [
       "<IPython.core.display.HTML object>"
      ]
     },
     "metadata": {},
     "output_type": "display_data"
    },
    {
     "data": {
      "text/html": [
       "<span style=\"color:cyan\"> |-Objective: Objective(name='accuracy', direction='max') Score: 0.6876506805419922</span>"
      ],
      "text/plain": [
       "<IPython.core.display.HTML object>"
      ]
     },
     "metadata": {},
     "output_type": "display_data"
    },
    {
     "data": {
      "text/html": [
       "<span style=\"color:cyan\"> |-Objective: Objective(name='accuracy', direction='max') Score: 0.6875579357147217</span>"
      ],
      "text/plain": [
       "<IPython.core.display.HTML object>"
      ]
     },
     "metadata": {},
     "output_type": "display_data"
    },
    {
     "data": {
      "text/html": [
       "<span style=\"color:cyan\"> |-Objective: Objective(name='accuracy', direction='max') Score: 0.687001645565033</span>"
      ],
      "text/plain": [
       "<IPython.core.display.HTML object>"
      ]
     },
     "metadata": {},
     "output_type": "display_data"
    },
    {
     "data": {
      "text/html": [
       "<span style=\"color:cyan\"> |-Objective: Objective(name='accuracy', direction='max') Score: 0.6846838593482971</span>"
      ],
      "text/plain": [
       "<IPython.core.display.HTML object>"
      ]
     },
     "metadata": {},
     "output_type": "display_data"
    },
    {
     "data": {
      "text/html": [
       "<span style=\"color:cyan\"> |-Objective: Objective(name='accuracy', direction='max') Score: 0.6841275691986084</span>"
      ],
      "text/plain": [
       "<IPython.core.display.HTML object>"
      ]
     },
     "metadata": {},
     "output_type": "display_data"
    }
   ],
   "source": [
    "tuner.results_summary()"
   ]
  },
  {
   "cell_type": "code",
   "execution_count": 14,
   "metadata": {},
   "outputs": [
    {
     "name": "stdout",
     "output_type": "stream",
     "text": [
      "Train on 13483 samples\n",
      "Epoch 1/20\n",
      "13483/13483 [==============================] - ETA: 3:56 - loss: 0.7149 - accuracy: 0.46 - ETA: 11s - loss: 0.6967 - accuracy: 0.5030 - ETA: 6s - loss: 0.6934 - accuracy: 0.528 - ETA: 4s - loss: 0.6794 - accuracy: 0.55 - ETA: 3s - loss: 0.6700 - accuracy: 0.57 - ETA: 2s - loss: 0.6677 - accuracy: 0.58 - ETA: 2s - loss: 0.6631 - accuracy: 0.59 - ETA: 1s - loss: 0.6562 - accuracy: 0.60 - ETA: 1s - loss: 0.6524 - accuracy: 0.61 - ETA: 1s - loss: 0.6512 - accuracy: 0.61 - ETA: 1s - loss: 0.6491 - accuracy: 0.61 - ETA: 0s - loss: 0.6465 - accuracy: 0.62 - ETA: 0s - loss: 0.6418 - accuracy: 0.62 - ETA: 0s - loss: 0.6402 - accuracy: 0.63 - ETA: 0s - loss: 0.6379 - accuracy: 0.63 - ETA: 0s - loss: 0.6353 - accuracy: 0.63 - ETA: 0s - loss: 0.6338 - accuracy: 0.64 - ETA: 0s - loss: 0.6336 - accuracy: 0.64 - ETA: 0s - loss: 0.6336 - accuracy: 0.64 - ETA: 0s - loss: 0.6318 - accuracy: 0.64 - ETA: 0s - loss: 0.6309 - accuracy: 0.64 - 2s 119us/sample - loss: 0.6306 - accuracy: 0.6454\n",
      "Epoch 2/20\n",
      "13483/13483 [==============================] - ETA: 1s - loss: 0.6741 - accuracy: 0.71 - ETA: 0s - loss: 0.5978 - accuracy: 0.69 - ETA: 0s - loss: 0.6156 - accuracy: 0.67 - ETA: 0s - loss: 0.6149 - accuracy: 0.66 - ETA: 0s - loss: 0.6097 - accuracy: 0.67 - ETA: 0s - loss: 0.6081 - accuracy: 0.67 - ETA: 0s - loss: 0.6075 - accuracy: 0.67 - ETA: 0s - loss: 0.6075 - accuracy: 0.67 - ETA: 0s - loss: 0.6087 - accuracy: 0.67 - ETA: 0s - loss: 0.6092 - accuracy: 0.67 - ETA: 0s - loss: 0.6073 - accuracy: 0.67 - ETA: 0s - loss: 0.6088 - accuracy: 0.67 - ETA: 0s - loss: 0.6076 - accuracy: 0.67 - ETA: 0s - loss: 0.6025 - accuracy: 0.67 - ETA: 0s - loss: 0.6022 - accuracy: 0.68 - ETA: 0s - loss: 0.6026 - accuracy: 0.67 - ETA: 0s - loss: 0.6039 - accuracy: 0.67 - ETA: 0s - loss: 0.6040 - accuracy: 0.67 - ETA: 0s - loss: 0.6042 - accuracy: 0.67 - ETA: 0s - loss: 0.6043 - accuracy: 0.67 - ETA: 0s - loss: 0.6035 - accuracy: 0.67 - 1s 77us/sample - loss: 0.6034 - accuracy: 0.6787\n",
      "Epoch 3/20\n",
      "13483/13483 [==============================] - ETA: 1s - loss: 0.7068 - accuracy: 0.53 - ETA: 1s - loss: 0.6138 - accuracy: 0.66 - ETA: 1s - loss: 0.6091 - accuracy: 0.66 - ETA: 1s - loss: 0.6006 - accuracy: 0.67 - ETA: 0s - loss: 0.5909 - accuracy: 0.68 - ETA: 0s - loss: 0.5883 - accuracy: 0.68 - ETA: 0s - loss: 0.5906 - accuracy: 0.68 - ETA: 0s - loss: 0.5929 - accuracy: 0.68 - ETA: 0s - loss: 0.5933 - accuracy: 0.68 - ETA: 0s - loss: 0.5935 - accuracy: 0.68 - ETA: 0s - loss: 0.5947 - accuracy: 0.68 - ETA: 0s - loss: 0.5960 - accuracy: 0.68 - ETA: 0s - loss: 0.5953 - accuracy: 0.68 - ETA: 0s - loss: 0.5934 - accuracy: 0.68 - ETA: 0s - loss: 0.5936 - accuracy: 0.68 - ETA: 0s - loss: 0.5951 - accuracy: 0.68 - ETA: 0s - loss: 0.5959 - accuracy: 0.68 - ETA: 0s - loss: 0.5933 - accuracy: 0.68 - ETA: 0s - loss: 0.5940 - accuracy: 0.68 - ETA: 0s - loss: 0.5948 - accuracy: 0.68 - ETA: 0s - loss: 0.5955 - accuracy: 0.68 - 1s 79us/sample - loss: 0.5958 - accuracy: 0.6835\n",
      "Epoch 4/20\n",
      "13483/13483 [==============================] - ETA: 1s - loss: 0.5827 - accuracy: 0.65 - ETA: 1s - loss: 0.5928 - accuracy: 0.71 - ETA: 1s - loss: 0.5929 - accuracy: 0.70 - ETA: 1s - loss: 0.5864 - accuracy: 0.70 - ETA: 1s - loss: 0.5815 - accuracy: 0.70 - ETA: 0s - loss: 0.5762 - accuracy: 0.71 - ETA: 0s - loss: 0.5754 - accuracy: 0.71 - ETA: 0s - loss: 0.5820 - accuracy: 0.70 - ETA: 0s - loss: 0.5798 - accuracy: 0.70 - ETA: 0s - loss: 0.5809 - accuracy: 0.70 - ETA: 0s - loss: 0.5827 - accuracy: 0.70 - ETA: 0s - loss: 0.5848 - accuracy: 0.69 - ETA: 0s - loss: 0.5884 - accuracy: 0.69 - ETA: 0s - loss: 0.5897 - accuracy: 0.69 - ETA: 0s - loss: 0.5917 - accuracy: 0.69 - ETA: 0s - loss: 0.5938 - accuracy: 0.68 - ETA: 0s - loss: 0.5923 - accuracy: 0.68 - ETA: 0s - loss: 0.5917 - accuracy: 0.68 - ETA: 0s - loss: 0.5924 - accuracy: 0.68 - ETA: 0s - loss: 0.5909 - accuracy: 0.68 - ETA: 0s - loss: 0.5908 - accuracy: 0.69 - ETA: 0s - loss: 0.5923 - accuracy: 0.68 - 1s 83us/sample - loss: 0.5928 - accuracy: 0.6875\n",
      "Epoch 5/20\n",
      "13483/13483 [==============================] - ETA: 1s - loss: 0.6009 - accuracy: 0.68 - ETA: 1s - loss: 0.5925 - accuracy: 0.69 - ETA: 1s - loss: 0.5936 - accuracy: 0.68 - ETA: 1s - loss: 0.5932 - accuracy: 0.67 - ETA: 1s - loss: 0.5927 - accuracy: 0.68 - ETA: 0s - loss: 0.5936 - accuracy: 0.68 - ETA: 0s - loss: 0.5881 - accuracy: 0.68 - ETA: 0s - loss: 0.5869 - accuracy: 0.68 - ETA: 0s - loss: 0.5880 - accuracy: 0.68 - ETA: 0s - loss: 0.5906 - accuracy: 0.67 - ETA: 0s - loss: 0.5909 - accuracy: 0.67 - ETA: 0s - loss: 0.5891 - accuracy: 0.68 - ETA: 0s - loss: 0.5899 - accuracy: 0.68 - ETA: 0s - loss: 0.5891 - accuracy: 0.68 - ETA: 0s - loss: 0.5899 - accuracy: 0.68 - ETA: 0s - loss: 0.5880 - accuracy: 0.68 - ETA: 0s - loss: 0.5865 - accuracy: 0.68 - ETA: 0s - loss: 0.5884 - accuracy: 0.68 - ETA: 0s - loss: 0.5899 - accuracy: 0.68 - ETA: 0s - loss: 0.5908 - accuracy: 0.68 - ETA: 0s - loss: 0.5910 - accuracy: 0.68 - 1s 79us/sample - loss: 0.5904 - accuracy: 0.6870\n",
      "Epoch 6/20\n",
      "13483/13483 [==============================] - ETA: 1s - loss: 0.6475 - accuracy: 0.65 - ETA: 0s - loss: 0.5931 - accuracy: 0.69 - ETA: 0s - loss: 0.5979 - accuracy: 0.69 - ETA: 1s - loss: 0.6028 - accuracy: 0.68 - ETA: 0s - loss: 0.5976 - accuracy: 0.69 - ETA: 0s - loss: 0.5928 - accuracy: 0.69 - ETA: 0s - loss: 0.5948 - accuracy: 0.68 - ETA: 0s - loss: 0.5904 - accuracy: 0.69 - ETA: 0s - loss: 0.5936 - accuracy: 0.68 - ETA: 0s - loss: 0.5941 - accuracy: 0.68 - ETA: 0s - loss: 0.5952 - accuracy: 0.68 - ETA: 0s - loss: 0.5944 - accuracy: 0.68 - ETA: 0s - loss: 0.5955 - accuracy: 0.68 - ETA: 0s - loss: 0.5952 - accuracy: 0.68 - ETA: 0s - loss: 0.5952 - accuracy: 0.68 - ETA: 0s - loss: 0.5959 - accuracy: 0.68 - ETA: 0s - loss: 0.5965 - accuracy: 0.68 - ETA: 0s - loss: 0.5952 - accuracy: 0.68 - ETA: 0s - loss: 0.5936 - accuracy: 0.68 - ETA: 0s - loss: 0.5929 - accuracy: 0.68 - ETA: 0s - loss: 0.5928 - accuracy: 0.68 - 1s 79us/sample - loss: 0.5918 - accuracy: 0.6872\n",
      "Epoch 7/20\n",
      "13483/13483 [==============================] - ETA: 1s - loss: 0.4694 - accuracy: 0.75 - ETA: 1s - loss: 0.5377 - accuracy: 0.73 - ETA: 1s - loss: 0.5759 - accuracy: 0.70 - ETA: 0s - loss: 0.5783 - accuracy: 0.70 - ETA: 0s - loss: 0.5833 - accuracy: 0.69 - ETA: 0s - loss: 0.5821 - accuracy: 0.69 - ETA: 0s - loss: 0.5832 - accuracy: 0.69 - ETA: 0s - loss: 0.5819 - accuracy: 0.70 - ETA: 0s - loss: 0.5845 - accuracy: 0.69 - ETA: 0s - loss: 0.5865 - accuracy: 0.69 - ETA: 0s - loss: 0.5888 - accuracy: 0.69 - ETA: 0s - loss: 0.5879 - accuracy: 0.69 - ETA: 0s - loss: 0.5889 - accuracy: 0.69 - ETA: 0s - loss: 0.5872 - accuracy: 0.69 - ETA: 0s - loss: 0.5855 - accuracy: 0.69 - ETA: 0s - loss: 0.5875 - accuracy: 0.69 - ETA: 0s - loss: 0.5874 - accuracy: 0.69 - ETA: 0s - loss: 0.5877 - accuracy: 0.69 - ETA: 0s - loss: 0.5880 - accuracy: 0.69 - ETA: 0s - loss: 0.5890 - accuracy: 0.69 - ETA: 0s - loss: 0.5891 - accuracy: 0.69 - ETA: 0s - loss: 0.5895 - accuracy: 0.69 - 1s 81us/sample - loss: 0.5897 - accuracy: 0.6898\n",
      "Epoch 8/20\n",
      "13483/13483 [==============================] - ETA: 1s - loss: 0.6581 - accuracy: 0.62 - ETA: 1s - loss: 0.5840 - accuracy: 0.70 - ETA: 0s - loss: 0.5704 - accuracy: 0.70 - ETA: 0s - loss: 0.5752 - accuracy: 0.69 - ETA: 0s - loss: 0.5778 - accuracy: 0.69 - ETA: 0s - loss: 0.5797 - accuracy: 0.69 - ETA: 0s - loss: 0.5865 - accuracy: 0.68 - ETA: 0s - loss: 0.5885 - accuracy: 0.68 - ETA: 0s - loss: 0.5898 - accuracy: 0.68 - ETA: 0s - loss: 0.5899 - accuracy: 0.68 - ETA: 0s - loss: 0.5886 - accuracy: 0.68 - ETA: 0s - loss: 0.5901 - accuracy: 0.68 - ETA: 0s - loss: 0.5892 - accuracy: 0.68 - ETA: 0s - loss: 0.5892 - accuracy: 0.68 - ETA: 0s - loss: 0.5895 - accuracy: 0.68 - ETA: 0s - loss: 0.5872 - accuracy: 0.69 - ETA: 0s - loss: 0.5894 - accuracy: 0.68 - ETA: 0s - loss: 0.5896 - accuracy: 0.68 - ETA: 0s - loss: 0.5886 - accuracy: 0.68 - ETA: 0s - loss: 0.5880 - accuracy: 0.68 - ETA: 0s - loss: 0.5886 - accuracy: 0.69 - 1s 79us/sample - loss: 0.5886 - accuracy: 0.6901\n",
      "Epoch 9/20\n",
      "13483/13483 [==============================] - ETA: 1s - loss: 0.6049 - accuracy: 0.68 - ETA: 1s - loss: 0.5933 - accuracy: 0.69 - ETA: 1s - loss: 0.5926 - accuracy: 0.68 - ETA: 0s - loss: 0.5955 - accuracy: 0.68 - ETA: 0s - loss: 0.5975 - accuracy: 0.68 - ETA: 0s - loss: 0.5908 - accuracy: 0.69 - ETA: 0s - loss: 0.5897 - accuracy: 0.68 - ETA: 0s - loss: 0.5886 - accuracy: 0.69 - ETA: 0s - loss: 0.5872 - accuracy: 0.69 - ETA: 0s - loss: 0.5872 - accuracy: 0.69 - ETA: 0s - loss: 0.5871 - accuracy: 0.69 - ETA: 0s - loss: 0.5878 - accuracy: 0.69 - ETA: 0s - loss: 0.5884 - accuracy: 0.69 - ETA: 0s - loss: 0.5891 - accuracy: 0.69 - ETA: 0s - loss: 0.5896 - accuracy: 0.68 - ETA: 0s - loss: 0.5903 - accuracy: 0.68 - ETA: 0s - loss: 0.5892 - accuracy: 0.68 - ETA: 0s - loss: 0.5895 - accuracy: 0.68 - ETA: 0s - loss: 0.5877 - accuracy: 0.69 - 1s 72us/sample - loss: 0.5873 - accuracy: 0.6904\n",
      "Epoch 10/20\n",
      "13483/13483 [==============================] - ETA: 1s - loss: 0.5586 - accuracy: 0.71 - ETA: 1s - loss: 0.5789 - accuracy: 0.70 - ETA: 1s - loss: 0.5797 - accuracy: 0.70 - ETA: 0s - loss: 0.5834 - accuracy: 0.70 - ETA: 0s - loss: 0.5823 - accuracy: 0.70 - ETA: 0s - loss: 0.5853 - accuracy: 0.69 - ETA: 0s - loss: 0.5842 - accuracy: 0.69 - ETA: 0s - loss: 0.5827 - accuracy: 0.69 - ETA: 0s - loss: 0.5836 - accuracy: 0.69 - ETA: 0s - loss: 0.5822 - accuracy: 0.69 - ETA: 0s - loss: 0.5809 - accuracy: 0.69 - ETA: 0s - loss: 0.5829 - accuracy: 0.69 - ETA: 0s - loss: 0.5855 - accuracy: 0.69 - ETA: 0s - loss: 0.5853 - accuracy: 0.69 - ETA: 0s - loss: 0.5854 - accuracy: 0.69 - ETA: 0s - loss: 0.5868 - accuracy: 0.69 - ETA: 0s - loss: 0.5865 - accuracy: 0.69 - ETA: 0s - loss: 0.5875 - accuracy: 0.69 - ETA: 0s - loss: 0.5892 - accuracy: 0.68 - 1s 71us/sample - loss: 0.5883 - accuracy: 0.6909\n",
      "Epoch 11/20\n",
      "13483/13483 [==============================] - ETA: 1s - loss: 0.5960 - accuracy: 0.62 - ETA: 1s - loss: 0.5638 - accuracy: 0.70 - ETA: 1s - loss: 0.5872 - accuracy: 0.69 - ETA: 0s - loss: 0.5918 - accuracy: 0.68 - ETA: 0s - loss: 0.5939 - accuracy: 0.68 - ETA: 0s - loss: 0.5870 - accuracy: 0.68 - ETA: 0s - loss: 0.5863 - accuracy: 0.69 - ETA: 0s - loss: 0.5851 - accuracy: 0.69 - ETA: 0s - loss: 0.5873 - accuracy: 0.69 - ETA: 0s - loss: 0.5891 - accuracy: 0.68 - ETA: 0s - loss: 0.5898 - accuracy: 0.68 - ETA: 0s - loss: 0.5888 - accuracy: 0.69 - ETA: 0s - loss: 0.5891 - accuracy: 0.69 - ETA: 0s - loss: 0.5902 - accuracy: 0.69 - ETA: 0s - loss: 0.5906 - accuracy: 0.69 - ETA: 0s - loss: 0.5889 - accuracy: 0.69 - ETA: 0s - loss: 0.5883 - accuracy: 0.69 - ETA: 0s - loss: 0.5868 - accuracy: 0.69 - ETA: 0s - loss: 0.5848 - accuracy: 0.69 - ETA: 0s - loss: 0.5835 - accuracy: 0.69 - 1s 74us/sample - loss: 0.5830 - accuracy: 0.6940\n",
      "Epoch 12/20\n",
      "13483/13483 [==============================] - ETA: 1s - loss: 0.6709 - accuracy: 0.59 - ETA: 0s - loss: 0.5960 - accuracy: 0.67 - ETA: 0s - loss: 0.5990 - accuracy: 0.67 - ETA: 0s - loss: 0.5918 - accuracy: 0.68 - ETA: 0s - loss: 0.5896 - accuracy: 0.68 - ETA: 0s - loss: 0.5916 - accuracy: 0.68 - ETA: 0s - loss: 0.5898 - accuracy: 0.68 - ETA: 0s - loss: 0.5907 - accuracy: 0.68 - ETA: 0s - loss: 0.5918 - accuracy: 0.68 - ETA: 0s - loss: 0.5910 - accuracy: 0.68 - ETA: 0s - loss: 0.5882 - accuracy: 0.68 - ETA: 0s - loss: 0.5874 - accuracy: 0.68 - ETA: 0s - loss: 0.5847 - accuracy: 0.69 - ETA: 0s - loss: 0.5846 - accuracy: 0.69 - ETA: 0s - loss: 0.5840 - accuracy: 0.69 - ETA: 0s - loss: 0.5835 - accuracy: 0.69 - ETA: 0s - loss: 0.5848 - accuracy: 0.69 - ETA: 0s - loss: 0.5850 - accuracy: 0.69 - ETA: 0s - loss: 0.5853 - accuracy: 0.69 - ETA: 0s - loss: 0.5855 - accuracy: 0.69 - 1s 74us/sample - loss: 0.5846 - accuracy: 0.6926\n",
      "Epoch 13/20\n",
      "13483/13483 [==============================] - ETA: 1s - loss: 0.5106 - accuracy: 0.75 - ETA: 1s - loss: 0.5601 - accuracy: 0.72 - ETA: 0s - loss: 0.5775 - accuracy: 0.69 - ETA: 0s - loss: 0.5778 - accuracy: 0.69 - ETA: 0s - loss: 0.5760 - accuracy: 0.69 - ETA: 0s - loss: 0.5788 - accuracy: 0.70 - ETA: 0s - loss: 0.5816 - accuracy: 0.69 - ETA: 0s - loss: 0.5837 - accuracy: 0.69 - ETA: 0s - loss: 0.5842 - accuracy: 0.69 - ETA: 0s - loss: 0.5828 - accuracy: 0.69 - ETA: 0s - loss: 0.5825 - accuracy: 0.69 - ETA: 0s - loss: 0.5835 - accuracy: 0.69 - ETA: 0s - loss: 0.5839 - accuracy: 0.69 - ETA: 0s - loss: 0.5843 - accuracy: 0.69 - ETA: 0s - loss: 0.5832 - accuracy: 0.69 - ETA: 0s - loss: 0.5843 - accuracy: 0.69 - ETA: 0s - loss: 0.5830 - accuracy: 0.69 - ETA: 0s - loss: 0.5837 - accuracy: 0.69 - ETA: 0s - loss: 0.5839 - accuracy: 0.69 - 1s 71us/sample - loss: 0.5836 - accuracy: 0.6955\n",
      "Epoch 14/20\n",
      "13483/13483 [==============================] - ETA: 1s - loss: 0.5578 - accuracy: 0.65 - ETA: 0s - loss: 0.5789 - accuracy: 0.69 - ETA: 0s - loss: 0.5872 - accuracy: 0.69 - ETA: 0s - loss: 0.5825 - accuracy: 0.70 - ETA: 0s - loss: 0.5815 - accuracy: 0.69 - ETA: 0s - loss: 0.5745 - accuracy: 0.70 - ETA: 0s - loss: 0.5772 - accuracy: 0.70 - ETA: 0s - loss: 0.5779 - accuracy: 0.69 - ETA: 0s - loss: 0.5785 - accuracy: 0.69 - ETA: 0s - loss: 0.5776 - accuracy: 0.69 - ETA: 0s - loss: 0.5791 - accuracy: 0.69 - ETA: 0s - loss: 0.5811 - accuracy: 0.69 - ETA: 0s - loss: 0.5823 - accuracy: 0.69 - ETA: 0s - loss: 0.5812 - accuracy: 0.69 - ETA: 0s - loss: 0.5820 - accuracy: 0.69 - ETA: 0s - loss: 0.5827 - accuracy: 0.69 - ETA: 0s - loss: 0.5826 - accuracy: 0.69 - ETA: 0s - loss: 0.5814 - accuracy: 0.69 - ETA: 0s - loss: 0.5836 - accuracy: 0.69 - 1s 70us/sample - loss: 0.5827 - accuracy: 0.6919\n",
      "Epoch 15/20\n",
      "13483/13483 [==============================] - ETA: 1s - loss: 0.6349 - accuracy: 0.75 - ETA: 0s - loss: 0.5595 - accuracy: 0.73 - ETA: 0s - loss: 0.5581 - accuracy: 0.72 - ETA: 0s - loss: 0.5719 - accuracy: 0.70 - ETA: 0s - loss: 0.5805 - accuracy: 0.70 - ETA: 0s - loss: 0.5770 - accuracy: 0.70 - ETA: 0s - loss: 0.5712 - accuracy: 0.70 - ETA: 0s - loss: 0.5733 - accuracy: 0.70 - ETA: 0s - loss: 0.5757 - accuracy: 0.69 - ETA: 0s - loss: 0.5764 - accuracy: 0.69 - ETA: 0s - loss: 0.5755 - accuracy: 0.69 - ETA: 0s - loss: 0.5782 - accuracy: 0.69 - ETA: 0s - loss: 0.5787 - accuracy: 0.69 - ETA: 0s - loss: 0.5803 - accuracy: 0.69 - ETA: 0s - loss: 0.5807 - accuracy: 0.69 - ETA: 0s - loss: 0.5816 - accuracy: 0.69 - ETA: 0s - loss: 0.5815 - accuracy: 0.69 - ETA: 0s - loss: 0.5812 - accuracy: 0.69 - ETA: 0s - loss: 0.5816 - accuracy: 0.69 - ETA: 0s - loss: 0.5822 - accuracy: 0.69 - 1s 73us/sample - loss: 0.5822 - accuracy: 0.6943\n",
      "Epoch 16/20\n",
      "13483/13483 [==============================] - ETA: 1s - loss: 0.5483 - accuracy: 0.71 - ETA: 1s - loss: 0.5642 - accuracy: 0.70 - ETA: 0s - loss: 0.5698 - accuracy: 0.69 - ETA: 0s - loss: 0.5699 - accuracy: 0.69 - ETA: 0s - loss: 0.5770 - accuracy: 0.69 - ETA: 0s - loss: 0.5831 - accuracy: 0.69 - ETA: 0s - loss: 0.5798 - accuracy: 0.69 - ETA: 0s - loss: 0.5831 - accuracy: 0.69 - ETA: 0s - loss: 0.5863 - accuracy: 0.69 - ETA: 0s - loss: 0.5866 - accuracy: 0.68 - ETA: 0s - loss: 0.5862 - accuracy: 0.68 - ETA: 0s - loss: 0.5856 - accuracy: 0.69 - ETA: 0s - loss: 0.5820 - accuracy: 0.69 - ETA: 0s - loss: 0.5827 - accuracy: 0.69 - ETA: 0s - loss: 0.5813 - accuracy: 0.69 - ETA: 0s - loss: 0.5832 - accuracy: 0.69 - ETA: 0s - loss: 0.5841 - accuracy: 0.69 - ETA: 0s - loss: 0.5834 - accuracy: 0.69 - ETA: 0s - loss: 0.5824 - accuracy: 0.69 - ETA: 0s - loss: 0.5822 - accuracy: 0.69 - 1s 75us/sample - loss: 0.5813 - accuracy: 0.6955\n",
      "Epoch 17/20\n"
     ]
    },
    {
     "name": "stdout",
     "output_type": "stream",
     "text": [
      "13483/13483 [==============================] - ETA: 1s - loss: 0.5257 - accuracy: 0.68 - ETA: 1s - loss: 0.5776 - accuracy: 0.68 - ETA: 0s - loss: 0.5882 - accuracy: 0.67 - ETA: 0s - loss: 0.5801 - accuracy: 0.69 - ETA: 0s - loss: 0.5793 - accuracy: 0.69 - ETA: 0s - loss: 0.5778 - accuracy: 0.69 - ETA: 0s - loss: 0.5758 - accuracy: 0.69 - ETA: 0s - loss: 0.5726 - accuracy: 0.69 - ETA: 0s - loss: 0.5745 - accuracy: 0.69 - ETA: 0s - loss: 0.5759 - accuracy: 0.69 - ETA: 0s - loss: 0.5741 - accuracy: 0.70 - ETA: 0s - loss: 0.5760 - accuracy: 0.69 - ETA: 0s - loss: 0.5768 - accuracy: 0.69 - ETA: 0s - loss: 0.5773 - accuracy: 0.69 - ETA: 0s - loss: 0.5790 - accuracy: 0.69 - ETA: 0s - loss: 0.5814 - accuracy: 0.69 - ETA: 0s - loss: 0.5811 - accuracy: 0.69 - ETA: 0s - loss: 0.5797 - accuracy: 0.69 - ETA: 0s - loss: 0.5791 - accuracy: 0.69 - ETA: 0s - loss: 0.5792 - accuracy: 0.69 - 1s 73us/sample - loss: 0.5791 - accuracy: 0.6974\n",
      "Epoch 18/20\n",
      "13483/13483 [==============================] - ETA: 1s - loss: 0.5372 - accuracy: 0.84 - ETA: 0s - loss: 0.5786 - accuracy: 0.68 - ETA: 0s - loss: 0.5881 - accuracy: 0.68 - ETA: 0s - loss: 0.5796 - accuracy: 0.69 - ETA: 0s - loss: 0.5822 - accuracy: 0.69 - ETA: 0s - loss: 0.5739 - accuracy: 0.70 - ETA: 0s - loss: 0.5769 - accuracy: 0.69 - ETA: 0s - loss: 0.5756 - accuracy: 0.70 - ETA: 0s - loss: 0.5742 - accuracy: 0.70 - ETA: 0s - loss: 0.5784 - accuracy: 0.69 - ETA: 0s - loss: 0.5789 - accuracy: 0.69 - ETA: 0s - loss: 0.5807 - accuracy: 0.69 - ETA: 0s - loss: 0.5812 - accuracy: 0.69 - ETA: 0s - loss: 0.5799 - accuracy: 0.69 - ETA: 0s - loss: 0.5803 - accuracy: 0.69 - ETA: 0s - loss: 0.5797 - accuracy: 0.69 - ETA: 0s - loss: 0.5801 - accuracy: 0.69 - ETA: 0s - loss: 0.5805 - accuracy: 0.69 - 1s 67us/sample - loss: 0.5805 - accuracy: 0.6935\n",
      "Epoch 19/20\n",
      "13483/13483 [==============================] - ETA: 1s - loss: 0.7302 - accuracy: 0.62 - ETA: 0s - loss: 0.5883 - accuracy: 0.69 - ETA: 0s - loss: 0.5930 - accuracy: 0.68 - ETA: 0s - loss: 0.5948 - accuracy: 0.69 - ETA: 0s - loss: 0.5924 - accuracy: 0.69 - ETA: 0s - loss: 0.5833 - accuracy: 0.69 - ETA: 0s - loss: 0.5826 - accuracy: 0.69 - ETA: 0s - loss: 0.5811 - accuracy: 0.70 - ETA: 0s - loss: 0.5789 - accuracy: 0.70 - ETA: 0s - loss: 0.5809 - accuracy: 0.70 - ETA: 0s - loss: 0.5807 - accuracy: 0.69 - ETA: 0s - loss: 0.5806 - accuracy: 0.69 - ETA: 0s - loss: 0.5800 - accuracy: 0.69 - ETA: 0s - loss: 0.5779 - accuracy: 0.70 - ETA: 0s - loss: 0.5773 - accuracy: 0.69 - ETA: 0s - loss: 0.5784 - accuracy: 0.69 - ETA: 0s - loss: 0.5788 - accuracy: 0.69 - ETA: 0s - loss: 0.5786 - accuracy: 0.69 - 1s 67us/sample - loss: 0.5784 - accuracy: 0.6992\n",
      "Epoch 20/20\n",
      "13483/13483 [==============================] - ETA: 2s - loss: 0.6663 - accuracy: 0.62 - ETA: 0s - loss: 0.5631 - accuracy: 0.71 - ETA: 0s - loss: 0.5683 - accuracy: 0.71 - ETA: 0s - loss: 0.5762 - accuracy: 0.70 - ETA: 0s - loss: 0.5796 - accuracy: 0.70 - ETA: 0s - loss: 0.5729 - accuracy: 0.70 - ETA: 0s - loss: 0.5743 - accuracy: 0.70 - ETA: 0s - loss: 0.5780 - accuracy: 0.69 - ETA: 0s - loss: 0.5776 - accuracy: 0.69 - ETA: 0s - loss: 0.5779 - accuracy: 0.69 - ETA: 0s - loss: 0.5782 - accuracy: 0.69 - ETA: 0s - loss: 0.5761 - accuracy: 0.70 - ETA: 0s - loss: 0.5767 - accuracy: 0.69 - ETA: 0s - loss: 0.5779 - accuracy: 0.69 - ETA: 0s - loss: 0.5773 - accuracy: 0.70 - ETA: 0s - loss: 0.5750 - accuracy: 0.70 - ETA: 0s - loss: 0.5752 - accuracy: 0.70 - ETA: 0s - loss: 0.5750 - accuracy: 0.70 - 1s 67us/sample - loss: 0.5762 - accuracy: 0.7013\n"
     ]
    }
   ],
   "source": [
    "params = tuner.get_best_hyperparameters()[0]\n",
    "\n",
    "model = tuner.hypermodel.build(params)\n",
    "\n",
    "model.fit(X.values, y.values.flatten(), epochs=20)\n",
    "\n",
    "hyperband_accuracy_df = pd.DataFrame(model.history.history)"
   ]
  },
  {
   "cell_type": "code",
   "execution_count": 15,
   "metadata": {},
   "outputs": [
    {
     "data": {
      "image/png": "[encoded data removed]",
      "text/plain": [
       "<Figure size 1152x720 with 1 Axes>"
      ]
     },
     "metadata": {
      "image/png": {
       "height": 603,
       "width": 950
      },
      "needs_background": "light"
     },
     "output_type": "display_data"
    }
   ],
   "source": [
    "hyperband_accuracy_df[['loss', 'accuracy']].plot(figsize=(16,10))\n",
    "plt.title('Loss & Accuracy Per EPOCH')\n",
    "plt.xlabel('EPOCH')\n",
    "plt.ylabel('Accruacy')\n",
    "plt.show()"
   ]
  },
  {
   "cell_type": "markdown",
   "metadata": {},
   "source": [
    "## 2.2 KERAS TUNER - RANDOM SEARCH\n",
    "\n",
    "The RandomSearch tuner randomly selects different combinations in order to find the best possible fit.\n",
    "\n",
    "We can also \"re-use\" the HyperModel subclass created earlier."
   ]
  },
  {
   "cell_type": "code",
   "execution_count": 18,
   "metadata": {},
   "outputs": [],
   "source": [
    "random_tuner = RandomSearch(\n",
    "    hypermodel,\n",
    "    objective='accuracy',\n",
    "    max_trials=20,\n",
    "    seed=42, \n",
    "    project_name='weather_keras') # detailed logs, checkpoints in this folder"
   ]
  },
  {
   "cell_type": "code",
   "execution_count": 19,
   "metadata": {},
   "outputs": [
    {
     "name": "stdout",
     "output_type": "stream",
     "text": [
      "Train on 10786 samples, validate on 2697 samples\n",
      "Epoch 1/20\n",
      "10786/10786 [==============================] - ETA: 3:37 - loss: 0.6971 - accuracy: 0.34 - ETA: 13s - loss: 0.7036 - accuracy: 0.4863 - ETA: 7s - loss: 0.7000 - accuracy: 0.494 - ETA: 4s - loss: 0.6941 - accuracy: 0.52 - ETA: 3s - loss: 0.6933 - accuracy: 0.52 - ETA: 2s - loss: 0.6898 - accuracy: 0.53 - ETA: 2s - loss: 0.6835 - accuracy: 0.55 - ETA: 2s - loss: 0.6781 - accuracy: 0.56 - ETA: 1s - loss: 0.6739 - accuracy: 0.57 - ETA: 1s - loss: 0.6681 - accuracy: 0.58 - ETA: 1s - loss: 0.6646 - accuracy: 0.59 - ETA: 1s - loss: 0.6620 - accuracy: 0.59 - ETA: 1s - loss: 0.6589 - accuracy: 0.60 - ETA: 0s - loss: 0.6535 - accuracy: 0.61 - ETA: 0s - loss: 0.6524 - accuracy: 0.61 - ETA: 0s - loss: 0.6494 - accuracy: 0.61 - ETA: 0s - loss: 0.6490 - accuracy: 0.61 - ETA: 0s - loss: 0.6453 - accuracy: 0.62 - ETA: 0s - loss: 0.6428 - accuracy: 0.62 - ETA: 0s - loss: 0.6412 - accuracy: 0.62 - ETA: 0s - loss: 0.6398 - accuracy: 0.62 - ETA: 0s - loss: 0.6404 - accuracy: 0.62 - 2s 187us/sample - loss: 0.6388 - accuracy: 0.6307 - val_loss: 0.6959 - val_accuracy: 0.6459\n",
      "Epoch 2/20\n",
      "10786/10786 [==============================] - ETA: 2s - loss: 0.8603 - accuracy: 0.46 - ETA: 1s - loss: 0.6315 - accuracy: 0.66 - ETA: 1s - loss: 0.6273 - accuracy: 0.66 - ETA: 1s - loss: 0.6347 - accuracy: 0.65 - ETA: 1s - loss: 0.6269 - accuracy: 0.66 - ETA: 0s - loss: 0.6221 - accuracy: 0.67 - ETA: 0s - loss: 0.6202 - accuracy: 0.66 - ETA: 0s - loss: 0.6190 - accuracy: 0.67 - ETA: 0s - loss: 0.6176 - accuracy: 0.67 - ETA: 0s - loss: 0.6165 - accuracy: 0.66 - ETA: 0s - loss: 0.6179 - accuracy: 0.66 - ETA: 0s - loss: 0.6172 - accuracy: 0.66 - ETA: 0s - loss: 0.6141 - accuracy: 0.66 - ETA: 0s - loss: 0.6130 - accuracy: 0.66 - ETA: 0s - loss: 0.6124 - accuracy: 0.66 - ETA: 0s - loss: 0.6124 - accuracy: 0.66 - ETA: 0s - loss: 0.6117 - accuracy: 0.66 - ETA: 0s - loss: 0.6110 - accuracy: 0.67 - ETA: 0s - loss: 0.6100 - accuracy: 0.67 - ETA: 0s - loss: 0.6095 - accuracy: 0.67 - ETA: 0s - loss: 0.6088 - accuracy: 0.67 - ETA: 0s - loss: 0.6080 - accuracy: 0.67 - ETA: 0s - loss: 0.6081 - accuracy: 0.67 - 1s 121us/sample - loss: 0.6079 - accuracy: 0.6721 - val_loss: 0.5832 - val_accuracy: 0.6859\n",
      "Epoch 3/20\n",
      "10786/10786 [==============================] - ETA: 2s - loss: 0.5897 - accuracy: 0.71 - ETA: 1s - loss: 0.6178 - accuracy: 0.65 - ETA: 1s - loss: 0.6146 - accuracy: 0.64 - ETA: 1s - loss: 0.6069 - accuracy: 0.65 - ETA: 1s - loss: 0.6043 - accuracy: 0.66 - ETA: 0s - loss: 0.6025 - accuracy: 0.67 - ETA: 0s - loss: 0.6089 - accuracy: 0.66 - ETA: 0s - loss: 0.6086 - accuracy: 0.67 - ETA: 0s - loss: 0.6061 - accuracy: 0.67 - ETA: 0s - loss: 0.6010 - accuracy: 0.67 - ETA: 0s - loss: 0.6009 - accuracy: 0.67 - ETA: 0s - loss: 0.6018 - accuracy: 0.67 - ETA: 0s - loss: 0.6018 - accuracy: 0.67 - ETA: 0s - loss: 0.6011 - accuracy: 0.67 - ETA: 0s - loss: 0.6015 - accuracy: 0.67 - ETA: 0s - loss: 0.6016 - accuracy: 0.67 - ETA: 0s - loss: 0.6026 - accuracy: 0.67 - ETA: 0s - loss: 0.6032 - accuracy: 0.67 - ETA: 0s - loss: 0.6035 - accuracy: 0.67 - ETA: 0s - loss: 0.6038 - accuracy: 0.67 - ETA: 0s - loss: 0.6024 - accuracy: 0.67 - ETA: 0s - loss: 0.6013 - accuracy: 0.67 - ETA: 0s - loss: 0.6016 - accuracy: 0.67 - 1s 123us/sample - loss: 0.6014 - accuracy: 0.6796 - val_loss: 0.5819 - val_accuracy: 0.6893\n",
      "Epoch 4/20\n",
      "10786/10786 [==============================] - ETA: 2s - loss: 0.6265 - accuracy: 0.65 - ETA: 1s - loss: 0.6272 - accuracy: 0.66 - ETA: 1s - loss: 0.5993 - accuracy: 0.68 - ETA: 1s - loss: 0.6096 - accuracy: 0.67 - ETA: 1s - loss: 0.6003 - accuracy: 0.68 - ETA: 1s - loss: 0.5938 - accuracy: 0.69 - ETA: 1s - loss: 0.5924 - accuracy: 0.69 - ETA: 1s - loss: 0.5926 - accuracy: 0.69 - ETA: 0s - loss: 0.5915 - accuracy: 0.69 - ETA: 0s - loss: 0.5947 - accuracy: 0.68 - ETA: 0s - loss: 0.5961 - accuracy: 0.68 - ETA: 0s - loss: 0.5956 - accuracy: 0.68 - ETA: 0s - loss: 0.5975 - accuracy: 0.67 - ETA: 0s - loss: 0.5981 - accuracy: 0.67 - ETA: 0s - loss: 0.5990 - accuracy: 0.67 - ETA: 0s - loss: 0.6006 - accuracy: 0.67 - ETA: 0s - loss: 0.6003 - accuracy: 0.67 - ETA: 0s - loss: 0.5983 - accuracy: 0.67 - ETA: 0s - loss: 0.5968 - accuracy: 0.67 - ETA: 0s - loss: 0.5976 - accuracy: 0.67 - ETA: 0s - loss: 0.5966 - accuracy: 0.67 - ETA: 0s - loss: 0.5984 - accuracy: 0.67 - ETA: 0s - loss: 0.5992 - accuracy: 0.67 - ETA: 0s - loss: 0.5978 - accuracy: 0.67 - 1s 125us/sample - loss: 0.5977 - accuracy: 0.6793 - val_loss: 0.5836 - val_accuracy: 0.6900\n",
      "Epoch 5/20\n",
      "10786/10786 [==============================] - ETA: 1s - loss: 0.4920 - accuracy: 0.68 - ETA: 1s - loss: 0.6082 - accuracy: 0.69 - ETA: 1s - loss: 0.6047 - accuracy: 0.68 - ETA: 1s - loss: 0.6054 - accuracy: 0.68 - ETA: 1s - loss: 0.6008 - accuracy: 0.68 - ETA: 1s - loss: 0.5952 - accuracy: 0.68 - ETA: 1s - loss: 0.5953 - accuracy: 0.68 - ETA: 0s - loss: 0.5971 - accuracy: 0.68 - ETA: 0s - loss: 0.5959 - accuracy: 0.68 - ETA: 0s - loss: 0.5947 - accuracy: 0.68 - ETA: 0s - loss: 0.5969 - accuracy: 0.68 - ETA: 0s - loss: 0.5971 - accuracy: 0.68 - ETA: 0s - loss: 0.5993 - accuracy: 0.68 - ETA: 0s - loss: 0.5975 - accuracy: 0.68 - ETA: 0s - loss: 0.6007 - accuracy: 0.68 - ETA: 0s - loss: 0.5988 - accuracy: 0.68 - ETA: 0s - loss: 0.5976 - accuracy: 0.68 - ETA: 0s - loss: 0.5972 - accuracy: 0.68 - ETA: 0s - loss: 0.5985 - accuracy: 0.68 - ETA: 0s - loss: 0.5972 - accuracy: 0.68 - ETA: 0s - loss: 0.5963 - accuracy: 0.68 - ETA: 0s - loss: 0.5966 - accuracy: 0.68 - ETA: 0s - loss: 0.5971 - accuracy: 0.68 - ETA: 0s - loss: 0.5967 - accuracy: 0.68 - 1s 130us/sample - loss: 0.5973 - accuracy: 0.6815 - val_loss: 0.5908 - val_accuracy: 0.7004\n",
      "Epoch 6/20\n",
      "10786/10786 [==============================] - ETA: 1s - loss: 0.5317 - accuracy: 0.84 - ETA: 1s - loss: 0.5832 - accuracy: 0.72 - ETA: 1s - loss: 0.5997 - accuracy: 0.70 - ETA: 1s - loss: 0.5950 - accuracy: 0.69 - ETA: 1s - loss: 0.5917 - accuracy: 0.69 - ETA: 0s - loss: 0.5875 - accuracy: 0.69 - ETA: 0s - loss: 0.5846 - accuracy: 0.69 - ETA: 0s - loss: 0.5869 - accuracy: 0.69 - ETA: 0s - loss: 0.5895 - accuracy: 0.69 - ETA: 0s - loss: 0.5892 - accuracy: 0.69 - ETA: 0s - loss: 0.5903 - accuracy: 0.69 - ETA: 0s - loss: 0.5911 - accuracy: 0.69 - ETA: 0s - loss: 0.5881 - accuracy: 0.69 - ETA: 0s - loss: 0.5905 - accuracy: 0.69 - ETA: 0s - loss: 0.5917 - accuracy: 0.69 - ETA: 0s - loss: 0.5937 - accuracy: 0.68 - ETA: 0s - loss: 0.5941 - accuracy: 0.68 - ETA: 0s - loss: 0.5958 - accuracy: 0.68 - ETA: 0s - loss: 0.5956 - accuracy: 0.68 - ETA: 0s - loss: 0.5965 - accuracy: 0.68 - ETA: 0s - loss: 0.5958 - accuracy: 0.68 - ETA: 0s - loss: 0.5948 - accuracy: 0.68 - ETA: 0s - loss: 0.5952 - accuracy: 0.68 - ETA: 0s - loss: 0.5954 - accuracy: 0.68 - 1s 127us/sample - loss: 0.5957 - accuracy: 0.6879 - val_loss: 0.5956 - val_accuracy: 0.6667\n",
      "Epoch 7/20\n",
      "10786/10786 [==============================] - ETA: 1s - loss: 0.6806 - accuracy: 0.53 - ETA: 1s - loss: 0.6219 - accuracy: 0.66 - ETA: 1s - loss: 0.6172 - accuracy: 0.67 - ETA: 1s - loss: 0.6133 - accuracy: 0.66 - ETA: 1s - loss: 0.6054 - accuracy: 0.66 - ETA: 1s - loss: 0.5996 - accuracy: 0.67 - ETA: 0s - loss: 0.5928 - accuracy: 0.68 - ETA: 0s - loss: 0.5959 - accuracy: 0.67 - ETA: 0s - loss: 0.5920 - accuracy: 0.68 - ETA: 0s - loss: 0.5922 - accuracy: 0.67 - ETA: 0s - loss: 0.5912 - accuracy: 0.68 - ETA: 0s - loss: 0.5933 - accuracy: 0.67 - ETA: 0s - loss: 0.5923 - accuracy: 0.68 - ETA: 0s - loss: 0.5909 - accuracy: 0.68 - ETA: 0s - loss: 0.5939 - accuracy: 0.68 - ETA: 0s - loss: 0.5935 - accuracy: 0.68 - ETA: 0s - loss: 0.5937 - accuracy: 0.68 - ETA: 0s - loss: 0.5948 - accuracy: 0.68 - ETA: 0s - loss: 0.5929 - accuracy: 0.68 - ETA: 0s - loss: 0.5937 - accuracy: 0.68 - ETA: 0s - loss: 0.5924 - accuracy: 0.68 - ETA: 0s - loss: 0.5920 - accuracy: 0.68 - ETA: 0s - loss: 0.5929 - accuracy: 0.68 - ETA: 0s - loss: 0.5948 - accuracy: 0.68 - ETA: 0s - loss: 0.5954 - accuracy: 0.68 - 1s 129us/sample - loss: 0.5953 - accuracy: 0.6833 - val_loss: 0.5800 - val_accuracy: 0.6967\n",
      "Epoch 8/20\n",
      "10786/10786 [==============================] - ETA: 1s - loss: 0.5284 - accuracy: 0.78 - ETA: 1s - loss: 0.6178 - accuracy: 0.64 - ETA: 1s - loss: 0.6151 - accuracy: 0.65 - ETA: 1s - loss: 0.6089 - accuracy: 0.66 - ETA: 1s - loss: 0.6043 - accuracy: 0.67 - ETA: 1s - loss: 0.6053 - accuracy: 0.66 - ETA: 0s - loss: 0.6053 - accuracy: 0.66 - ETA: 0s - loss: 0.6005 - accuracy: 0.67 - ETA: 0s - loss: 0.5944 - accuracy: 0.68 - ETA: 0s - loss: 0.5938 - accuracy: 0.68 - ETA: 0s - loss: 0.5938 - accuracy: 0.68 - ETA: 0s - loss: 0.5960 - accuracy: 0.68 - ETA: 0s - loss: 0.5973 - accuracy: 0.68 - ETA: 0s - loss: 0.5970 - accuracy: 0.68 - ETA: 0s - loss: 0.5949 - accuracy: 0.68 - ETA: 0s - loss: 0.5919 - accuracy: 0.68 - ETA: 0s - loss: 0.5943 - accuracy: 0.68 - ETA: 0s - loss: 0.5926 - accuracy: 0.68 - ETA: 0s - loss: 0.5928 - accuracy: 0.68 - ETA: 0s - loss: 0.5939 - accuracy: 0.68 - ETA: 0s - loss: 0.5930 - accuracy: 0.68 - ETA: 0s - loss: 0.5937 - accuracy: 0.68 - 1s 116us/sample - loss: 0.5930 - accuracy: 0.6868 - val_loss: 0.5720 - val_accuracy: 0.7026\n",
      "Epoch 9/20\n",
      "10786/10786 [==============================] - ETA: 2s - loss: 0.4087 - accuracy: 0.87 - ETA: 1s - loss: 0.6003 - accuracy: 0.68 - ETA: 1s - loss: 0.6083 - accuracy: 0.67 - ETA: 1s - loss: 0.6002 - accuracy: 0.68 - ETA: 1s - loss: 0.5970 - accuracy: 0.68 - ETA: 1s - loss: 0.5988 - accuracy: 0.68 - ETA: 0s - loss: 0.5933 - accuracy: 0.68 - ETA: 0s - loss: 0.5973 - accuracy: 0.67 - ETA: 0s - loss: 0.5986 - accuracy: 0.67 - ETA: 0s - loss: 0.5974 - accuracy: 0.67 - ETA: 0s - loss: 0.5959 - accuracy: 0.68 - ETA: 0s - loss: 0.5943 - accuracy: 0.68 - ETA: 0s - loss: 0.5946 - accuracy: 0.68 - ETA: 0s - loss: 0.5943 - accuracy: 0.68 - ETA: 0s - loss: 0.5942 - accuracy: 0.68 - ETA: 0s - loss: 0.5936 - accuracy: 0.68 - ETA: 0s - loss: 0.5925 - accuracy: 0.68 - ETA: 0s - loss: 0.5920 - accuracy: 0.68 - ETA: 0s - loss: 0.5926 - accuracy: 0.68 - ETA: 0s - loss: 0.5931 - accuracy: 0.68 - ETA: 0s - loss: 0.5912 - accuracy: 0.68 - ETA: 0s - loss: 0.5905 - accuracy: 0.68 - ETA: 0s - loss: 0.5917 - accuracy: 0.68 - ETA: 0s - loss: 0.5924 - accuracy: 0.68 - 1s 126us/sample - loss: 0.5930 - accuracy: 0.6849 - val_loss: 0.6002 - val_accuracy: 0.6982\n",
      "Epoch 10/20\n",
      "10786/10786 [==============================] - ETA: 1s - loss: 0.5915 - accuracy: 0.68 - ETA: 1s - loss: 0.6041 - accuracy: 0.67 - ETA: 1s - loss: 0.5945 - accuracy: 0.67 - ETA: 1s - loss: 0.5944 - accuracy: 0.67 - ETA: 1s - loss: 0.5922 - accuracy: 0.67 - ETA: 0s - loss: 0.5956 - accuracy: 0.67 - ETA: 0s - loss: 0.5882 - accuracy: 0.67 - ETA: 0s - loss: 0.5949 - accuracy: 0.67 - ETA: 0s - loss: 0.5905 - accuracy: 0.68 - ETA: 0s - loss: 0.5890 - accuracy: 0.68 - ETA: 0s - loss: 0.5901 - accuracy: 0.68 - ETA: 0s - loss: 0.5899 - accuracy: 0.68 - ETA: 0s - loss: 0.5902 - accuracy: 0.68 - ETA: 0s - loss: 0.5913 - accuracy: 0.68 - ETA: 0s - loss: 0.5892 - accuracy: 0.68 - ETA: 0s - loss: 0.5907 - accuracy: 0.68 - ETA: 0s - loss: 0.5902 - accuracy: 0.68 - ETA: 0s - loss: 0.5901 - accuracy: 0.68 - ETA: 0s - loss: 0.5893 - accuracy: 0.68 - ETA: 0s - loss: 0.5889 - accuracy: 0.68 - ETA: 0s - loss: 0.5905 - accuracy: 0.68 - ETA: 0s - loss: 0.5900 - accuracy: 0.68 - 1s 117us/sample - loss: 0.5910 - accuracy: 0.6832 - val_loss: 0.6174 - val_accuracy: 0.6422\n",
      "Epoch 11/20\n",
      "10786/10786 [==============================] - ETA: 2s - loss: 0.5562 - accuracy: 0.68 - ETA: 1s - loss: 0.5986 - accuracy: 0.66 - ETA: 1s - loss: 0.5922 - accuracy: 0.67 - ETA: 1s - loss: 0.5975 - accuracy: 0.67 - ETA: 1s - loss: 0.5958 - accuracy: 0.67 - ETA: 1s - loss: 0.5967 - accuracy: 0.67 - ETA: 0s - loss: 0.5972 - accuracy: 0.67 - ETA: 0s - loss: 0.5957 - accuracy: 0.67 - ETA: 0s - loss: 0.5990 - accuracy: 0.67 - ETA: 0s - loss: 0.5978 - accuracy: 0.67 - ETA: 0s - loss: 0.5921 - accuracy: 0.68 - ETA: 0s - loss: 0.5905 - accuracy: 0.68 - ETA: 0s - loss: 0.5907 - accuracy: 0.68 - ETA: 0s - loss: 0.5890 - accuracy: 0.68 - ETA: 0s - loss: 0.5894 - accuracy: 0.68 - ETA: 0s - loss: 0.5900 - accuracy: 0.68 - ETA: 0s - loss: 0.5909 - accuracy: 0.68 - ETA: 0s - loss: 0.5894 - accuracy: 0.68 - ETA: 0s - loss: 0.5909 - accuracy: 0.68 - ETA: 0s - loss: 0.5912 - accuracy: 0.68 - ETA: 0s - loss: 0.5927 - accuracy: 0.68 - ETA: 0s - loss: 0.5920 - accuracy: 0.68 - 1s 116us/sample - loss: 0.5915 - accuracy: 0.6857 - val_loss: 0.5947 - val_accuracy: 0.6934\n",
      "Epoch 12/20\n",
      "10786/10786 [==============================] - ETA: 2s - loss: 0.5064 - accuracy: 0.75 - ETA: 1s - loss: 0.5983 - accuracy: 0.68 - ETA: 1s - loss: 0.5946 - accuracy: 0.68 - ETA: 0s - loss: 0.5920 - accuracy: 0.68 - ETA: 0s - loss: 0.5959 - accuracy: 0.68 - ETA: 0s - loss: 0.5962 - accuracy: 0.68 - ETA: 0s - loss: 0.5976 - accuracy: 0.67 - ETA: 0s - loss: 0.5950 - accuracy: 0.68 - ETA: 0s - loss: 0.5923 - accuracy: 0.68 - ETA: 0s - loss: 0.5915 - accuracy: 0.68 - ETA: 0s - loss: 0.5901 - accuracy: 0.68 - ETA: 0s - loss: 0.5874 - accuracy: 0.69 - ETA: 0s - loss: 0.5889 - accuracy: 0.68 - ETA: 0s - loss: 0.5877 - accuracy: 0.68 - ETA: 0s - loss: 0.5881 - accuracy: 0.68 - ETA: 0s - loss: 0.5899 - accuracy: 0.68 - ETA: 0s - loss: 0.5918 - accuracy: 0.68 - ETA: 0s - loss: 0.5908 - accuracy: 0.68 - ETA: 0s - loss: 0.5911 - accuracy: 0.68 - ETA: 0s - loss: 0.5888 - accuracy: 0.68 - ETA: 0s - loss: 0.5875 - accuracy: 0.68 - 1s 111us/sample - loss: 0.5894 - accuracy: 0.6874 - val_loss: 0.6156 - val_accuracy: 0.6674\n",
      "Epoch 13/20\n",
      "10786/10786 [==============================] - ETA: 2s - loss: 0.7220 - accuracy: 0.53 - ETA: 1s - loss: 0.6393 - accuracy: 0.66 - ETA: 1s - loss: 0.6047 - accuracy: 0.67 - ETA: 0s - loss: 0.5902 - accuracy: 0.68 - ETA: 0s - loss: 0.5927 - accuracy: 0.68 - ETA: 0s - loss: 0.5966 - accuracy: 0.68 - ETA: 0s - loss: 0.5896 - accuracy: 0.68 - ETA: 0s - loss: 0.5886 - accuracy: 0.69 - ETA: 0s - loss: 0.5886 - accuracy: 0.68 - ETA: 0s - loss: 0.5883 - accuracy: 0.69 - ETA: 0s - loss: 0.5881 - accuracy: 0.69 - ETA: 0s - loss: 0.5882 - accuracy: 0.69 - ETA: 0s - loss: 0.5873 - accuracy: 0.69 - ETA: 0s - loss: 0.5870 - accuracy: 0.69 - ETA: 0s - loss: 0.5870 - accuracy: 0.69 - ETA: 0s - loss: 0.5878 - accuracy: 0.68 - ETA: 0s - loss: 0.5878 - accuracy: 0.68 - ETA: 0s - loss: 0.5877 - accuracy: 0.68 - ETA: 0s - loss: 0.5884 - accuracy: 0.68 - ETA: 0s - loss: 0.5875 - accuracy: 0.68 - ETA: 0s - loss: 0.5885 - accuracy: 0.68 - ETA: 0s - loss: 0.5890 - accuracy: 0.68 - 1s 113us/sample - loss: 0.5883 - accuracy: 0.6879 - val_loss: 0.8008 - val_accuracy: 0.6055\n",
      "Epoch 14/20\n",
      "10786/10786 [==============================] - ETA: 1s - loss: 1.0190 - accuracy: 0.46 - ETA: 0s - loss: 0.6487 - accuracy: 0.65 - ETA: 0s - loss: 0.6133 - accuracy: 0.67 - ETA: 0s - loss: 0.6126 - accuracy: 0.67 - ETA: 0s - loss: 0.6115 - accuracy: 0.67 - ETA: 0s - loss: 0.6079 - accuracy: 0.67 - ETA: 0s - loss: 0.6070 - accuracy: 0.67 - ETA: 0s - loss: 0.6058 - accuracy: 0.67 - ETA: 0s - loss: 0.5998 - accuracy: 0.67 - ETA: 0s - loss: 0.5991 - accuracy: 0.67 - ETA: 0s - loss: 0.5958 - accuracy: 0.67 - ETA: 0s - loss: 0.5948 - accuracy: 0.68 - ETA: 0s - loss: 0.5948 - accuracy: 0.68 - ETA: 0s - loss: 0.5958 - accuracy: 0.68 - ETA: 0s - loss: 0.5956 - accuracy: 0.68 - ETA: 0s - loss: 0.5927 - accuracy: 0.68 - ETA: 0s - loss: 0.5946 - accuracy: 0.68 - ETA: 0s - loss: 0.5943 - accuracy: 0.68 - ETA: 0s - loss: 0.5944 - accuracy: 0.68 - ETA: 0s - loss: 0.5922 - accuracy: 0.68 - ETA: 0s - loss: 0.5912 - accuracy: 0.68 - 1s 112us/sample - loss: 0.5901 - accuracy: 0.6865 - val_loss: 0.5883 - val_accuracy: 0.6741\n",
      "Epoch 15/20\n"
     ]
    },
    {
     "name": "stdout",
     "output_type": "stream",
     "text": [
      "10786/10786 [==============================] - ETA: 1s - loss: 0.4962 - accuracy: 0.71 - ETA: 1s - loss: 0.5911 - accuracy: 0.68 - ETA: 1s - loss: 0.5667 - accuracy: 0.70 - ETA: 0s - loss: 0.5609 - accuracy: 0.70 - ETA: 0s - loss: 0.5728 - accuracy: 0.70 - ETA: 0s - loss: 0.5674 - accuracy: 0.70 - ETA: 0s - loss: 0.5787 - accuracy: 0.69 - ETA: 0s - loss: 0.5832 - accuracy: 0.69 - ETA: 0s - loss: 0.5857 - accuracy: 0.68 - ETA: 0s - loss: 0.5862 - accuracy: 0.68 - ETA: 0s - loss: 0.5858 - accuracy: 0.68 - ETA: 0s - loss: 0.5867 - accuracy: 0.68 - ETA: 0s - loss: 0.5871 - accuracy: 0.68 - ETA: 0s - loss: 0.5863 - accuracy: 0.68 - ETA: 0s - loss: 0.5865 - accuracy: 0.68 - ETA: 0s - loss: 0.5849 - accuracy: 0.68 - ETA: 0s - loss: 0.5868 - accuracy: 0.68 - ETA: 0s - loss: 0.5876 - accuracy: 0.68 - ETA: 0s - loss: 0.5875 - accuracy: 0.68 - ETA: 0s - loss: 0.5878 - accuracy: 0.68 - ETA: 0s - loss: 0.5868 - accuracy: 0.68 - ETA: 0s - loss: 0.5876 - accuracy: 0.68 - ETA: 0s - loss: 0.5875 - accuracy: 0.68 - ETA: 0s - loss: 0.5869 - accuracy: 0.68 - 1s 128us/sample - loss: 0.5867 - accuracy: 0.6876 - val_loss: 0.5959 - val_accuracy: 0.6819\n",
      "Epoch 16/20\n",
      "10786/10786 [==============================] - ETA: 2s - loss: 0.7268 - accuracy: 0.53 - ETA: 1s - loss: 0.6016 - accuracy: 0.67 - ETA: 1s - loss: 0.6137 - accuracy: 0.66 - ETA: 1s - loss: 0.6019 - accuracy: 0.67 - ETA: 1s - loss: 0.6037 - accuracy: 0.67 - ETA: 1s - loss: 0.6071 - accuracy: 0.67 - ETA: 0s - loss: 0.5946 - accuracy: 0.68 - ETA: 0s - loss: 0.5923 - accuracy: 0.68 - ETA: 0s - loss: 0.5874 - accuracy: 0.69 - ETA: 0s - loss: 0.5870 - accuracy: 0.69 - ETA: 0s - loss: 0.5874 - accuracy: 0.69 - ETA: 0s - loss: 0.5872 - accuracy: 0.69 - ETA: 0s - loss: 0.5880 - accuracy: 0.69 - ETA: 0s - loss: 0.5878 - accuracy: 0.69 - ETA: 0s - loss: 0.5887 - accuracy: 0.69 - ETA: 0s - loss: 0.5879 - accuracy: 0.69 - ETA: 0s - loss: 0.5899 - accuracy: 0.69 - ETA: 0s - loss: 0.5894 - accuracy: 0.69 - ETA: 0s - loss: 0.5892 - accuracy: 0.69 - ETA: 0s - loss: 0.5902 - accuracy: 0.68 - ETA: 0s - loss: 0.5887 - accuracy: 0.69 - ETA: 0s - loss: 0.5886 - accuracy: 0.69 - ETA: 0s - loss: 0.5885 - accuracy: 0.69 - 1s 124us/sample - loss: 0.5877 - accuracy: 0.6926 - val_loss: 0.6061 - val_accuracy: 0.6737\n",
      "Epoch 17/20\n",
      "10786/10786 [==============================] - ETA: 2s - loss: 0.6938 - accuracy: 0.56 - ETA: 1s - loss: 0.6137 - accuracy: 0.66 - ETA: 1s - loss: 0.5936 - accuracy: 0.67 - ETA: 1s - loss: 0.5945 - accuracy: 0.67 - ETA: 0s - loss: 0.5863 - accuracy: 0.69 - ETA: 0s - loss: 0.5882 - accuracy: 0.68 - ETA: 0s - loss: 0.5917 - accuracy: 0.68 - ETA: 0s - loss: 0.5924 - accuracy: 0.69 - ETA: 0s - loss: 0.5933 - accuracy: 0.68 - ETA: 0s - loss: 0.5915 - accuracy: 0.68 - ETA: 0s - loss: 0.5939 - accuracy: 0.68 - ETA: 0s - loss: 0.5926 - accuracy: 0.68 - ETA: 0s - loss: 0.5935 - accuracy: 0.68 - ETA: 0s - loss: 0.5921 - accuracy: 0.68 - ETA: 0s - loss: 0.5906 - accuracy: 0.68 - ETA: 0s - loss: 0.5891 - accuracy: 0.68 - ETA: 0s - loss: 0.5887 - accuracy: 0.68 - ETA: 0s - loss: 0.5873 - accuracy: 0.69 - ETA: 0s - loss: 0.5885 - accuracy: 0.68 - ETA: 0s - loss: 0.5891 - accuracy: 0.68 - ETA: 0s - loss: 0.5881 - accuracy: 0.68 - ETA: 0s - loss: 0.5882 - accuracy: 0.68 - ETA: 0s - loss: 0.5884 - accuracy: 0.68 - ETA: 0s - loss: 0.5875 - accuracy: 0.69 - 1s 128us/sample - loss: 0.5873 - accuracy: 0.6907 - val_loss: 0.6312 - val_accuracy: 0.6552\n",
      "Epoch 18/20\n",
      "10786/10786 [==============================] - ETA: 1s - loss: 0.4310 - accuracy: 0.81 - ETA: 1s - loss: 0.5709 - accuracy: 0.70 - ETA: 1s - loss: 0.5752 - accuracy: 0.70 - ETA: 0s - loss: 0.5840 - accuracy: 0.68 - ETA: 0s - loss: 0.5942 - accuracy: 0.68 - ETA: 0s - loss: 0.5890 - accuracy: 0.69 - ETA: 0s - loss: 0.5918 - accuracy: 0.68 - ETA: 0s - loss: 0.5921 - accuracy: 0.68 - ETA: 0s - loss: 0.5906 - accuracy: 0.69 - ETA: 0s - loss: 0.5877 - accuracy: 0.69 - ETA: 0s - loss: 0.5889 - accuracy: 0.69 - ETA: 0s - loss: 0.5897 - accuracy: 0.69 - ETA: 0s - loss: 0.5894 - accuracy: 0.69 - ETA: 0s - loss: 0.5908 - accuracy: 0.69 - ETA: 0s - loss: 0.5885 - accuracy: 0.69 - ETA: 0s - loss: 0.5854 - accuracy: 0.69 - ETA: 0s - loss: 0.5869 - accuracy: 0.69 - ETA: 0s - loss: 0.5864 - accuracy: 0.69 - ETA: 0s - loss: 0.5865 - accuracy: 0.69 - ETA: 0s - loss: 0.5862 - accuracy: 0.69 - ETA: 0s - loss: 0.5854 - accuracy: 0.69 - 1s 110us/sample - loss: 0.5857 - accuracy: 0.6918 - val_loss: 0.5757 - val_accuracy: 0.6915\n",
      "Epoch 19/20\n",
      "10786/10786 [==============================] - ETA: 2s - loss: 0.7564 - accuracy: 0.56 - ETA: 1s - loss: 0.6235 - accuracy: 0.64 - ETA: 0s - loss: 0.6112 - accuracy: 0.65 - ETA: 0s - loss: 0.6058 - accuracy: 0.66 - ETA: 0s - loss: 0.5951 - accuracy: 0.67 - ETA: 0s - loss: 0.5998 - accuracy: 0.67 - ETA: 0s - loss: 0.5939 - accuracy: 0.67 - ETA: 0s - loss: 0.5936 - accuracy: 0.67 - ETA: 0s - loss: 0.5968 - accuracy: 0.67 - ETA: 0s - loss: 0.5950 - accuracy: 0.67 - ETA: 0s - loss: 0.5930 - accuracy: 0.68 - ETA: 0s - loss: 0.5902 - accuracy: 0.68 - ETA: 0s - loss: 0.5924 - accuracy: 0.68 - ETA: 0s - loss: 0.5891 - accuracy: 0.68 - ETA: 0s - loss: 0.5883 - accuracy: 0.68 - ETA: 0s - loss: 0.5869 - accuracy: 0.68 - ETA: 0s - loss: 0.5859 - accuracy: 0.68 - ETA: 0s - loss: 0.5848 - accuracy: 0.68 - ETA: 0s - loss: 0.5843 - accuracy: 0.69 - ETA: 0s - loss: 0.5851 - accuracy: 0.68 - ETA: 0s - loss: 0.5849 - accuracy: 0.68 - 1s 111us/sample - loss: 0.5856 - accuracy: 0.6891 - val_loss: 0.5712 - val_accuracy: 0.6974\n",
      "Epoch 20/20\n",
      "10786/10786 [==============================] - ETA: 1s - loss: 0.5925 - accuracy: 0.78 - ETA: 1s - loss: 0.5783 - accuracy: 0.70 - ETA: 1s - loss: 0.5876 - accuracy: 0.68 - ETA: 1s - loss: 0.5815 - accuracy: 0.69 - ETA: 0s - loss: 0.5877 - accuracy: 0.68 - ETA: 0s - loss: 0.5841 - accuracy: 0.69 - ETA: 0s - loss: 0.5889 - accuracy: 0.68 - ETA: 0s - loss: 0.5869 - accuracy: 0.68 - ETA: 0s - loss: 0.5890 - accuracy: 0.68 - ETA: 0s - loss: 0.5897 - accuracy: 0.68 - ETA: 0s - loss: 0.5911 - accuracy: 0.68 - ETA: 0s - loss: 0.5881 - accuracy: 0.69 - ETA: 0s - loss: 0.5878 - accuracy: 0.69 - ETA: 0s - loss: 0.5872 - accuracy: 0.68 - ETA: 0s - loss: 0.5850 - accuracy: 0.69 - ETA: 0s - loss: 0.5859 - accuracy: 0.69 - ETA: 0s - loss: 0.5865 - accuracy: 0.69 - ETA: 0s - loss: 0.5867 - accuracy: 0.69 - ETA: 0s - loss: 0.5866 - accuracy: 0.69 - ETA: 0s - loss: 0.5877 - accuracy: 0.68 - ETA: 0s - loss: 0.5885 - accuracy: 0.68 - ETA: 0s - loss: 0.5856 - accuracy: 0.69 - 1s 112us/sample - loss: 0.5857 - accuracy: 0.6904 - val_loss: 0.5671 - val_accuracy: 0.7015\n"
     ]
    },
    {
     "data": {
      "text/html": [
       "<span style=\"color:#4527A0\"><h1 style=\"font-size:18px\">Trial complete</h1></span>"
      ],
      "text/plain": [
       "<IPython.core.display.HTML object>"
      ]
     },
     "metadata": {},
     "output_type": "display_data"
    },
    {
     "data": {
      "text/html": [
       "<span style=\"color:#4527A0\"><h1 style=\"font-size:18px\">Trial summary</h1></span>"
      ],
      "text/plain": [
       "<IPython.core.display.HTML object>"
      ]
     },
     "metadata": {},
     "output_type": "display_data"
    },
    {
     "data": {
      "text/html": [
       "<span style=\"color:#7E57C2\"><h2 style=\"font-size:16px\">Hp values:</h2></span>"
      ],
      "text/plain": [
       "<IPython.core.display.HTML object>"
      ]
     },
     "metadata": {},
     "output_type": "display_data"
    },
    {
     "data": {
      "text/html": [
       "<span style=\"color:cyan\"> |-drop_rate_0: 0.3</span>"
      ],
      "text/plain": [
       "<IPython.core.display.HTML object>"
      ]
     },
     "metadata": {},
     "output_type": "display_data"
    },
    {
     "data": {
      "text/html": [
       "<span style=\"color:blue\"> |-drop_rate_1: 0.1</span>"
      ],
      "text/plain": [
       "<IPython.core.display.HTML object>"
      ]
     },
     "metadata": {},
     "output_type": "display_data"
    },
    {
     "data": {
      "text/html": [
       "<span style=\"color:cyan\"> |-drop_rate_2: 0.3</span>"
      ],
      "text/plain": [
       "<IPython.core.display.HTML object>"
      ]
     },
     "metadata": {},
     "output_type": "display_data"
    },
    {
     "data": {
      "text/html": [
       "<span style=\"color:blue\"> |-drop_rate_3: 0.3</span>"
      ],
      "text/plain": [
       "<IPython.core.display.HTML object>"
      ]
     },
     "metadata": {},
     "output_type": "display_data"
    },
    {
     "data": {
      "text/html": [
       "<span style=\"color:cyan\"> |-drop_rate_4: 0.01</span>"
      ],
      "text/plain": [
       "<IPython.core.display.HTML object>"
      ]
     },
     "metadata": {},
     "output_type": "display_data"
    },
    {
     "data": {
      "text/html": [
       "<span style=\"color:blue\"> |-drop_rate_5: 0.3</span>"
      ],
      "text/plain": [
       "<IPython.core.display.HTML object>"
      ]
     },
     "metadata": {},
     "output_type": "display_data"
    },
    {
     "data": {
      "text/html": [
       "<span style=\"color:cyan\"> |-drop_rate_6: 0.3</span>"
      ],
      "text/plain": [
       "<IPython.core.display.HTML object>"
      ]
     },
     "metadata": {},
     "output_type": "display_data"
    },
    {
     "data": {
      "text/html": [
       "<span style=\"color:blue\"> |-drop_rate_7: 0.01</span>"
      ],
      "text/plain": [
       "<IPython.core.display.HTML object>"
      ]
     },
     "metadata": {},
     "output_type": "display_data"
    },
    {
     "data": {
      "text/html": [
       "<span style=\"color:cyan\"> |-drop_rate_8: 0.3</span>"
      ],
      "text/plain": [
       "<IPython.core.display.HTML object>"
      ]
     },
     "metadata": {},
     "output_type": "display_data"
    },
    {
     "data": {
      "text/html": [
       "<span style=\"color:blue\"> |-drop_rate_9: 0.01</span>"
      ],
      "text/plain": [
       "<IPython.core.display.HTML object>"
      ]
     },
     "metadata": {},
     "output_type": "display_data"
    },
    {
     "data": {
      "text/html": [
       "<span style=\"color:cyan\"> |-learning_rate: 0.001</span>"
      ],
      "text/plain": [
       "<IPython.core.display.HTML object>"
      ]
     },
     "metadata": {},
     "output_type": "display_data"
    },
    {
     "data": {
      "text/html": [
       "<span style=\"color:blue\"> |-momentum: 0.6</span>"
      ],
      "text/plain": [
       "<IPython.core.display.HTML object>"
      ]
     },
     "metadata": {},
     "output_type": "display_data"
    },
    {
     "data": {
      "text/html": [
       "<span style=\"color:cyan\"> |-num_layers: 10</span>"
      ],
      "text/plain": [
       "<IPython.core.display.HTML object>"
      ]
     },
     "metadata": {},
     "output_type": "display_data"
    },
    {
     "data": {
      "text/html": [
       "<span style=\"color:blue\"> |-units_0: 104</span>"
      ],
      "text/plain": [
       "<IPython.core.display.HTML object>"
      ]
     },
     "metadata": {},
     "output_type": "display_data"
    },
    {
     "data": {
      "text/html": [
       "<span style=\"color:cyan\"> |-units_1: 208</span>"
      ],
      "text/plain": [
       "<IPython.core.display.HTML object>"
      ]
     },
     "metadata": {},
     "output_type": "display_data"
    },
    {
     "data": {
      "text/html": [
       "<span style=\"color:blue\"> |-units_2: 152</span>"
      ],
      "text/plain": [
       "<IPython.core.display.HTML object>"
      ]
     },
     "metadata": {},
     "output_type": "display_data"
    },
    {
     "data": {
      "text/html": [
       "<span style=\"color:cyan\"> |-units_3: 16</span>"
      ],
      "text/plain": [
       "<IPython.core.display.HTML object>"
      ]
     },
     "metadata": {},
     "output_type": "display_data"
    },
    {
     "data": {
      "text/html": [
       "<span style=\"color:blue\"> |-units_4: 152</span>"
      ],
      "text/plain": [
       "<IPython.core.display.HTML object>"
      ]
     },
     "metadata": {},
     "output_type": "display_data"
    },
    {
     "data": {
      "text/html": [
       "<span style=\"color:cyan\"> |-units_5: 184</span>"
      ],
      "text/plain": [
       "<IPython.core.display.HTML object>"
      ]
     },
     "metadata": {},
     "output_type": "display_data"
    },
    {
     "data": {
      "text/html": [
       "<span style=\"color:blue\"> |-units_6: 128</span>"
      ],
      "text/plain": [
       "<IPython.core.display.HTML object>"
      ]
     },
     "metadata": {},
     "output_type": "display_data"
    },
    {
     "data": {
      "text/html": [
       "<span style=\"color:cyan\"> |-units_7: 160</span>"
      ],
      "text/plain": [
       "<IPython.core.display.HTML object>"
      ]
     },
     "metadata": {},
     "output_type": "display_data"
    },
    {
     "data": {
      "text/html": [
       "<span style=\"color:blue\"> |-units_8: 192</span>"
      ],
      "text/plain": [
       "<IPython.core.display.HTML object>"
      ]
     },
     "metadata": {},
     "output_type": "display_data"
    },
    {
     "data": {
      "text/html": [
       "<span style=\"color:cyan\"> |-units_9: 40</span>"
      ],
      "text/plain": [
       "<IPython.core.display.HTML object>"
      ]
     },
     "metadata": {},
     "output_type": "display_data"
    },
    {
     "data": {
      "text/html": [
       "<span style=\"color:cyan\"> |-Score: 0.6925644278526306</span>"
      ],
      "text/plain": [
       "<IPython.core.display.HTML object>"
      ]
     },
     "metadata": {},
     "output_type": "display_data"
    },
    {
     "data": {
      "text/html": [
       "<span style=\"color:cyan\"> |-Best step: 0</span>"
      ],
      "text/plain": [
       "<IPython.core.display.HTML object>"
      ]
     },
     "metadata": {},
     "output_type": "display_data"
    }
   ],
   "source": [
    "random_tuner.search(\n",
    "    X_train.values,\n",
    "    y_train.values.flatten(),\n",
    "    epochs=20,\n",
    "    validation_data=(X_test.values, y_test.values.flatten()),\n",
    ")"
   ]
  },
  {
   "cell_type": "code",
   "execution_count": 20,
   "metadata": {},
   "outputs": [
    {
     "name": "stdout",
     "output_type": "stream",
     "text": [
      "Train on 13483 samples\n",
      "Epoch 1/20\n",
      "13483/13483 [==============================] - ETA: 3:57 - loss: 0.6896 - accuracy: 0.50 - ETA: 11s - loss: 0.6817 - accuracy: 0.5521 - ETA: 6s - loss: 0.6790 - accuracy: 0.579 - ETA: 4s - loss: 0.6765 - accuracy: 0.58 - ETA: 3s - loss: 0.6717 - accuracy: 0.59 - ETA: 2s - loss: 0.6621 - accuracy: 0.61 - ETA: 1s - loss: 0.6538 - accuracy: 0.62 - ETA: 1s - loss: 0.6474 - accuracy: 0.62 - ETA: 1s - loss: 0.6454 - accuracy: 0.63 - ETA: 1s - loss: 0.6430 - accuracy: 0.63 - ETA: 0s - loss: 0.6428 - accuracy: 0.63 - ETA: 0s - loss: 0.6419 - accuracy: 0.63 - ETA: 0s - loss: 0.6377 - accuracy: 0.64 - ETA: 0s - loss: 0.6342 - accuracy: 0.64 - ETA: 0s - loss: 0.6334 - accuracy: 0.64 - ETA: 0s - loss: 0.6307 - accuracy: 0.64 - ETA: 0s - loss: 0.6301 - accuracy: 0.64 - ETA: 0s - loss: 0.6296 - accuracy: 0.64 - ETA: 0s - loss: 0.6270 - accuracy: 0.65 - 2s 114us/sample - loss: 0.6242 - accuracy: 0.6537\n",
      "Epoch 2/20\n",
      "13483/13483 [==============================] - ETA: 1s - loss: 0.6417 - accuracy: 0.68 - ETA: 1s - loss: 0.5954 - accuracy: 0.69 - ETA: 1s - loss: 0.6017 - accuracy: 0.67 - ETA: 0s - loss: 0.6105 - accuracy: 0.67 - ETA: 0s - loss: 0.6032 - accuracy: 0.67 - ETA: 0s - loss: 0.6036 - accuracy: 0.66 - ETA: 0s - loss: 0.6011 - accuracy: 0.67 - ETA: 0s - loss: 0.6045 - accuracy: 0.67 - ETA: 0s - loss: 0.6033 - accuracy: 0.67 - ETA: 0s - loss: 0.6028 - accuracy: 0.67 - ETA: 0s - loss: 0.6037 - accuracy: 0.67 - ETA: 0s - loss: 0.6036 - accuracy: 0.67 - ETA: 0s - loss: 0.6036 - accuracy: 0.67 - ETA: 0s - loss: 0.6038 - accuracy: 0.67 - ETA: 0s - loss: 0.6033 - accuracy: 0.67 - ETA: 0s - loss: 0.6031 - accuracy: 0.67 - ETA: 0s - loss: 0.6017 - accuracy: 0.67 - ETA: 0s - loss: 0.6014 - accuracy: 0.67 - ETA: 0s - loss: 0.6004 - accuracy: 0.67 - ETA: 0s - loss: 0.6008 - accuracy: 0.67 - ETA: 0s - loss: 0.6006 - accuracy: 0.67 - 1s 76us/sample - loss: 0.6005 - accuracy: 0.6767\n",
      "Epoch 3/20\n",
      "13483/13483 [==============================] - ETA: 2s - loss: 0.7188 - accuracy: 0.59 - ETA: 1s - loss: 0.5741 - accuracy: 0.69 - ETA: 1s - loss: 0.5892 - accuracy: 0.69 - ETA: 1s - loss: 0.5955 - accuracy: 0.68 - ETA: 1s - loss: 0.5910 - accuracy: 0.68 - ETA: 1s - loss: 0.5937 - accuracy: 0.68 - ETA: 0s - loss: 0.5952 - accuracy: 0.68 - ETA: 0s - loss: 0.5961 - accuracy: 0.68 - ETA: 0s - loss: 0.5951 - accuracy: 0.68 - ETA: 0s - loss: 0.5942 - accuracy: 0.68 - ETA: 0s - loss: 0.5947 - accuracy: 0.68 - ETA: 0s - loss: 0.5947 - accuracy: 0.68 - ETA: 0s - loss: 0.5977 - accuracy: 0.68 - ETA: 0s - loss: 0.5973 - accuracy: 0.68 - ETA: 0s - loss: 0.5960 - accuracy: 0.68 - ETA: 0s - loss: 0.5949 - accuracy: 0.68 - ETA: 0s - loss: 0.5955 - accuracy: 0.68 - ETA: 0s - loss: 0.5951 - accuracy: 0.68 - ETA: 0s - loss: 0.5946 - accuracy: 0.68 - ETA: 0s - loss: 0.5953 - accuracy: 0.68 - ETA: 0s - loss: 0.5963 - accuracy: 0.68 - 1s 80us/sample - loss: 0.5983 - accuracy: 0.6807\n",
      "Epoch 4/20\n",
      "13483/13483 [==============================] - ETA: 2s - loss: 0.5907 - accuracy: 0.62 - ETA: 1s - loss: 0.6358 - accuracy: 0.62 - ETA: 1s - loss: 0.5969 - accuracy: 0.66 - ETA: 0s - loss: 0.5964 - accuracy: 0.67 - ETA: 0s - loss: 0.5986 - accuracy: 0.67 - ETA: 0s - loss: 0.5973 - accuracy: 0.67 - ETA: 0s - loss: 0.5955 - accuracy: 0.67 - ETA: 0s - loss: 0.5916 - accuracy: 0.68 - ETA: 0s - loss: 0.5924 - accuracy: 0.68 - ETA: 0s - loss: 0.5939 - accuracy: 0.68 - ETA: 0s - loss: 0.5935 - accuracy: 0.68 - ETA: 0s - loss: 0.5929 - accuracy: 0.68 - ETA: 0s - loss: 0.5942 - accuracy: 0.68 - ETA: 0s - loss: 0.5941 - accuracy: 0.68 - ETA: 0s - loss: 0.5958 - accuracy: 0.68 - ETA: 0s - loss: 0.5952 - accuracy: 0.68 - ETA: 0s - loss: 0.5954 - accuracy: 0.68 - ETA: 0s - loss: 0.5968 - accuracy: 0.67 - ETA: 0s - loss: 0.5955 - accuracy: 0.68 - ETA: 0s - loss: 0.5966 - accuracy: 0.67 - ETA: 0s - loss: 0.5965 - accuracy: 0.67 - 1s 78us/sample - loss: 0.5961 - accuracy: 0.6797\n",
      "Epoch 5/20\n",
      "13483/13483 [==============================] - ETA: 1s - loss: 0.6042 - accuracy: 0.68 - ETA: 1s - loss: 0.6167 - accuracy: 0.66 - ETA: 0s - loss: 0.6175 - accuracy: 0.66 - ETA: 0s - loss: 0.6117 - accuracy: 0.66 - ETA: 0s - loss: 0.6066 - accuracy: 0.66 - ETA: 0s - loss: 0.6002 - accuracy: 0.67 - ETA: 0s - loss: 0.5996 - accuracy: 0.67 - ETA: 0s - loss: 0.5977 - accuracy: 0.68 - ETA: 0s - loss: 0.5958 - accuracy: 0.68 - ETA: 0s - loss: 0.5955 - accuracy: 0.68 - ETA: 0s - loss: 0.5961 - accuracy: 0.68 - ETA: 0s - loss: 0.5942 - accuracy: 0.68 - ETA: 0s - loss: 0.5937 - accuracy: 0.68 - ETA: 0s - loss: 0.5946 - accuracy: 0.68 - ETA: 0s - loss: 0.5956 - accuracy: 0.68 - ETA: 0s - loss: 0.5944 - accuracy: 0.68 - ETA: 0s - loss: 0.5938 - accuracy: 0.68 - ETA: 0s - loss: 0.5938 - accuracy: 0.68 - ETA: 0s - loss: 0.5931 - accuracy: 0.68 - ETA: 0s - loss: 0.5934 - accuracy: 0.68 - ETA: 0s - loss: 0.5937 - accuracy: 0.68 - 1s 79us/sample - loss: 0.5933 - accuracy: 0.6860\n",
      "Epoch 6/20\n",
      "13483/13483 [==============================] - ETA: 1s - loss: 0.6647 - accuracy: 0.65 - ETA: 1s - loss: 0.5963 - accuracy: 0.69 - ETA: 1s - loss: 0.5998 - accuracy: 0.69 - ETA: 0s - loss: 0.5960 - accuracy: 0.69 - ETA: 0s - loss: 0.5951 - accuracy: 0.68 - ETA: 0s - loss: 0.5958 - accuracy: 0.68 - ETA: 0s - loss: 0.5952 - accuracy: 0.68 - ETA: 0s - loss: 0.5961 - accuracy: 0.68 - ETA: 0s - loss: 0.5894 - accuracy: 0.68 - ETA: 0s - loss: 0.5924 - accuracy: 0.68 - ETA: 0s - loss: 0.5909 - accuracy: 0.68 - ETA: 0s - loss: 0.5918 - accuracy: 0.68 - ETA: 0s - loss: 0.5920 - accuracy: 0.68 - ETA: 0s - loss: 0.5903 - accuracy: 0.68 - ETA: 0s - loss: 0.5930 - accuracy: 0.68 - ETA: 0s - loss: 0.5935 - accuracy: 0.68 - ETA: 0s - loss: 0.5923 - accuracy: 0.68 - ETA: 0s - loss: 0.5919 - accuracy: 0.68 - ETA: 0s - loss: 0.5917 - accuracy: 0.68 - ETA: 0s - loss: 0.5919 - accuracy: 0.68 - ETA: 0s - loss: 0.5916 - accuracy: 0.68 - ETA: 0s - loss: 0.5923 - accuracy: 0.68 - 1s 81us/sample - loss: 0.5925 - accuracy: 0.6821\n",
      "Epoch 7/20\n",
      "13483/13483 [==============================] - ETA: 1s - loss: 0.5065 - accuracy: 0.81 - ETA: 0s - loss: 0.5903 - accuracy: 0.69 - ETA: 1s - loss: 0.5880 - accuracy: 0.69 - ETA: 1s - loss: 0.5853 - accuracy: 0.70 - ETA: 1s - loss: 0.5819 - accuracy: 0.70 - ETA: 1s - loss: 0.5903 - accuracy: 0.69 - ETA: 1s - loss: 0.5952 - accuracy: 0.69 - ETA: 1s - loss: 0.5946 - accuracy: 0.69 - ETA: 0s - loss: 0.5908 - accuracy: 0.69 - ETA: 0s - loss: 0.5900 - accuracy: 0.69 - ETA: 0s - loss: 0.5931 - accuracy: 0.68 - ETA: 0s - loss: 0.5909 - accuracy: 0.69 - ETA: 0s - loss: 0.5892 - accuracy: 0.69 - ETA: 0s - loss: 0.5881 - accuracy: 0.69 - ETA: 0s - loss: 0.5899 - accuracy: 0.68 - ETA: 0s - loss: 0.5911 - accuracy: 0.68 - ETA: 0s - loss: 0.5905 - accuracy: 0.68 - ETA: 0s - loss: 0.5912 - accuracy: 0.68 - ETA: 0s - loss: 0.5898 - accuracy: 0.69 - ETA: 0s - loss: 0.5896 - accuracy: 0.69 - ETA: 0s - loss: 0.5893 - accuracy: 0.69 - ETA: 0s - loss: 0.5888 - accuracy: 0.69 - ETA: 0s - loss: 0.5905 - accuracy: 0.69 - ETA: 0s - loss: 0.5901 - accuracy: 0.68 - 1s 89us/sample - loss: 0.5907 - accuracy: 0.6891\n",
      "Epoch 8/20\n",
      "13483/13483 [==============================] - ETA: 1s - loss: 0.4869 - accuracy: 0.81 - ETA: 0s - loss: 0.5837 - accuracy: 0.67 - ETA: 0s - loss: 0.5960 - accuracy: 0.67 - ETA: 1s - loss: 0.6012 - accuracy: 0.67 - ETA: 0s - loss: 0.5992 - accuracy: 0.67 - ETA: 0s - loss: 0.5886 - accuracy: 0.68 - ETA: 0s - loss: 0.5914 - accuracy: 0.68 - ETA: 0s - loss: 0.5899 - accuracy: 0.68 - ETA: 0s - loss: 0.5870 - accuracy: 0.68 - ETA: 0s - loss: 0.5887 - accuracy: 0.68 - ETA: 0s - loss: 0.5889 - accuracy: 0.68 - ETA: 0s - loss: 0.5902 - accuracy: 0.68 - ETA: 0s - loss: 0.5896 - accuracy: 0.68 - ETA: 0s - loss: 0.5880 - accuracy: 0.68 - ETA: 0s - loss: 0.5873 - accuracy: 0.68 - ETA: 0s - loss: 0.5883 - accuracy: 0.68 - ETA: 0s - loss: 0.5862 - accuracy: 0.69 - ETA: 0s - loss: 0.5861 - accuracy: 0.68 - ETA: 0s - loss: 0.5868 - accuracy: 0.69 - ETA: 0s - loss: 0.5876 - accuracy: 0.68 - ETA: 0s - loss: 0.5864 - accuracy: 0.69 - ETA: 0s - loss: 0.5874 - accuracy: 0.68 - ETA: 0s - loss: 0.5891 - accuracy: 0.68 - 1s 88us/sample - loss: 0.5892 - accuracy: 0.6885\n",
      "Epoch 9/20\n",
      "13483/13483 [==============================] - ETA: 1s - loss: 0.6328 - accuracy: 0.65 - ETA: 1s - loss: 0.5896 - accuracy: 0.70 - ETA: 0s - loss: 0.5912 - accuracy: 0.70 - ETA: 0s - loss: 0.5949 - accuracy: 0.68 - ETA: 0s - loss: 0.5915 - accuracy: 0.69 - ETA: 0s - loss: 0.5902 - accuracy: 0.69 - ETA: 0s - loss: 0.5893 - accuracy: 0.69 - ETA: 0s - loss: 0.5921 - accuracy: 0.68 - ETA: 0s - loss: 0.5981 - accuracy: 0.68 - ETA: 0s - loss: 0.5968 - accuracy: 0.68 - ETA: 0s - loss: 0.5964 - accuracy: 0.68 - ETA: 0s - loss: 0.5947 - accuracy: 0.68 - ETA: 0s - loss: 0.5919 - accuracy: 0.69 - ETA: 0s - loss: 0.5914 - accuracy: 0.68 - ETA: 0s - loss: 0.5929 - accuracy: 0.68 - ETA: 0s - loss: 0.5919 - accuracy: 0.68 - ETA: 0s - loss: 0.5896 - accuracy: 0.69 - ETA: 0s - loss: 0.5903 - accuracy: 0.69 - ETA: 0s - loss: 0.5886 - accuracy: 0.69 - ETA: 0s - loss: 0.5873 - accuracy: 0.69 - 1s 74us/sample - loss: 0.5872 - accuracy: 0.6928\n",
      "Epoch 10/20\n",
      "13483/13483 [==============================] - ETA: 1s - loss: 0.6806 - accuracy: 0.56 - ETA: 1s - loss: 0.5468 - accuracy: 0.72 - ETA: 1s - loss: 0.5758 - accuracy: 0.69 - ETA: 0s - loss: 0.5826 - accuracy: 0.68 - ETA: 0s - loss: 0.5877 - accuracy: 0.68 - ETA: 0s - loss: 0.5874 - accuracy: 0.68 - ETA: 0s - loss: 0.5894 - accuracy: 0.68 - ETA: 0s - loss: 0.5892 - accuracy: 0.68 - ETA: 0s - loss: 0.5893 - accuracy: 0.68 - ETA: 0s - loss: 0.5915 - accuracy: 0.68 - ETA: 0s - loss: 0.5902 - accuracy: 0.68 - ETA: 0s - loss: 0.5891 - accuracy: 0.68 - ETA: 0s - loss: 0.5899 - accuracy: 0.68 - ETA: 0s - loss: 0.5900 - accuracy: 0.68 - ETA: 0s - loss: 0.5908 - accuracy: 0.68 - ETA: 0s - loss: 0.5894 - accuracy: 0.68 - ETA: 0s - loss: 0.5879 - accuracy: 0.68 - ETA: 0s - loss: 0.5878 - accuracy: 0.69 - ETA: 0s - loss: 0.5879 - accuracy: 0.68 - ETA: 0s - loss: 0.5880 - accuracy: 0.68 - 1s 75us/sample - loss: 0.5884 - accuracy: 0.6889\n",
      "Epoch 11/20\n",
      "13483/13483 [==============================] - ETA: 2s - loss: 0.5938 - accuracy: 0.78 - ETA: 1s - loss: 0.5869 - accuracy: 0.69 - ETA: 0s - loss: 0.6004 - accuracy: 0.67 - ETA: 0s - loss: 0.5930 - accuracy: 0.67 - ETA: 0s - loss: 0.5924 - accuracy: 0.68 - ETA: 0s - loss: 0.5931 - accuracy: 0.68 - ETA: 0s - loss: 0.5875 - accuracy: 0.69 - ETA: 0s - loss: 0.5891 - accuracy: 0.68 - ETA: 0s - loss: 0.5862 - accuracy: 0.69 - ETA: 0s - loss: 0.5856 - accuracy: 0.69 - ETA: 0s - loss: 0.5841 - accuracy: 0.69 - ETA: 0s - loss: 0.5837 - accuracy: 0.69 - ETA: 0s - loss: 0.5828 - accuracy: 0.69 - ETA: 0s - loss: 0.5832 - accuracy: 0.69 - ETA: 0s - loss: 0.5822 - accuracy: 0.69 - ETA: 0s - loss: 0.5831 - accuracy: 0.69 - ETA: 0s - loss: 0.5819 - accuracy: 0.69 - ETA: 0s - loss: 0.5830 - accuracy: 0.69 - ETA: 0s - loss: 0.5855 - accuracy: 0.69 - ETA: 0s - loss: 0.5861 - accuracy: 0.69 - ETA: 0s - loss: 0.5861 - accuracy: 0.69 - 1s 77us/sample - loss: 0.5861 - accuracy: 0.6906\n",
      "Epoch 12/20\n",
      "13483/13483 [==============================] - ETA: 1s - loss: 0.6827 - accuracy: 0.59 - ETA: 0s - loss: 0.5730 - accuracy: 0.68 - ETA: 0s - loss: 0.5635 - accuracy: 0.70 - ETA: 0s - loss: 0.5724 - accuracy: 0.70 - ETA: 0s - loss: 0.5786 - accuracy: 0.69 - ETA: 0s - loss: 0.5848 - accuracy: 0.69 - ETA: 0s - loss: 0.5892 - accuracy: 0.69 - ETA: 0s - loss: 0.5897 - accuracy: 0.69 - ETA: 0s - loss: 0.5867 - accuracy: 0.69 - ETA: 0s - loss: 0.5868 - accuracy: 0.69 - ETA: 0s - loss: 0.5856 - accuracy: 0.69 - ETA: 0s - loss: 0.5885 - accuracy: 0.69 - ETA: 0s - loss: 0.5869 - accuracy: 0.69 - ETA: 0s - loss: 0.5862 - accuracy: 0.69 - ETA: 0s - loss: 0.5855 - accuracy: 0.69 - ETA: 0s - loss: 0.5838 - accuracy: 0.69 - ETA: 0s - loss: 0.5854 - accuracy: 0.69 - ETA: 0s - loss: 0.5857 - accuracy: 0.69 - ETA: 0s - loss: 0.5862 - accuracy: 0.69 - 1s 71us/sample - loss: 0.5859 - accuracy: 0.6921\n",
      "Epoch 13/20\n",
      "13483/13483 [==============================] - ETA: 1s - loss: 0.5536 - accuracy: 0.71 - ETA: 0s - loss: 0.6125 - accuracy: 0.67 - ETA: 0s - loss: 0.5929 - accuracy: 0.69 - ETA: 0s - loss: 0.5980 - accuracy: 0.67 - ETA: 0s - loss: 0.5930 - accuracy: 0.68 - ETA: 0s - loss: 0.5901 - accuracy: 0.68 - ETA: 0s - loss: 0.5906 - accuracy: 0.68 - ETA: 0s - loss: 0.5875 - accuracy: 0.68 - ETA: 0s - loss: 0.5869 - accuracy: 0.68 - ETA: 0s - loss: 0.5872 - accuracy: 0.68 - ETA: 0s - loss: 0.5883 - accuracy: 0.68 - ETA: 0s - loss: 0.5855 - accuracy: 0.69 - ETA: 0s - loss: 0.5877 - accuracy: 0.69 - ETA: 0s - loss: 0.5860 - accuracy: 0.69 - ETA: 0s - loss: 0.5844 - accuracy: 0.69 - ETA: 0s - loss: 0.5840 - accuracy: 0.69 - ETA: 0s - loss: 0.5846 - accuracy: 0.69 - ETA: 0s - loss: 0.5841 - accuracy: 0.69 - ETA: 0s - loss: 0.5841 - accuracy: 0.69 - ETA: 0s - loss: 0.5846 - accuracy: 0.69 - 1s 73us/sample - loss: 0.5849 - accuracy: 0.6906\n",
      "Epoch 14/20\n",
      "13483/13483 [==============================] - ETA: 1s - loss: 0.6999 - accuracy: 0.65 - ETA: 1s - loss: 0.5967 - accuracy: 0.69 - ETA: 0s - loss: 0.5947 - accuracy: 0.68 - ETA: 0s - loss: 0.5884 - accuracy: 0.69 - ETA: 0s - loss: 0.5895 - accuracy: 0.68 - ETA: 0s - loss: 0.5939 - accuracy: 0.68 - ETA: 0s - loss: 0.5936 - accuracy: 0.68 - ETA: 0s - loss: 0.5919 - accuracy: 0.68 - ETA: 0s - loss: 0.5906 - accuracy: 0.68 - ETA: 0s - loss: 0.5855 - accuracy: 0.69 - ETA: 0s - loss: 0.5836 - accuracy: 0.69 - ETA: 0s - loss: 0.5840 - accuracy: 0.69 - ETA: 0s - loss: 0.5839 - accuracy: 0.69 - ETA: 0s - loss: 0.5853 - accuracy: 0.69 - ETA: 0s - loss: 0.5846 - accuracy: 0.69 - ETA: 0s - loss: 0.5846 - accuracy: 0.69 - ETA: 0s - loss: 0.5844 - accuracy: 0.69 - ETA: 0s - loss: 0.5840 - accuracy: 0.69 - ETA: 0s - loss: 0.5856 - accuracy: 0.69 - 1s 72us/sample - loss: 0.5844 - accuracy: 0.6911\n",
      "Epoch 15/20\n",
      "13483/13483 [==============================] - ETA: 2s - loss: 0.4509 - accuracy: 0.81 - ETA: 1s - loss: 0.5713 - accuracy: 0.69 - ETA: 0s - loss: 0.5737 - accuracy: 0.69 - ETA: 0s - loss: 0.5769 - accuracy: 0.69 - ETA: 0s - loss: 0.5759 - accuracy: 0.69 - ETA: 0s - loss: 0.5789 - accuracy: 0.69 - ETA: 0s - loss: 0.5781 - accuracy: 0.69 - ETA: 0s - loss: 0.5792 - accuracy: 0.69 - ETA: 0s - loss: 0.5805 - accuracy: 0.69 - ETA: 0s - loss: 0.5767 - accuracy: 0.69 - ETA: 0s - loss: 0.5785 - accuracy: 0.69 - ETA: 0s - loss: 0.5799 - accuracy: 0.69 - ETA: 0s - loss: 0.5811 - accuracy: 0.69 - ETA: 0s - loss: 0.5815 - accuracy: 0.69 - ETA: 0s - loss: 0.5819 - accuracy: 0.69 - ETA: 0s - loss: 0.5826 - accuracy: 0.69 - ETA: 0s - loss: 0.5844 - accuracy: 0.69 - ETA: 0s - loss: 0.5847 - accuracy: 0.69 - ETA: 0s - loss: 0.5835 - accuracy: 0.69 - 1s 72us/sample - loss: 0.5837 - accuracy: 0.6924\n",
      "Epoch 16/20\n",
      "13483/13483 [==============================] - ETA: 1s - loss: 0.6008 - accuracy: 0.68 - ETA: 0s - loss: 0.5836 - accuracy: 0.70 - ETA: 0s - loss: 0.5877 - accuracy: 0.69 - ETA: 0s - loss: 0.5797 - accuracy: 0.69 - ETA: 0s - loss: 0.5841 - accuracy: 0.69 - ETA: 0s - loss: 0.5813 - accuracy: 0.69 - ETA: 0s - loss: 0.5789 - accuracy: 0.69 - ETA: 0s - loss: 0.5780 - accuracy: 0.70 - ETA: 0s - loss: 0.5765 - accuracy: 0.70 - ETA: 0s - loss: 0.5763 - accuracy: 0.70 - ETA: 0s - loss: 0.5762 - accuracy: 0.70 - ETA: 0s - loss: 0.5775 - accuracy: 0.69 - ETA: 0s - loss: 0.5792 - accuracy: 0.69 - ETA: 0s - loss: 0.5807 - accuracy: 0.69 - ETA: 0s - loss: 0.5811 - accuracy: 0.69 - ETA: 0s - loss: 0.5816 - accuracy: 0.69 - ETA: 0s - loss: 0.5806 - accuracy: 0.69 - ETA: 0s - loss: 0.5811 - accuracy: 0.69 - ETA: 0s - loss: 0.5831 - accuracy: 0.69 - 1s 71us/sample - loss: 0.5820 - accuracy: 0.6952\n",
      "Epoch 17/20\n"
     ]
    },
    {
     "name": "stdout",
     "output_type": "stream",
     "text": [
      "13483/13483 [==============================] - ETA: 2s - loss: 0.4909 - accuracy: 0.78 - ETA: 1s - loss: 0.5817 - accuracy: 0.69 - ETA: 0s - loss: 0.5871 - accuracy: 0.68 - ETA: 0s - loss: 0.5875 - accuracy: 0.68 - ETA: 0s - loss: 0.5922 - accuracy: 0.68 - ETA: 0s - loss: 0.5927 - accuracy: 0.68 - ETA: 0s - loss: 0.5921 - accuracy: 0.68 - ETA: 0s - loss: 0.5907 - accuracy: 0.68 - ETA: 0s - loss: 0.5899 - accuracy: 0.68 - ETA: 0s - loss: 0.5881 - accuracy: 0.68 - ETA: 0s - loss: 0.5881 - accuracy: 0.68 - ETA: 0s - loss: 0.5873 - accuracy: 0.68 - ETA: 0s - loss: 0.5858 - accuracy: 0.69 - ETA: 0s - loss: 0.5854 - accuracy: 0.69 - ETA: 0s - loss: 0.5863 - accuracy: 0.69 - ETA: 0s - loss: 0.5853 - accuracy: 0.69 - ETA: 0s - loss: 0.5833 - accuracy: 0.69 - ETA: 0s - loss: 0.5811 - accuracy: 0.69 - ETA: 0s - loss: 0.5817 - accuracy: 0.69 - ETA: 0s - loss: 0.5812 - accuracy: 0.69 - 1s 73us/sample - loss: 0.5812 - accuracy: 0.6950\n",
      "Epoch 18/20\n",
      "13483/13483 [==============================] - ETA: 2s - loss: 0.5422 - accuracy: 0.71 - ETA: 0s - loss: 0.5771 - accuracy: 0.70 - ETA: 0s - loss: 0.5793 - accuracy: 0.70 - ETA: 0s - loss: 0.5795 - accuracy: 0.70 - ETA: 0s - loss: 0.5778 - accuracy: 0.70 - ETA: 0s - loss: 0.5809 - accuracy: 0.70 - ETA: 0s - loss: 0.5837 - accuracy: 0.70 - ETA: 0s - loss: 0.5801 - accuracy: 0.70 - ETA: 0s - loss: 0.5784 - accuracy: 0.70 - ETA: 0s - loss: 0.5797 - accuracy: 0.69 - ETA: 0s - loss: 0.5808 - accuracy: 0.69 - ETA: 0s - loss: 0.5806 - accuracy: 0.69 - ETA: 0s - loss: 0.5812 - accuracy: 0.69 - ETA: 0s - loss: 0.5808 - accuracy: 0.69 - ETA: 0s - loss: 0.5803 - accuracy: 0.69 - ETA: 0s - loss: 0.5796 - accuracy: 0.69 - ETA: 0s - loss: 0.5794 - accuracy: 0.69 - ETA: 0s - loss: 0.5806 - accuracy: 0.69 - 1s 66us/sample - loss: 0.5805 - accuracy: 0.6975\n",
      "Epoch 19/20\n",
      "13483/13483 [==============================] - ETA: 1s - loss: 0.5357 - accuracy: 0.75 - ETA: 0s - loss: 0.5792 - accuracy: 0.70 - ETA: 0s - loss: 0.5855 - accuracy: 0.69 - ETA: 0s - loss: 0.5799 - accuracy: 0.69 - ETA: 0s - loss: 0.5774 - accuracy: 0.69 - ETA: 0s - loss: 0.5759 - accuracy: 0.69 - ETA: 0s - loss: 0.5748 - accuracy: 0.69 - ETA: 0s - loss: 0.5742 - accuracy: 0.69 - ETA: 0s - loss: 0.5747 - accuracy: 0.69 - ETA: 0s - loss: 0.5770 - accuracy: 0.69 - ETA: 0s - loss: 0.5758 - accuracy: 0.69 - ETA: 0s - loss: 0.5762 - accuracy: 0.69 - ETA: 0s - loss: 0.5777 - accuracy: 0.69 - ETA: 0s - loss: 0.5755 - accuracy: 0.69 - ETA: 0s - loss: 0.5778 - accuracy: 0.69 - ETA: 0s - loss: 0.5783 - accuracy: 0.69 - ETA: 0s - loss: 0.5783 - accuracy: 0.69 - ETA: 0s - loss: 0.5783 - accuracy: 0.69 - 1s 67us/sample - loss: 0.5794 - accuracy: 0.6964\n",
      "Epoch 20/20\n",
      "13483/13483 [==============================] - ETA: 1s - loss: 0.7668 - accuracy: 0.46 - ETA: 0s - loss: 0.5978 - accuracy: 0.67 - ETA: 0s - loss: 0.5993 - accuracy: 0.68 - ETA: 0s - loss: 0.5984 - accuracy: 0.68 - ETA: 0s - loss: 0.5900 - accuracy: 0.68 - ETA: 0s - loss: 0.5872 - accuracy: 0.69 - ETA: 0s - loss: 0.5852 - accuracy: 0.69 - ETA: 0s - loss: 0.5838 - accuracy: 0.69 - ETA: 0s - loss: 0.5833 - accuracy: 0.69 - ETA: 0s - loss: 0.5807 - accuracy: 0.69 - ETA: 0s - loss: 0.5815 - accuracy: 0.69 - ETA: 0s - loss: 0.5810 - accuracy: 0.69 - ETA: 0s - loss: 0.5805 - accuracy: 0.69 - ETA: 0s - loss: 0.5814 - accuracy: 0.69 - ETA: 0s - loss: 0.5816 - accuracy: 0.69 - ETA: 0s - loss: 0.5817 - accuracy: 0.69 - ETA: 0s - loss: 0.5809 - accuracy: 0.69 - ETA: 0s - loss: 0.5798 - accuracy: 0.69 - 1s 66us/sample - loss: 0.5806 - accuracy: 0.6952\n"
     ]
    }
   ],
   "source": [
    "random_params = random_tuner.get_best_hyperparameters()[0]\n",
    "\n",
    "random_model = random_tuner.hypermodel.build(params)\n",
    "\n",
    "random_model.fit(X.values, y.values.flatten(), epochs=20)\n",
    "\n",
    "random_accuracy_df = pd.DataFrame(random_model.history.history)\n"
   ]
  },
  {
   "cell_type": "code",
   "execution_count": 21,
   "metadata": {},
   "outputs": [
    {
     "data": {
      "text/html": [
       "<span style=\"color:#4527A0\"><h1 style=\"font-size:18px\">Results summary</h1></span>"
      ],
      "text/plain": [
       "<IPython.core.display.HTML object>"
      ]
     },
     "metadata": {},
     "output_type": "display_data"
    },
    {
     "data": {
      "text/html": [
       "<span style=\"color:cyan\"> |-Results in ./weather_keras</span>"
      ],
      "text/plain": [
       "<IPython.core.display.HTML object>"
      ]
     },
     "metadata": {},
     "output_type": "display_data"
    },
    {
     "data": {
      "text/html": [
       "<span style=\"color:cyan\"> |-Showing 10 best trials</span>"
      ],
      "text/plain": [
       "<IPython.core.display.HTML object>"
      ]
     },
     "metadata": {},
     "output_type": "display_data"
    },
    {
     "data": {
      "text/html": [
       "<span style=\"color:cyan\"> |-Objective: Objective(name='accuracy', direction='max') Score: 0.6971073746681213</span>"
      ],
      "text/plain": [
       "<IPython.core.display.HTML object>"
      ]
     },
     "metadata": {},
     "output_type": "display_data"
    },
    {
     "data": {
      "text/html": [
       "<span style=\"color:cyan\"> |-Objective: Objective(name='accuracy', direction='max') Score: 0.6967365145683289</span>"
      ],
      "text/plain": [
       "<IPython.core.display.HTML object>"
      ]
     },
     "metadata": {},
     "output_type": "display_data"
    },
    {
     "data": {
      "text/html": [
       "<span style=\"color:cyan\"> |-Objective: Objective(name='accuracy', direction='max') Score: 0.6967365145683289</span>"
      ],
      "text/plain": [
       "<IPython.core.display.HTML object>"
      ]
     },
     "metadata": {},
     "output_type": "display_data"
    },
    {
     "data": {
      "text/html": [
       "<span style=\"color:cyan\"> |-Objective: Objective(name='accuracy', direction='max') Score: 0.6967365145683289</span>"
      ],
      "text/plain": [
       "<IPython.core.display.HTML object>"
      ]
     },
     "metadata": {},
     "output_type": "display_data"
    },
    {
     "data": {
      "text/html": [
       "<span style=\"color:cyan\"> |-Objective: Objective(name='accuracy', direction='max') Score: 0.6955312490463257</span>"
      ],
      "text/plain": [
       "<IPython.core.display.HTML object>"
      ]
     },
     "metadata": {},
     "output_type": "display_data"
    },
    {
     "data": {
      "text/html": [
       "<span style=\"color:cyan\"> |-Objective: Objective(name='accuracy', direction='max') Score: 0.6951603889465332</span>"
      ],
      "text/plain": [
       "<IPython.core.display.HTML object>"
      ]
     },
     "metadata": {},
     "output_type": "display_data"
    },
    {
     "data": {
      "text/html": [
       "<span style=\"color:cyan\"> |-Objective: Objective(name='accuracy', direction='max') Score: 0.6948822736740112</span>"
      ],
      "text/plain": [
       "<IPython.core.display.HTML object>"
      ]
     },
     "metadata": {},
     "output_type": "display_data"
    },
    {
     "data": {
      "text/html": [
       "<span style=\"color:cyan\"> |-Objective: Objective(name='accuracy', direction='max') Score: 0.6946040987968445</span>"
      ],
      "text/plain": [
       "<IPython.core.display.HTML object>"
      ]
     },
     "metadata": {},
     "output_type": "display_data"
    },
    {
     "data": {
      "text/html": [
       "<span style=\"color:cyan\"> |-Objective: Objective(name='accuracy', direction='max') Score: 0.6941405534744263</span>"
      ],
      "text/plain": [
       "<IPython.core.display.HTML object>"
      ]
     },
     "metadata": {},
     "output_type": "display_data"
    },
    {
     "data": {
      "text/html": [
       "<span style=\"color:cyan\"> |-Objective: Objective(name='accuracy', direction='max') Score: 0.69395512342453</span>"
      ],
      "text/plain": [
       "<IPython.core.display.HTML object>"
      ]
     },
     "metadata": {},
     "output_type": "display_data"
    }
   ],
   "source": [
    "random_tuner.results_summary()"
   ]
  },
  {
   "cell_type": "code",
   "execution_count": 22,
   "metadata": {},
   "outputs": [
    {
     "data": {
      "image/png": "[encoded data removed]",
      "text/plain": [
       "<Figure size 1152x720 with 1 Axes>"
      ]
     },
     "metadata": {
      "image/png": {
       "height": 603,
       "width": 950
      },
      "needs_background": "light"
     },
     "output_type": "display_data"
    }
   ],
   "source": [
    "random_accuracy_df[['loss', 'accuracy']].plot(figsize=(16,10))\n",
    "plt.title('Loss & Accuracy Per EPOCH For Random Model')\n",
    "plt.xlabel('EPOCH')\n",
    "plt.ylabel('Accruacy')\n",
    "plt.show()"
   ]
  },
  {
   "cell_type": "markdown",
   "metadata": {},
   "source": [
    "# END NOTE:\n",
    "While Keras Tuner was much faster than the scikit-learn/GridSearch option, the accuracy levels could not go above 0.7. There's probably more to the art of using Keras Tuner that I'm unaware of, but I'll leave future efforts to a more suitable dataset.    "
   ]
  }
 ],
 "metadata": {
  "kernelspec": {
   "display_name": "Python 3",
   "language": "python",
   "name": "python3"
  },
  "language_info": {
   "codemirror_mode": {
    "name": "ipython",
    "version": 3
   },
   "file_extension": ".py",
   "mimetype": "text/x-python",
   "name": "python",
   "nbconvert_exporter": "python",
   "pygments_lexer": "ipython3",
   "version": "3.6.8"
  }
 },
 "nbformat": 4,
 "nbformat_minor": 2
}
