{
 "cells": [
  {
   "cell_type": "markdown",
   "metadata": {},
   "source": [
    "# PART 6A: 2019 - SINGAPORE'S WARMEST YEAR ON RECORD\n",
    "\n",
    "Temperature records tumbled across the globe in 2019, with scientists declaring the year to be the second-warmest since records began in 1880. [2010 - 2019 was also the warmest decade in modern times](https://public.wmo.int/en/media/press-release/wmo-confirms-2019-second-hottest-year-record).\n",
    "\n",
    "In Singapore, the annual mean temperature hit 28.44°C in 2019, making it the warmest year on record. Singapore's [National Environment Agency declared 2019 as a \"joint warmest year\" with 2016](https://www.nea.gov.sg/media/news/news/index/2019-is-singapore-s-joint-warmest-year-on-record) due to a decimal rounding issue. 2010 - 2019 was also the warmest decade on record in Singapore.\n",
    "\n",
    "If you stick to 2 decimal places in the calculations, the annual mean temperature in 2016 was 28.43°C. Sure, it's just a 0.01°C difference. But to paraphrase Hemingway, disasters happen \"gradually, and then suddenly\". \n",
    "\n",
    "In this notebook, I'll assemble the raw data."
   ]
  },
  {
   "cell_type": "markdown",
   "metadata": {},
   "source": [
    "## FILE ORGANISATION:\n",
    "The original data files, as downloaded from the [Singapore Met Office](http://www.weather.gov.sg/climate-historical-daily/) and Data.gov.sg, are in the raw folder. The files are mostly clean, save for some missing values for mean and max wind speed. I've lightly processed the files and saved the output to the data folder so that I can call them up easily for future data projects.\n",
    "\n",
    "You can make a different version of the dataset by concating the raw files over a different time frame, or with more elaborate feature engineering.\n",
    "\n",
    "What you'll find in the raw folder:\n",
    "- 444 CSV files containing daily weather data for Singapore from 1983 - 2019.\n",
    "\n",
    "The files in the data folder have been processed by the code below.\n",
    "\n",
    "### NOTE:\n",
    "- The \"monthly_data\" sub-folder, which contains monthly average data for rainfall, maximum and mean temperatures, has not been updated. "
   ]
  },
  {
   "cell_type": "code",
   "execution_count": 1,
   "metadata": {},
   "outputs": [],
   "source": [
    "import glob\n",
    "import pandas as pd"
   ]
  },
  {
   "cell_type": "markdown",
   "metadata": {},
   "source": [
    "# 1. DAILY WEATHER DATA "
   ]
  },
  {
   "cell_type": "code",
   "execution_count": 2,
   "metadata": {},
   "outputs": [],
   "source": [
    "# Combining the separate CSV files into one\n",
    "raw = pd.concat(\n",
    "    [pd.read_csv(f) for f in glob.glob(\"../raw/*.csv\")], ignore_index=True\n",
    ")"
   ]
  },
  {
   "cell_type": "code",
   "execution_count": 3,
   "metadata": {},
   "outputs": [],
   "source": [
    "# Adding a datetime col in the year-month-day format\n",
    "raw[\"Date\"] = pd.to_datetime(\n",
    "    raw[\"Year\"].astype(str)\n",
    "    + \"-\"\n",
    "    + raw[\"Month\"].astype(str)\n",
    "    + \"-\"\n",
    "    + raw[\"Day\"].astype(str)\n",
    ")"
   ]
  },
  {
   "cell_type": "code",
   "execution_count": 4,
   "metadata": {},
   "outputs": [],
   "source": [
    "raw[\"Month_Name\"] = raw[\"Date\"].dt.month_name()\n",
    "raw[\"Quarter\"] = raw[\"Date\"].dt.quarter"
   ]
  },
  {
   "cell_type": "code",
   "execution_count": 5,
   "metadata": {},
   "outputs": [],
   "source": [
    "# Converting values in the Max/Mean Wind into numeric data type\n",
    "raw[\"Max Wind Speed (km/h)\"] = pd.to_numeric(\n",
    "    raw[\"Max Wind Speed (km/h)\"], errors=\"coerce\"\n",
    ")\n",
    "raw[\"Mean Wind Speed (km/h)\"] = pd.to_numeric(\n",
    "    raw[\"Mean Wind Speed (km/h)\"], errors=\"coerce\"\n",
    ")"
   ]
  },
  {
   "cell_type": "code",
   "execution_count": 6,
   "metadata": {},
   "outputs": [
    {
     "name": "stdout",
     "output_type": "stream",
     "text": [
      "<class 'pandas.core.frame.DataFrame'>\n",
      "RangeIndex: 13514 entries, 0 to 13513\n",
      "Data columns (total 16 columns):\n",
      "Station                          13514 non-null object\n",
      "Year                             13514 non-null int64\n",
      "Month                            13514 non-null int64\n",
      "Day                              13514 non-null int64\n",
      "Daily Rainfall Total (mm)        13514 non-null float64\n",
      "Highest 30 Min Rainfall (mm)     13514 non-null object\n",
      "Highest 60 Min Rainfall (mm)     13514 non-null object\n",
      "Highest 120 Min Rainfall (mm)    13514 non-null object\n",
      "Mean Temperature (°C)            13514 non-null float64\n",
      "Maximum Temperature (°C)         13514 non-null float64\n",
      "Minimum Temperature (°C)         13514 non-null float64\n",
      "Mean Wind Speed (km/h)           13504 non-null float64\n",
      "Max Wind Speed (km/h)            13503 non-null float64\n",
      "Date                             13514 non-null datetime64[ns]\n",
      "Month_Name                       13514 non-null object\n",
      "Quarter                          13514 non-null int64\n",
      "dtypes: datetime64[ns](1), float64(6), int64(4), object(5)\n",
      "memory usage: 1.6+ MB\n"
     ]
    }
   ],
   "source": [
    "raw.info()"
   ]
  },
  {
   "cell_type": "markdown",
   "metadata": {},
   "source": [
    "#### Fill the missing entries in Mean Wind Speed and Max Wind Speed columns with mean values of both cols"
   ]
  },
  {
   "cell_type": "code",
   "execution_count": 7,
   "metadata": {},
   "outputs": [],
   "source": [
    "raw[\"Max Wind Speed (km/h)\"] = raw[\"Max Wind Speed (km/h)\"].fillna(\n",
    "    raw[\"Max Wind Speed (km/h)\"].mean()\n",
    ")\n",
    "raw[\"Mean Wind Speed (km/h)\"] = raw[\"Mean Wind Speed (km/h)\"].fillna(\n",
    "    raw[\"Mean Wind Speed (km/h)\"].mean()\n",
    ")"
   ]
  },
  {
   "cell_type": "code",
   "execution_count": 8,
   "metadata": {},
   "outputs": [],
   "source": [
    "# Dropping cols that I won't need for visualisation or modelling\n",
    "raw = raw.drop(\n",
    "    columns=[\n",
    "        \"Station\",\n",
    "        \"Highest 30 Min Rainfall (mm)\",\n",
    "        \"Highest 60 Min Rainfall (mm)\",\n",
    "        \"Highest 120 Min Rainfall (mm)\",\n",
    "    ]\n",
    ")"
   ]
  },
  {
   "cell_type": "code",
   "execution_count": 9,
   "metadata": {},
   "outputs": [],
   "source": [
    "# Slight rearrangement of cols for clarity\n",
    "cols = [\n",
    "    \"Date\",\n",
    "    \"Year\",\n",
    "    \"Month\",\n",
    "    \"Month_Name\",\n",
    "    \"Quarter\",\n",
    "    \"Day\",\n",
    "    \"Daily Rainfall Total (mm)\",\n",
    "    \"Mean Temperature (°C)\",\n",
    "    \"Maximum Temperature (°C)\",\n",
    "    \"Minimum Temperature (°C)\",\n",
    "    \"Mean Wind Speed (km/h)\",\n",
    "    \"Max Wind Speed (km/h)\",\n",
    "]"
   ]
  },
  {
   "cell_type": "code",
   "execution_count": 10,
   "metadata": {},
   "outputs": [],
   "source": [
    "weather = raw[cols].copy()"
   ]
  },
  {
   "cell_type": "code",
   "execution_count": 11,
   "metadata": {},
   "outputs": [],
   "source": [
    "weather = weather.sort_values('Date', ascending=False)"
   ]
  },
  {
   "cell_type": "code",
   "execution_count": 12,
   "metadata": {},
   "outputs": [
    {
     "name": "stdout",
     "output_type": "stream",
     "text": [
      "<class 'pandas.core.frame.DataFrame'>\n",
      "Int64Index: 13514 entries, 13268 to 4385\n",
      "Data columns (total 12 columns):\n",
      "Date                         13514 non-null datetime64[ns]\n",
      "Year                         13514 non-null int64\n",
      "Month                        13514 non-null int64\n",
      "Month_Name                   13514 non-null object\n",
      "Quarter                      13514 non-null int64\n",
      "Day                          13514 non-null int64\n",
      "Daily Rainfall Total (mm)    13514 non-null float64\n",
      "Mean Temperature (°C)        13514 non-null float64\n",
      "Maximum Temperature (°C)     13514 non-null float64\n",
      "Minimum Temperature (°C)     13514 non-null float64\n",
      "Mean Wind Speed (km/h)       13514 non-null float64\n",
      "Max Wind Speed (km/h)        13514 non-null float64\n",
      "dtypes: datetime64[ns](1), float64(6), int64(4), object(1)\n",
      "memory usage: 1.3+ MB\n"
     ]
    }
   ],
   "source": [
    "weather.info()\n",
    "# no null values"
   ]
  },
  {
   "cell_type": "code",
   "execution_count": 13,
   "metadata": {},
   "outputs": [
    {
     "data": {
      "text/plain": [
       "Index(['Date', 'Year', 'Month', 'Month_Name', 'Quarter', 'Day',\n",
       "       'Daily Rainfall Total (mm)', 'Mean Temperature (°C)',\n",
       "       'Maximum Temperature (°C)', 'Minimum Temperature (°C)',\n",
       "       'Mean Wind Speed (km/h)', 'Max Wind Speed (km/h)'],\n",
       "      dtype='object')"
      ]
     },
     "execution_count": 13,
     "metadata": {},
     "output_type": "execute_result"
    }
   ],
   "source": [
    "weather.columns"
   ]
  },
  {
   "cell_type": "code",
   "execution_count": 14,
   "metadata": {},
   "outputs": [
    {
     "data": {
      "text/html": [
       "<div>\n",
       "<style scoped>\n",
       "    .dataframe tbody tr th:only-of-type {\n",
       "        vertical-align: middle;\n",
       "    }\n",
       "\n",
       "    .dataframe tbody tr th {\n",
       "        vertical-align: top;\n",
       "    }\n",
       "\n",
       "    .dataframe thead th {\n",
       "        text-align: right;\n",
       "    }\n",
       "</style>\n",
       "<table border=\"1\" class=\"dataframe\">\n",
       "  <thead>\n",
       "    <tr style=\"text-align: right;\">\n",
       "      <th></th>\n",
       "      <th>Year</th>\n",
       "      <th>Month</th>\n",
       "      <th>Quarter</th>\n",
       "      <th>Day</th>\n",
       "      <th>Daily Rainfall Total (mm)</th>\n",
       "      <th>Mean Temperature (°C)</th>\n",
       "      <th>Maximum Temperature (°C)</th>\n",
       "      <th>Minimum Temperature (°C)</th>\n",
       "      <th>Mean Wind Speed (km/h)</th>\n",
       "      <th>Max Wind Speed (km/h)</th>\n",
       "    </tr>\n",
       "  </thead>\n",
       "  <tbody>\n",
       "    <tr>\n",
       "      <th>count</th>\n",
       "      <td>13514.000000</td>\n",
       "      <td>13514.000000</td>\n",
       "      <td>13514.000000</td>\n",
       "      <td>13514.000000</td>\n",
       "      <td>13514.000000</td>\n",
       "      <td>13514.000000</td>\n",
       "      <td>13514.000000</td>\n",
       "      <td>13514.000000</td>\n",
       "      <td>13514.000000</td>\n",
       "      <td>13514.000000</td>\n",
       "    </tr>\n",
       "    <tr>\n",
       "      <th>mean</th>\n",
       "      <td>2000.999334</td>\n",
       "      <td>6.523013</td>\n",
       "      <td>2.508584</td>\n",
       "      <td>15.729392</td>\n",
       "      <td>5.830132</td>\n",
       "      <td>27.666886</td>\n",
       "      <td>31.519476</td>\n",
       "      <td>24.904077</td>\n",
       "      <td>7.450822</td>\n",
       "      <td>34.043650</td>\n",
       "    </tr>\n",
       "    <tr>\n",
       "      <th>std</th>\n",
       "      <td>10.677276</td>\n",
       "      <td>3.448808</td>\n",
       "      <td>1.117115</td>\n",
       "      <td>8.800314</td>\n",
       "      <td>14.448264</td>\n",
       "      <td>1.176403</td>\n",
       "      <td>1.573580</td>\n",
       "      <td>1.267669</td>\n",
       "      <td>3.475324</td>\n",
       "      <td>8.027471</td>\n",
       "    </tr>\n",
       "    <tr>\n",
       "      <th>min</th>\n",
       "      <td>1983.000000</td>\n",
       "      <td>1.000000</td>\n",
       "      <td>1.000000</td>\n",
       "      <td>1.000000</td>\n",
       "      <td>0.000000</td>\n",
       "      <td>22.800000</td>\n",
       "      <td>23.600000</td>\n",
       "      <td>20.200000</td>\n",
       "      <td>0.200000</td>\n",
       "      <td>4.700000</td>\n",
       "    </tr>\n",
       "    <tr>\n",
       "      <th>25%</th>\n",
       "      <td>1992.000000</td>\n",
       "      <td>4.000000</td>\n",
       "      <td>2.000000</td>\n",
       "      <td>8.000000</td>\n",
       "      <td>0.000000</td>\n",
       "      <td>26.900000</td>\n",
       "      <td>30.800000</td>\n",
       "      <td>24.000000</td>\n",
       "      <td>4.800000</td>\n",
       "      <td>28.800000</td>\n",
       "    </tr>\n",
       "    <tr>\n",
       "      <th>50%</th>\n",
       "      <td>2001.000000</td>\n",
       "      <td>7.000000</td>\n",
       "      <td>3.000000</td>\n",
       "      <td>16.000000</td>\n",
       "      <td>0.000000</td>\n",
       "      <td>27.700000</td>\n",
       "      <td>31.800000</td>\n",
       "      <td>24.900000</td>\n",
       "      <td>6.800000</td>\n",
       "      <td>33.100000</td>\n",
       "    </tr>\n",
       "    <tr>\n",
       "      <th>75%</th>\n",
       "      <td>2010.000000</td>\n",
       "      <td>10.000000</td>\n",
       "      <td>4.000000</td>\n",
       "      <td>23.000000</td>\n",
       "      <td>4.400000</td>\n",
       "      <td>28.600000</td>\n",
       "      <td>32.500000</td>\n",
       "      <td>25.800000</td>\n",
       "      <td>9.700000</td>\n",
       "      <td>38.200000</td>\n",
       "    </tr>\n",
       "    <tr>\n",
       "      <th>max</th>\n",
       "      <td>2019.000000</td>\n",
       "      <td>12.000000</td>\n",
       "      <td>4.000000</td>\n",
       "      <td>31.000000</td>\n",
       "      <td>216.200000</td>\n",
       "      <td>30.900000</td>\n",
       "      <td>36.000000</td>\n",
       "      <td>29.100000</td>\n",
       "      <td>22.200000</td>\n",
       "      <td>90.700000</td>\n",
       "    </tr>\n",
       "  </tbody>\n",
       "</table>\n",
       "</div>"
      ],
      "text/plain": [
       "               Year         Month       Quarter           Day  \\\n",
       "count  13514.000000  13514.000000  13514.000000  13514.000000   \n",
       "mean    2000.999334      6.523013      2.508584     15.729392   \n",
       "std       10.677276      3.448808      1.117115      8.800314   \n",
       "min     1983.000000      1.000000      1.000000      1.000000   \n",
       "25%     1992.000000      4.000000      2.000000      8.000000   \n",
       "50%     2001.000000      7.000000      3.000000     16.000000   \n",
       "75%     2010.000000     10.000000      4.000000     23.000000   \n",
       "max     2019.000000     12.000000      4.000000     31.000000   \n",
       "\n",
       "       Daily Rainfall Total (mm)  Mean Temperature (°C)  \\\n",
       "count               13514.000000           13514.000000   \n",
       "mean                    5.830132              27.666886   \n",
       "std                    14.448264               1.176403   \n",
       "min                     0.000000              22.800000   \n",
       "25%                     0.000000              26.900000   \n",
       "50%                     0.000000              27.700000   \n",
       "75%                     4.400000              28.600000   \n",
       "max                   216.200000              30.900000   \n",
       "\n",
       "       Maximum Temperature (°C)  Minimum Temperature (°C)  \\\n",
       "count              13514.000000              13514.000000   \n",
       "mean                  31.519476                 24.904077   \n",
       "std                    1.573580                  1.267669   \n",
       "min                   23.600000                 20.200000   \n",
       "25%                   30.800000                 24.000000   \n",
       "50%                   31.800000                 24.900000   \n",
       "75%                   32.500000                 25.800000   \n",
       "max                   36.000000                 29.100000   \n",
       "\n",
       "       Mean Wind Speed (km/h)  Max Wind Speed (km/h)  \n",
       "count            13514.000000           13514.000000  \n",
       "mean                 7.450822              34.043650  \n",
       "std                  3.475324               8.027471  \n",
       "min                  0.200000               4.700000  \n",
       "25%                  4.800000              28.800000  \n",
       "50%                  6.800000              33.100000  \n",
       "75%                  9.700000              38.200000  \n",
       "max                 22.200000              90.700000  "
      ]
     },
     "execution_count": 14,
     "metadata": {},
     "output_type": "execute_result"
    }
   ],
   "source": [
    "weather.describe()\n",
    "# The Daily Rainfall cols have some obvious outliers. But let's deal with that later, as and when required"
   ]
  },
  {
   "cell_type": "code",
   "execution_count": 15,
   "metadata": {},
   "outputs": [
    {
     "data": {
      "text/html": [
       "<div>\n",
       "<style scoped>\n",
       "    .dataframe tbody tr th:only-of-type {\n",
       "        vertical-align: middle;\n",
       "    }\n",
       "\n",
       "    .dataframe tbody tr th {\n",
       "        vertical-align: top;\n",
       "    }\n",
       "\n",
       "    .dataframe thead th {\n",
       "        text-align: right;\n",
       "    }\n",
       "</style>\n",
       "<table border=\"1\" class=\"dataframe\">\n",
       "  <thead>\n",
       "    <tr style=\"text-align: right;\">\n",
       "      <th></th>\n",
       "      <th>Date</th>\n",
       "      <th>Year</th>\n",
       "      <th>Month</th>\n",
       "      <th>Month_Name</th>\n",
       "      <th>Quarter</th>\n",
       "      <th>Day</th>\n",
       "      <th>Daily Rainfall Total (mm)</th>\n",
       "      <th>Mean Temperature (°C)</th>\n",
       "      <th>Maximum Temperature (°C)</th>\n",
       "      <th>Minimum Temperature (°C)</th>\n",
       "      <th>Mean Wind Speed (km/h)</th>\n",
       "      <th>Max Wind Speed (km/h)</th>\n",
       "    </tr>\n",
       "  </thead>\n",
       "  <tbody>\n",
       "    <tr>\n",
       "      <th>4389</th>\n",
       "      <td>1983-01-05</td>\n",
       "      <td>1983</td>\n",
       "      <td>1</td>\n",
       "      <td>January</td>\n",
       "      <td>1</td>\n",
       "      <td>5</td>\n",
       "      <td>0.0</td>\n",
       "      <td>27.1</td>\n",
       "      <td>31.8</td>\n",
       "      <td>23.7</td>\n",
       "      <td>10.3</td>\n",
       "      <td>34.6</td>\n",
       "    </tr>\n",
       "    <tr>\n",
       "      <th>4388</th>\n",
       "      <td>1983-01-04</td>\n",
       "      <td>1983</td>\n",
       "      <td>1</td>\n",
       "      <td>January</td>\n",
       "      <td>1</td>\n",
       "      <td>4</td>\n",
       "      <td>0.0</td>\n",
       "      <td>27.3</td>\n",
       "      <td>30.8</td>\n",
       "      <td>25.0</td>\n",
       "      <td>12.6</td>\n",
       "      <td>42.1</td>\n",
       "    </tr>\n",
       "    <tr>\n",
       "      <th>4387</th>\n",
       "      <td>1983-01-03</td>\n",
       "      <td>1983</td>\n",
       "      <td>1</td>\n",
       "      <td>January</td>\n",
       "      <td>1</td>\n",
       "      <td>3</td>\n",
       "      <td>2.9</td>\n",
       "      <td>27.0</td>\n",
       "      <td>31.3</td>\n",
       "      <td>24.5</td>\n",
       "      <td>10.7</td>\n",
       "      <td>42.8</td>\n",
       "    </tr>\n",
       "    <tr>\n",
       "      <th>4386</th>\n",
       "      <td>1983-01-02</td>\n",
       "      <td>1983</td>\n",
       "      <td>1</td>\n",
       "      <td>January</td>\n",
       "      <td>1</td>\n",
       "      <td>2</td>\n",
       "      <td>0.4</td>\n",
       "      <td>26.8</td>\n",
       "      <td>30.6</td>\n",
       "      <td>24.8</td>\n",
       "      <td>9.4</td>\n",
       "      <td>43.2</td>\n",
       "    </tr>\n",
       "    <tr>\n",
       "      <th>4385</th>\n",
       "      <td>1983-01-01</td>\n",
       "      <td>1983</td>\n",
       "      <td>1</td>\n",
       "      <td>January</td>\n",
       "      <td>1</td>\n",
       "      <td>1</td>\n",
       "      <td>0.3</td>\n",
       "      <td>26.5</td>\n",
       "      <td>28.7</td>\n",
       "      <td>25.1</td>\n",
       "      <td>5.5</td>\n",
       "      <td>29.9</td>\n",
       "    </tr>\n",
       "  </tbody>\n",
       "</table>\n",
       "</div>"
      ],
      "text/plain": [
       "           Date  Year  Month Month_Name  Quarter  Day  \\\n",
       "4389 1983-01-05  1983      1    January        1    5   \n",
       "4388 1983-01-04  1983      1    January        1    4   \n",
       "4387 1983-01-03  1983      1    January        1    3   \n",
       "4386 1983-01-02  1983      1    January        1    2   \n",
       "4385 1983-01-01  1983      1    January        1    1   \n",
       "\n",
       "      Daily Rainfall Total (mm)  Mean Temperature (°C)  \\\n",
       "4389                        0.0                   27.1   \n",
       "4388                        0.0                   27.3   \n",
       "4387                        2.9                   27.0   \n",
       "4386                        0.4                   26.8   \n",
       "4385                        0.3                   26.5   \n",
       "\n",
       "      Maximum Temperature (°C)  Minimum Temperature (°C)  \\\n",
       "4389                      31.8                      23.7   \n",
       "4388                      30.8                      25.0   \n",
       "4387                      31.3                      24.5   \n",
       "4386                      30.6                      24.8   \n",
       "4385                      28.7                      25.1   \n",
       "\n",
       "      Mean Wind Speed (km/h)  Max Wind Speed (km/h)  \n",
       "4389                    10.3                   34.6  \n",
       "4388                    12.6                   42.1  \n",
       "4387                    10.7                   42.8  \n",
       "4386                     9.4                   43.2  \n",
       "4385                     5.5                   29.9  "
      ]
     },
     "execution_count": 15,
     "metadata": {},
     "output_type": "execute_result"
    }
   ],
   "source": [
    "weather.tail()"
   ]
  },
  {
   "cell_type": "code",
   "execution_count": 16,
   "metadata": {},
   "outputs": [],
   "source": [
    "# weather.to_csv('../data/weather_1983_2019_full.csv', index=False)"
   ]
  }
 ],
 "metadata": {
  "kernelspec": {
   "display_name": "Python 3",
   "language": "python",
   "name": "python3"
  },
  "language_info": {
   "codemirror_mode": {
    "name": "ipython",
    "version": 3
   },
   "file_extension": ".py",
   "mimetype": "text/x-python",
   "name": "python",
   "nbconvert_exporter": "python",
   "pygments_lexer": "ipython3",
   "version": "3.6.8"
  }
 },
 "nbformat": 4,
 "nbformat_minor": 4
}
